{
 "cells": [
  {
   "cell_type": "code",
   "execution_count": 1,
   "metadata": {},
   "outputs": [
    {
     "name": "stdout",
     "output_type": "stream",
     "text": [
      "imported\n"
     ]
    }
   ],
   "source": [
    "import numpy as np\n",
    "import matplotlib.pyplot as plt\n",
    "import tensorflow as tf\n",
    "print(\"imported\")\n",
    "import random\n",
    "import os\n",
    "import sys\n",
    "import itertools\n",
    "sys.path.append('src/')\n",
    "import nn\n",
    "import process_data\n",
    "import nibabel as nib\n",
    "from math import floor, ceil\n",
    "# import cv2\n",
    "\n",
    "from __future__ import division, print_function, absolute_import\n",
    "from sklearn.metrics import confusion_matrix\n",
    "import scipy.sparse\n",
    "from scipy.misc import imrotate, imresize\n",
    "from scipy.ndimage.filters import gaussian_filter\n",
    "from scipy.ndimage import rotate\n",
    "from skimage import exposure\n",
    "from skimage.io import imread, imsave"
   ]
  },
  {
   "cell_type": "code",
   "execution_count": 2,
   "metadata": {},
   "outputs": [],
   "source": [
    "def empty_img(img):\n",
    "    \"\"\"\n",
    "    Returns True if the image is empty -> only 0s.\n",
    "    \"\"\"\n",
    "    return not np.count_nonzero(img)\n",
    "\n",
    "def split_filename(filename):\n",
    "    \"\"\"\n",
    "    Splits filename for a trial into 'trial10_30_w1', True if seg[label], False if vol[raw]\n",
    "    \"\"\"\n",
    "    fn_lst = filename.split('_')\n",
    "    if len(fn_lst) >= 4:\n",
    "        trial_name = \"_\".join(fn_lst[:3])\n",
    "        if 'seg' in fn_lst[3]:  \n",
    "            return trial_name, True\n",
    "        elif 'vol' in fn_lst[3]:\n",
    "            return trial_name, False\n",
    "    else:\n",
    "        return None, None"
   ]
  },
  {
   "cell_type": "code",
   "execution_count": 3,
   "metadata": {},
   "outputs": [],
   "source": [
    "def bounding_box(img):\n",
    "    \"\"\"\n",
    "    Returns copy of the img bounded by the box from the image.\n",
    "    \"\"\"\n",
    "\n",
    "    rows = np.any(img, axis=1)\n",
    "    cols = np.any(img, axis=0)\n",
    "    rmin, rmax = np.where(rows)[0][[0, -1]]\n",
    "    cmin, cmax = np.where(cols)[0][[0, -1]]\n",
    "    box = im[rmin : rmax, cmin : cmax]\n",
    "    return box"
   ]
  },
  {
   "cell_type": "code",
   "execution_count": 4,
   "metadata": {},
   "outputs": [],
   "source": [
    "def build_image_dataset(trial_key, raw_nii, label_nii, base_data_dir, base_img_data_dir):\n",
    "    raw_nii_file = os.path.join(base_data_dir, raw_nii)\n",
    "    label_nii_file = os.path.join(base_data_dir, label_nii)\n",
    "    raw_voxel = nib.load(raw_nii_file).get_data()\n",
    "    label_voxel = nib.load(label_nii_file).get_data()\n",
    "    \n",
    "    counter = 0\n",
    "    trial_img_dir = os.path.join(base_img_data_dir, trial_key)\n",
    "    if not os.path.exists(trial_img_dir):\n",
    "        os.makedirs(trial_img_dir)\n",
    "    raw_clean_voxel, labeled_clean_voxel = None, None\n",
    "    for i in range(raw_voxel.shape[0]):  # shape is (1188, 482, 395)\n",
    "        if empty_img(raw_voxel[i]) or empty_img(label_voxel[i]):\n",
    "            continue\n",
    "            \n",
    "        raw_img = raw_voxel[i]\n",
    "        labeled_img = fill(label_voxel[i])  # Grid fill the labeled image\n",
    "        \n",
    "        scipy.misc.imsave(os.path.join(trial_img_dir, str(counter) + '_raw.png'), raw_img)\n",
    "        scipy.misc.imsave(os.path.join(trial_img_dir, str(counter) + '_label.png'), labeled_img)\n",
    "        \n",
    "        counter += 1"
   ]
  },
  {
   "cell_type": "markdown",
   "metadata": {},
   "source": [
    "# Slicing\n",
    "\n",
    "\n"
   ]
  },
  {
   "cell_type": "code",
   "execution_count": 6,
   "metadata": {},
   "outputs": [],
   "source": [
    "def show_slices(slices):\n",
    "    \"\"\" Function to display row of image slices \"\"\"\n",
    "    fig, axes = plt.subplots(1, len(slices))\n",
    "    for i, slice in enumerate(slices):\n",
    "        axes[i].imshow(slice.T, cmap=\"gray\",origin=\"lower\")"
   ]
  },
  {
   "cell_type": "markdown",
   "metadata": {},
   "source": [
    "# Horizontal Slices"
   ]
  },
  {
   "cell_type": "code",
   "execution_count": 7,
   "metadata": {},
   "outputs": [],
   "source": [
    "img = nib.load('/Users/saimandava/Desktop/90deg_nifti/trial18_90_fs_seg_TRANS.nii')"
   ]
  },
  {
   "cell_type": "code",
   "execution_count": 8,
   "metadata": {},
   "outputs": [],
   "source": [
    "img_data = img.get_fdata()"
   ]
  },
  {
   "cell_type": "code",
   "execution_count": 10,
   "metadata": {},
   "outputs": [
    {
     "data": {
      "text/plain": [
       "(1188, 482, 395)"
      ]
     },
     "execution_count": 10,
     "metadata": {},
     "output_type": "execute_result"
    }
   ],
   "source": [
    "img_data.shape"
   ]
  },
  {
   "cell_type": "code",
   "execution_count": 14,
   "metadata": {},
   "outputs": [
    {
     "data": {
      "image/png": "[encoded data removed]",
      "text/plain": [
       "<matplotlib.figure.Figure at 0x1c1b2f1940>"
      ]
     },
     "metadata": {},
     "output_type": "display_data"
    }
   ],
   "source": [
    "show_slices([img_data[182, :, :],img_data[:, 178, :],img_data[:, :, 198]])"
   ]
  },
  {
   "cell_type": "code",
   "execution_count": 18,
   "metadata": {},
   "outputs": [],
   "source": [
    "#need to slice nifti images from each different direction: nsew\n",
    "#TODO: figure out rotations without data loss\n",
    "#TODO tmrw: make sure to slice the images without hardcoding and be able to take in a random nift file and slice accordingly\n",
    "#CANNOT HAVE BLACKNESS\n",
    "\n"
   ]
  },
  {
   "cell_type": "code",
   "execution_count": null,
   "metadata": {},
   "outputs": [],
   "source": []
  }
 ],
 "metadata": {
  "kernelspec": {
   "display_name": "Python 3",
   "language": "python",
   "name": "python3"
  },
  "language_info": {
   "codemirror_mode": {
    "name": "ipython",
    "version": 3
   },
   "file_extension": ".py",
   "mimetype": "text/x-python",
   "name": "python",
   "nbconvert_exporter": "python",
   "pygments_lexer": "ipython3",
   "version": "3.6.4"
  }
 },
 "nbformat": 4,
 "nbformat_minor": 2
}
