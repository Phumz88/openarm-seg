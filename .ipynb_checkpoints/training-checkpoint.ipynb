{
 "cells": [
  {
   "cell_type": "code",
   "execution_count": 1,
   "metadata": {},
   "outputs": [
    {
     "name": "stderr",
     "output_type": "stream",
     "text": [
      "/home/jessica/anaconda3/lib/python3.6/site-packages/h5py/__init__.py:36: FutureWarning: Conversion of the second argument of issubdtype from `float` to `np.floating` is deprecated. In future, it will be treated as `np.float64 == np.dtype(float).type`.\n",
      "  from ._conv import register_converters as _register_converters\n"
     ]
    },
    {
     "name": "stdout",
     "output_type": "stream",
     "text": [
      "[name: \"/cpu:0\"\n",
      "device_type: \"CPU\"\n",
      "memory_limit: 268435456\n",
      "locality {\n",
      "}\n",
      "incarnation: 8562574011914561236\n",
      ", name: \"/gpu:0\"\n",
      "device_type: \"GPU\"\n",
      "memory_limit: 11970700903\n",
      "locality {\n",
      "  bus_id: 1\n",
      "}\n",
      "incarnation: 13766205292188536823\n",
      "physical_device_desc: \"device: 0, name: TITAN Xp, pci bus id: 0000:02:00.0\"\n",
      "]\n"
     ]
    }
   ],
   "source": [
    "%matplotlib inline\n",
    "# %load_ext autoreload\n",
    "# %autoreload 1 # Always reload before execution only modules imported with '%aimport'\n",
    "# %aimport pipeline\n",
    "import numpy as np\n",
    "import matplotlib.pyplot as plt\n",
    "import tensorflow as tf\n",
    "import random\n",
    "import os\n",
    "import sys\n",
    "import itertools\n",
    "sys.path.append('src/')\n",
    "import nn\n",
    "import process_data\n",
    "import nibabel as nib\n",
    "from math import floor, ceil\n",
    "\n",
    "from sklearn.metrics import confusion_matrix\n",
    "import scipy.sparse\n",
    "from scipy.misc import imrotate, imresize\n",
    "from scipy.ndimage.filters import gaussian_filter\n",
    "from scipy.ndimage import rotate\n",
    "from skimage import exposure\n",
    "from skimage.io import imread, imsave\n",
    "os.environ[\"CUDA_VISIBLE_DEVICES\"]=\"0\"\n",
    "\n",
    "from tensorflow.python.client import device_lib\n",
    "local_device_protos = device_lib.list_local_devices()\n",
    "print(local_device_protos)\n",
    "\n",
    "import pipeline\n",
    "import Unet"
   ]
  },
  {
   "cell_type": "code",
   "execution_count": null,
   "metadata": {},
   "outputs": [],
   "source": [
    "def tensorboard():\n",
    "    import webbrowser\n",
    "    webbrowser.open('http://localhost:6006')\n",
    "\n",
    "    !tensorboard --logdir=\"logs\""
   ]
  },
  {
   "cell_type": "code",
   "execution_count": 2,
   "metadata": {},
   "outputs": [],
   "source": [
    "models_dir = '/media/jessica/Storage/models/u-net_v1-0'\n",
    "model_name = 'new_train_test'"
   ]
  },
  {
   "cell_type": "code",
   "execution_count": 3,
   "metadata": {},
   "outputs": [],
   "source": [
    "training_data_dir = \"/home/jessica/Documents/hart-seg-ml/pipelinetest/training_data\""
   ]
  },
  {
   "cell_type": "code",
   "execution_count": 4,
   "metadata": {},
   "outputs": [
    {
     "name": "stdout",
     "output_type": "stream",
     "text": [
      "['/home/jessica/Documents/hart-seg-ml/pipelinetest/training_data/trial18_90_fs']\n",
      "====\n",
      "/home/jessica/Documents/hart-seg-ml/pipelinetest/training_data/trial18_90_fs\n",
      "====\n"
     ]
    }
   ],
   "source": [
    "raw_data_lst, seg_data_lst = pipeline.load_all_data(training_data_dir)"
   ]
  },
  {
   "cell_type": "code",
   "execution_count": 5,
   "metadata": {},
   "outputs": [
    {
     "name": "stdout",
     "output_type": "stream",
     "text": [
      "(9, 512, 512, 1)\n",
      "(4, 512, 512, 1)\n",
      "(1, 512, 512, 1)\n",
      "(9, 512, 512, 9)\n",
      "(4, 512, 512, 9)\n",
      "(1, 512, 512, 9)\n"
     ]
    }
   ],
   "source": [
    "x_train, x_val, x_test, y_train, y_val, y_test = pipeline.split_data(raw_data_lst, seg_data_lst, 60, 10, 30)"
   ]
  },
  {
   "cell_type": "code",
   "execution_count": 6,
   "metadata": {},
   "outputs": [],
   "source": [
    "mean = 0\n",
    "weight_decay = 1e-6\n",
    "learning_rate = 1e-4"
   ]
  },
  {
   "cell_type": "code",
   "execution_count": 7,
   "metadata": {},
   "outputs": [],
   "source": [
    "tf.reset_default_graph()\n",
    "sess = tf.Session()\n",
    "model = Unet.Unet(mean, weight_decay, learning_rate, dropout=0.5)\n",
    "sess.run(tf.global_variables_initializer())\n",
    "saver = tf.train.Saver(max_to_keep=1, keep_checkpoint_every_n_hours=1)"
   ]
  },
  {
   "cell_type": "code",
   "execution_count": 8,
   "metadata": {},
   "outputs": [
    {
     "name": "stdout",
     "output_type": "stream",
     "text": [
      "Epoch 0 | Iter 8 | Loss: 2.2 | Acc: [0. 0. 0. 0. 0. 0. 0. 0.] | Time 4.9     \n",
      "Epoch 1 | Iter 8 | Loss: 1.9 | Acc: [0.    0.    0.    0.    0.    0.009 0.    0.   ] | Time 2.4     \n",
      "Epoch 2 | Iter 8 | Loss: 1.1 | Acc: [0.    0.    0.    0.    0.    0.317 0.    0.   ] | Time 2.4     \n",
      "Epoch 3 | Iter 8 | Loss: 0.32 | Acc: [0.    0.    0.    0.    0.    0.385 0.    0.   ] | Time 2.4     \n",
      "Epoch 4 | Iter 8 | Loss: 0.16 | Acc: [0.    0.    0.    0.    0.    0.033 0.    0.   ] | Time 2.4     \n",
      "Epoch 5 | Iter 8 | Loss: 0.16 | Acc: [0.    0.    0.    0.    0.    0.055 0.    0.   ] | Time 2.4     \n",
      "Epoch 6 | Iter 8 | Loss: 0.1 | Acc: [0.   0.   0.   0.   0.   0.22 0.   0.  ] | Time 2.4     \n",
      "Epoch 7 | Iter 8 | Loss: 0.081 | Acc: [0.    0.    0.    0.    0.    0.197 0.    0.   ] | Time 2.4     \n",
      "Epoch 8 | Iter 8 | Loss: 0.07 | Acc: [0.    0.    0.    0.    0.    0.099 0.    0.   ] | Time 2.4     \n",
      "Epoch 9 | Iter 8 | Loss: 0.063 | Acc: [0.    0.    0.    0.    0.    0.088 0.    0.   ] | Time 2.4     \n",
      "Epoch 10 | Iter 8 | Loss: 0.059 | Acc: [0.    0.    0.    0.    0.    0.528 0.    0.   ] | Time 2.4     \n",
      "Epoch 11 | Iter 8 | Loss: 0.055 | Acc: [0.    0.    0.    0.    0.    0.584 0.    0.   ] | Time 2.4     \n",
      "Epoch 12 | Iter 8 | Loss: 0.051 | Acc: [0.    0.    0.    0.005 0.    0.62  0.    0.   ] | Time 2.4     \n",
      "Epoch 13 | Iter 8 | Loss: 0.049 | Acc: [0.    0.    0.    0.001 0.    0.726 0.    0.   ] | Time 2.4     \n",
      "Epoch 14 | Iter 8 | Loss: 0.047 | Acc: [0.    0.    0.    0.003 0.    0.657 0.    0.   ] | Time 2.4     \n",
      "Epoch 15 | Iter 8 | Loss: 0.045 | Acc: [0.    0.    0.    0.002 0.    0.633 0.    0.   ] | Time 2.4     \n"
     ]
    }
   ],
   "source": [
    "nn.train(sess, model, saver, x_train, y_train, x_val, y_val, epochs = 16, batch_size = 1, models_dir=models_dir, model_name=model_name)"
   ]
  },
  {
   "cell_type": "code",
   "execution_count": null,
   "metadata": {},
   "outputs": [],
   "source": [
    "print(nn.validate(sess, model, x_test, y_test))"
   ]
  },
  {
   "cell_type": "code",
   "execution_count": null,
   "metadata": {},
   "outputs": [],
   "source": [
    "pipeline.save_model(models_dir, model_name, saver, sess)"
   ]
  }
 ],
 "metadata": {
  "kernelspec": {
   "display_name": "Python [conda env:anaconda3]",
   "language": "python",
   "name": "conda-env-anaconda3-py"
  },
  "language_info": {
   "codemirror_mode": {
    "name": "ipython",
    "version": 3
   },
   "file_extension": ".py",
   "mimetype": "text/x-python",
   "name": "python",
   "nbconvert_exporter": "python",
   "pygments_lexer": "ipython3",
   "version": "3.6.4"
  }
 },
 "nbformat": 4,
 "nbformat_minor": 2
}
