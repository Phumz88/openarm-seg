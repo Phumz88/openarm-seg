{
 "cells": [
  {
   "cell_type": "code",
   "execution_count": 3,
   "metadata": {},
   "outputs": [],
   "source": [
    "%matplotlib inline\n",
    "import numpy as np\n",
    "import matplotlib.pyplot as plt\n",
    "import tensorflow as tf\n",
    "import random\n",
    "import os\n",
    "import sys\n",
    "import itertools\n",
    "sys.path.append('src/')\n",
    "import nn\n",
    "import process_data\n",
    "import nibabel as nib\n",
    "from math import floor, ceil\n",
    "from sklearn.metrics import confusion_matrix\n",
    "import scipy.sparse\n",
    "from scipy.misc import imrotate, imresize\n",
    "from scipy.ndimage.interpolation import map_coordinates\n",
    "from scipy.ndimage.filters import gaussian_filter\n",
    "from scipy.ndimage import rotate\n",
    "from skimage import exposure, data\n",
    "from skimage.io import imread, imsave\n",
    "import pipeline\n",
    "import Unet\n",
    "import imgaug as ia\n",
    "from imgaug import augmenters as iaa"
   ]
  },
  {
   "cell_type": "code",
   "execution_count": 42,
   "metadata": {},
   "outputs": [],
   "source": [
    "nii_data_dir = \"/media/jessica/Storage/allrawfillednifti\"\n",
    "nii_vol_name = \"trial10_30_w1_proc_filled_volume.nii\"\n",
    "nii_seg_name = \"trial10_30_w1_proc_filled_seg.nii\""
   ]
  },
  {
   "cell_type": "code",
   "execution_count": 43,
   "metadata": {},
   "outputs": [],
   "source": [
    "nii_vol = nib.load(os.path.join(nii_data_dir, nii_vol_name))\n",
    "nii_seg = nib.load(os.path.join(nii_data_dir, nii_seg_name))"
   ]
  },
  {
   "cell_type": "code",
   "execution_count": 44,
   "metadata": {},
   "outputs": [],
   "source": [
    "nii_vol_arr = nii_vol.get_fdata()\n",
    "nii_seg_arr = nii_seg.get_fdata()"
   ]
  },
  {
   "cell_type": "code",
   "execution_count": 45,
   "metadata": {},
   "outputs": [
    {
     "name": "stdout",
     "output_type": "stream",
     "text": [
      "(906, 512, 512) (906, 512, 512)\n"
     ]
    }
   ],
   "source": [
    "print(nii_vol_arr.shape, nii_seg_arr.shape)"
   ]
  },
  {
   "cell_type": "code",
   "execution_count": 327,
   "metadata": {},
   "outputs": [],
   "source": [
    "rot_vol = iaa.Affine(rotate=-45, order=1, mode='edge')\n",
    "rot_seg = iaa.Affine(rotate=-45, order=0, mode='edge')"
   ]
  },
  {
   "cell_type": "code",
   "execution_count": 328,
   "metadata": {},
   "outputs": [
    {
     "name": "stdout",
     "output_type": "stream",
     "text": [
      "(482, 395) (482, 395)\n"
     ]
    }
   ],
   "source": [
    "exvol = nii_vol_arr[500]\n",
    "exseg = nii_seg_arr[500]\n",
    "print(exvol.shape, exseg.shape)"
   ]
  },
  {
   "cell_type": "code",
   "execution_count": 329,
   "metadata": {},
   "outputs": [
    {
     "data": {
      "text/plain": [
       "<matplotlib.image.AxesImage at 0x14359f240>"
      ]
     },
     "execution_count": 329,
     "metadata": {},
     "output_type": "execute_result"
    },
    {
     "data": {
      "image/png": "[encoded data removed]",
      "text/plain": [
       "<matplotlib.figure.Figure at 0x143322ac8>"
      ]
     },
     "metadata": {},
     "output_type": "display_data"
    }
   ],
   "source": [
    "plt.imshow(exvol)"
   ]
  },
  {
   "cell_type": "code",
   "execution_count": 330,
   "metadata": {},
   "outputs": [
    {
     "data": {
      "text/plain": [
       "<matplotlib.image.AxesImage at 0x1437dc198>"
      ]
     },
     "execution_count": 330,
     "metadata": {},
     "output_type": "execute_result"
    },
    {
     "data": {
      "image/png": "[encoded data removed]",
      "text/plain": [
       "<matplotlib.figure.Figure at 0x1435ae080>"
      ]
     },
     "metadata": {},
     "output_type": "display_data"
    }
   ],
   "source": [
    "plt.imshow(exseg)"
   ]
  },
  {
   "cell_type": "code",
   "execution_count": 331,
   "metadata": {},
   "outputs": [
    {
     "name": "stdout",
     "output_type": "stream",
     "text": [
      "(1188, 482, 395)\n"
     ]
    }
   ],
   "source": [
    "print(nii_vol_arr.shape)"
   ]
  },
  {
   "cell_type": "code",
   "execution_count": 344,
   "metadata": {},
   "outputs": [
    {
     "name": "stdout",
     "output_type": "stream",
     "text": [
      "(1188, 482, 395, 1)\n"
     ]
    }
   ],
   "source": [
    "nii_vol_arr_exp = np.expand_dims(nii_vol_arr, axis=3)\n",
    "nii_seg_arr_exp = np.expand_dims(nii_seg_arr, axis=3)\n",
    "print(nii_vol_arr_exp.shape)"
   ]
  },
  {
   "cell_type": "code",
   "execution_count": 333,
   "metadata": {},
   "outputs": [
    {
     "name": "stdout",
     "output_type": "stream",
     "text": [
      "(482, 395, 1) (482, 395, 1)\n"
     ]
    }
   ],
   "source": [
    "exvol_exp = np.expand_dims(exvol, axis=2)\n",
    "exseg_exp = np.expand_dims(exseg, axis=2)\n",
    "print(exvol_exp.shape, exseg_exp.shape)"
   ]
  },
  {
   "cell_type": "code",
   "execution_count": 334,
   "metadata": {},
   "outputs": [
    {
     "name": "stdout",
     "output_type": "stream",
     "text": [
      "(1, 482, 395, 1) (1, 482, 395, 1)\n",
      "(2, 482, 395, 1)\n"
     ]
    }
   ],
   "source": [
    "exvol_exp_lst = np.expand_dims(exvol_exp, axis=0)\n",
    "exseg_exp_lst = np.expand_dims(exseg_exp, axis=0)\n",
    "print(exvol_exp_lst.shape, exseg_exp_lst.shape)\n",
    "\n",
    "images = np.empty((2, 482, 395, 1))\n",
    "images[0] = exvol_exp\n",
    "images[1] = exseg_exp\n",
    "print(images.shape)"
   ]
  },
  {
   "cell_type": "code",
   "execution_count": 335,
   "metadata": {},
   "outputs": [
    {
     "name": "stdout",
     "output_type": "stream",
     "text": [
      "(482, 395) (482, 395)\n"
     ]
    }
   ],
   "source": [
    "# images_aug = rot.augment_images(images)\n",
    "exvol_exp_lst_aug = rot_vol.augment_images(exvol_exp_lst)\n",
    "exseg_exp_lst_aug = rot_seg.augment_images(exseg_exp_lst)\n",
    "\n",
    "exvol_exp_aug = np.squeeze(exvol_exp_lst_aug)\n",
    "exseg_exp_aug = np.squeeze(exseg_exp_lst_aug)\n",
    "\n",
    "print(exvol_exp_aug.shape, exseg_exp_aug.shape)"
   ]
  },
  {
   "cell_type": "code",
   "execution_count": 336,
   "metadata": {},
   "outputs": [
    {
     "data": {
      "text/plain": [
       "(2, 482, 395, 1)"
      ]
     },
     "execution_count": 336,
     "metadata": {},
     "output_type": "execute_result"
    }
   ],
   "source": [
    "images_aug.shape"
   ]
  },
  {
   "cell_type": "code",
   "execution_count": 337,
   "metadata": {},
   "outputs": [
    {
     "name": "stdout",
     "output_type": "stream",
     "text": [
      "(482, 395) (482, 395)\n"
     ]
    }
   ],
   "source": [
    "augmented_vol = np.squeeze(images_aug[0])\n",
    "augmented_seg = np.squeeze(images_aug[1])\n",
    "print(augmented_vol.shape, augmented_seg.shape)"
   ]
  },
  {
   "cell_type": "code",
   "execution_count": 338,
   "metadata": {},
   "outputs": [
    {
     "data": {
      "text/plain": [
       "<matplotlib.image.AxesImage at 0x143bbea90>"
      ]
     },
     "execution_count": 338,
     "metadata": {},
     "output_type": "execute_result"
    },
    {
     "data": {
      "image/png": "[encoded data removed]",
      "text/plain": [
       "<matplotlib.figure.Figure at 0x143991ba8>"
      ]
     },
     "metadata": {},
     "output_type": "display_data"
    }
   ],
   "source": [
    "plt.imshow(augmented_vol)"
   ]
  },
  {
   "cell_type": "code",
   "execution_count": 339,
   "metadata": {},
   "outputs": [
    {
     "data": {
      "text/plain": [
       "<matplotlib.image.AxesImage at 0x143fa0e80>"
      ]
     },
     "execution_count": 339,
     "metadata": {},
     "output_type": "execute_result"
    },
    {
     "data": {
      "image/png": "[encoded data removed]",
      "text/plain": [
       "<matplotlib.figure.Figure at 0x143f103c8>"
      ]
     },
     "metadata": {},
     "output_type": "display_data"
    }
   ],
   "source": [
    "plt.imshow(augmented_seg)"
   ]
  },
  {
   "cell_type": "code",
   "execution_count": 340,
   "metadata": {},
   "outputs": [
    {
     "name": "stdout",
     "output_type": "stream",
     "text": [
      "False\n",
      "True\n",
      "(9368,) (11058,)\n",
      "(5,) (5,)\n"
     ]
    }
   ],
   "source": [
    "print(np.unique(augmented_vol).shape == np.unique(exvol).shape)\n",
    "print(np.unique(augmented_seg).shape == np.unique(exseg).shape)\n",
    "print(np.unique(augmented_vol).shape, np.unique(exvol).shape)\n",
    "print(np.unique(augmented_seg).shape, np.unique(exseg).shape)"
   ]
  },
  {
   "cell_type": "code",
   "execution_count": null,
   "metadata": {},
   "outputs": [],
   "source": []
  },
  {
   "cell_type": "code",
   "execution_count": 341,
   "metadata": {},
   "outputs": [
    {
     "data": {
      "text/plain": [
       "<matplotlib.image.AxesImage at 0x14423ef60>"
      ]
     },
     "execution_count": 341,
     "metadata": {},
     "output_type": "execute_result"
    },
    {
     "data": {
      "image/png": "[encoded data removed]",
      "text/plain": [
       "<matplotlib.figure.Figure at 0x143fb33c8>"
      ]
     },
     "metadata": {},
     "output_type": "display_data"
    }
   ],
   "source": [
    "plt.imshow(exvol_exp_aug)"
   ]
  },
  {
   "cell_type": "code",
   "execution_count": 342,
   "metadata": {},
   "outputs": [
    {
     "data": {
      "text/plain": [
       "<matplotlib.image.AxesImage at 0x144486550>"
      ]
     },
     "execution_count": 342,
     "metadata": {},
     "output_type": "execute_result"
    },
    {
     "data": {
      "image/png": "[encoded data removed]",
      "text/plain": [
       "<matplotlib.figure.Figure at 0x14419ab00>"
      ]
     },
     "metadata": {},
     "output_type": "display_data"
    }
   ],
   "source": [
    "plt.imshow(exseg_exp_aug)"
   ]
  },
  {
   "cell_type": "code",
   "execution_count": 343,
   "metadata": {},
   "outputs": [
    {
     "name": "stdout",
     "output_type": "stream",
     "text": [
      "False\n",
      "True\n",
      "(11487,) (11058,)\n",
      "(5,) (5,)\n"
     ]
    }
   ],
   "source": [
    "print(np.unique(exvol_exp_aug).shape == np.unique(exvol).shape)\n",
    "print(np.unique(exseg_exp_aug).shape == np.unique(exseg).shape)\n",
    "print(np.unique(exvol_exp_aug).shape, np.unique(exvol).shape)\n",
    "print(np.unique(exseg_exp_aug).shape, np.unique(exseg).shape)"
   ]
  },
  {
   "cell_type": "code",
   "execution_count": null,
   "metadata": {},
   "outputs": [],
   "source": []
  },
  {
   "cell_type": "code",
   "execution_count": 46,
   "metadata": {},
   "outputs": [],
   "source": [
    "def rotate_nifti(nifti_vol_arr, nifti_seg_arr, degrees):\n",
    "    # Add explicit channel dimension\n",
    "    nifti_vol_arr_exp = np.expand_dims(nifti_vol_arr, axis=3)\n",
    "    nifti_seg_arr_exp = np.expand_dims(nifti_seg_arr, axis=3)\n",
    "    \n",
    "    print(nifti_vol_arr_exp.shape, nifti_seg_arr_exp.shape)\n",
    "    \n",
    "    rot_vol = iaa.Affine(rotate=degrees, order=1, mode='edge')\n",
    "    rot_seg = iaa.Affine(rotate=degrees, order=0, mode='edge')\n",
    "    \n",
    "    vol_arr_augs = rot_vol.augment_images(nifti_vol_arr_exp)\n",
    "    seg_arr_augs = rot_seg.augment_images(nifti_seg_arr_exp)\n",
    "    \n",
    "    nifti_vol_arr_aug = np.empty(nifti_vol_arr.shape)\n",
    "    nifti_seg_arr_aug = np.empty(nifti_seg_arr.shape)\n",
    "    \n",
    "    num_images = nifti_vol_arr_aug.shape[0]\n",
    "    \n",
    "    for i in range(num_images):\n",
    "        print(i, end=' ')\n",
    "        nifti_vol_arr_aug[i] = np.squeeze(vol_arr_augs[i])\n",
    "        nifti_seg_arr_aug[i] = np.squeeze(seg_arr_augs[i])\n",
    "        \n",
    "    return nifti_vol_arr_aug, nifti_seg_arr_aug"
   ]
  },
  {
   "cell_type": "code",
   "execution_count": 60,
   "metadata": {},
   "outputs": [
    {
     "name": "stdout",
     "output_type": "stream",
     "text": [
      "(906, 512, 512, 1) (906, 512, 512, 1)\n",
      "0 1 2 3 4 5 6 7 8 9 10 11 12 13 14 15 16 17 18 19 20 21 22 23 24 25 26 27 28 29 30 31 32 33 34 35 36 37 38 39 40 41 42 43 44 45 46 47 48 49 50 51 52 53 54 55 56 57 58 59 60 61 62 63 64 65 66 67 68 69 70 71 72 73 74 75 76 77 78 79 80 81 82 83 84 85 86 87 88 89 90 91 92 93 94 95 96 97 98 99 100 101 102 103 104 105 106 107 108 109 110 111 112 113 114 115 116 117 118 119 120 121 122 123 124 125 126 127 128 129 130 131 132 133 134 135 136 137 138 139 140 141 142 143 144 145 146 147 148 149 150 151 152 153 154 155 156 157 158 159 160 161 162 163 164 165 166 167 168 169 170 171 172 173 174 175 176 177 178 179 180 181 182 183 184 185 186 187 188 189 190 191 192 193 194 195 196 197 198 199 200 201 202 203 204 205 206 207 208 209 210 211 212 213 214 215 216 217 218 219 220 221 222 223 224 225 226 227 228 229 230 231 232 233 234 235 236 237 238 239 240 241 242 243 244 245 246 247 248 249 250 251 252 253 254 255 256 257 258 259 260 261 262 263 264 265 266 267 268 269 270 271 272 273 274 275 276 277 278 279 280 281 282 283 284 285 286 287 288 289 290 291 292 293 294 295 296 297 298 299 300 301 302 303 304 305 306 307 308 309 310 311 312 313 314 315 316 317 318 319 320 321 322 323 324 325 326 327 328 329 330 331 332 333 334 335 336 337 338 339 340 341 342 343 344 345 346 347 348 349 350 351 352 353 354 355 356 357 358 359 360 361 362 363 364 365 366 367 368 369 370 371 372 373 374 375 376 377 378 379 380 381 382 383 384 385 386 387 388 389 390 391 392 393 394 395 396 397 398 399 400 401 402 403 404 405 406 407 408 409 410 411 412 413 414 415 416 417 418 419 420 421 422 423 424 425 426 427 428 429 430 431 432 433 434 435 436 437 438 439 440 441 442 443 444 445 446 447 448 449 450 451 452 453 454 455 456 457 458 459 460 461 462 463 464 465 466 467 468 469 470 471 472 473 474 475 476 477 478 479 480 481 482 483 484 485 486 487 488 489 490 491 492 493 494 495 496 497 498 499 500 501 502 503 504 505 506 507 508 509 510 511 512 513 514 515 516 517 518 519 520 521 522 523 524 525 526 527 528 529 530 531 532 533 534 535 536 537 538 539 540 541 542 543 544 545 546 547 548 549 550 551 552 553 554 555 556 557 558 559 560 561 562 563 564 565 566 567 568 569 570 571 572 573 574 575 576 577 578 579 580 581 582 583 584 585 586 587 588 589 590 591 592 593 594 595 596 597 598 599 600 601 602 603 604 605 606 607 608 609 610 611 612 613 614 615 616 617 618 619 620 621 622 623 624 625 626 627 628 629 630 631 632 633 634 635 636 637 638 639 640 641 642 643 644 645 646 647 648 649 650 651 652 653 654 655 656 657 658 659 660 661 662 663 664 665 666 667 668 669 670 671 672 673 674 675 676 677 678 679 680 681 682 683 684 685 686 687 688 689 690 691 692 693 694 695 696 697 698 699 700 701 702 703 704 705 706 707 708 709 710 711 712 713 714 715 716 717 718 719 720 721 722 723 724 725 726 727 728 729 730 731 732 733 734 735 736 737 738 739 740 741 742 743 744 745 746 747 748 749 750 751 752 753 754 755 756 757 758 759 760 761 762 763 764 765 766 767 768 769 770 771 772 773 774 775 776 777 778 779 780 781 782 783 784 785 786 787 788 789 790 791 792 793 794 795 796 797 798 799 800 801 802 803 804 805 806 807 808 809 810 811 812 813 814 815 816 817 818 819 820 821 822 823 824 825 826 827 828 829 830 831 832 833 834 835 836 837 838 839 840 841 842 843 844 845 846 847 848 849 850 851 852 853 854 855 856 857 858 859 860 861 862 863 864 865 866 867 868 869 870 871 872 873 874 875 876 877 878 879 880 881 882 883 884 885 886 887 888 889 890 891 892 893 894 895 896 897 898 899 900 901 902 903 904 905 "
     ]
    }
   ],
   "source": [
    "nifti_vol_arr_aug, nifti_seg_arr_aug = rotate_nifti(nii_vol_arr, nii_seg_arr, 315)"
   ]
  },
  {
   "cell_type": "code",
   "execution_count": 61,
   "metadata": {},
   "outputs": [
    {
     "name": "stdout",
     "output_type": "stream",
     "text": [
      "(906, 512, 512) (906, 512, 512)\n"
     ]
    }
   ],
   "source": [
    "print(nifti_vol_arr_aug.shape, nifti_seg_arr_aug.shape)"
   ]
  },
  {
   "cell_type": "code",
   "execution_count": 62,
   "metadata": {},
   "outputs": [
    {
     "data": {
      "text/plain": [
       "(9,)"
      ]
     },
     "execution_count": 62,
     "metadata": {},
     "output_type": "execute_result"
    }
   ],
   "source": [
    "np.unique(nifti_seg_arr_aug).shape"
   ]
  },
  {
   "cell_type": "code",
   "execution_count": 63,
   "metadata": {},
   "outputs": [],
   "source": [
    "nii_save_dir = \"/media/jessica/Storage/nifti_rotations\""
   ]
  },
  {
   "cell_type": "code",
   "execution_count": 64,
   "metadata": {},
   "outputs": [],
   "source": [
    "pipeline.save_arr_as_nifti(nifti_vol_arr_aug, nii_vol_name, \"trial10_30_w1_vol_rot_315.nii\", nii_data_dir, nii_save_dir)\n",
    "pipeline.save_arr_as_nifti(nifti_seg_arr_aug, nii_seg_name, \"trial10_30_w1_seg_rot_315.nii\", nii_data_dir, nii_save_dir)"
   ]
  },
  {
   "cell_type": "code",
   "execution_count": null,
   "metadata": {},
   "outputs": [],
   "source": []
  }
 ],
 "metadata": {
  "kernelspec": {
   "display_name": "Python [conda env:anaconda3]",
   "language": "python",
   "name": "conda-env-anaconda3-py"
  },
  "language_info": {
   "codemirror_mode": {
    "name": "ipython",
    "version": 3
   },
   "file_extension": ".py",
   "mimetype": "text/x-python",
   "name": "python",
   "nbconvert_exporter": "python",
   "pygments_lexer": "ipython3",
   "version": "3.6.4"
  }
 },
 "nbformat": 4,
 "nbformat_minor": 2
}
