{
 "cells": [
  {
   "cell_type": "code",
   "execution_count": null,
   "metadata": {},
   "outputs": [],
   "source": [
    "%matplotlib inline\n",
    "import numpy as np\n",
    "import tensorflow as tf\n",
    "import random\n",
    "import os\n",
    "import sys\n",
    "sys.path.append('src/')\n",
    "import nn\n",
    "import nibabel as nib\n",
    "from math import floor, ceil\n",
    "import pipeline\n",
    "import Unet\n",
    "import imgaug as ia\n",
    "from imgaug import augmenters as iaa"
   ]
  },
  {
   "cell_type": "code",
   "execution_count": null,
   "metadata": {},
   "outputs": [],
   "source": [
    "nii_data_dir = \"\" # path to where NIfTIs are stored\n",
    "nii_vol_name = \"\" # volume filename ending in .nii\n",
    "nii_seg_name = \"\" # segmentation filename ending in .nii"
   ]
  },
  {
   "cell_type": "code",
   "execution_count": null,
   "metadata": {},
   "outputs": [],
   "source": [
    "nii_vol = nib.load(os.path.join(nii_data_dir, nii_vol_name))\n",
    "nii_seg = nib.load(os.path.join(nii_data_dir, nii_seg_name))"
   ]
  },
  {
   "cell_type": "code",
   "execution_count": null,
   "metadata": {},
   "outputs": [],
   "source": [
    "nii_vol_arr = nii_vol.get_fdata()\n",
    "nii_seg_arr = nii_seg.get_fdata()"
   ]
  },
  {
   "cell_type": "code",
   "execution_count": null,
   "metadata": {},
   "outputs": [],
   "source": [
    "nii_vol_arr = np.swapaxes(nii_vol_arr, 0, 2)\n",
    "nii_seg_arr = np.swapaxes(nii_seg_arr, 0, 2)"
   ]
  },
  {
   "cell_type": "code",
   "execution_count": null,
   "metadata": {},
   "outputs": [],
   "source": [
    "def rotate_nifti(nifti_vol_arr, nifti_seg_arr, degrees):\n",
    "    # Add explicit channel dimension\n",
    "    nifti_vol_arr_exp = np.expand_dims(nifti_vol_arr, axis=3)\n",
    "    nifti_seg_arr_exp = np.expand_dims(nifti_seg_arr, axis=3)\n",
    "    \n",
    "    print(nifti_vol_arr_exp.shape, nifti_seg_arr_exp.shape)\n",
    "    \n",
    "    rot_vol = iaa.Affine(rotate=degrees, order=1, mode='edge')\n",
    "    rot_seg = iaa.Affine(rotate=degrees, order=0, mode='edge')\n",
    "    \n",
    "    vol_arr_augs = rot_vol.augment_images(nifti_vol_arr_exp)\n",
    "    seg_arr_augs = rot_seg.augment_images(nifti_seg_arr_exp)\n",
    "    \n",
    "    nifti_vol_arr_aug = np.empty(nifti_vol_arr.shape)\n",
    "    nifti_seg_arr_aug = np.empty(nifti_seg_arr.shape)\n",
    "    \n",
    "    num_images = nifti_vol_arr_aug.shape[0]\n",
    "    \n",
    "    for i in range(num_images):\n",
    "        print(i, end=' ')\n",
    "        nifti_vol_arr_aug[i] = np.squeeze(vol_arr_augs[i])\n",
    "        nifti_seg_arr_aug[i] = np.squeeze(seg_arr_augs[i])\n",
    "        \n",
    "    return nifti_vol_arr_aug, nifti_seg_arr_aug"
   ]
  },
  {
   "cell_type": "code",
   "execution_count": null,
   "metadata": {},
   "outputs": [],
   "source": [
    "degrees = 135 # amount of rotation\n",
    "nifti_vol_arr_aug, nifti_seg_arr_aug = rotate_nifti(nii_vol_arr, nii_seg_arr, degrees)\n",
    "print(nifti_vol_arr_aug.shape, nifti_seg_arr_aug.shape)\n",
    "np.unique(nifti_seg_arr_aug).shape\n",
    "nii_save_dir = \"\" # path to save location\n",
    "pipeline.save_arr_as_nifti(nifti_vol_arr_aug, nii_vol_name, \"rotated_volume.nii\", nii_data_dir, nii_save_dir)\n",
    "pipeline.save_arr_as_nifti(nifti_seg_arr_aug, nii_seg_name, \"rotated_seg.nii\", nii_data_dir, nii_save_dir)"
   ]
  }
 ],
 "metadata": {
  "kernelspec": {
   "display_name": "Python [default]",
   "language": "python",
   "name": "python3"
  },
  "language_info": {
   "codemirror_mode": {
    "name": "ipython",
    "version": 3
   },
   "file_extension": ".py",
   "mimetype": "text/x-python",
   "name": "python",
   "nbconvert_exporter": "python",
   "pygments_lexer": "ipython3",
   "version": "3.6.4"
  }
 },
 "nbformat": 4,
 "nbformat_minor": 2
}
