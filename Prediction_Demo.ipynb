{
 "cells": [
  {
   "cell_type": "code",
   "execution_count": 1,
   "metadata": {},
   "outputs": [
    {
     "name": "stderr",
     "output_type": "stream",
     "text": [
      "/home/jessica/anaconda3/lib/python3.6/site-packages/h5py/__init__.py:36: FutureWarning: Conversion of the second argument of issubdtype from `float` to `np.floating` is deprecated. In future, it will be treated as `np.float64 == np.dtype(float).type`.\n",
      "  from ._conv import register_converters as _register_converters\n"
     ]
    },
    {
     "name": "stdout",
     "output_type": "stream",
     "text": [
      "[name: \"/cpu:0\"\n",
      "device_type: \"CPU\"\n",
      "memory_limit: 268435456\n",
      "locality {\n",
      "}\n",
      "incarnation: 18034274451089266606\n",
      ", name: \"/gpu:0\"\n",
      "device_type: \"GPU\"\n",
      "memory_limit: 11970700903\n",
      "locality {\n",
      "  bus_id: 1\n",
      "}\n",
      "incarnation: 13485255748377308177\n",
      "physical_device_desc: \"device: 0, name: TITAN Xp, pci bus id: 0000:02:00.0\"\n",
      "]\n"
     ]
    }
   ],
   "source": [
    "%matplotlib inline\n",
    "# %load_ext autoreload\n",
    "# %autoreload 1 # Always reload before execution only modules imported with '%aimport'\n",
    "# %aimport pipeline\n",
    "import numpy as np\n",
    "import matplotlib.pyplot as plt\n",
    "import tensorflow as tf\n",
    "import random\n",
    "import os\n",
    "import sys\n",
    "import itertools\n",
    "sys.path.append('src/')\n",
    "import nn\n",
    "import process_data\n",
    "import nibabel as nib\n",
    "from math import floor, ceil\n",
    "\n",
    "from sklearn.metrics import confusion_matrix\n",
    "import scipy.sparse\n",
    "from scipy.misc import imrotate, imresize\n",
    "from scipy.ndimage.filters import gaussian_filter\n",
    "from scipy.ndimage import rotate\n",
    "from skimage import exposure\n",
    "from skimage.io import imread, imsave\n",
    "os.environ[\"CUDA_VISIBLE_DEVICES\"]=\"0\"\n",
    "\n",
    "from tensorflow.python.client import device_lib\n",
    "local_device_protos = device_lib.list_local_devices()\n",
    "print(local_device_protos)\n",
    "\n",
    "import pipeline\n",
    "import Unet"
   ]
  },
  {
   "cell_type": "markdown",
   "metadata": {},
   "source": [
    "# Using this notebook"
   ]
  },
  {
   "cell_type": "markdown",
   "metadata": {},
   "source": [
    "This notebook is meant to be a demo and documentation for using the models and generating predictions. Feel free to make copies for your own use but please do not commit your changes to it (unless there's an error, in which case submit a pull request)."
   ]
  },
  {
   "cell_type": "markdown",
   "metadata": {},
   "source": [
    "# Initialize the Tensorflow session and a dummy model"
   ]
  },
  {
   "cell_type": "markdown",
   "metadata": {},
   "source": [
    "This needs to be done before any operation involving training or generating segmentations."
   ]
  },
  {
   "cell_type": "code",
   "execution_count": 2,
   "metadata": {},
   "outputs": [],
   "source": [
    "tf.reset_default_graph()\n",
    "sess = tf.Session()\n",
    "model = Unet.Unet(0, 0.5, 0.5) # Arbitrary initialization\n",
    "sess.run(tf.global_variables_initializer())\n",
    "saver = tf.train.Saver()"
   ]
  },
  {
   "cell_type": "markdown",
   "metadata": {},
   "source": [
    "# Load a pretrained model"
   ]
  },
  {
   "cell_type": "markdown",
   "metadata": {},
   "source": [
    "To do this you need to specify the directory where the models are held as well as the saved model name, which should match both the name of the subfolder that holds the model as well as the `[model_name].data, [model_name].meta`, and `[model_name].index` files. The data file might have something on the end of its extension, like `[model_name].data-00000-of-00001`. That's fine.\n",
    "\n",
    "Note that `models_dir` should not be the highest-level directory containing folders for each model architecture, e.g. `/media/jessica/Storage/models/`, but should be one of the folders corresponding to a particular model architecture that in turn holds different trained versions. In kind-of picture form:\n"
   ]
  },
  {
   "cell_type": "raw",
   "metadata": {},
   "source": [
    "models \n",
    "|-- u-net_v1-0 \n",
    "|   |-- pretrained_version_1\n",
    "|   |   |-- checkpoint\n",
    "|   |   |-- pretrained_version_1.data\n",
    "|   |   |-- pretrained_version_1.index\n",
    "|   |   `-- pretrained_version_1.meta\n",
    "|   |-- pretrained_version_2\n",
    "|   `-- ...\n",
    "|-- u-net_v2-0\n",
    "|   |-- pretrained_version_1\n",
    "|   |-- pretrained_version_2\n",
    "|   `-- ...\n",
    "`-- ..."
   ]
  },
  {
   "cell_type": "markdown",
   "metadata": {},
   "source": [
    "In the above picture, don't use `models` as `models_dir`. You could use the absolute path to `u-net_v1-0` or `u-net_v2-0` and then the model name (same as folder name) of one of the pretrained versions, e.g. `pretrained_version_1`.\n",
    "\n",
    "The below example will work on the main office machine but won't on your own unless you download the model and put it on your machine and set the directories right."
   ]
  },
  {
   "cell_type": "markdown",
   "metadata": {},
   "source": [
    "### Set directories"
   ]
  },
  {
   "cell_type": "code",
   "execution_count": 3,
   "metadata": {},
   "outputs": [],
   "source": [
    "models_dir = '/media/jessica/Storage/models/u-net_v1-0'\n",
    "model_name = '30_deg_training_sorted_inputs'"
   ]
  },
  {
   "cell_type": "markdown",
   "metadata": {},
   "source": [
    "### Load model"
   ]
  },
  {
   "cell_type": "code",
   "execution_count": 4,
   "metadata": {},
   "outputs": [
    {
     "name": "stdout",
     "output_type": "stream",
     "text": [
      "INFO:tensorflow:Restoring parameters from /media/jessica/Storage/models/u-net_v1-0/30_deg_training_sorted_inputs/30_deg_training_sorted_inputs\n"
     ]
    }
   ],
   "source": [
    "pipeline.load_model(models_dir, model_name, saver, sess)"
   ]
  },
  {
   "cell_type": "markdown",
   "metadata": {},
   "source": [
    "# Predict many segmentations"
   ]
  },
  {
   "cell_type": "markdown",
   "metadata": {},
   "source": [
    "The best function for generating more than one segmentation at once is the `predict_all_segs` function in `pipeline.py`. With this function you can easily generate predictions for every single preprocessed scan and NIfTI pair you have (or in general as many as you want). To use this, the Tensorflow session and model need to be loaded as above and then three directories need to be specified: the directory containing separate folders each holding preprocessed scan data, the directory where all the resulting segmentations will be placed, and the directory holding the original `.nii` files. Note for this last directory that you will most likely want to use `/media/jessica/Storage/allrawfillednifti` rather than `/media/jessica/Storage/allrawfnifti`. The difference is the former holds the reconstructed `.nii` files where the deltoid is filled in. Additionally, the scan dimensions will match the generated predictions, so you can open the predictions over these filled `.nii` files. Once these are specified, all you need to do is call the function with the directories as well the Tensorflow model and session arguments."
   ]
  },
  {
   "cell_type": "markdown",
   "metadata": {},
   "source": [
    "### Set directories"
   ]
  },
  {
   "cell_type": "code",
   "execution_count": null,
   "metadata": {},
   "outputs": [],
   "source": [
    "to_be_segmented_dir = \"/media/jessica/Storage/preprocesseddata\"\n",
    "new_segs_location_dir = \"/media/jessica/Storage/30_deg_training_pred_dump\"\n",
    "orig_nii_dir = \"/media/jessica/Storage/allrawfillednifti\""
   ]
  },
  {
   "cell_type": "markdown",
   "metadata": {},
   "source": [
    "### Generate segmentations"
   ]
  },
  {
   "cell_type": "code",
   "execution_count": null,
   "metadata": {},
   "outputs": [],
   "source": [
    "pipeline.predict_all_segs(to_be_segmented_dir, new_segs_location_dir, orig_nii_dir, model, sess)"
   ]
  },
  {
   "cell_type": "markdown",
   "metadata": {},
   "source": [
    "# Predict a single segmentation (or control intermediate steps)"
   ]
  },
  {
   "cell_type": "markdown",
   "metadata": {},
   "source": [
    "In general `predict_all_segs` is the best way to make segmentations, even if you just want to generate one segmentation. If you're manually loading and modifying data or otherwise want access to intermediate steps then you can do that as well, but it will be more inconvenient, especially if you want to do this for more than one scan.\n",
    "\n",
    "To load the data from a single scan, use `load_data` from `pipeline.py`. You will need to provide the path to the directory which directly holds the `.npz` and `.png` files of the scan you want to segment. Note you can set the optional flag `encode_segs` (True by default) to determine whether you want to one-hot-encode the ground truth labels. If you are just generating a segmentation this should probably be set to False because encoding can take a few minutes. If you have no label files it doesn't matter. Note the outputs from this function are lists whereas future functions expect Numpy arrays, so you will have to convert them before passing them to prediction functions. It's likely best for now to leave the `height` and `width` arguments as their default values to ensure compatibility with existing scans."
   ]
  },
  {
   "cell_type": "markdown",
   "metadata": {},
   "source": [
    "### Set directory"
   ]
  },
  {
   "cell_type": "code",
   "execution_count": 5,
   "metadata": {},
   "outputs": [],
   "source": [
    "processed_data_dir = \"/media/jessica/Storage/preprocesseddata/trial8_30_fs\""
   ]
  },
  {
   "cell_type": "markdown",
   "metadata": {},
   "source": [
    "### Load data"
   ]
  },
  {
   "cell_type": "code",
   "execution_count": 6,
   "metadata": {},
   "outputs": [
    {
     "name": "stdout",
     "output_type": "stream",
     "text": [
      "====\n",
      "/media/jessica/Storage/preprocesseddata/trial8_30_fs\n",
      "====\n"
     ]
    }
   ],
   "source": [
    "raw_imgs_lst, seg_imgs_lst = pipeline.load_data(processed_data_dir, encode_segs=False)"
   ]
  },
  {
   "cell_type": "markdown",
   "metadata": {},
   "source": [
    "### See output details"
   ]
  },
  {
   "cell_type": "code",
   "execution_count": 7,
   "metadata": {},
   "outputs": [
    {
     "name": "stdout",
     "output_type": "stream",
     "text": [
      "996, 996\n",
      "<class 'list'>, <class 'list'>\n",
      "<class 'numpy.ndarray'>, <class 'numpy.ndarray'>\n",
      "(512, 512), (512, 512)\n"
     ]
    }
   ],
   "source": [
    "print(len(raw_imgs_lst), len(seg_imgs_lst), sep=', ')\n",
    "print(type(raw_imgs_lst), type(seg_imgs_lst), sep=', ')\n",
    "print(type(raw_imgs_lst[0]), type(seg_imgs_lst[0]), sep=', ')\n",
    "print(raw_imgs_lst[0].shape, seg_imgs_lst[0].shape, sep=', ')"
   ]
  },
  {
   "cell_type": "markdown",
   "metadata": {},
   "source": [
    "Having loaded the data, you can proceed to do whatever inspection, visualization, or processing you want. Once you want to predict, though, you will need to convert the lists to Numpy arrays. You can then pass the array into `predict_whole_seg`."
   ]
  },
  {
   "cell_type": "markdown",
   "metadata": {},
   "source": [
    "### Convert to array and predict"
   ]
  },
  {
   "cell_type": "code",
   "execution_count": 8,
   "metadata": {},
   "outputs": [
    {
     "name": "stdout",
     "output_type": "stream",
     "text": [
      "Shape of new array: (996, 512, 512)\n",
      "0, 1, 2, 3, 4, 5, 6, 7, 8, 9, 10, 11, 12, 13, 14, 15, 16, 17, 18, 19, 20, 21, 22, 23, 24, 25, 26, 27, 28, 29, 30, 31, 32, 33, 34, 35, 36, 37, 38, 39, 40, 41, 42, 43, 44, 45, 46, 47, 48, 49, 50, 51, 52, 53, 54, 55, 56, 57, 58, 59, 60, 61, 62, 63, 64, 65, 66, 67, 68, 69, 70, 71, 72, 73, 74, 75, 76, 77, 78, 79, 80, 81, 82, 83, 84, 85, 86, 87, 88, 89, 90, 91, 92, 93, 94, 95, 96, 97, 98, 99, 100, 101, 102, 103, 104, 105, 106, 107, 108, 109, 110, 111, 112, 113, 114, 115, 116, 117, 118, 119, 120, 121, 122, 123, 124, 125, 126, 127, 128, 129, 130, 131, 132, 133, 134, 135, 136, 137, 138, 139, 140, 141, 142, 143, 144, 145, 146, 147, 148, 149, 150, 151, 152, 153, 154, 155, 156, 157, 158, 159, 160, 161, 162, 163, 164, 165, 166, 167, 168, 169, 170, 171, 172, 173, 174, 175, 176, 177, 178, 179, 180, 181, 182, 183, 184, 185, 186, 187, 188, 189, 190, 191, 192, 193, 194, 195, 196, 197, 198, 199, 200, 201, 202, 203, 204, 205, 206, 207, 208, 209, 210, 211, 212, 213, 214, 215, 216, 217, 218, 219, 220, 221, 222, 223, 224, 225, 226, 227, 228, 229, 230, 231, 232, 233, 234, 235, 236, 237, 238, 239, 240, 241, 242, 243, 244, 245, 246, 247, 248, 249, 250, 251, 252, 253, 254, 255, 256, 257, 258, 259, 260, 261, 262, 263, 264, 265, 266, 267, 268, 269, 270, 271, 272, 273, 274, 275, 276, 277, 278, 279, 280, 281, 282, 283, 284, 285, 286, 287, 288, 289, 290, 291, 292, 293, 294, 295, 296, 297, 298, 299, 300, 301, 302, 303, 304, 305, 306, 307, 308, 309, 310, 311, 312, 313, 314, 315, 316, 317, 318, 319, 320, 321, 322, 323, 324, 325, 326, 327, 328, 329, 330, 331, 332, 333, 334, 335, 336, 337, 338, 339, 340, 341, 342, 343, 344, 345, 346, 347, 348, 349, 350, 351, 352, 353, 354, 355, 356, 357, 358, 359, 360, 361, 362, 363, 364, 365, 366, 367, 368, 369, 370, 371, 372, 373, 374, 375, 376, 377, 378, 379, 380, 381, 382, 383, 384, 385, 386, 387, 388, 389, 390, 391, 392, 393, 394, 395, 396, 397, 398, 399, 400, 401, 402, 403, 404, 405, 406, 407, 408, 409, 410, 411, 412, 413, 414, 415, 416, 417, 418, 419, 420, 421, 422, 423, 424, 425, 426, 427, 428, 429, 430, 431, 432, 433, 434, 435, 436, 437, 438, 439, 440, 441, 442, 443, 444, 445, 446, 447, 448, 449, 450, 451, 452, 453, 454, 455, 456, 457, 458, 459, 460, 461, 462, 463, 464, 465, 466, 467, 468, 469, 470, 471, 472, 473, 474, 475, 476, 477, 478, 479, 480, 481, 482, 483, 484, 485, 486, 487, 488, 489, 490, 491, 492, 493, 494, 495, 496, 497, 498, 499, 500, 501, 502, 503, 504, 505, 506, 507, 508, 509, 510, 511, 512, 513, 514, 515, 516, 517, 518, 519, 520, 521, 522, 523, 524, 525, 526, 527, 528, 529, 530, 531, 532, 533, 534, 535, 536, 537, 538, 539, 540, 541, 542, 543, 544, 545, 546, 547, 548, 549, 550, 551, 552, 553, 554, 555, 556, 557, 558, 559, 560, 561, 562, 563, 564, 565, 566, 567, 568, 569, 570, 571, 572, 573, 574, 575, 576, 577, 578, 579, 580, 581, 582, 583, 584, 585, 586, 587, 588, 589, 590, 591, 592, 593, 594, 595, 596, 597, 598, 599, 600, 601, 602, 603, 604, 605, 606, 607, 608, 609, 610, 611, 612, 613, 614, 615, 616, 617, 618, 619, 620, 621, 622, 623, 624, 625, 626, 627, 628, 629, 630, 631, 632, 633, 634, 635, 636, 637, 638, 639, 640, 641, 642, 643, 644, 645, 646, 647, 648, 649, 650, 651, 652, 653, 654, 655, 656, 657, 658, 659, 660, 661, 662, 663, 664, 665, 666, 667, 668, 669, 670, 671, 672, 673, 674, 675, 676, 677, 678, 679, 680, 681, 682, 683, 684, 685, 686, 687, 688, 689, 690, 691, 692, 693, 694, 695, 696, 697, 698, 699, 700, 701, 702, 703, 704, 705, 706, 707, 708, 709, 710, 711, 712, 713, 714, 715, 716, 717, 718, 719, 720, 721, 722, 723, 724, 725, 726, 727, 728, 729, 730, 731, 732, 733, 734, 735, 736, 737, 738, 739, 740, 741, 742, 743, 744, 745, 746, 747, 748, 749, 750, 751, 752, 753, 754, 755, 756, 757, 758, 759, 760, 761, 762, 763, 764, 765, 766, 767, 768, 769, 770, 771, 772, 773, 774, 775, 776, 777, 778, 779, 780, 781, 782, 783, 784, 785, 786, 787, 788, 789, 790, 791, 792, 793, 794, 795, 796, 797, 798, 799, 800, 801, 802, 803, 804, 805, 806, 807, 808, 809, 810, 811, 812, 813, 814, 815, 816, 817, 818, 819, 820, 821, 822, 823, 824, 825, 826, 827, 828, 829, 830, 831, 832, 833, 834, 835, 836, 837, 838, 839, 840, 841, 842, 843, 844, 845, 846, 847, 848, 849, 850, 851, 852, 853, 854, 855, 856, 857, 858, 859, 860, 861, 862, 863, 864, 865, 866, 867, 868, 869, 870, 871, 872, 873, 874, 875, 876, 877, 878, 879, 880, 881, 882, 883, 884, 885, 886, 887, 888, 889, 890, 891, 892, 893, 894, 895, 896, 897, 898, 899, 900, 901, 902, 903, 904, 905, 906, 907, 908, 909, 910, 911, 912, 913, 914, 915, 916, 917, 918, 919, 920, 921, 922, 923, 924, 925, 926, 927, 928, 929, 930, 931, 932, 933, 934, 935, 936, 937, 938, 939, 940, 941, 942, 943, 944, 945, 946, 947, 948, 949, 950, 951, 952, 953, 954, 955, 956, 957, 958, 959, 960, 961, 962, 963, 964, 965, 966, 967, 968, 969, 970, 971, 972, 973, 974, 975, 976, 977, 978, 979, 980, 981, 982, 983, 984, 985, 986, 987, 988, 989, 990, 991, 992, 993, 994, 995, \n",
      "Shape of resulting array (should be same as before): (996, 512, 512)\n"
     ]
    }
   ],
   "source": [
    "raw_imgs_arr = np.asarray(raw_imgs_lst)\n",
    "print(\"Shape of new array:\", raw_imgs_arr.shape)\n",
    "predicted_seg = pipeline.predict_whole_seg(raw_imgs_arr, model, sess)\n",
    "print(\"Shape of resulting array (should be same as before):\", predicted_seg.shape)\n"
   ]
  },
  {
   "cell_type": "markdown",
   "metadata": {},
   "source": [
    "Something to note is that the prediction functions actually want arrays to have a channel dimension (which for our purposes is of size 1; for RGB it would be 3). This is handled in the prediction function (see the call to `np.expand_dims`) but it might be important to know if you start directly calling some of those functions, like `predict_image` (which doesn't check this)."
   ]
  },
  {
   "cell_type": "markdown",
   "metadata": {},
   "source": [
    "Once you have the segmentation you can play with it some more or save it as a NIfTI file by calling `save_arr_as_nifti`. Since you're calling it manually you will need to explicitly provide the name of the original NIfTI file (including the file extension) as well as the name to save the NIfTI as (also including file extension). You will also need the path to the directory where the NIfTI is stored and the path to the directory where you want to save the NIfTI. Again, note that the original NIfTI files are the filled versions."
   ]
  },
  {
   "cell_type": "markdown",
   "metadata": {},
   "source": [
    "### Set directories"
   ]
  },
  {
   "cell_type": "code",
   "execution_count": 9,
   "metadata": {},
   "outputs": [],
   "source": [
    "orig_nifti_name = \"trial8_30_fs_proc_filled_volume.nii\"\n",
    "new_nifti_name = \"demo.nii\"\n",
    "orig_nii_dir = \"/media/jessica/Storage/allrawfillednifti\"\n",
    "save_dir = \"/media/jessica/Storage/demo\""
   ]
  },
  {
   "cell_type": "markdown",
   "metadata": {},
   "source": [
    "### Save predicted segmentation as NIfTI"
   ]
  },
  {
   "cell_type": "code",
   "execution_count": 10,
   "metadata": {},
   "outputs": [],
   "source": [
    "pipeline.save_arr_as_nifti(predicted_seg, orig_nifti_name, new_nifti_name, orig_nii_dir, save_dir)"
   ]
  }
 ],
 "metadata": {
  "kernelspec": {
   "display_name": "Python [conda env:anaconda3]",
   "language": "python",
   "name": "conda-env-anaconda3-py"
  },
  "language_info": {
   "codemirror_mode": {
    "name": "ipython",
    "version": 3
   },
   "file_extension": ".py",
   "mimetype": "text/x-python",
   "name": "python",
   "nbconvert_exporter": "python",
   "pygments_lexer": "ipython3",
   "version": "3.6.4"
  }
 },
 "nbformat": 4,
 "nbformat_minor": 2
}
