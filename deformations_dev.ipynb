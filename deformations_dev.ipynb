{
 "cells": [
  {
   "cell_type": "code",
   "execution_count": 1,
   "metadata": {},
   "outputs": [],
   "source": [
    "%matplotlib inline\n",
    "import numpy as np\n",
    "import matplotlib.pyplot as plt\n",
    "import tensorflow as tf\n",
    "import random\n",
    "import os\n",
    "import sys\n",
    "import itertools\n",
    "sys.path.append('src/')\n",
    "import nn\n",
    "import process_data\n",
    "import nibabel as nib\n",
    "from math import floor, ceil\n",
    "from sklearn.metrics import confusion_matrix\n",
    "import scipy.sparse\n",
    "from scipy.misc import imrotate, imresize\n",
    "from scipy.ndimage.interpolation import map_coordinates\n",
    "from scipy.ndimage.filters import gaussian_filter\n",
    "from scipy.ndimage import rotate\n",
    "from skimage import exposure, data\n",
    "from skimage.io import imread, imsave\n",
    "import pipeline\n",
    "import Unet"
   ]
  },
  {
   "cell_type": "code",
   "execution_count": 2,
   "metadata": {},
   "outputs": [],
   "source": [
    "def elastic_transform(image, alpha, sigma, rand_arr1, rand_arr2):\n",
    "    \"\"\"Elastic deformation of images as described in [Simard2003]_.\n",
    "    .. [Simard2003] Simard, Steinkraus and Platt, \"Best Practices for\n",
    "       Convolutional Neural Networks applied to Visual Document Analysis\", in\n",
    "       Proc. of the International Conference on Document Analysis and\n",
    "       Recognition, 2003.\n",
    "    \"\"\"\n",
    "    assert len(image.shape)==2\n",
    "\n",
    "    shape = image.shape\n",
    "\n",
    "#     dx = 0\n",
    "#     dy = 0\n",
    "    dx = gaussian_filter((rand_arr1 * 2 - 1), sigma, mode=\"constant\", cval=0) * alpha\n",
    "    dy = gaussian_filter((rand_arr2 * 2 - 1), sigma, mode=\"constant\", cval=0) * alpha\n",
    "\n",
    "    x, y = np.meshgrid(np.arange(shape[0]), np.arange(shape[1]), indexing='ij')\n",
    "    indices = np.reshape(x+dx, (-1, 1)), np.reshape(y+dy, (-1, 1))\n",
    "    \n",
    "    return map_coordinates(image, indices, order=1).reshape(shape)"
   ]
  },
  {
   "cell_type": "code",
   "execution_count": 3,
   "metadata": {},
   "outputs": [],
   "source": [
    "def restore_valid_labels(cross_section, true_labels):\n",
    "    scaled_labels = true_labels * 10\n",
    "    restored_cross_section = np.empty_like(cross_section)\n",
    "    for i in range(cross_section.shape[0]):\n",
    "        for j in range(cross_section.shape[1]):\n",
    "            scaled_val = cross_section[i][j]\n",
    "            restored_cross_section[i][j] = get_closest_value(scaled_val, scaled_labels)\n",
    "            restored_cross_section[i][j] = restored_cross_section[i][j] // 10\n",
    "    return restored_cross_section"
   ]
  },
  {
   "cell_type": "code",
   "execution_count": 4,
   "metadata": {},
   "outputs": [],
   "source": [
    "def restore_valid_labels_subs(cross_section, true_labels):\n",
    "    restored_cross_section = np.empty_like(cross_section)\n",
    "    for i in range(cross_section.shape[0]):\n",
    "        for j in range(cross_section.shape[1]):\n",
    "            orig_val = cross_section[i][j]\n",
    "            restored_cross_section[i][j] = get_closest_value(orig_val, spread_compress_labels(np.asarray(true_labels), 'spread'))\n",
    "    return restored_cross_section"
   ]
  },
  {
   "cell_type": "code",
   "execution_count": 5,
   "metadata": {},
   "outputs": [],
   "source": [
    "def get_closest_value(target, values):\n",
    "    # type(values) is numpy.ndarray\n",
    "    idx = (np.abs(values - target)).argmin()\n",
    "    return values[idx]"
   ]
  },
  {
   "cell_type": "code",
   "execution_count": 6,
   "metadata": {},
   "outputs": [],
   "source": [
    "all_orig_labels = [0, 7, 8, 9, 45, 51, 52, 53, 68]\n",
    "forward = {0: 0, 7: 100, 8: 200, 9: 300, 45: 400, 51: 500, 52: 600, 53: 700, 68: 800}\n",
    "inverse = {0: 0, 100: 7, 200: 8, 300: 9, 400: 45, 500: 51, 600: 52, 700: 53, 800: 68}\n",
    "\n",
    "def spread_compress_labels(cross_section, mode):\n",
    "    if mode == 'spread':\n",
    "        return np.asarray([forward[i] for i in cross_section.flatten()]).reshape(cross_section.shape)\n",
    "    elif mode == 'compress':\n",
    "        return np.asarray([inverse[i] for i in cross_section.flatten()]).reshape(cross_section.shape)\n",
    "    else:\n",
    "        return None"
   ]
  },
  {
   "cell_type": "code",
   "execution_count": 7,
   "metadata": {},
   "outputs": [],
   "source": [
    "nii_data_dir = \"/Users/nozik/Documents/HARTresearch/allrawfillednifti\"\n",
    "nii_vol_name = \"trial8_30_fs_proc_filled_volume.nii\"\n",
    "nii_seg_name = \"trial8_30_fs_proc_filled_seg.nii\""
   ]
  },
  {
   "cell_type": "code",
   "execution_count": 8,
   "metadata": {},
   "outputs": [],
   "source": [
    "nii_vol = nib.load(os.path.join(nii_data_dir, nii_vol_name))\n",
    "nii_seg = nib.load(os.path.join(nii_data_dir, nii_seg_name))"
   ]
  },
  {
   "cell_type": "code",
   "execution_count": 9,
   "metadata": {},
   "outputs": [],
   "source": [
    "nii_vol_arr = nii_vol.get_fdata()\n",
    "nii_seg_arr = nii_seg.get_fdata()"
   ]
  },
  {
   "cell_type": "code",
   "execution_count": 10,
   "metadata": {},
   "outputs": [
    {
     "name": "stdout",
     "output_type": "stream",
     "text": [
      "(996, 512, 512) (996, 512, 512)\n"
     ]
    }
   ],
   "source": [
    "print(nii_vol_arr.shape, nii_seg_arr.shape)"
   ]
  },
  {
   "cell_type": "code",
   "execution_count": 11,
   "metadata": {},
   "outputs": [
    {
     "name": "stdout",
     "output_type": "stream",
     "text": [
      "(9,)\n"
     ]
    }
   ],
   "source": [
    "print(np.unique(nii_seg_arr).shape)"
   ]
  },
  {
   "cell_type": "code",
   "execution_count": 12,
   "metadata": {},
   "outputs": [],
   "source": [
    "exvol = nii_vol_arr[500]\n",
    "exseg = nii_seg_arr[500]"
   ]
  },
  {
   "cell_type": "code",
   "execution_count": 13,
   "metadata": {},
   "outputs": [
    {
     "data": {
      "text/plain": [
       "<matplotlib.image.AxesImage at 0x11605a0b8>"
      ]
     },
     "execution_count": 13,
     "metadata": {},
     "output_type": "execute_result"
    },
    {
     "data": {
      "image/png": "[encoded data removed]",
      "text/plain": [
       "<matplotlib.figure.Figure at 0x11608e2e8>"
      ]
     },
     "metadata": {},
     "output_type": "display_data"
    }
   ],
   "source": [
    "plt.imshow(exvol)"
   ]
  },
  {
   "cell_type": "code",
   "execution_count": 14,
   "metadata": {},
   "outputs": [
    {
     "data": {
      "text/plain": [
       "<matplotlib.image.AxesImage at 0x1178b10f0>"
      ]
     },
     "execution_count": 14,
     "metadata": {},
     "output_type": "execute_result"
    },
    {
     "data": {
      "image/png": "[encoded data removed]",
      "text/plain": [
       "<matplotlib.figure.Figure at 0x11608ee10>"
      ]
     },
     "metadata": {},
     "output_type": "display_data"
    }
   ],
   "source": [
    "plt.imshow(exseg)"
   ]
  },
  {
   "cell_type": "code",
   "execution_count": 15,
   "metadata": {},
   "outputs": [],
   "source": [
    "seed = np.random.randint(0, 2 ** 32 - 1)\n",
    "randomizer = np.random.RandomState(seed)\n",
    "shape = exvol.shape\n",
    "rand_arr1 = randomizer.rand(*shape)\n",
    "rand_arr2 = randomizer.rand(*shape)\n",
    "deformedvol = elastic_transform(exvol, 34, 4, rand_arr1, rand_arr2)"
   ]
  },
  {
   "cell_type": "code",
   "execution_count": 16,
   "metadata": {},
   "outputs": [
    {
     "name": "stdout",
     "output_type": "stream",
     "text": [
      "False\n",
      "False\n"
     ]
    },
    {
     "data": {
      "image/png": "[encoded data removed]",
      "text/plain": [
       "<matplotlib.figure.Figure at 0x117819f98>"
      ]
     },
     "metadata": {},
     "output_type": "display_data"
    }
   ],
   "source": [
    "plt.imshow(deformedvol)\n",
    "print(np.unique(exvol).shape == np.unique(deformedvol).shape)\n",
    "print(np.all(exvol == deformedvol))"
   ]
  },
  {
   "cell_type": "code",
   "execution_count": 17,
   "metadata": {},
   "outputs": [],
   "source": [
    "deformedseg = elastic_transform(exseg, 34, 4, rand_arr1, rand_arr2)"
   ]
  },
  {
   "cell_type": "code",
   "execution_count": 18,
   "metadata": {
    "scrolled": true
   },
   "outputs": [
    {
     "name": "stdout",
     "output_type": "stream",
     "text": [
      "False\n",
      "False\n"
     ]
    },
    {
     "data": {
      "image/png": "[encoded data removed]",
      "text/plain": [
       "<matplotlib.figure.Figure at 0x117b48940>"
      ]
     },
     "metadata": {},
     "output_type": "display_data"
    }
   ],
   "source": [
    "plt.imshow(deformedseg)\n",
    "print(np.unique(exseg).shape == np.unique(deformedseg).shape)\n",
    "print(np.all(exseg == deformedseg))"
   ]
  },
  {
   "cell_type": "code",
   "execution_count": 19,
   "metadata": {},
   "outputs": [
    {
     "name": "stdout",
     "output_type": "stream",
     "text": [
      "[ 0.  7. 52. 53. 68.]\n"
     ]
    }
   ],
   "source": [
    "true_labels = np.unique(exseg)\n",
    "print(true_labels)\n",
    "deformedseg = spread_compress_labels(exseg, 'spread')\n",
    "deformedseg = elastic_transform(deformedseg, 34, 3, rand_arr1, rand_arr2)\n",
    "deformedseg = restore_valid_labels_subs(deformedseg, true_labels)\n",
    "restored_deformedseg = spread_compress_labels(deformedseg, 'compress')"
   ]
  },
  {
   "cell_type": "code",
   "execution_count": 20,
   "metadata": {},
   "outputs": [
    {
     "name": "stdout",
     "output_type": "stream",
     "text": [
      "True\n",
      "(5,) (5,)\n",
      "False\n",
      "[ 0  7 52 53 68]\n"
     ]
    },
    {
     "data": {
      "image/png": "[encoded data removed]",
      "text/plain": [
       "<matplotlib.figure.Figure at 0x118c08908>"
      ]
     },
     "metadata": {},
     "output_type": "display_data"
    }
   ],
   "source": [
    "plt.imshow(restored_deformedseg)\n",
    "print(np.unique(exseg).shape == np.unique(restored_deformedseg).shape)\n",
    "print(np.unique(exseg).shape, np.unique(restored_deformedseg).shape)\n",
    "print(np.all(exseg == restored_deformedseg))\n",
    "print(np.unique(restored_deformedseg))"
   ]
  },
  {
   "cell_type": "code",
   "execution_count": null,
   "metadata": {},
   "outputs": [
    {
     "name": "stdout",
     "output_type": "stream",
     "text": [
      "0; About to transform vol slice; About to transform seg slice; Done with transformations;  \n",
      "1; About to transform vol slice; About to transform seg slice; Done with transformations;  \n",
      "2; About to transform vol slice; About to transform seg slice; Done with transformations;  \n",
      "3; About to transform vol slice; About to transform seg slice; Done with transformations;  \n",
      "4; About to transform vol slice; About to transform seg slice; Done with transformations;  \n",
      "5; About to transform vol slice; About to transform seg slice; Done with transformations;  \n",
      "6; About to transform vol slice; About to transform seg slice; Done with transformations;  \n",
      "7; About to transform vol slice; About to transform seg slice; Done with transformations;  \n",
      "8; About to transform vol slice; About to transform seg slice; Done with transformations;  \n",
      "9; About to transform vol slice; About to transform seg slice; Done with transformations;  \n",
      "10; About to transform vol slice; About to transform seg slice; Done with transformations;  \n",
      "11; About to transform vol slice; About to transform seg slice; Done with transformations;  \n",
      "12; About to transform vol slice; About to transform seg slice; Done with transformations;  \n",
      "13; About to transform vol slice; About to transform seg slice; Done with transformations;  \n",
      "14; About to transform vol slice; About to transform seg slice; Done with transformations;  \n",
      "15; About to transform vol slice; About to transform seg slice; Done with transformations;  \n",
      "16; About to transform vol slice; About to transform seg slice; Done with transformations;  \n",
      "17; About to transform vol slice; About to transform seg slice; Done with transformations;  \n",
      "18; About to transform vol slice; About to transform seg slice; Done with transformations;  \n",
      "19; About to transform vol slice; About to transform seg slice; Done with transformations;  \n",
      "20; About to transform vol slice; About to transform seg slice; Done with transformations;  \n",
      "21; About to transform vol slice; About to transform seg slice; Done with transformations;  \n",
      "22; About to transform vol slice; About to transform seg slice; Done with transformations;  \n",
      "23; About to transform vol slice; About to transform seg slice; Done with transformations;  \n",
      "24; About to transform vol slice; About to transform seg slice; Done with transformations;  \n",
      "25; About to transform vol slice; About to transform seg slice; Done with transformations;  \n",
      "26; About to transform vol slice; About to transform seg slice; Done with transformations;  \n",
      "27; About to transform vol slice; About to transform seg slice; Done with transformations;  \n",
      "28; About to transform vol slice; About to transform seg slice; Done with transformations;  \n",
      "29; About to transform vol slice; About to transform seg slice; Done with transformations;  \n",
      "30; About to transform vol slice; About to transform seg slice; Done with transformations;  \n",
      "31; About to transform vol slice; About to transform seg slice; Done with transformations;  \n",
      "32; About to transform vol slice; About to transform seg slice; Done with transformations;  \n",
      "33; About to transform vol slice; About to transform seg slice; Done with transformations;  \n",
      "34; About to transform vol slice; About to transform seg slice; Done with transformations;  \n",
      "35; About to transform vol slice; About to transform seg slice; Done with transformations;  \n",
      "36; About to transform vol slice; About to transform seg slice; Done with transformations;  \n",
      "37; About to transform vol slice; About to transform seg slice; Done with transformations;  \n",
      "38; About to transform vol slice; About to transform seg slice; Done with transformations;  \n",
      "39; About to transform vol slice; About to transform seg slice; Done with transformations;  \n",
      "40; About to transform vol slice; About to transform seg slice; Done with transformations;  \n",
      "41; About to transform vol slice; About to transform seg slice; Done with transformations;  \n",
      "42; About to transform vol slice; About to transform seg slice; Done with transformations;  \n",
      "43; About to transform vol slice; About to transform seg slice; Done with transformations;  \n",
      "44; About to transform vol slice; About to transform seg slice; Done with transformations;  \n",
      "45; About to transform vol slice; About to transform seg slice; Done with transformations;  \n",
      "46; About to transform vol slice; About to transform seg slice; Done with transformations;  \n",
      "47; About to transform vol slice; About to transform seg slice; Done with transformations;  \n",
      "48; About to transform vol slice; About to transform seg slice; Done with transformations;  \n",
      "49; About to transform vol slice; About to transform seg slice; Done with transformations;  \n",
      "50; About to transform vol slice; About to transform seg slice; Done with transformations;  \n",
      "51; About to transform vol slice; About to transform seg slice; Done with transformations;  \n",
      "52; About to transform vol slice; About to transform seg slice; Done with transformations;  \n",
      "53; About to transform vol slice; About to transform seg slice; Done with transformations;  \n",
      "54; About to transform vol slice; About to transform seg slice; Done with transformations;  \n",
      "55; About to transform vol slice; About to transform seg slice; Done with transformations;  \n",
      "56; About to transform vol slice; About to transform seg slice; Done with transformations;  \n",
      "57; About to transform vol slice; About to transform seg slice; Done with transformations;  \n",
      "58; About to transform vol slice; About to transform seg slice; Done with transformations;  \n",
      "59; About to transform vol slice; About to transform seg slice; Done with transformations;  \n",
      "60; About to transform vol slice; About to transform seg slice; Done with transformations;  \n",
      "61; About to transform vol slice; About to transform seg slice; Done with transformations;  \n",
      "62; About to transform vol slice; About to transform seg slice; Done with transformations;  \n",
      "63; About to transform vol slice; About to transform seg slice; Done with transformations;  \n",
      "64; About to transform vol slice; About to transform seg slice; Done with transformations;  \n",
      "65; About to transform vol slice; About to transform seg slice; Done with transformations;  \n",
      "66; About to transform vol slice; About to transform seg slice; Done with transformations;  \n",
      "67; About to transform vol slice; About to transform seg slice; Done with transformations;  \n",
      "68; About to transform vol slice; About to transform seg slice; Done with transformations;  \n",
      "69; About to transform vol slice; About to transform seg slice; Done with transformations;  \n",
      "70; About to transform vol slice; About to transform seg slice; Done with transformations;  \n",
      "71; About to transform vol slice; About to transform seg slice; Done with transformations;  \n",
      "72; About to transform vol slice; About to transform seg slice; Done with transformations;  \n",
      "73; About to transform vol slice; About to transform seg slice; Done with transformations;  \n",
      "74; About to transform vol slice; About to transform seg slice; Done with transformations;  \n",
      "75; About to transform vol slice; About to transform seg slice; Done with transformations;  \n",
      "76; About to transform vol slice; About to transform seg slice; Done with transformations;  \n",
      "77; About to transform vol slice; About to transform seg slice; Done with transformations;  \n",
      "78; About to transform vol slice; About to transform seg slice; Done with transformations;  \n",
      "79; About to transform vol slice; About to transform seg slice; Done with transformations;  \n",
      "80; About to transform vol slice; About to transform seg slice; "
     ]
    }
   ],
   "source": [
    "def elastic_transform_nifti_subs(nifti_vol_arr, nifti_seg_arr, alpha, sigma):\n",
    "    # conv = np.array([  0, 100, 200, 300, 400, 500, 600, 700, 800])\n",
    "    transformed_vol_arr = np.empty(nifti_vol_arr.shape)\n",
    "    transformed_seg_arr = np.empty(nifti_seg_arr.shape)\n",
    "    seed = np.random.randint(0, 2 ** 32 - 1)\n",
    "    randomizer = np.random.RandomState(seed)\n",
    "    for i in range(nifti_vol_arr.shape[0]):\n",
    "        print(i, end='; ')\n",
    "        rand_arr1 = randomizer.rand(*nifti_vol_arr[i].shape)\n",
    "        rand_arr2 = randomizer.rand(*nifti_vol_arr[i].shape)\n",
    "        print(\"About to transform vol slice;\", end=' ')\n",
    "        transformed_vol_slice = elastic_transform(nifti_vol_arr[i], alpha, sigma, rand_arr1, rand_arr2)\n",
    "        print(\"About to transform seg slice;\", end=' ')\n",
    "        true_orig_labels = np.unique(nifti_seg_arr[i])\n",
    "        transformed_seg_slice = spread_compress_labels(nifti_seg_arr[i], 'spread')\n",
    "        transformed_seg_slice = elastic_transform(transformed_seg_slice, alpha, sigma, rand_arr1, rand_arr2)\n",
    "        transformed_seg_slice = restore_valid_labels_subs(transformed_seg_slice, true_orig_labels)\n",
    "        transformed_seg_slice = spread_compress_labels(transformed_seg_slice, 'compress')\n",
    "        print(\"Done with transformations;\", end=' ')\n",
    "        transformed_vol_arr[i] = transformed_vol_slice\n",
    "        transformed_seg_arr[i] = transformed_seg_slice\n",
    "        print(' ')\n",
    "    return transformed_vol_arr, transformed_seg_arr\n",
    "\n",
    "transformed_vol_arr, transformed_seg_arr = elastic_transform_nifti_subs(nii_vol_arr, nii_seg_arr, 34, 4)"
   ]
  },
  {
   "cell_type": "code",
   "execution_count": null,
   "metadata": {},
   "outputs": [],
   "source": [
    "def elastic_transform_nifti(nifti_vol_arr, nifti_seg_arr, alpha, sigma):\n",
    "    transformed_vol_arr = np.empty(nifti_vol_arr.shape)\n",
    "    transformed_seg_arr = np.empty(nifti_seg_arr.shape)\n",
    "    seed = np.random.randint(0, 2 ** 32 - 1)\n",
    "    randomizer = np.random.RandomState(seed)\n",
    "    for i in range(nifti_vol_arr.shape[0]):\n",
    "        print(i, end='; ')\n",
    "        rand_arr1 = randomizer.rand(*nifti_vol_arr[i].shape)\n",
    "        rand_arr2 = randomizer.rand(*nifti_vol_arr[i].shape)\n",
    "        print(\"About to transform vol slice;\", end=' ')\n",
    "        transformed_vol_slice = elastic_transform(nifti_vol_arr[i], alpha, sigma, rand_arr1, rand_arr2)\n",
    "        print(\"About to transform seg slice;\", end=' ')\n",
    "        true_orig_labels = np.unique(nifti_seg_arr[i])\n",
    "        transformed_seg_slice = nifti_seg_arr[i] * 10\n",
    "        transformed_seg_slice = elastic_transform(transformed_seg_slice, alpha, sigma, rand_arr1, rand_arr2)\n",
    "        transformed_seg_slice = restore_valid_labels(transformed_seg_slice, true_orig_labels)\n",
    "        print(\"Done with transformations;\", end=' ')\n",
    "        transformed_vol_arr[i] = transformed_vol_slice\n",
    "        transformed_seg_arr[i] = transformed_seg_slice\n",
    "        print(' ')\n",
    "    return transformed_vol_arr, transformed_seg_arr\n",
    "\n",
    "transformed_vol_arr, transformed_seg_arr = elastic_transform_nifti(nii_vol_arr, nii_seg_arr, 34, 10)"
   ]
  },
  {
   "cell_type": "code",
   "execution_count": null,
   "metadata": {
    "scrolled": true
   },
   "outputs": [],
   "source": [
    "nii_save_dir = \"/Users/nozik/Documents/HARTresearch/augmented_data/elastic_transformed_nii\""
   ]
  },
  {
   "cell_type": "code",
   "execution_count": null,
   "metadata": {},
   "outputs": [],
   "source": [
    "pipeline.save_arr_as_nifti(transformed_vol_arr, nii_vol_name, \"trial8_30_fs_vol_elast_3.nii\", nii_data_dir, nii_save_dir)\n",
    "pipeline.save_arr_as_nifti(transformed_seg_arr, nii_seg_name, \"trial8_30_fs_seg_elast_3.nii\", nii_data_dir, nii_save_dir)"
   ]
  },
  {
   "cell_type": "code",
   "execution_count": null,
   "metadata": {},
   "outputs": [],
   "source": [
    "np.unique(transformed_seg_arr).shape"
   ]
  },
  {
   "cell_type": "code",
   "execution_count": null,
   "metadata": {},
   "outputs": [],
   "source": [
    "np.unique(nii_seg_arr).shape"
   ]
  },
  {
   "cell_type": "code",
   "execution_count": null,
   "metadata": {},
   "outputs": [],
   "source": []
  }
 ],
 "metadata": {
  "kernelspec": {
   "display_name": "tensorflow",
   "language": "python",
   "name": "tensorflow"
  },
  "language_info": {
   "codemirror_mode": {
    "name": "ipython",
    "version": 3
   },
   "file_extension": ".py",
   "mimetype": "text/x-python",
   "name": "python",
   "nbconvert_exporter": "python",
   "pygments_lexer": "ipython3",
   "version": "3.6.4"
  }
 },
 "nbformat": 4,
 "nbformat_minor": 2
}
