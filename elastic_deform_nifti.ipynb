{
 "cells": [
  {
   "cell_type": "code",
   "execution_count": 14,
   "metadata": {},
   "outputs": [],
   "source": [
    "%matplotlib inline\n",
    "import numpy as np\n",
    "import tensorflow as tf\n",
    "import random\n",
    "import os\n",
    "import sys\n",
    "sys.path.append('src/')\n",
    "import nn\n",
    "import nibabel as nib\n",
    "from math import floor, ceil\n",
    "import pipeline\n",
    "import Unet\n",
    "from scipy.ndimage.filters import gaussian_filter\n",
    "from scipy.ndimage.interpolation import map_coordinates\n",
    "import imgaug as ia\n",
    "from imgaug import augmenters as iaa"
   ]
  },
  {
   "cell_type": "markdown",
   "metadata": {},
   "source": [
    "## Augment Single Pair"
   ]
  },
  {
   "cell_type": "code",
   "execution_count": 1,
   "metadata": {},
   "outputs": [],
   "source": [
    "# Modify these variables to use the cell below to augment only a single NIfTI pair\n",
    "nii_data_dir = \"\" # path to directory where the NIfTI pair is stored\n",
    "nii_vol_name = \"\" # filename of volume ending in .nii\n",
    "nii_seg_name = \"\" # filename of segmentation ending in .nii"
   ]
  },
  {
   "cell_type": "code",
   "execution_count": 4,
   "metadata": {},
   "outputs": [],
   "source": [
    "nii_vol = nib.load(os.path.join(nii_data_dir, nii_vol_name))\n",
    "nii_seg = nib.load(os.path.join(nii_data_dir, nii_seg_name))"
   ]
  },
  {
   "cell_type": "code",
   "execution_count": 5,
   "metadata": {},
   "outputs": [],
   "source": [
    "nii_vol_arr = nii_vol.get_fdata()\n",
    "nii_seg_arr = nii_seg.get_fdata()"
   ]
  },
  {
   "cell_type": "code",
   "execution_count": 9,
   "metadata": {},
   "outputs": [],
   "source": [
    "def elastic_transform_nifti_subs(nifti_vol_arr, nifti_seg_arr, alpha, sigma):\n",
    "    transformed_vol_arr = np.empty(nifti_vol_arr.shape)\n",
    "    transformed_seg_arr = np.empty(nifti_seg_arr.shape)\n",
    "    seed = np.random.randint(0, 2 ** 32 - 1)\n",
    "    randomizer = np.random.RandomState(seed)\n",
    "    for i in range(nifti_vol_arr.shape[0]):\n",
    "        print(i, end='; ')\n",
    "        rand_arr1 = randomizer.rand(*nifti_vol_arr[i].shape)\n",
    "        rand_arr2 = randomizer.rand(*nifti_vol_arr[i].shape)\n",
    "        print(\"About to transform vol slice;\", end=' ')\n",
    "        transformed_vol_slice = elastic_transform(nifti_vol_arr[i], alpha, sigma, rand_arr1, rand_arr2, int_order=1)\n",
    "        print(\"About to transform seg slice;\", end=' ')\n",
    "        transformed_seg_slice = elastic_transform(nifti_seg_arr[i], alpha, sigma, rand_arr1, rand_arr2, int_order=0)\n",
    "        print(\"Done with transformations;\", end=' ')\n",
    "        transformed_vol_arr[i] = transformed_vol_slice\n",
    "        transformed_seg_arr[i] = transformed_seg_slice\n",
    "        print(' ')\n",
    "    return transformed_vol_arr, transformed_seg_arr\n",
    "\n",
    "def elastic_transform(image, alpha, sigma, rand_arr1, rand_arr2, int_order):\n",
    "    \"\"\"Elastic deformation of images as described in [Simard2003]_.\n",
    "    .. [Simard2003] Simard, Steinkraus and Platt, \"Best Practices for\n",
    "       Convolutional Neural Networks applied to Visual Document Analysis\", in\n",
    "       Proc. of the International Conference on Document Analysis and\n",
    "       Recognition, 2003.\n",
    "    \"\"\"\n",
    "    assert len(image.shape)==2\n",
    "\n",
    "    shape = image.shape\n",
    "\n",
    "#     dx = 0\n",
    "#     dy = 0\n",
    "    dx = gaussian_filter((rand_arr1 * 2 - 1), sigma, mode=\"constant\", cval=0) * alpha\n",
    "    dy = gaussian_filter((rand_arr2 * 2 - 1), sigma, mode=\"constant\", cval=0) * alpha\n",
    "\n",
    "    x, y = np.meshgrid(np.arange(shape[0]), np.arange(shape[1]), indexing='ij')\n",
    "    indices = np.reshape(x+dx, (-1, 1)), np.reshape(y+dy, (-1, 1))\n",
    "    \n",
    "    return map_coordinates(image, indices, order=int_order).reshape(shape)"
   ]
  },
  {
   "cell_type": "code",
   "execution_count": 10,
   "metadata": {},
   "outputs": [],
   "source": [
    "alpha = 10\n",
    "sigma = 3"
   ]
  },
  {
   "cell_type": "code",
   "execution_count": null,
   "metadata": {},
   "outputs": [],
   "source": [
    "transformed_vol_arr, transformed_seg_arr = elastic_transform_nifti_subs(nii_vol_arr, nii_seg_arr, alpha, sigma)"
   ]
  },
  {
   "cell_type": "code",
   "execution_count": null,
   "metadata": {
    "scrolled": true
   },
   "outputs": [],
   "source": [
    "nii_save_dir = \"\" # path to directory to place augmented NIfTIs"
   ]
  },
  {
   "cell_type": "code",
   "execution_count": null,
   "metadata": {},
   "outputs": [],
   "source": [
    "pipeline.save_arr_as_nifti(transformed_vol_arr, nii_vol_name, \"elastic_def_volume.nii\", nii_data_dir, nii_save_dir)\n",
    "pipeline.save_arr_as_nifti(transformed_seg_arr, nii_seg_name, \"elastic_def_seg.nii\", nii_data_dir, nii_save_dir)"
   ]
  },
  {
   "cell_type": "markdown",
   "metadata": {},
   "source": [
    "## Augment All Pairs in Directory"
   ]
  },
  {
   "cell_type": "markdown",
   "metadata": {},
   "source": [
    "To use this method, all the desired NIfTIs to transform should come from the same subject."
   ]
  },
  {
   "cell_type": "code",
   "execution_count": 16,
   "metadata": {},
   "outputs": [],
   "source": [
    "def elastic_transform_all(source_data_dir, nii_data_dir, nii_save_dir):\n",
    "    alphas = [5, 10, 15]\n",
    "    sigmas = [1, 3]\n",
    "    for folder in os.listdir(source_data_dir):\n",
    "        files = {}\n",
    "        for file in os.listdir(os.path.join(source_data_dir, folder)):\n",
    "            if 'seg' in file:\n",
    "                files['seg'] = file\n",
    "            elif 'vol' in file:\n",
    "                files['volume'] = file\n",
    "        \n",
    "        vol_path = os.path.join(os.path.join(source_data_dir, folder), files['volume'])\n",
    "        nii_vol = nib.load(vol_path)\n",
    "        nii_vol_arr = nii_vol.get_fdata()\n",
    "        seg_path = os.path.join(os.path.join(source_data_dir, folder), files['seg'])\n",
    "        nii_seg = nib.load(seg_path)\n",
    "        nii_seg_arr = nii_seg.get_fdata()\n",
    "        \n",
    "        vol_base_name = files['volume'].split(\".nii\")[0]\n",
    "        seg_base_name = files['seg'].split(\".nii\")[0]\n",
    "        \n",
    "        for alpha in alphas:\n",
    "            for sigma in sigmas:\n",
    "                transformed_vol_arr, transformed_seg_arr = elastic_transform_nifti_subs(nii_vol_arr, \n",
    "                                                                                        nii_seg_arr,\n",
    "                                                                                        alpha,\n",
    "                                                                                        sigma)\n",
    "                new_vol_name = vol_base_name + \"_elastic_a\" + str(alpha) + \"_s\" + str(sigma) + \".nii\"\n",
    "                new_seg_name = seg_base_name + \"_elastic_a\" + str(alpha) + \"_s\" + str(sigma) + \".nii\"\n",
    "                \n",
    "                print(\"Saving seg \", files['seg'], end='; ')\n",
    "                pipeline.save_arr_as_nifti(transformed_seg_arr, files['seg'], new_seg_name, nii_data_dir, nii_save_dir)\n",
    "                \n",
    "                print(\"Saving volume \", files['volume'], end='; ')\n",
    "                pipeline.save_arr_as_nifti(transformed_vol_arr, files['volume'], new_vol_name, nii_data_dir, nii_save_dir)\n",
    "\n",
    "                print(\"\")\n",
    "\n",
    "def elastic_transform(image, alpha, sigma, rand_arr1, rand_arr2, int_order):\n",
    "    \"\"\"Elastic deformation of images as described in [Simard2003]_.\n",
    "    .. [Simard2003] Simard, Steinkraus and Platt, \"Best Practices for\n",
    "       Convolutional Neural Networks applied to Visual Document Analysis\", in\n",
    "       Proc. of the International Conference on Document Analysis and\n",
    "       Recognition, 2003.\n",
    "    \"\"\"\n",
    "    assert len(image.shape)==2\n",
    "\n",
    "    shape = image.shape\n",
    "\n",
    "#     dx = 0\n",
    "#     dy = 0\n",
    "    dx = gaussian_filter((rand_arr1 * 2 - 1), sigma, mode=\"constant\", cval=0) * alpha\n",
    "    dy = gaussian_filter((rand_arr2 * 2 - 1), sigma, mode=\"constant\", cval=0) * alpha\n",
    "\n",
    "    x, y = np.meshgrid(np.arange(shape[0]), np.arange(shape[1]), indexing='ij')\n",
    "    indices = np.reshape(x+dx, (-1, 1)), np.reshape(y+dy, (-1, 1))\n",
    "    \n",
    "    return map_coordinates(image, indices, order=int_order).reshape(shape)"
   ]
  },
  {
   "cell_type": "code",
   "execution_count": 17,
   "metadata": {},
   "outputs": [],
   "source": [
    "to_deform_dir = \"\" # path to directory where all the NIfTIs to be augmented are. should contain separate folders for each pair\n",
    "all_nifti_dir = \"\" # path to directory with all the NIfTIs associated with the current subject\n",
    "nii_save_dir  = \"\" # path to save the augmented NIfTIs"
   ]
  },
  {
   "cell_type": "code",
   "execution_count": null,
   "metadata": {},
   "outputs": [],
   "source": [
    "elastic_transform_all(to_deform_dir, all_nifti_dir, nii_save_dir)"
   ]
  },
  {
   "cell_type": "code",
   "execution_count": null,
   "metadata": {},
   "outputs": [],
   "source": []
  }
 ],
 "metadata": {
  "kernelspec": {
   "display_name": "Python [conda env:anaconda3]",
   "language": "python",
   "name": "conda-env-anaconda3-py"
  },
  "language_info": {
   "codemirror_mode": {
    "name": "ipython",
    "version": 3
   },
   "file_extension": ".py",
   "mimetype": "text/x-python",
   "name": "python",
   "nbconvert_exporter": "python",
   "pygments_lexer": "ipython3",
   "version": "3.6.4"
  }
 },
 "nbformat": 4,
 "nbformat_minor": 2
}
