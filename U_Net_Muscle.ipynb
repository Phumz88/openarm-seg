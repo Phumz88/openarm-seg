{
 "cells": [
  {
   "cell_type": "code",
   "execution_count": 128,
   "metadata": {},
   "outputs": [
    {
     "name": "stdout",
     "output_type": "stream",
     "text": [
      "imported\n",
      "[name: \"/cpu:0\"\n",
      "device_type: \"CPU\"\n",
      "memory_limit: 268435456\n",
      "locality {\n",
      "}\n",
      "incarnation: 4870396987425234210\n",
      ", name: \"/gpu:0\"\n",
      "device_type: \"GPU\"\n",
      "memory_limit: 209715200\n",
      "locality {\n",
      "  bus_id: 1\n",
      "}\n",
      "incarnation: 13879158289133794523\n",
      "physical_device_desc: \"device: 0, name: TITAN Xp, pci bus id: 0000:02:00.0\"\n",
      "]\n"
     ]
    }
   ],
   "source": [
    "%matplotlib inline\n",
    "import numpy as np\n",
    "import matplotlib.pyplot as plt\n",
    "import tensorflow as tf\n",
    "print(\"imported\")\n",
    "import random\n",
    "import os\n",
    "import sys\n",
    "import itertools\n",
    "sys.path.append('src/')\n",
    "import nn\n",
    "import process_data\n",
    "import nibabel as nib\n",
    "# import cv2\n",
    "\n",
    "from __future__ import division, print_function, absolute_import\n",
    "from sklearn.metrics import confusion_matrix\n",
    "import scipy.sparse\n",
    "from scipy.misc import imrotate, imresize\n",
    "from scipy.ndimage.filters import gaussian_filter\n",
    "from scipy.ndimage import rotate\n",
    "from skimage import exposure\n",
    "from skimage.io import imread, imsave\n",
    "os.environ[\"CUDA_VISIBLE_DEVICES\"]=\"0\"\n",
    "\n",
    "from tensorflow.python.client import device_lib\n",
    "local_device_protos = device_lib.list_local_devices()\n",
    "print(local_device_protos)"
   ]
  },
  {
   "cell_type": "markdown",
   "metadata": {},
   "source": [
    "# Modeling Data Setup"
   ]
  },
  {
   "cell_type": "markdown",
   "metadata": {},
   "source": [
    "### Load Data from File"
   ]
  },
  {
   "cell_type": "code",
   "execution_count": 3,
   "metadata": {},
   "outputs": [],
   "source": [
    "def one_hot_encode(L, class_labels):\n",
    "    \"\"\"\n",
    "    2D array (image) of segmentation labels -> .npy\n",
    "    # One Hot Encode the label 2d array -> .npy files with dim (h, w, len(class_labels))\n",
    "    # num classes will be 8? but currently dynamically allocated based on num colors in all scans.\n",
    "    \"\"\"\n",
    "    h, w = L.shape  # Should be 482, 395 (unless resized)\n",
    "    try:\n",
    "        encoded = np.array([list(map(class_labels.index, L.flatten()))])\n",
    "\n",
    "        L = encoded.reshape(h, w)\n",
    "\n",
    "        Lhot = np.zeros((L.shape[0], L.shape[1], len(class_labels)))\n",
    "        for i in range(L.shape[0]):\n",
    "            for j in range(L.shape[1]):\n",
    "                Lhot[i,j,L[i,j]] = 1\n",
    "        return Lhot  # Should be shape (482, 395, 9)\n",
    "    except Exception as e:\n",
    "            print(e)\n",
    "\n",
    "def uncode_one_hot(npy_file):\n",
    "    \"\"\"\n",
    "    .npy file -> JPEG\n",
    "    \"\"\"\n",
    "    pass\n",
    "\n",
    "def show_images(images, cols = 1, titles = None):\n",
    "    \"\"\"Display a list of images in a single figure with matplotlib.\n",
    "    \n",
    "    Parameters\n",
    "    ---------\n",
    "    images: List of np.arrays compatible with plt.imshow.\n",
    "    \n",
    "    cols (Default = 1): Number of columns in figure (number of rows is \n",
    "                        set to np.ceil(n_images/float(cols))).\n",
    "    \n",
    "    titles: List of titles corresponding to each image. Must have\n",
    "            the same length as titles.\n",
    "    \"\"\"\n",
    "    assert((titles is None)or (len(images) == len(titles)))\n",
    "    n_images = len(images)\n",
    "    if titles is None: titles = ['Image (%d)' % i for i in range(1,n_images + 1)]\n",
    "    fig = plt.figure()\n",
    "    for n, (image, title) in enumerate(zip(images, titles)):\n",
    "        a = fig.add_subplot(cols, np.ceil(n_images/float(cols)), n + 1)\n",
    "#         if image.ndim == 2:\n",
    "#             plt.gray()\n",
    "        plt.imshow(image)\n",
    "        a.set_title(title)\n",
    "    fig.set_size_inches(np.array(fig.get_size_inches()) * n_images)\n",
    "    plt.show()\n",
    "    \n",
    "def load_sparse_csr(filename):\n",
    "    # Sparse matrix reading function to read our raw .npz files\n",
    "    assert filename.endswith('.npz')\n",
    "    loader = np.load(filename)  # filename must end with .npz\n",
    "    return scipy.sparse.csr_matrix((loader['data'], loader['indices'], loader['indptr']),\n",
    "                      shape=loader['shape'])\n",
    "\n",
    "def get_raw_pixel_classes():\n",
    "    #import nibabel as nib\n",
    "    base_data_dir = \"/home/jessica/Documents/hart-seg-ml/allrawnifti\"\n",
    "    example_segmentation = os.path.join(base_data_dir, 'trial8_30_fs_seg_ak5_lh4_TRANS.nii')\n",
    "    scan_voxel = nib.load(example_segmentation)\n",
    "    struct_arr = scan_voxel.get_data()\n",
    "    n, h, w = struct_arr.shape\n",
    "    class_labels = list(np.unique(struct_arr))\n",
    "    \n",
    "def check_one_hot(encoded_img):\n",
    "    print(encoded_img.shape)\n",
    "    return np.all(np.sum(encoded_img, axis=2) == 1.)\n",
    "\n",
    "def batch_img_resize(images, h = 256, w = 256):\n",
    "    images_resized = np.zeros([0, newHeight, newWidth], dtype=np.uint8)\n",
    "    for image in range(images.shape[0]):\n",
    "        temp = imresize(images[image], [h, w], 'nearest')\n",
    "        images_resized = np.append(images_resized, np.expand_dims(temp, axis=0), axis=0)\n",
    "    return images_resized"
   ]
  },
  {
   "cell_type": "code",
   "execution_count": 6,
   "metadata": {},
   "outputs": [
    {
     "name": "stdout",
     "output_type": "stream",
     "text": [
      "/home/jessica/Documents/hart-seg-ml/trial8_30_fs/trial8_30_fs\n",
      "0_label.png\n",
      "0_raw.npz\n",
      "100_label.png\n",
      "100_raw.npz\n",
      "101_label.png\n",
      "101_raw.npz\n",
      "102_label.png\n",
      "102_raw.npz\n",
      "103_label.png\n",
      "103_raw.npz\n",
      "104_label.png\n",
      "104_raw.npz\n",
      "105_label.png\n",
      "105_raw.npz\n",
      "106_label.png\n",
      "106_raw.npz\n",
      "107_label.png\n",
      "107_raw.npz\n",
      "108_label.png\n",
      "108_raw.npz\n",
      "109_label.png\n",
      "109_raw.npz\n",
      "10_label.png\n",
      "10_raw.npz\n",
      "110_label.png\n",
      "110_raw.npz\n",
      "111_label.png\n",
      "111_raw.npz\n",
      "112_label.png\n",
      "112_raw.npz\n",
      "113_label.png\n",
      "113_raw.npz\n",
      "114_label.png\n",
      "114_raw.npz\n",
      "115_label.png\n",
      "115_raw.npz\n",
      "116_label.png\n",
      "116_raw.npz\n",
      "117_label.png\n",
      "117_raw.npz\n",
      "118_label.png\n",
      "118_raw.npz\n",
      "119_label.png\n",
      "119_raw.npz\n",
      "11_label.png\n",
      "11_raw.npz\n",
      "120_label.png\n",
      "120_raw.npz\n",
      "121_label.png\n",
      "121_raw.npz\n",
      "122_label.png\n",
      "122_raw.npz\n",
      "123_label.png\n",
      "123_raw.npz\n",
      "124_label.png\n",
      "124_raw.npz\n",
      "125_label.png\n",
      "125_raw.npz\n",
      "126_label.png\n",
      "126_raw.npz\n",
      "127_label.png\n",
      "127_raw.npz\n",
      "128_label.png\n",
      "128_raw.npz\n",
      "129_label.png\n",
      "129_raw.npz\n",
      "12_label.png\n",
      "12_raw.npz\n",
      "130_label.png\n",
      "130_raw.npz\n",
      "131_label.png\n",
      "131_raw.npz\n",
      "132_label.png\n",
      "132_raw.npz\n",
      "133_label.png\n",
      "133_raw.npz\n",
      "134_label.png\n",
      "134_raw.npz\n",
      "135_label.png\n",
      "135_raw.npz\n",
      "136_label.png\n",
      "136_raw.npz\n",
      "137_label.png\n",
      "137_raw.npz\n",
      "138_label.png\n",
      "138_raw.npz\n",
      "139_label.png\n",
      "139_raw.npz\n",
      "13_label.png\n",
      "13_raw.npz\n",
      "140_label.png\n",
      "140_raw.npz\n",
      "141_label.png\n",
      "141_raw.npz\n",
      "142_label.png\n",
      "142_raw.npz\n",
      "143_label.png\n",
      "143_raw.npz\n",
      "144_label.png\n",
      "144_raw.npz\n",
      "145_label.png\n",
      "145_raw.npz\n",
      "146_label.png\n",
      "146_raw.npz\n",
      "147_label.png\n",
      "147_raw.npz\n",
      "148_label.png\n",
      "148_raw.npz\n",
      "149_label.png\n",
      "149_raw.npz\n",
      "14_label.png\n",
      "14_raw.npz\n",
      "150_label.png\n",
      "150_raw.npz\n",
      "151_label.png\n",
      "151_raw.npz\n",
      "152_label.png\n",
      "152_raw.npz\n",
      "153_label.png\n",
      "153_raw.npz\n",
      "154_label.png\n",
      "154_raw.npz\n",
      "155_label.png\n",
      "155_raw.npz\n",
      "156_label.png\n",
      "156_raw.npz\n",
      "157_label.png\n",
      "157_raw.npz\n",
      "158_label.png\n",
      "158_raw.npz\n",
      "159_label.png\n",
      "159_raw.npz\n",
      "15_label.png\n",
      "15_raw.npz\n",
      "160_label.png\n",
      "160_raw.npz\n",
      "161_label.png\n",
      "161_raw.npz\n",
      "162_label.png\n",
      "162_raw.npz\n",
      "163_label.png\n",
      "163_raw.npz\n",
      "164_label.png\n",
      "164_raw.npz\n",
      "165_label.png\n",
      "165_raw.npz\n",
      "166_label.png\n",
      "166_raw.npz\n",
      "167_label.png\n",
      "167_raw.npz\n",
      "168_label.png\n",
      "168_raw.npz\n",
      "169_label.png\n",
      "169_raw.npz\n",
      "16_label.png\n",
      "16_raw.npz\n",
      "170_label.png\n",
      "170_raw.npz\n",
      "171_label.png\n",
      "171_raw.npz\n",
      "172_label.png\n",
      "172_raw.npz\n",
      "173_label.png\n",
      "173_raw.npz\n",
      "174_label.png\n",
      "174_raw.npz\n",
      "175_label.png\n",
      "175_raw.npz\n",
      "176_label.png\n",
      "176_raw.npz\n",
      "177_label.png\n",
      "177_raw.npz\n",
      "178_label.png\n",
      "178_raw.npz\n",
      "179_label.png\n",
      "179_raw.npz\n",
      "17_label.png\n",
      "17_raw.npz\n",
      "180_label.png\n",
      "180_raw.npz\n",
      "181_label.png\n",
      "181_raw.npz\n",
      "182_label.png\n",
      "182_raw.npz\n",
      "183_label.png\n",
      "183_raw.npz\n",
      "184_label.png\n",
      "184_raw.npz\n",
      "185_label.png\n",
      "185_raw.npz\n",
      "186_label.png\n",
      "186_raw.npz\n",
      "187_label.png\n",
      "187_raw.npz\n",
      "188_label.png\n",
      "188_raw.npz\n",
      "189_label.png\n",
      "189_raw.npz\n",
      "18_label.png\n",
      "18_raw.npz\n",
      "190_label.png\n",
      "190_raw.npz\n",
      "191_label.png\n",
      "191_raw.npz\n",
      "192_label.png\n",
      "192_raw.npz\n",
      "193_label.png\n",
      "193_raw.npz\n",
      "194_label.png\n",
      "194_raw.npz\n",
      "195_label.png\n",
      "195_raw.npz\n",
      "196_label.png\n",
      "196_raw.npz\n",
      "197_label.png\n",
      "197_raw.npz\n",
      "198_label.png\n",
      "198_raw.npz\n",
      "199_label.png\n",
      "199_raw.npz\n",
      "19_label.png\n",
      "19_raw.npz\n",
      "1_label.png\n",
      "1_raw.npz\n",
      "200_label.png\n",
      "200_raw.npz\n",
      "201_label.png\n",
      "201_raw.npz\n",
      "202_label.png\n",
      "202_raw.npz\n",
      "203_label.png\n",
      "203_raw.npz\n",
      "204_label.png\n",
      "204_raw.npz\n",
      "205_label.png\n",
      "205_raw.npz\n",
      "206_label.png\n",
      "206_raw.npz\n",
      "207_label.png\n",
      "207_raw.npz\n",
      "208_label.png\n",
      "208_raw.npz\n",
      "209_label.png\n",
      "209_raw.npz\n",
      "20_label.png\n",
      "20_raw.npz\n",
      "210_label.png\n",
      "210_raw.npz\n",
      "211_label.png\n",
      "211_raw.npz\n",
      "212_label.png\n",
      "212_raw.npz\n",
      "213_label.png\n",
      "213_raw.npz\n",
      "214_label.png\n",
      "214_raw.npz\n",
      "215_label.png\n",
      "215_raw.npz\n",
      "216_label.png\n",
      "216_raw.npz\n",
      "217_label.png\n",
      "217_raw.npz\n",
      "218_label.png\n",
      "218_raw.npz\n",
      "219_label.png\n",
      "219_raw.npz\n",
      "21_label.png\n",
      "21_raw.npz\n",
      "220_label.png\n",
      "220_raw.npz\n",
      "221_label.png\n",
      "221_raw.npz\n",
      "222_label.png\n",
      "222_raw.npz\n",
      "223_label.png\n",
      "223_raw.npz\n",
      "224_label.png\n",
      "224_raw.npz\n",
      "225_label.png\n",
      "225_raw.npz\n",
      "226_label.png\n",
      "226_raw.npz\n",
      "227_label.png\n",
      "227_raw.npz\n",
      "228_label.png\n",
      "228_raw.npz\n",
      "229_label.png\n",
      "229_raw.npz\n",
      "22_label.png\n",
      "22_raw.npz\n",
      "230_label.png\n",
      "230_raw.npz\n",
      "231_label.png\n",
      "231_raw.npz\n",
      "232_label.png\n",
      "232_raw.npz\n",
      "233_label.png\n",
      "233_raw.npz\n",
      "234_label.png\n",
      "234_raw.npz\n",
      "235_label.png\n",
      "235_raw.npz\n",
      "236_label.png\n",
      "236_raw.npz\n",
      "237_label.png\n",
      "237_raw.npz\n",
      "238_label.png\n",
      "238_raw.npz\n",
      "239_label.png\n",
      "239_raw.npz\n",
      "23_label.png\n",
      "23_raw.npz\n",
      "240_label.png\n",
      "240_raw.npz\n",
      "241_label.png\n",
      "241_raw.npz\n",
      "242_label.png\n",
      "242_raw.npz\n",
      "243_label.png\n",
      "243_raw.npz\n",
      "244_label.png\n",
      "244_raw.npz\n",
      "245_label.png\n",
      "245_raw.npz\n",
      "246_label.png\n",
      "246_raw.npz\n",
      "247_label.png\n",
      "247_raw.npz\n",
      "248_label.png\n",
      "248_raw.npz\n",
      "249_label.png\n",
      "249_raw.npz\n",
      "24_label.png\n",
      "24_raw.npz\n",
      "250_label.png\n",
      "250_raw.npz\n",
      "251_label.png\n",
      "251_raw.npz\n",
      "252_label.png\n",
      "252_raw.npz\n",
      "253_label.png\n",
      "253_raw.npz\n",
      "254_label.png\n",
      "254_raw.npz\n",
      "255_label.png\n",
      "255_raw.npz\n",
      "256_label.png\n",
      "256_raw.npz\n",
      "257_label.png\n",
      "257_raw.npz\n",
      "258_label.png\n",
      "258_raw.npz\n",
      "259_label.png\n",
      "259_raw.npz\n",
      "25_label.png\n",
      "25_raw.npz\n",
      "260_label.png\n",
      "260_raw.npz\n",
      "261_label.png\n",
      "261_raw.npz\n",
      "262_label.png\n",
      "262_raw.npz\n",
      "263_label.png\n",
      "263_raw.npz\n",
      "264_label.png\n",
      "264_raw.npz\n",
      "265_label.png\n",
      "265_raw.npz\n",
      "266_label.png\n",
      "266_raw.npz\n",
      "267_label.png\n",
      "267_raw.npz\n",
      "268_label.png\n",
      "268_raw.npz\n",
      "269_label.png\n",
      "269_raw.npz\n",
      "26_label.png\n",
      "26_raw.npz\n",
      "270_label.png\n",
      "270_raw.npz\n",
      "271_label.png\n",
      "271_raw.npz\n",
      "272_label.png\n",
      "272_raw.npz\n",
      "273_label.png\n",
      "273_raw.npz\n",
      "274_label.png\n",
      "274_raw.npz\n",
      "275_label.png\n",
      "275_raw.npz\n",
      "276_label.png\n",
      "276_raw.npz\n",
      "277_label.png\n",
      "277_raw.npz\n",
      "278_label.png\n",
      "278_raw.npz\n",
      "279_label.png\n",
      "279_raw.npz\n",
      "27_label.png\n",
      "27_raw.npz\n",
      "280_label.png\n",
      "280_raw.npz\n",
      "281_label.png\n",
      "281_raw.npz\n",
      "282_label.png\n",
      "282_raw.npz\n",
      "283_label.png\n",
      "283_raw.npz\n",
      "284_label.png\n",
      "284_raw.npz\n",
      "285_label.png\n",
      "285_raw.npz\n",
      "286_label.png\n",
      "286_raw.npz\n",
      "287_label.png\n",
      "287_raw.npz\n",
      "288_label.png\n",
      "288_raw.npz\n",
      "289_label.png\n",
      "289_raw.npz\n",
      "28_label.png\n",
      "28_raw.npz\n",
      "290_label.png\n",
      "290_raw.npz\n",
      "291_label.png\n",
      "291_raw.npz\n",
      "292_label.png\n",
      "292_raw.npz\n",
      "293_label.png\n",
      "293_raw.npz\n",
      "294_label.png\n",
      "294_raw.npz\n",
      "295_label.png\n",
      "295_raw.npz\n",
      "296_label.png\n",
      "296_raw.npz\n",
      "297_label.png\n",
      "297_raw.npz\n",
      "298_label.png\n",
      "298_raw.npz\n",
      "299_label.png\n",
      "299_raw.npz\n",
      "29_label.png\n",
      "29_raw.npz\n",
      "2_label.png\n",
      "2_raw.npz\n",
      "300_label.png\n",
      "300_raw.npz\n",
      "301_label.png\n",
      "301_raw.npz\n",
      "302_label.png\n",
      "302_raw.npz\n",
      "303_label.png\n",
      "303_raw.npz\n",
      "304_label.png\n",
      "304_raw.npz\n",
      "305_label.png\n",
      "305_raw.npz\n",
      "306_label.png\n",
      "306_raw.npz\n",
      "307_label.png\n",
      "307_raw.npz\n",
      "308_label.png\n",
      "308_raw.npz\n",
      "309_label.png\n",
      "309_raw.npz\n",
      "30_label.png\n",
      "30_raw.npz\n",
      "310_label.png\n",
      "310_raw.npz\n",
      "311_label.png\n",
      "311_raw.npz\n",
      "312_label.png\n",
      "312_raw.npz\n",
      "313_label.png\n",
      "313_raw.npz\n",
      "314_label.png\n",
      "314_raw.npz\n",
      "315_label.png\n",
      "315_raw.npz\n",
      "316_label.png\n",
      "316_raw.npz\n",
      "317_label.png\n",
      "317_raw.npz\n",
      "318_label.png\n",
      "318_raw.npz\n",
      "319_label.png\n",
      "319_raw.npz\n",
      "31_label.png\n",
      "31_raw.npz\n",
      "320_label.png\n",
      "320_raw.npz\n",
      "321_label.png\n",
      "321_raw.npz\n",
      "322_label.png\n",
      "322_raw.npz\n",
      "323_label.png\n",
      "323_raw.npz\n",
      "324_label.png\n",
      "324_raw.npz\n",
      "325_label.png\n",
      "325_raw.npz\n",
      "326_label.png\n",
      "326_raw.npz\n",
      "327_label.png\n",
      "327_raw.npz\n",
      "328_label.png\n",
      "328_raw.npz\n",
      "329_label.png\n",
      "329_raw.npz\n",
      "32_label.png\n",
      "32_raw.npz\n",
      "330_label.png\n",
      "330_raw.npz\n",
      "331_label.png\n",
      "331_raw.npz\n",
      "332_label.png\n",
      "332_raw.npz\n",
      "333_label.png\n",
      "333_raw.npz\n",
      "334_label.png\n",
      "334_raw.npz\n",
      "335_label.png\n",
      "335_raw.npz\n",
      "336_label.png\n",
      "336_raw.npz\n",
      "337_label.png\n",
      "337_raw.npz\n",
      "338_label.png\n",
      "338_raw.npz\n",
      "339_label.png\n",
      "339_raw.npz\n",
      "33_label.png\n",
      "33_raw.npz\n",
      "340_label.png\n",
      "340_raw.npz\n",
      "341_label.png\n",
      "341_raw.npz\n",
      "342_label.png\n",
      "342_raw.npz\n",
      "343_label.png\n",
      "343_raw.npz\n",
      "344_label.png\n",
      "344_raw.npz\n",
      "345_label.png\n",
      "345_raw.npz\n",
      "346_label.png\n",
      "346_raw.npz\n",
      "347_label.png\n",
      "347_raw.npz\n",
      "348_label.png\n",
      "348_raw.npz\n",
      "349_label.png\n",
      "349_raw.npz\n",
      "34_label.png\n",
      "34_raw.npz\n",
      "350_label.png\n",
      "350_raw.npz\n",
      "351_label.png\n",
      "351_raw.npz\n",
      "352_label.png\n",
      "352_raw.npz\n",
      "353_label.png\n",
      "353_raw.npz\n",
      "354_label.png\n",
      "354_raw.npz\n",
      "355_label.png\n",
      "355_raw.npz\n",
      "356_label.png\n",
      "356_raw.npz\n",
      "357_label.png\n",
      "357_raw.npz\n",
      "358_label.png\n",
      "358_raw.npz\n",
      "359_label.png\n",
      "359_raw.npz\n",
      "35_label.png\n",
      "35_raw.npz\n",
      "360_label.png\n",
      "360_raw.npz\n",
      "361_label.png\n",
      "361_raw.npz\n",
      "362_label.png\n",
      "362_raw.npz\n",
      "363_label.png\n",
      "363_raw.npz\n",
      "364_label.png\n",
      "364_raw.npz\n",
      "365_label.png\n",
      "365_raw.npz\n",
      "366_label.png\n",
      "366_raw.npz\n",
      "367_label.png\n",
      "367_raw.npz\n",
      "368_label.png\n",
      "368_raw.npz\n",
      "369_label.png\n",
      "369_raw.npz\n",
      "36_label.png\n",
      "36_raw.npz\n",
      "370_label.png\n",
      "370_raw.npz\n",
      "371_label.png\n",
      "371_raw.npz\n",
      "372_label.png\n",
      "372_raw.npz\n",
      "373_label.png\n",
      "373_raw.npz\n",
      "374_label.png\n",
      "374_raw.npz\n",
      "375_label.png\n",
      "375_raw.npz\n",
      "376_label.png\n",
      "376_raw.npz\n",
      "377_label.png\n",
      "377_raw.npz\n",
      "378_label.png\n",
      "378_raw.npz\n",
      "379_label.png\n",
      "379_raw.npz\n",
      "37_label.png\n",
      "37_raw.npz\n",
      "380_label.png\n",
      "380_raw.npz\n",
      "381_label.png\n",
      "381_raw.npz\n",
      "382_label.png\n",
      "382_raw.npz\n",
      "383_label.png\n",
      "383_raw.npz\n",
      "384_label.png\n",
      "384_raw.npz\n",
      "385_label.png\n",
      "385_raw.npz\n",
      "386_label.png\n",
      "386_raw.npz\n",
      "387_label.png\n",
      "387_raw.npz\n",
      "388_label.png\n",
      "388_raw.npz\n",
      "389_label.png\n",
      "389_raw.npz\n",
      "38_label.png\n",
      "38_raw.npz\n",
      "390_label.png\n",
      "390_raw.npz\n",
      "391_label.png\n",
      "391_raw.npz\n",
      "392_label.png\n",
      "392_raw.npz\n",
      "393_label.png\n",
      "393_raw.npz\n",
      "394_label.png\n",
      "394_raw.npz\n",
      "395_label.png\n",
      "395_raw.npz\n",
      "396_label.png\n",
      "396_raw.npz\n",
      "397_label.png\n",
      "397_raw.npz\n",
      "398_label.png\n",
      "398_raw.npz\n",
      "399_label.png\n",
      "399_raw.npz\n",
      "39_label.png\n",
      "39_raw.npz\n",
      "3_label.png\n",
      "3_raw.npz\n",
      "400_label.png\n",
      "400_raw.npz\n",
      "401_label.png\n",
      "401_raw.npz\n",
      "402_label.png\n",
      "402_raw.npz\n",
      "403_label.png\n",
      "403_raw.npz\n",
      "404_label.png\n",
      "404_raw.npz\n",
      "405_label.png\n",
      "405_raw.npz\n",
      "406_label.png\n",
      "406_raw.npz\n",
      "407_label.png\n",
      "407_raw.npz\n",
      "408_label.png\n",
      "408_raw.npz\n",
      "409_label.png\n",
      "409_raw.npz\n",
      "40_label.png\n",
      "40_raw.npz\n",
      "410_label.png\n",
      "410_raw.npz\n",
      "411_label.png\n",
      "411_raw.npz\n",
      "412_label.png\n",
      "412_raw.npz\n",
      "413_label.png\n",
      "413_raw.npz\n",
      "414_label.png\n",
      "414_raw.npz\n",
      "415_label.png\n",
      "415_raw.npz\n",
      "416_label.png\n",
      "416_raw.npz\n",
      "417_label.png\n",
      "417_raw.npz\n",
      "418_label.png\n",
      "418_raw.npz\n",
      "419_label.png\n",
      "419_raw.npz\n",
      "41_label.png\n",
      "41_raw.npz\n",
      "420_label.png\n",
      "420_raw.npz\n",
      "421_label.png\n",
      "421_raw.npz\n",
      "422_label.png\n",
      "422_raw.npz\n",
      "423_label.png\n",
      "423_raw.npz\n",
      "424_label.png\n",
      "424_raw.npz\n",
      "425_label.png\n",
      "425_raw.npz\n",
      "426_label.png\n",
      "426_raw.npz\n",
      "427_label.png\n",
      "427_raw.npz\n",
      "428_label.png\n",
      "428_raw.npz\n",
      "429_label.png\n",
      "429_raw.npz\n",
      "42_label.png\n",
      "42_raw.npz\n",
      "430_label.png\n",
      "430_raw.npz\n",
      "431_label.png\n",
      "431_raw.npz\n",
      "432_label.png\n",
      "432_raw.npz\n",
      "433_label.png\n",
      "433_raw.npz\n",
      "434_label.png\n",
      "434_raw.npz\n",
      "435_label.png\n",
      "435_raw.npz\n",
      "436_label.png\n",
      "436_raw.npz\n",
      "437_label.png\n",
      "437_raw.npz\n",
      "438_label.png\n",
      "438_raw.npz\n",
      "439_label.png\n",
      "439_raw.npz\n",
      "43_label.png\n",
      "43_raw.npz\n",
      "440_label.png\n",
      "440_raw.npz\n",
      "441_label.png\n",
      "441_raw.npz\n",
      "442_label.png\n",
      "442_raw.npz\n",
      "443_label.png\n",
      "443_raw.npz\n",
      "444_label.png\n",
      "444_raw.npz\n",
      "445_label.png\n",
      "445_raw.npz\n",
      "446_label.png\n",
      "446_raw.npz\n",
      "447_label.png\n",
      "447_raw.npz\n",
      "448_label.png\n",
      "448_raw.npz\n",
      "449_label.png\n",
      "449_raw.npz\n",
      "44_label.png\n",
      "44_raw.npz\n",
      "450_label.png\n",
      "450_raw.npz\n",
      "451_label.png\n",
      "451_raw.npz\n",
      "452_label.png\n",
      "452_raw.npz\n",
      "453_label.png\n",
      "453_raw.npz\n",
      "454_label.png\n",
      "454_raw.npz\n",
      "455_label.png\n",
      "455_raw.npz\n",
      "456_label.png\n",
      "456_raw.npz\n",
      "457_label.png\n",
      "457_raw.npz\n",
      "458_label.png\n",
      "458_raw.npz\n",
      "459_label.png\n",
      "459_raw.npz\n",
      "45_label.png\n",
      "45_raw.npz\n",
      "460_label.png\n",
      "460_raw.npz\n",
      "461_label.png\n",
      "461_raw.npz\n",
      "462_label.png\n",
      "462_raw.npz\n",
      "463_label.png\n",
      "463_raw.npz\n",
      "464_label.png\n",
      "464_raw.npz\n",
      "465_label.png\n",
      "465_raw.npz\n",
      "466_label.png\n",
      "466_raw.npz\n",
      "467_label.png\n",
      "467_raw.npz\n",
      "468_label.png\n",
      "468_raw.npz\n",
      "469_label.png\n",
      "469_raw.npz\n",
      "46_label.png\n",
      "46_raw.npz\n",
      "470_label.png\n",
      "470_raw.npz\n",
      "471_label.png\n",
      "471_raw.npz\n",
      "472_label.png\n",
      "472_raw.npz\n",
      "473_label.png\n",
      "473_raw.npz\n",
      "474_label.png\n",
      "474_raw.npz\n",
      "475_label.png\n",
      "475_raw.npz\n",
      "476_label.png\n",
      "476_raw.npz\n",
      "477_label.png\n",
      "477_raw.npz\n",
      "478_label.png\n",
      "478_raw.npz\n",
      "479_label.png\n",
      "479_raw.npz\n",
      "47_label.png\n",
      "47_raw.npz\n",
      "480_label.png\n",
      "480_raw.npz\n",
      "481_label.png\n",
      "481_raw.npz\n",
      "482_label.png\n",
      "482_raw.npz\n",
      "483_label.png\n",
      "483_raw.npz\n",
      "484_label.png\n",
      "484_raw.npz\n",
      "485_label.png\n",
      "485_raw.npz\n",
      "486_label.png\n",
      "486_raw.npz\n",
      "487_label.png\n",
      "487_raw.npz\n",
      "488_label.png\n",
      "488_raw.npz\n",
      "489_label.png\n",
      "489_raw.npz\n",
      "48_label.png\n",
      "48_raw.npz\n",
      "490_label.png\n",
      "490_raw.npz\n",
      "491_label.png\n",
      "491_raw.npz\n",
      "492_label.png\n",
      "492_raw.npz\n",
      "493_label.png\n",
      "493_raw.npz\n",
      "494_label.png\n",
      "494_raw.npz\n",
      "495_label.png\n",
      "495_raw.npz\n",
      "496_label.png\n",
      "496_raw.npz\n",
      "497_label.png\n",
      "497_raw.npz\n",
      "498_label.png\n",
      "498_raw.npz\n",
      "499_label.png\n",
      "499_raw.npz\n",
      "49_label.png\n",
      "49_raw.npz\n",
      "4_label.png\n",
      "4_raw.npz\n",
      "500_label.png\n",
      "500_raw.npz\n",
      "501_label.png\n",
      "501_raw.npz\n",
      "502_label.png\n",
      "502_raw.npz\n",
      "503_label.png\n",
      "503_raw.npz\n",
      "504_label.png\n",
      "504_raw.npz\n",
      "505_label.png\n",
      "505_raw.npz\n",
      "506_label.png\n",
      "506_raw.npz\n",
      "507_label.png\n",
      "507_raw.npz\n",
      "508_label.png\n",
      "508_raw.npz\n",
      "509_label.png\n",
      "509_raw.npz\n",
      "50_label.png\n",
      "50_raw.npz\n",
      "510_label.png\n",
      "510_raw.npz\n",
      "511_label.png\n",
      "511_raw.npz\n",
      "512_label.png\n",
      "512_raw.npz\n",
      "513_label.png\n",
      "513_raw.npz\n",
      "514_label.png\n",
      "514_raw.npz\n",
      "515_label.png\n",
      "515_raw.npz\n",
      "516_label.png\n",
      "516_raw.npz\n",
      "517_label.png\n",
      "517_raw.npz\n",
      "518_label.png\n",
      "518_raw.npz\n",
      "519_label.png\n",
      "519_raw.npz\n",
      "51_label.png\n",
      "51_raw.npz\n",
      "520_label.png\n",
      "520_raw.npz\n",
      "521_label.png\n",
      "521_raw.npz\n",
      "522_label.png\n",
      "522_raw.npz\n",
      "523_label.png\n",
      "523_raw.npz\n",
      "524_label.png\n",
      "524_raw.npz\n",
      "525_label.png\n",
      "525_raw.npz\n",
      "526_label.png\n",
      "526_raw.npz\n",
      "527_label.png\n",
      "527_raw.npz\n",
      "528_label.png\n",
      "528_raw.npz\n",
      "529_label.png\n",
      "529_raw.npz\n",
      "52_label.png\n",
      "52_raw.npz\n",
      "530_label.png\n",
      "530_raw.npz\n",
      "531_label.png\n",
      "531_raw.npz\n",
      "532_label.png\n",
      "532_raw.npz\n",
      "533_label.png\n",
      "533_raw.npz\n",
      "534_label.png\n",
      "534_raw.npz\n",
      "535_label.png\n",
      "535_raw.npz\n",
      "536_label.png\n",
      "536_raw.npz\n",
      "537_label.png\n",
      "537_raw.npz\n",
      "538_label.png\n",
      "538_raw.npz\n",
      "539_label.png\n",
      "539_raw.npz\n",
      "53_label.png\n",
      "53_raw.npz\n",
      "540_label.png\n",
      "540_raw.npz\n",
      "541_label.png\n",
      "541_raw.npz\n",
      "542_label.png\n",
      "542_raw.npz\n",
      "543_label.png\n",
      "543_raw.npz\n",
      "544_label.png\n",
      "544_raw.npz\n",
      "545_label.png\n",
      "545_raw.npz\n",
      "546_label.png\n",
      "546_raw.npz\n",
      "547_label.png\n",
      "547_raw.npz\n",
      "548_label.png\n",
      "548_raw.npz\n",
      "549_label.png\n",
      "549_raw.npz\n",
      "54_label.png\n",
      "54_raw.npz\n",
      "550_label.png\n",
      "550_raw.npz\n",
      "551_label.png\n",
      "551_raw.npz\n",
      "552_label.png\n",
      "552_raw.npz\n",
      "553_label.png\n",
      "553_raw.npz\n",
      "554_label.png\n",
      "554_raw.npz\n",
      "555_label.png\n",
      "555_raw.npz\n",
      "556_label.png\n",
      "556_raw.npz\n",
      "557_label.png\n",
      "557_raw.npz\n",
      "558_label.png\n",
      "558_raw.npz\n",
      "559_label.png\n",
      "559_raw.npz\n",
      "55_label.png\n",
      "55_raw.npz\n",
      "560_label.png\n",
      "560_raw.npz\n",
      "561_label.png\n",
      "561_raw.npz\n",
      "562_label.png\n",
      "562_raw.npz\n",
      "563_label.png\n",
      "563_raw.npz\n",
      "564_label.png\n",
      "564_raw.npz\n",
      "565_label.png\n",
      "565_raw.npz\n",
      "566_label.png\n",
      "566_raw.npz\n",
      "567_label.png\n",
      "567_raw.npz\n",
      "568_label.png\n",
      "568_raw.npz\n",
      "569_label.png\n",
      "569_raw.npz\n",
      "56_label.png\n",
      "56_raw.npz\n",
      "570_label.png\n",
      "570_raw.npz\n",
      "571_label.png\n",
      "571_raw.npz\n",
      "572_label.png\n",
      "572_raw.npz\n",
      "573_label.png\n",
      "573_raw.npz\n",
      "574_label.png\n",
      "574_raw.npz\n",
      "575_label.png\n",
      "575_raw.npz\n",
      "576_label.png\n",
      "576_raw.npz\n",
      "577_label.png\n",
      "577_raw.npz\n",
      "578_label.png\n",
      "578_raw.npz\n",
      "579_label.png\n",
      "579_raw.npz\n",
      "57_label.png\n",
      "57_raw.npz\n",
      "580_label.png\n",
      "580_raw.npz\n",
      "581_label.png\n",
      "581_raw.npz\n",
      "582_label.png\n",
      "582_raw.npz\n",
      "583_label.png\n",
      "583_raw.npz\n",
      "584_label.png\n",
      "584_raw.npz\n",
      "585_label.png\n",
      "585_raw.npz\n",
      "586_label.png\n",
      "586_raw.npz\n",
      "587_label.png\n",
      "587_raw.npz\n",
      "588_label.png\n",
      "588_raw.npz\n",
      "589_label.png\n",
      "589_raw.npz\n",
      "58_label.png\n",
      "58_raw.npz\n",
      "590_label.png\n",
      "590_raw.npz\n",
      "591_label.png\n",
      "591_raw.npz\n",
      "592_label.png\n",
      "592_raw.npz\n",
      "593_label.png\n",
      "593_raw.npz\n",
      "594_label.png\n",
      "594_raw.npz\n",
      "595_label.png\n",
      "595_raw.npz\n",
      "596_label.png\n",
      "596_raw.npz\n",
      "597_label.png\n",
      "597_raw.npz\n",
      "598_label.png\n",
      "598_raw.npz\n",
      "599_label.png\n",
      "599_raw.npz\n",
      "59_label.png\n",
      "59_raw.npz\n",
      "5_label.png\n",
      "5_raw.npz\n",
      "600_label.png\n",
      "600_raw.npz\n",
      "601_label.png\n",
      "601_raw.npz\n",
      "602_label.png\n",
      "602_raw.npz\n",
      "603_label.png\n",
      "603_raw.npz\n",
      "604_label.png\n",
      "604_raw.npz\n",
      "605_label.png\n",
      "605_raw.npz\n",
      "606_label.png\n",
      "606_raw.npz\n",
      "607_label.png\n",
      "607_raw.npz\n",
      "608_label.png\n",
      "608_raw.npz\n",
      "609_label.png\n",
      "609_raw.npz\n",
      "60_label.png\n",
      "60_raw.npz\n",
      "610_label.png\n",
      "610_raw.npz\n",
      "611_label.png\n",
      "611_raw.npz\n",
      "612_label.png\n",
      "612_raw.npz\n",
      "613_label.png\n",
      "613_raw.npz\n",
      "614_label.png\n",
      "614_raw.npz\n",
      "615_label.png\n",
      "615_raw.npz\n",
      "616_label.png\n",
      "616_raw.npz\n",
      "617_label.png\n",
      "617_raw.npz\n",
      "618_label.png\n",
      "618_raw.npz\n",
      "619_label.png\n",
      "619_raw.npz\n",
      "61_label.png\n",
      "61_raw.npz\n",
      "620_label.png\n",
      "620_raw.npz\n",
      "621_label.png\n",
      "621_raw.npz\n",
      "622_label.png\n",
      "622_raw.npz\n",
      "623_label.png\n",
      "623_raw.npz\n",
      "624_label.png\n",
      "624_raw.npz\n",
      "625_label.png\n",
      "625_raw.npz\n",
      "626_label.png\n",
      "626_raw.npz\n",
      "627_label.png\n",
      "627_raw.npz\n",
      "628_label.png\n",
      "628_raw.npz\n",
      "629_label.png\n",
      "629_raw.npz\n",
      "62_label.png\n",
      "62_raw.npz\n",
      "630_label.png\n",
      "630_raw.npz\n",
      "631_label.png\n",
      "631_raw.npz\n",
      "632_label.png\n",
      "632_raw.npz\n",
      "633_label.png\n",
      "633_raw.npz\n",
      "634_label.png\n",
      "634_raw.npz\n",
      "635_label.png\n",
      "635_raw.npz\n",
      "636_label.png\n",
      "636_raw.npz\n",
      "637_label.png\n",
      "637_raw.npz\n",
      "638_label.png\n",
      "638_raw.npz\n",
      "639_label.png\n",
      "639_raw.npz\n",
      "63_label.png\n",
      "63_raw.npz\n",
      "640_label.png\n",
      "640_raw.npz\n",
      "641_label.png\n",
      "641_raw.npz\n",
      "642_label.png\n",
      "642_raw.npz\n",
      "643_label.png\n",
      "643_raw.npz\n",
      "644_label.png\n",
      "644_raw.npz\n",
      "645_label.png\n",
      "645_raw.npz\n",
      "646_label.png\n",
      "646_raw.npz\n",
      "647_label.png\n",
      "647_raw.npz\n",
      "648_label.png\n",
      "648_raw.npz\n",
      "649_label.png\n",
      "649_raw.npz\n",
      "64_label.png\n",
      "64_raw.npz\n",
      "650_label.png\n",
      "650_raw.npz\n",
      "651_label.png\n",
      "651_raw.npz\n",
      "652_label.png\n",
      "652_raw.npz\n",
      "653_label.png\n",
      "653_raw.npz\n",
      "654_label.png\n",
      "654_raw.npz\n",
      "655_label.png\n",
      "655_raw.npz\n",
      "656_label.png\n",
      "656_raw.npz\n",
      "657_label.png\n",
      "657_raw.npz\n",
      "658_label.png\n",
      "658_raw.npz\n",
      "659_label.png\n",
      "659_raw.npz\n",
      "65_label.png\n",
      "65_raw.npz\n",
      "660_label.png\n",
      "660_raw.npz\n",
      "661_label.png\n",
      "661_raw.npz\n",
      "662_label.png\n",
      "662_raw.npz\n",
      "663_label.png\n",
      "663_raw.npz\n",
      "664_label.png\n",
      "664_raw.npz\n",
      "665_label.png\n",
      "665_raw.npz\n",
      "666_label.png\n",
      "666_raw.npz\n",
      "667_label.png\n",
      "667_raw.npz\n",
      "668_label.png\n",
      "668_raw.npz\n",
      "669_label.png\n",
      "669_raw.npz\n",
      "66_label.png\n",
      "66_raw.npz\n",
      "670_label.png\n",
      "670_raw.npz\n",
      "671_label.png\n",
      "671_raw.npz\n",
      "672_label.png\n",
      "672_raw.npz\n",
      "673_label.png\n",
      "673_raw.npz\n",
      "674_label.png\n",
      "674_raw.npz\n",
      "675_label.png\n",
      "675_raw.npz\n",
      "676_label.png\n",
      "676_raw.npz\n",
      "677_label.png\n",
      "677_raw.npz\n",
      "678_label.png\n",
      "678_raw.npz\n",
      "679_label.png\n",
      "679_raw.npz\n",
      "67_label.png\n",
      "67_raw.npz\n",
      "680_label.png\n",
      "680_raw.npz\n",
      "681_label.png\n",
      "681_raw.npz\n",
      "682_label.png\n",
      "682_raw.npz\n",
      "683_label.png\n",
      "683_raw.npz\n",
      "684_label.png\n",
      "684_raw.npz\n",
      "685_label.png\n",
      "685_raw.npz\n",
      "686_label.png\n",
      "686_raw.npz\n",
      "687_label.png\n",
      "687_raw.npz\n",
      "688_label.png\n",
      "688_raw.npz\n",
      "689_label.png\n",
      "689_raw.npz\n",
      "68_label.png\n",
      "68_raw.npz\n",
      "690_label.png\n",
      "690_raw.npz\n",
      "691_label.png\n",
      "691_raw.npz\n",
      "692_label.png\n",
      "692_raw.npz\n",
      "693_label.png\n",
      "693_raw.npz\n",
      "694_label.png\n",
      "694_raw.npz\n",
      "695_label.png\n",
      "695_raw.npz\n",
      "696_label.png\n",
      "696_raw.npz\n",
      "697_label.png\n",
      "697_raw.npz\n",
      "698_label.png\n",
      "698_raw.npz\n",
      "699_label.png\n",
      "699_raw.npz\n",
      "69_label.png\n",
      "69_raw.npz\n",
      "6_label.png\n",
      "6_raw.npz\n",
      "700_label.png\n",
      "700_raw.npz\n",
      "701_label.png\n",
      "701_raw.npz\n",
      "702_label.png\n",
      "702_raw.npz\n",
      "703_label.png\n",
      "703_raw.npz\n",
      "704_label.png\n",
      "704_raw.npz\n",
      "705_label.png\n",
      "705_raw.npz\n",
      "706_label.png\n",
      "706_raw.npz\n",
      "707_label.png\n",
      "707_raw.npz\n",
      "708_label.png\n",
      "708_raw.npz\n",
      "709_label.png\n",
      "709_raw.npz\n",
      "70_label.png\n",
      "70_raw.npz\n",
      "710_label.png\n",
      "710_raw.npz\n",
      "711_label.png\n",
      "711_raw.npz\n",
      "712_label.png\n",
      "712_raw.npz\n",
      "713_label.png\n",
      "713_raw.npz\n",
      "714_label.png\n",
      "714_raw.npz\n",
      "715_label.png\n",
      "715_raw.npz\n",
      "716_label.png\n",
      "716_raw.npz\n",
      "717_label.png\n",
      "717_raw.npz\n",
      "718_label.png\n",
      "718_raw.npz\n",
      "719_label.png\n",
      "719_raw.npz\n",
      "71_label.png\n",
      "71_raw.npz\n",
      "720_label.png\n",
      "720_raw.npz\n",
      "721_label.png\n",
      "721_raw.npz\n",
      "722_label.png\n",
      "722_raw.npz\n",
      "723_label.png\n",
      "723_raw.npz\n",
      "724_label.png\n",
      "724_raw.npz\n",
      "725_label.png\n",
      "725_raw.npz\n",
      "726_label.png\n",
      "726_raw.npz\n",
      "727_label.png\n",
      "727_raw.npz\n",
      "728_label.png\n",
      "728_raw.npz\n",
      "729_label.png\n",
      "729_raw.npz\n",
      "72_label.png\n",
      "72_raw.npz\n",
      "730_label.png\n",
      "730_raw.npz\n",
      "731_label.png\n",
      "731_raw.npz\n",
      "732_label.png\n",
      "732_raw.npz\n",
      "733_label.png\n",
      "733_raw.npz\n",
      "734_label.png\n",
      "734_raw.npz\n",
      "735_label.png\n",
      "735_raw.npz\n",
      "736_label.png\n",
      "736_raw.npz\n",
      "737_label.png\n",
      "737_raw.npz\n",
      "738_label.png\n",
      "738_raw.npz\n",
      "739_label.png\n",
      "739_raw.npz\n",
      "73_label.png\n",
      "73_raw.npz\n",
      "740_label.png\n",
      "740_raw.npz\n",
      "741_label.png\n",
      "741_raw.npz\n",
      "742_label.png\n",
      "742_raw.npz\n",
      "743_label.png\n",
      "743_raw.npz\n",
      "744_label.png\n",
      "744_raw.npz\n",
      "745_label.png\n",
      "745_raw.npz\n",
      "746_label.png\n",
      "746_raw.npz\n",
      "747_label.png\n",
      "747_raw.npz\n",
      "748_label.png\n",
      "748_raw.npz\n",
      "749_label.png\n",
      "749_raw.npz\n",
      "74_label.png\n",
      "74_raw.npz\n",
      "750_label.png\n",
      "750_raw.npz\n",
      "751_label.png\n",
      "751_raw.npz\n",
      "752_label.png\n",
      "752_raw.npz\n",
      "753_label.png\n",
      "753_raw.npz\n",
      "754_label.png\n",
      "754_raw.npz\n",
      "755_label.png\n",
      "755_raw.npz\n",
      "756_label.png\n",
      "756_raw.npz\n",
      "757_label.png\n",
      "757_raw.npz\n",
      "758_label.png\n",
      "758_raw.npz\n",
      "759_label.png\n",
      "759_raw.npz\n",
      "75_label.png\n",
      "75_raw.npz\n",
      "760_label.png\n",
      "760_raw.npz\n",
      "761_label.png\n",
      "761_raw.npz\n",
      "762_label.png\n",
      "762_raw.npz\n",
      "763_label.png\n",
      "763_raw.npz\n",
      "764_label.png\n",
      "764_raw.npz\n",
      "765_label.png\n",
      "765_raw.npz\n",
      "766_label.png\n",
      "766_raw.npz\n",
      "767_label.png\n",
      "767_raw.npz\n",
      "768_label.png\n",
      "768_raw.npz\n",
      "769_label.png\n",
      "769_raw.npz\n",
      "76_label.png\n",
      "76_raw.npz\n",
      "770_label.png\n",
      "770_raw.npz\n",
      "771_label.png\n",
      "771_raw.npz\n",
      "772_label.png\n",
      "772_raw.npz\n",
      "773_label.png\n",
      "773_raw.npz\n",
      "774_label.png\n",
      "774_raw.npz\n",
      "775_label.png\n",
      "775_raw.npz\n",
      "776_label.png\n",
      "776_raw.npz\n",
      "777_label.png\n",
      "777_raw.npz\n",
      "778_label.png\n",
      "778_raw.npz\n",
      "779_label.png\n",
      "779_raw.npz\n",
      "77_label.png\n",
      "77_raw.npz\n",
      "780_label.png\n",
      "780_raw.npz\n",
      "781_label.png\n",
      "781_raw.npz\n",
      "782_label.png\n",
      "782_raw.npz\n",
      "783_label.png\n",
      "783_raw.npz\n",
      "784_label.png\n",
      "784_raw.npz\n",
      "785_label.png\n",
      "785_raw.npz\n",
      "786_label.png\n",
      "786_raw.npz\n",
      "787_label.png\n",
      "787_raw.npz\n",
      "788_label.png\n",
      "788_raw.npz\n",
      "789_label.png\n",
      "789_raw.npz\n",
      "78_label.png\n",
      "78_raw.npz\n",
      "790_label.png\n",
      "790_raw.npz\n",
      "791_label.png\n",
      "791_raw.npz\n",
      "792_label.png\n",
      "792_raw.npz\n",
      "793_label.png\n",
      "793_raw.npz\n",
      "794_label.png\n",
      "794_raw.npz\n",
      "795_label.png\n",
      "795_raw.npz\n",
      "796_label.png\n",
      "796_raw.npz\n",
      "797_label.png\n",
      "797_raw.npz\n",
      "798_label.png\n",
      "798_raw.npz\n",
      "799_label.png\n",
      "799_raw.npz\n",
      "79_label.png\n",
      "79_raw.npz\n",
      "7_label.png\n",
      "7_raw.npz\n",
      "800_label.png\n",
      "800_raw.npz\n",
      "801_label.png\n",
      "801_raw.npz\n",
      "802_label.png\n",
      "802_raw.npz\n",
      "803_label.png\n",
      "803_raw.npz\n",
      "804_label.png\n",
      "804_raw.npz\n",
      "805_label.png\n",
      "805_raw.npz\n",
      "806_label.png\n",
      "806_raw.npz\n",
      "807_label.png\n",
      "807_raw.npz\n",
      "808_label.png\n",
      "808_raw.npz\n",
      "809_label.png\n",
      "809_raw.npz\n",
      "80_label.png\n",
      "80_raw.npz\n",
      "810_label.png\n",
      "810_raw.npz\n",
      "811_label.png\n",
      "811_raw.npz\n",
      "812_label.png\n",
      "812_raw.npz\n",
      "813_label.png\n",
      "813_raw.npz\n",
      "814_label.png\n",
      "814_raw.npz\n",
      "815_label.png\n",
      "815_raw.npz\n",
      "816_label.png\n",
      "816_raw.npz\n",
      "817_label.png\n",
      "817_raw.npz\n",
      "818_label.png\n",
      "818_raw.npz\n",
      "819_label.png\n",
      "819_raw.npz\n",
      "81_label.png\n",
      "81_raw.npz\n",
      "820_label.png\n",
      "820_raw.npz\n",
      "821_label.png\n",
      "821_raw.npz\n",
      "822_label.png\n",
      "822_raw.npz\n",
      "823_label.png\n",
      "823_raw.npz\n",
      "824_label.png\n",
      "824_raw.npz\n",
      "825_label.png\n",
      "825_raw.npz\n",
      "826_label.png\n",
      "826_raw.npz\n",
      "827_label.png\n",
      "827_raw.npz\n",
      "828_label.png\n",
      "828_raw.npz\n",
      "829_label.png\n",
      "829_raw.npz\n",
      "82_label.png\n",
      "82_raw.npz\n",
      "830_label.png\n",
      "830_raw.npz\n",
      "831_label.png\n",
      "831_raw.npz\n",
      "832_label.png\n",
      "832_raw.npz\n",
      "833_label.png\n",
      "833_raw.npz\n",
      "834_label.png\n",
      "834_raw.npz\n",
      "835_label.png\n",
      "835_raw.npz\n",
      "836_label.png\n",
      "836_raw.npz\n",
      "837_label.png\n",
      "837_raw.npz\n",
      "838_label.png\n",
      "838_raw.npz\n",
      "839_label.png\n",
      "839_raw.npz\n",
      "83_label.png\n",
      "83_raw.npz\n",
      "840_label.png\n",
      "840_raw.npz\n",
      "841_label.png\n",
      "841_raw.npz\n",
      "842_label.png\n",
      "842_raw.npz\n",
      "843_label.png\n",
      "843_raw.npz\n",
      "844_label.png\n",
      "844_raw.npz\n",
      "845_label.png\n",
      "845_raw.npz\n",
      "846_label.png\n",
      "846_raw.npz\n",
      "847_label.png\n",
      "847_raw.npz\n",
      "848_label.png\n",
      "848_raw.npz\n",
      "849_label.png\n",
      "849_raw.npz\n",
      "84_label.png\n",
      "84_raw.npz\n",
      "850_label.png\n",
      "850_raw.npz\n",
      "851_label.png\n",
      "851_raw.npz\n",
      "852_label.png\n",
      "852_raw.npz\n",
      "853_label.png\n",
      "853_raw.npz\n",
      "854_label.png\n",
      "854_raw.npz\n",
      "855_label.png\n",
      "855_raw.npz\n",
      "856_label.png\n",
      "856_raw.npz\n",
      "857_label.png\n",
      "857_raw.npz\n",
      "858_label.png\n",
      "858_raw.npz\n",
      "859_label.png\n",
      "859_raw.npz\n",
      "85_label.png\n",
      "85_raw.npz\n",
      "860_label.png\n",
      "860_raw.npz\n",
      "861_label.png\n",
      "861_raw.npz\n",
      "862_label.png\n",
      "862_raw.npz\n",
      "863_label.png\n",
      "863_raw.npz\n",
      "864_label.png\n",
      "864_raw.npz\n",
      "865_label.png\n",
      "865_raw.npz\n",
      "866_label.png\n",
      "866_raw.npz\n",
      "867_label.png\n",
      "867_raw.npz\n",
      "868_label.png\n",
      "868_raw.npz\n",
      "869_label.png\n",
      "869_raw.npz\n",
      "86_label.png\n",
      "86_raw.npz\n",
      "870_label.png\n",
      "870_raw.npz\n",
      "871_label.png\n",
      "871_raw.npz\n",
      "872_label.png\n",
      "872_raw.npz\n",
      "873_label.png\n",
      "873_raw.npz\n",
      "874_label.png\n",
      "874_raw.npz\n",
      "875_label.png\n",
      "875_raw.npz\n",
      "876_label.png\n",
      "876_raw.npz\n",
      "877_label.png\n",
      "877_raw.npz\n",
      "878_label.png\n",
      "878_raw.npz\n",
      "879_label.png\n",
      "879_raw.npz\n",
      "87_label.png\n",
      "87_raw.npz\n",
      "880_label.png\n",
      "880_raw.npz\n",
      "881_label.png\n",
      "881_raw.npz\n",
      "882_label.png\n",
      "882_raw.npz\n",
      "883_label.png\n",
      "883_raw.npz\n",
      "884_label.png\n",
      "884_raw.npz\n",
      "885_label.png\n",
      "885_raw.npz\n",
      "886_label.png\n",
      "886_raw.npz\n",
      "887_label.png\n",
      "887_raw.npz\n",
      "888_label.png\n",
      "888_raw.npz\n",
      "889_label.png\n",
      "889_raw.npz\n",
      "88_label.png\n",
      "88_raw.npz\n",
      "890_label.png\n",
      "890_raw.npz\n",
      "891_label.png\n",
      "891_raw.npz\n",
      "892_label.png\n",
      "892_raw.npz\n",
      "893_label.png\n",
      "893_raw.npz\n",
      "894_label.png\n",
      "894_raw.npz\n",
      "895_label.png\n",
      "895_raw.npz\n",
      "896_label.png\n",
      "896_raw.npz\n",
      "897_label.png\n",
      "897_raw.npz\n",
      "898_label.png\n",
      "898_raw.npz\n",
      "899_label.png\n",
      "899_raw.npz\n",
      "89_label.png\n",
      "89_raw.npz\n",
      "8_label.png\n",
      "8_raw.npz\n",
      "900_label.png\n",
      "900_raw.npz\n",
      "901_label.png\n",
      "901_raw.npz\n",
      "902_label.png\n",
      "902_raw.npz\n",
      "903_label.png\n",
      "903_raw.npz\n",
      "904_label.png\n",
      "904_raw.npz\n",
      "905_label.png\n",
      "905_raw.npz\n",
      "906_label.png\n",
      "906_raw.npz\n",
      "907_label.png\n",
      "907_raw.npz\n",
      "908_label.png\n",
      "908_raw.npz\n",
      "909_label.png\n",
      "909_raw.npz\n",
      "90_label.png\n",
      "90_raw.npz\n",
      "910_label.png\n",
      "910_raw.npz\n",
      "911_label.png\n",
      "911_raw.npz\n",
      "912_label.png\n",
      "912_raw.npz\n",
      "913_label.png\n",
      "913_raw.npz\n",
      "914_label.png\n",
      "914_raw.npz\n",
      "915_label.png\n",
      "915_raw.npz\n",
      "916_label.png\n",
      "916_raw.npz\n",
      "917_label.png\n",
      "917_raw.npz\n",
      "918_label.png\n",
      "918_raw.npz\n",
      "919_label.png\n",
      "919_raw.npz\n",
      "91_label.png\n",
      "91_raw.npz\n",
      "920_label.png\n",
      "920_raw.npz\n",
      "921_label.png\n",
      "921_raw.npz\n",
      "922_label.png\n",
      "922_raw.npz\n",
      "923_label.png\n",
      "923_raw.npz\n",
      "924_label.png\n",
      "924_raw.npz\n",
      "925_label.png\n",
      "925_raw.npz\n",
      "926_label.png\n",
      "926_raw.npz\n",
      "927_label.png\n",
      "927_raw.npz\n",
      "928_label.png\n",
      "928_raw.npz\n",
      "929_label.png\n",
      "929_raw.npz\n",
      "92_label.png\n",
      "92_raw.npz\n",
      "930_label.png\n",
      "930_raw.npz\n",
      "931_label.png\n",
      "931_raw.npz\n",
      "932_label.png\n",
      "932_raw.npz\n",
      "933_label.png\n",
      "933_raw.npz\n",
      "934_label.png\n",
      "934_raw.npz\n",
      "935_label.png\n",
      "935_raw.npz\n",
      "936_label.png\n",
      "936_raw.npz\n",
      "937_label.png\n",
      "937_raw.npz\n",
      "938_label.png\n",
      "938_raw.npz\n",
      "939_label.png\n",
      "939_raw.npz\n",
      "93_label.png\n",
      "93_raw.npz\n",
      "940_label.png\n",
      "940_raw.npz\n",
      "941_label.png\n",
      "941_raw.npz\n",
      "942_label.png\n",
      "942_raw.npz\n",
      "943_label.png\n",
      "943_raw.npz\n",
      "944_label.png\n",
      "944_raw.npz\n",
      "945_label.png\n",
      "945_raw.npz\n",
      "946_label.png\n",
      "946_raw.npz\n",
      "947_label.png\n",
      "947_raw.npz\n",
      "948_label.png\n",
      "948_raw.npz\n",
      "949_label.png\n",
      "949_raw.npz\n",
      "94_label.png\n",
      "94_raw.npz\n",
      "950_label.png\n",
      "950_raw.npz\n",
      "951_label.png\n",
      "951_raw.npz\n",
      "952_label.png\n",
      "952_raw.npz\n",
      "953_label.png\n",
      "953_raw.npz\n",
      "954_label.png\n",
      "954_raw.npz\n",
      "955_label.png\n",
      "955_raw.npz\n",
      "956_label.png\n",
      "956_raw.npz\n",
      "957_label.png\n",
      "957_raw.npz\n",
      "958_label.png\n",
      "958_raw.npz\n",
      "959_label.png\n",
      "959_raw.npz\n",
      "95_label.png\n",
      "95_raw.npz\n",
      "960_label.png\n",
      "960_raw.npz\n",
      "961_label.png\n",
      "961_raw.npz\n",
      "962_label.png\n",
      "962_raw.npz\n",
      "963_label.png\n",
      "963_raw.npz\n",
      "964_label.png\n",
      "964_raw.npz\n",
      "965_label.png\n",
      "965_raw.npz\n",
      "966_label.png\n",
      "966_raw.npz\n",
      "967_label.png\n",
      "967_raw.npz\n",
      "968_label.png\n",
      "968_raw.npz\n",
      "969_label.png\n",
      "969_raw.npz\n",
      "96_label.png\n",
      "96_raw.npz\n",
      "970_label.png\n",
      "970_raw.npz\n",
      "971_label.png\n",
      "971_raw.npz\n",
      "972_label.png\n",
      "972_raw.npz\n",
      "973_label.png\n",
      "973_raw.npz\n",
      "974_label.png\n",
      "974_raw.npz\n",
      "975_label.png\n",
      "975_raw.npz\n",
      "976_label.png\n",
      "976_raw.npz\n",
      "977_label.png\n",
      "977_raw.npz\n",
      "978_label.png\n",
      "978_raw.npz\n",
      "979_label.png\n",
      "979_raw.npz\n",
      "97_label.png\n",
      "97_raw.npz\n",
      "980_label.png\n",
      "980_raw.npz\n",
      "981_label.png\n",
      "981_raw.npz\n",
      "982_label.png\n",
      "982_raw.npz\n",
      "983_label.png\n",
      "983_raw.npz\n",
      "984_label.png\n",
      "984_raw.npz\n",
      "985_label.png\n",
      "985_raw.npz\n",
      "986_label.png\n",
      "986_raw.npz\n",
      "987_label.png\n",
      "987_raw.npz\n",
      "988_label.png\n",
      "988_raw.npz\n",
      "989_label.png\n",
      "989_raw.npz\n",
      "98_label.png\n",
      "98_raw.npz\n",
      "990_label.png\n",
      "990_raw.npz\n",
      "991_label.png\n",
      "991_raw.npz\n",
      "992_label.png\n",
      "992_raw.npz\n",
      "993_label.png\n",
      "993_raw.npz\n",
      "994_label.png\n",
      "994_raw.npz\n",
      "995_label.png\n",
      "995_raw.npz\n",
      "99_label.png\n",
      "99_raw.npz\n",
      "9_label.png\n",
      "9_raw.npz\n",
      "(996, 512, 512)\n",
      "(996, 512, 512, 9)\n"
     ]
    }
   ],
   "source": [
    "raw_pixel_classes =[0, 7, 8, 9, 45, 51, 52, 53, 68]  # Expected raw grayscale values for each pixel\n",
    "#directory = \"/Users/nozik/Documents/HARTresearch/allpreprocessed\"\n",
    "directory = \"/home/jessica/Documents/hart-seg-ml/trial8_30_fs\"\n",
    "filenames = []  # Stores all filenames\n",
    "raw_images = []  # Stores X (Raw cross section images as 2D np.ndarray)\n",
    "segmentations = []  # Stores Y (Labeled/Segmented image as one-hot-encoded NumClasses-D np.ndarray)\n",
    "h, w = 512, 512\n",
    "\n",
    "for folder in os.listdir(directory):\n",
    "    class_labels = set()\n",
    "    if not folder.startswith('.'):\n",
    "        path = os.path.join(directory, folder)\n",
    "        print(path)\n",
    "        files = sorted([f for f in os.listdir(path) if os.path.isfile(os.path.join(path, f)) and not f.startswith('.')])\n",
    "        \n",
    "        # Class label sanity check\n",
    "#         for f in files:\n",
    "#             if 'label' in f:\n",
    "#                 img = imread(os.path.join(path, f), flatten=True)\n",
    "#                 class_labels = class_labels.union(np.unique(img))\n",
    "#         if not class_labels.issubset(raw_pixel_classes):\n",
    "#             print(\"Class labels found in labeled images do not match the expected classes for scan {}\".format(folder))\n",
    "#             print(\"Expected {}\".format(raw_pixel_classes))\n",
    "#             print(\"Received {}\".format(sorted(class_labels)))\n",
    "#             break\n",
    "        \n",
    "        # Sanity image read and show some images in pairs (play with the range inputs)\n",
    "#         for f in range(0, len(files), 2):\n",
    "#             label_name = files[f]\n",
    "#             raw_name = files[f+1]\n",
    "#             label_img = imread(os.path.join(path, label_name), flatten=True)\n",
    "#             raw_img = load_sparse_csr(os.path.join(path, raw_name)).toarray()  # Load sparse csr mat img -> to 2D numpy array\n",
    "#             show_images([label_img, raw_img], titles=[label_name, raw_name])\n",
    "        \n",
    "        # Set up Datasets (X, Y) pairs of data ->\n",
    "        # files are sorted by the name: either '#_label' or '#_raw'\n",
    "        for f in files:\n",
    "            print(f)\n",
    "            if 'label' in f:\n",
    "                img = imread(os.path.join(path, f), flatten=True)\n",
    "            else:\n",
    "                img = load_sparse_csr(os.path.join(path, f)).toarray()            \n",
    "            \n",
    "#             imresize(seg[:,:,1],(h,w), interp='nearest')/255.0\n",
    "            npad = ((15, 15), (58, 59))  # Pads to size 512, 512\n",
    "            img = np.pad(img, pad_width=npad, mode='constant', constant_values=0)\n",
    "            if 'raw' in f:\n",
    "                raw_images.append(img)\n",
    "            elif 'label' in f:\n",
    "                encoded_img = one_hot_encode(img, raw_pixel_classes)\n",
    "                segmentations.append(encoded_img)\n",
    "            filenames.append(os.path.join(folder, f))\n",
    "            \n",
    "print(np.array(raw_images).shape)\n",
    "print(np.array(segmentations).shape)\n",
    "\n",
    "# print(filenames)\n",
    "\n",
    "            \n",
    "# images = np.array(images)\n",
    "# segmentations = np.round(np.array(segmentations)).astype('uint8')\n",
    "\n",
    "\n",
    "# study_num = int(2)\n",
    "# train_lst = np.load('data/splits/train_lst_' + str(study_num) + '.npy')\n",
    "# val_lst = np.load('data/splits/val_lst_' + str(study_num) + '.npy')"
   ]
  },
  {
   "cell_type": "markdown",
   "metadata": {},
   "source": [
    "### Split into Training, Cross Validation and Test sets"
   ]
  },
  {
   "cell_type": "code",
   "execution_count": 139,
   "metadata": {},
   "outputs": [
    {
     "name": "stdout",
     "output_type": "stream",
     "text": [
      "num_train:  697 num_val:  697 num_test:  996\n",
      "(697, 512, 512, 1)\n",
      "(299, 512, 512, 1)\n",
      "(697, 512, 512, 9)\n",
      "(299, 512, 512, 9)\n"
     ]
    }
   ],
   "source": [
    "\"\"\"\n",
    "TODO: Same Scan cannot be used across Train, Validation and Test sets\n",
    "TODO: Different weight conditions and angles may be used to segment other raw_scans\n",
    "TODO: Bounding Box, image resizing, padding edges\n",
    "\"\"\"\n",
    "# raw_images holds our X data\n",
    "# segmentations holds out Y data\n",
    "x_train, y_train = [], []\n",
    "x_val, y_val = [], []\n",
    "x_test, y_test = [], []\n",
    "\n",
    "percent_train, percent_val, percent_test = 70, 0, 30\n",
    "num_train = np.round(len(raw_images) * percent_train/100).astype(np.int)\n",
    "num_val = np.round(num_train + len(raw_images) * percent_val/100).astype(np.int)\n",
    "num_test = np.round(num_val + len(raw_images) * percent_test/100).astype(np.int)\n",
    "\n",
    "print(\"num_train: \", num_train, \"num_val: \", num_val, \"num_test: \", num_test)\n",
    "\n",
    "assert len(raw_images) == len(segmentations)\n",
    "rand_indices = list(np.random.choice(len(raw_images), len(raw_images), replace=False))\n",
    "\n",
    "for i in rand_indices[:num_train]:\n",
    "    x_train.append(raw_images[i])\n",
    "    y_train.append(segmentations[i])\n",
    "for j in rand_indices[num_train:num_val]:\n",
    "    x_val.append(raw_images[j])\n",
    "    y_val.append(segmentations[j])\n",
    "for k in rand_indices[num_val:num_test]:\n",
    "    x_test.append(raw_images[k])\n",
    "    y_test.append(segmentations[k])\n",
    "\n",
    "        \n",
    "x_train = np.array(x_train).reshape((len(x_train), h, w, 1))\n",
    "x_test = np.array(x_test).reshape((len(x_test), h, w, 1))\n",
    "y_train = np.array(y_train)\n",
    "y_test = np.array(y_test)\n",
    "\n",
    "print(x_train.shape)\n",
    "print(x_test.shape)\n",
    "print(y_train.shape)\n",
    "print(y_test.shape)\n",
    "\n",
    "# Fix data padding to create square 482 by 482 matrix\n",
    "# npad = ((0, 0), (15, 15), (58, 59), (0, 0))\n",
    "# x_train = np.pad(x_train, pad_width=npad, mode='constant', constant_values=0)\n",
    "# x_test = np.pad(x_test, pad_width=npad, mode='constant', constant_values=0)\n",
    "# y_train = np.pad(y_train, pad_width=npad, mode='constant', constant_values=0)\n",
    "# y_test = np.pad(y_test, pad_width=npad, mode='constant', constant_values=0)\n",
    "\n",
    "# print()\n",
    "# print(x_train.shape)\n",
    "# print(x_test.shape)\n",
    "# print(y_train.shape)\n",
    "# print(y_test.shape)\n",
    "\n",
    "\n",
    "#     image = imresize(imread(directory + folder + '/' + folder + '.jpg', flatten = True),(h, w))\n",
    "#     images.append(image)\n",
    "#     filenames.append(folder)\n",
    "#     seg = np.load(directory+folder+'/seg.npy')\n",
    "#     temp = np.zeros((h,w,1))\n",
    "#     temp[:,:,1] = imresize(seg[:,:,1],(h,w), interp='nearest')/255.0\n",
    "#     segmentations.append(temp)"
   ]
  },
  {
   "cell_type": "markdown",
   "metadata": {},
   "source": [
    "# U-Net Model"
   ]
  },
  {
   "cell_type": "code",
   "execution_count": 8,
   "metadata": {},
   "outputs": [],
   "source": [
    "\n",
    "class Unet(object):        \n",
    "    def __init__(self, mean, weight_decay, learning_rate, label_dim = 8, dropout = 0.9):\n",
    "        self.x_train = tf.placeholder(tf.float32, [None, h, w, 1])\n",
    "        self.y_train = tf.placeholder(tf.float32, [None, h, w, 9])\n",
    "        self.x_test = tf.placeholder(tf.float32, [None, h, w, 1])\n",
    "        self.y_test = tf.placeholder(tf.float32, [None, h, w, 9])\n",
    "        \n",
    "        self.label_dim = label_dim\n",
    "        self.weight_decay = weight_decay\n",
    "        self.learning_rate = learning_rate\n",
    "        self.dropout = dropout\n",
    "\n",
    "        self.output = self.unet(self.x_train, mean, keep_prob=self.dropout)\n",
    "        self.loss = tf.reduce_mean(tf.nn.softmax_cross_entropy_with_logits(logits = self.output, labels = self.y_train))\n",
    "        self.opt = tf.train.AdamOptimizer(self.learning_rate).minimize(self.loss)\n",
    "        \n",
    "        self.pred = self.unet(self.x_test, mean, reuse = True, keep_prob = 1.0)\n",
    "        self.loss_summary = tf.summary.scalar('loss', self.loss)\n",
    "    \n",
    "    # Gradient Descent on mini-batch\n",
    "    def fit_batch(self, sess, x_train, y_train):\n",
    "        _, loss, loss_summary = sess.run((self.opt, self.loss, self.loss_summary), feed_dict={self.x_train: x_train, self.y_train: y_train})\n",
    "        return loss, loss_summary\n",
    "    \n",
    "    def predict(self, sess, x):\n",
    "        prediction = sess.run((self.pred), feed_dict={self.x_test: x})\n",
    "        return prediction\n",
    "\n",
    "    def unet(self, input, mean, keep_prob = 0.9, reuse = None):\n",
    "        with tf.variable_scope('vgg', reuse=reuse):\n",
    "            input = input - mean  # Demean\n",
    "            \n",
    "            pool_ = lambda x: nn.max_pool(x, 2, 2)\n",
    "            conv_ = lambda x, output_depth, name, padding = 'SAME', relu = True, filter_size = 3: nn.conv(x, filter_size, output_depth, 1, self.weight_decay, \n",
    "                                                                                                           name=name, padding=padding, relu=relu)\n",
    "            deconv_ = lambda x, output_depth, name: nn.deconv(x, 2, output_depth, 2, self.weight_decay, name=name)\n",
    "            \n",
    "            conv_1_1 = conv_(input, 64, 'conv1_1')\n",
    "            conv_1_2 = conv_(conv_1_1, 64, 'conv1_2')\n",
    "\n",
    "            pool_1 = pool_(conv_1_2)\n",
    "\n",
    "            conv_2_1 = conv_(pool_1, 128, 'conv2_1')\n",
    "            conv_2_2 = conv_(conv_2_1, 128, 'conv2_2')\n",
    "\n",
    "            pool_2 = pool_(conv_2_2)\n",
    "\n",
    "            conv_3_1 = conv_(pool_2, 256, 'conv3_1')\n",
    "            conv_3_2 = conv_(conv_3_1, 256, 'conv3_2')\n",
    "\n",
    "            pool_3 = pool_(conv_3_2)\n",
    "\n",
    "            conv_4_1 = conv_(pool_3, 512, 'conv4_1')\n",
    "            conv_4_2 = conv_(conv_4_1, 512, 'conv4_2')\n",
    "\n",
    "            pool_4 = pool_(conv_4_2)\n",
    "\n",
    "            conv_5_1 = conv_(pool_4, 1024, 'conv5_1')\n",
    "            conv_5_2 = conv_(conv_5_1, 1024, 'conv5_2')\n",
    "            \n",
    "            pool_5 = pool_(conv_5_2)\n",
    "            \n",
    "            conv_6_1 = tf.nn.dropout(conv_(pool_5, 2048, 'conv6_1'), keep_prob)\n",
    "            conv_6_2 = tf.nn.dropout(conv_(conv_6_1, 2048, 'conv6_2'), keep_prob)\n",
    "            \n",
    "            up_7 = tf.concat([deconv_(conv_6_2, 1024, 'up7'), conv_5_2], 3)  # Error here rn\n",
    "            \n",
    "            conv_7_1 = conv_(up_7, 1024, 'conv7_1')\n",
    "            conv_7_2 = conv_(conv_7_1, 1024, 'conv7_2')\n",
    "\n",
    "            up_8 = tf.concat([deconv_(conv_7_2, 512, 'up8'), conv_4_2], 3)\n",
    "            \n",
    "            conv_8_1 = conv_(up_8, 512, 'conv8_1')\n",
    "            conv_8_2 = conv_(conv_8_1, 512, 'conv8_2')\n",
    "\n",
    "            up_9 = tf.concat([deconv_(conv_8_2, 256, 'up9'), conv_3_2], 3)\n",
    "            \n",
    "            conv_9_1 = conv_(up_9, 256, 'conv9_1')\n",
    "            conv_9_2 = conv_(conv_9_1, 256, 'conv9_2')\n",
    "\n",
    "            up_10 = tf.concat([deconv_(conv_9_2, 128, 'up10'), conv_2_2], 3)\n",
    "            \n",
    "            conv_10_1 = conv_(up_10, 128, 'conv10_1')\n",
    "            conv_10_2 = conv_(conv_10_1, 128, 'conv10_2')\n",
    "\n",
    "            up_11 = tf.concat([deconv_(conv_10_2, 64, 'up11'), conv_1_2], 3)\n",
    "            \n",
    "            conv_11_1 = conv_(up_11, 64, 'conv11_1')\n",
    "            conv_11_2 = conv_(conv_11_1, 64, 'conv11_2')\n",
    "            \n",
    "            conv_12 = conv_(conv_11_2, 9, 'conv12_2', filter_size = 1, relu = False)\n",
    "            return conv_12"
   ]
  },
  {
   "cell_type": "code",
   "execution_count": 9,
   "metadata": {},
   "outputs": [
    {
     "name": "stderr",
     "output_type": "stream",
     "text": [
      "/home/jessica/anaconda3/lib/python3.6/site-packages/h5py/__init__.py:36: FutureWarning: Conversion of the second argument of issubdtype from `float` to `np.floating` is deprecated. In future, it will be treated as `np.float64 == np.dtype(float).type`.\n",
      "  from ._conv import register_converters as _register_converters\n"
     ]
    }
   ],
   "source": [
    "# Hyperparameters\n",
    "mean = 0\n",
    "weight_decay = 1e-6\n",
    "learning_rate = 1e-4\n",
    "label_dim = 8\n",
    "maxout = False\n",
    "\n",
    "# Create TF graph and initialize variables\n",
    "tf.reset_default_graph()\n",
    "sess = tf.Session()\n",
    "model = Unet(mean, weight_decay, learning_rate, label_dim , dropout = 0.5)\n",
    "sess.run(tf.global_variables_initializer())"
   ]
  },
  {
   "cell_type": "code",
   "execution_count": 58,
   "metadata": {
    "collapsed": true
   },
   "outputs": [],
   "source": [
    "# Restore old model\n",
    "# saver = tf.train.Saver()\n",
    "# saver.restore(sess, '/media/deoraid03/jeff/models/a4c_experiments/deep_256_2')"
   ]
  },
  {
   "cell_type": "code",
   "execution_count": 14,
   "metadata": {},
   "outputs": [
    {
     "name": "stdout",
     "output_type": "stream",
     "text": []
    },
    {
     "name": "stdout",
     "output_type": "stream",
     "text": []
    },
    {
     "name": "stdout",
     "output_type": "stream",
     "text": []
    },
    {
     "name": "stdout",
     "output_type": "stream",
     "text": []
    },
    {
     "name": "stdout",
     "output_type": "stream",
     "text": []
    },
    {
     "name": "stdout",
     "output_type": "stream",
     "text": []
    },
    {
     "name": "stdout",
     "output_type": "stream",
     "text": []
    },
    {
     "name": "stdout",
     "output_type": "stream",
     "text": []
    },
    {
     "name": "stdout",
     "output_type": "stream",
     "text": []
    },
    {
     "name": "stdout",
     "output_type": "stream",
     "text": []
    },
    {
     "name": "stdout",
     "output_type": "stream",
     "text": []
    },
    {
     "name": "stdout",
     "output_type": "stream",
     "text": []
    },
    {
     "name": "stdout",
     "output_type": "stream",
     "text": []
    },
    {
     "name": "stdout",
     "output_type": "stream",
     "text": []
    },
    {
     "name": "stdout",
     "output_type": "stream",
     "text": []
    },
    {
     "name": "stdout",
     "output_type": "stream",
     "text": []
    },
    {
     "name": "stdout",
     "output_type": "stream",
     "text": []
    },
    {
     "name": "stdout",
     "output_type": "stream",
     "text": []
    },
    {
     "name": "stdout",
     "output_type": "stream",
     "text": []
    },
    {
     "name": "stdout",
     "output_type": "stream",
     "text": []
    },
    {
     "name": "stdout",
     "output_type": "stream",
     "text": []
    },
    {
     "name": "stdout",
     "output_type": "stream",
     "text": []
    },
    {
     "name": "stdout",
     "output_type": "stream",
     "text": []
    },
    {
     "name": "stdout",
     "output_type": "stream",
     "text": []
    },
    {
     "name": "stdout",
     "output_type": "stream",
     "text": []
    },
    {
     "name": "stdout",
     "output_type": "stream",
     "text": []
    },
    {
     "name": "stdout",
     "output_type": "stream",
     "text": []
    },
    {
     "name": "stdout",
     "output_type": "stream",
     "text": []
    },
    {
     "name": "stdout",
     "output_type": "stream",
     "text": []
    },
    {
     "name": "stdout",
     "output_type": "stream",
     "text": []
    },
    {
     "name": "stdout",
     "output_type": "stream",
     "text": []
    },
    {
     "name": "stdout",
     "output_type": "stream",
     "text": []
    },
    {
     "name": "stdout",
     "output_type": "stream",
     "text": []
    },
    {
     "name": "stdout",
     "output_type": "stream",
     "text": []
    },
    {
     "name": "stdout",
     "output_type": "stream",
     "text": []
    },
    {
     "name": "stdout",
     "output_type": "stream",
     "text": []
    },
    {
     "name": "stdout",
     "output_type": "stream",
     "text": []
    },
    {
     "name": "stdout",
     "output_type": "stream",
     "text": []
    },
    {
     "name": "stdout",
     "output_type": "stream",
     "text": []
    },
    {
     "name": "stdout",
     "output_type": "stream",
     "text": []
    },
    {
     "name": "stdout",
     "output_type": "stream",
     "text": []
    },
    {
     "name": "stdout",
     "output_type": "stream",
     "text": []
    },
    {
     "name": "stdout",
     "output_type": "stream",
     "text": []
    },
    {
     "name": "stdout",
     "output_type": "stream",
     "text": []
    },
    {
     "name": "stdout",
     "output_type": "stream",
     "text": []
    },
    {
     "name": "stdout",
     "output_type": "stream",
     "text": []
    },
    {
     "name": "stdout",
     "output_type": "stream",
     "text": []
    },
    {
     "name": "stdout",
     "output_type": "stream",
     "text": []
    },
    {
     "name": "stdout",
     "output_type": "stream",
     "text": []
    },
    {
     "name": "stdout",
     "output_type": "stream",
     "text": []
    },
    {
     "name": "stdout",
     "output_type": "stream",
     "text": []
    },
    {
     "name": "stdout",
     "output_type": "stream",
     "text": []
    },
    {
     "name": "stdout",
     "output_type": "stream",
     "text": []
    },
    {
     "name": "stdout",
     "output_type": "stream",
     "text": []
    },
    {
     "name": "stdout",
     "output_type": "stream",
     "text": []
    },
    {
     "name": "stdout",
     "output_type": "stream",
     "text": []
    },
    {
     "name": "stdout",
     "output_type": "stream",
     "text": []
    },
    {
     "name": "stdout",
     "output_type": "stream",
     "text": []
    },
    {
     "name": "stdout",
     "output_type": "stream",
     "text": []
    },
    {
     "name": "stdout",
     "output_type": "stream",
     "text": []
    },
    {
     "name": "stdout",
     "output_type": "stream",
     "text": []
    },
    {
     "name": "stdout",
     "output_type": "stream",
     "text": []
    },
    {
     "name": "stdout",
     "output_type": "stream",
     "text": []
    },
    {
     "name": "stdout",
     "output_type": "stream",
     "text": []
    },
    {
     "name": "stdout",
     "output_type": "stream",
     "text": []
    },
    {
     "name": "stdout",
     "output_type": "stream",
     "text": []
    },
    {
     "name": "stdout",
     "output_type": "stream",
     "text": []
    },
    {
     "name": "stdout",
     "output_type": "stream",
     "text": []
    },
    {
     "name": "stdout",
     "output_type": "stream",
     "text": []
    },
    {
     "name": "stdout",
     "output_type": "stream",
     "text": []
    },
    {
     "name": "stdout",
     "output_type": "stream",
     "text": []
    },
    {
     "name": "stdout",
     "output_type": "stream",
     "text": []
    },
    {
     "name": "stdout",
     "output_type": "stream",
     "text": []
    },
    {
     "name": "stdout",
     "output_type": "stream",
     "text": []
    },
    {
     "name": "stdout",
     "output_type": "stream",
     "text": []
    },
    {
     "name": "stdout",
     "output_type": "stream",
     "text": []
    },
    {
     "name": "stdout",
     "output_type": "stream",
     "text": []
    },
    {
     "name": "stdout",
     "output_type": "stream",
     "text": []
    },
    {
     "name": "stdout",
     "output_type": "stream",
     "text": []
    },
    {
     "name": "stdout",
     "output_type": "stream",
     "text": []
    },
    {
     "name": "stdout",
     "output_type": "stream",
     "text": []
    },
    {
     "name": "stdout",
     "output_type": "stream",
     "text": []
    },
    {
     "name": "stdout",
     "output_type": "stream",
     "text": []
    },
    {
     "name": "stdout",
     "output_type": "stream",
     "text": []
    },
    {
     "name": "stdout",
     "output_type": "stream",
     "text": []
    },
    {
     "name": "stdout",
     "output_type": "stream",
     "text": []
    },
    {
     "name": "stdout",
     "output_type": "stream",
     "text": []
    },
    {
     "name": "stdout",
     "output_type": "stream",
     "text": []
    },
    {
     "name": "stdout",
     "output_type": "stream",
     "text": []
    },
    {
     "name": "stdout",
     "output_type": "stream",
     "text": []
    },
    {
     "name": "stdout",
     "output_type": "stream",
     "text": []
    },
    {
     "name": "stdout",
     "output_type": "stream",
     "text": []
    },
    {
     "name": "stdout",
     "output_type": "stream",
     "text": []
    },
    {
     "name": "stdout",
     "output_type": "stream",
     "text": []
    },
    {
     "name": "stdout",
     "output_type": "stream",
     "text": []
    },
    {
     "name": "stdout",
     "output_type": "stream",
     "text": []
    },
    {
     "name": "stdout",
     "output_type": "stream",
     "text": []
    },
    {
     "name": "stdout",
     "output_type": "stream",
     "text": []
    },
    {
     "name": "stdout",
     "output_type": "stream",
     "text": []
    },
    {
     "name": "stdout",
     "output_type": "stream",
     "text": []
    },
    {
     "name": "stdout",
     "output_type": "stream",
     "text": []
    },
    {
     "name": "stdout",
     "output_type": "stream",
     "text": []
    },
    {
     "name": "stdout",
     "output_type": "stream",
     "text": []
    },
    {
     "name": "stdout",
     "output_type": "stream",
     "text": []
    },
    {
     "name": "stdout",
     "output_type": "stream",
     "text": []
    },
    {
     "name": "stdout",
     "output_type": "stream",
     "text": []
    },
    {
     "name": "stdout",
     "output_type": "stream",
     "text": []
    },
    {
     "name": "stdout",
     "output_type": "stream",
     "text": []
    },
    {
     "name": "stdout",
     "output_type": "stream",
     "text": []
    },
    {
     "name": "stdout",
     "output_type": "stream",
     "text": []
    },
    {
     "name": "stdout",
     "output_type": "stream",
     "text": []
    },
    {
     "name": "stdout",
     "output_type": "stream",
     "text": []
    },
    {
     "name": "stdout",
     "output_type": "stream",
     "text": []
    },
    {
     "name": "stdout",
     "output_type": "stream",
     "text": []
    },
    {
     "name": "stdout",
     "output_type": "stream",
     "text": []
    },
    {
     "name": "stdout",
     "output_type": "stream",
     "text": []
    },
    {
     "name": "stdout",
     "output_type": "stream",
     "text": []
    },
    {
     "name": "stdout",
     "output_type": "stream",
     "text": []
    },
    {
     "name": "stdout",
     "output_type": "stream",
     "text": []
    },
    {
     "name": "stdout",
     "output_type": "stream",
     "text": []
    },
    {
     "name": "stdout",
     "output_type": "stream",
     "text": []
    },
    {
     "name": "stdout",
     "output_type": "stream",
     "text": []
    },
    {
     "name": "stdout",
     "output_type": "stream",
     "text": []
    },
    {
     "name": "stdout",
     "output_type": "stream",
     "text": []
    },
    {
     "name": "stdout",
     "output_type": "stream",
     "text": []
    },
    {
     "name": "stdout",
     "output_type": "stream",
     "text": []
    },
    {
     "name": "stdout",
     "output_type": "stream",
     "text": []
    },
    {
     "name": "stdout",
     "output_type": "stream",
     "text": []
    },
    {
     "name": "stdout",
     "output_type": "stream",
     "text": []
    },
    {
     "name": "stdout",
     "output_type": "stream",
     "text": []
    },
    {
     "name": "stdout",
     "output_type": "stream",
     "text": []
    },
    {
     "name": "stdout",
     "output_type": "stream",
     "text": []
    },
    {
     "name": "stdout",
     "output_type": "stream",
     "text": []
    },
    {
     "name": "stdout",
     "output_type": "stream",
     "text": []
    },
    {
     "name": "stdout",
     "output_type": "stream",
     "text": []
    },
    {
     "name": "stdout",
     "output_type": "stream",
     "text": []
    },
    {
     "name": "stdout",
     "output_type": "stream",
     "text": []
    },
    {
     "name": "stdout",
     "output_type": "stream",
     "text": []
    },
    {
     "name": "stdout",
     "output_type": "stream",
     "text": []
    },
    {
     "name": "stdout",
     "output_type": "stream",
     "text": []
    },
    {
     "name": "stdout",
     "output_type": "stream",
     "text": []
    },
    {
     "name": "stdout",
     "output_type": "stream",
     "text": []
    },
    {
     "name": "stdout",
     "output_type": "stream",
     "text": []
    },
    {
     "name": "stdout",
     "output_type": "stream",
     "text": []
    },
    {
     "name": "stdout",
     "output_type": "stream",
     "text": []
    },
    {
     "name": "stdout",
     "output_type": "stream",
     "text": []
    },
    {
     "name": "stdout",
     "output_type": "stream",
     "text": []
    },
    {
     "name": "stdout",
     "output_type": "stream",
     "text": []
    },
    {
     "name": "stdout",
     "output_type": "stream",
     "text": []
    },
    {
     "name": "stdout",
     "output_type": "stream",
     "text": []
    },
    {
     "name": "stdout",
     "output_type": "stream",
     "text": []
    },
    {
     "name": "stdout",
     "output_type": "stream",
     "text": []
    },
    {
     "name": "stdout",
     "output_type": "stream",
     "text": []
    },
    {
     "name": "stdout",
     "output_type": "stream",
     "text": []
    },
    {
     "name": "stdout",
     "output_type": "stream",
     "text": []
    },
    {
     "name": "stdout",
     "output_type": "stream",
     "text": []
    },
    {
     "name": "stdout",
     "output_type": "stream",
     "text": []
    },
    {
     "name": "stdout",
     "output_type": "stream",
     "text": []
    },
    {
     "name": "stdout",
     "output_type": "stream",
     "text": []
    },
    {
     "name": "stdout",
     "output_type": "stream",
     "text": []
    },
    {
     "name": "stdout",
     "output_type": "stream",
     "text": []
    },
    {
     "name": "stdout",
     "output_type": "stream",
     "text": []
    },
    {
     "name": "stdout",
     "output_type": "stream",
     "text": []
    },
    {
     "name": "stdout",
     "output_type": "stream",
     "text": []
    },
    {
     "name": "stdout",
     "output_type": "stream",
     "text": []
    },
    {
     "name": "stdout",
     "output_type": "stream",
     "text": []
    },
    {
     "name": "stdout",
     "output_type": "stream",
     "text": []
    },
    {
     "name": "stdout",
     "output_type": "stream",
     "text": []
    },
    {
     "name": "stdout",
     "output_type": "stream",
     "text": []
    },
    {
     "name": "stdout",
     "output_type": "stream",
     "text": []
    },
    {
     "name": "stdout",
     "output_type": "stream",
     "text": []
    },
    {
     "name": "stdout",
     "output_type": "stream",
     "text": []
    },
    {
     "name": "stdout",
     "output_type": "stream",
     "text": []
    },
    {
     "name": "stdout",
     "output_type": "stream",
     "text": []
    },
    {
     "name": "stdout",
     "output_type": "stream",
     "text": []
    },
    {
     "name": "stdout",
     "output_type": "stream",
     "text": []
    },
    {
     "name": "stdout",
     "output_type": "stream",
     "text": []
    },
    {
     "name": "stdout",
     "output_type": "stream",
     "text": []
    },
    {
     "name": "stdout",
     "output_type": "stream",
     "text": []
    },
    {
     "name": "stdout",
     "output_type": "stream",
     "text": []
    },
    {
     "name": "stdout",
     "output_type": "stream",
     "text": []
    },
    {
     "name": "stdout",
     "output_type": "stream",
     "text": []
    },
    {
     "name": "stdout",
     "output_type": "stream",
     "text": []
    },
    {
     "name": "stdout",
     "output_type": "stream",
     "text": []
    },
    {
     "name": "stdout",
     "output_type": "stream",
     "text": []
    },
    {
     "name": "stdout",
     "output_type": "stream",
     "text": []
    },
    {
     "name": "stdout",
     "output_type": "stream",
     "text": []
    },
    {
     "name": "stdout",
     "output_type": "stream",
     "text": []
    },
    {
     "name": "stdout",
     "output_type": "stream",
     "text": []
    },
    {
     "name": "stdout",
     "output_type": "stream",
     "text": []
    },
    {
     "name": "stdout",
     "output_type": "stream",
     "text": []
    },
    {
     "name": "stdout",
     "output_type": "stream",
     "text": []
    },
    {
     "name": "stdout",
     "output_type": "stream",
     "text": []
    },
    {
     "name": "stdout",
     "output_type": "stream",
     "text": []
    },
    {
     "name": "stdout",
     "output_type": "stream",
     "text": []
    },
    {
     "name": "stdout",
     "output_type": "stream",
     "text": []
    },
    {
     "name": "stdout",
     "output_type": "stream",
     "text": []
    },
    {
     "name": "stdout",
     "output_type": "stream",
     "text": []
    },
    {
     "name": "stdout",
     "output_type": "stream",
     "text": []
    },
    {
     "name": "stdout",
     "output_type": "stream",
     "text": []
    },
    {
     "name": "stdout",
     "output_type": "stream",
     "text": []
    },
    {
     "name": "stdout",
     "output_type": "stream",
     "text": []
    },
    {
     "name": "stdout",
     "output_type": "stream",
     "text": []
    },
    {
     "name": "stdout",
     "output_type": "stream",
     "text": []
    },
    {
     "name": "stdout",
     "output_type": "stream",
     "text": []
    },
    {
     "name": "stdout",
     "output_type": "stream",
     "text": []
    },
    {
     "name": "stdout",
     "output_type": "stream",
     "text": []
    },
    {
     "name": "stdout",
     "output_type": "stream",
     "text": []
    },
    {
     "name": "stdout",
     "output_type": "stream",
     "text": []
    },
    {
     "name": "stdout",
     "output_type": "stream",
     "text": []
    },
    {
     "name": "stdout",
     "output_type": "stream",
     "text": []
    },
    {
     "name": "stdout",
     "output_type": "stream",
     "text": []
    },
    {
     "name": "stdout",
     "output_type": "stream",
     "text": []
    },
    {
     "name": "stdout",
     "output_type": "stream",
     "text": []
    },
    {
     "name": "stdout",
     "output_type": "stream",
     "text": []
    },
    {
     "name": "stdout",
     "output_type": "stream",
     "text": []
    },
    {
     "name": "stdout",
     "output_type": "stream",
     "text": []
    },
    {
     "name": "stdout",
     "output_type": "stream",
     "text": []
    },
    {
     "name": "stdout",
     "output_type": "stream",
     "text": []
    },
    {
     "name": "stdout",
     "output_type": "stream",
     "text": []
    },
    {
     "name": "stdout",
     "output_type": "stream",
     "text": []
    },
    {
     "name": "stdout",
     "output_type": "stream",
     "text": []
    },
    {
     "name": "stdout",
     "output_type": "stream",
     "text": []
    },
    {
     "name": "stdout",
     "output_type": "stream",
     "text": []
    },
    {
     "name": "stdout",
     "output_type": "stream",
     "text": []
    },
    {
     "name": "stdout",
     "output_type": "stream",
     "text": []
    },
    {
     "name": "stdout",
     "output_type": "stream",
     "text": []
    },
    {
     "name": "stdout",
     "output_type": "stream",
     "text": []
    },
    {
     "name": "stdout",
     "output_type": "stream",
     "text": []
    },
    {
     "name": "stdout",
     "output_type": "stream",
     "text": []
    },
    {
     "name": "stdout",
     "output_type": "stream",
     "text": []
    },
    {
     "name": "stdout",
     "output_type": "stream",
     "text": []
    },
    {
     "name": "stdout",
     "output_type": "stream",
     "text": []
    },
    {
     "name": "stdout",
     "output_type": "stream",
     "text": []
    },
    {
     "name": "stdout",
     "output_type": "stream",
     "text": []
    },
    {
     "name": "stdout",
     "output_type": "stream",
     "text": []
    },
    {
     "name": "stdout",
     "output_type": "stream",
     "text": []
    },
    {
     "name": "stdout",
     "output_type": "stream",
     "text": []
    },
    {
     "name": "stdout",
     "output_type": "stream",
     "text": []
    },
    {
     "name": "stdout",
     "output_type": "stream",
     "text": []
    },
    {
     "name": "stdout",
     "output_type": "stream",
     "text": []
    },
    {
     "name": "stdout",
     "output_type": "stream",
     "text": []
    },
    {
     "name": "stdout",
     "output_type": "stream",
     "text": []
    },
    {
     "name": "stdout",
     "output_type": "stream",
     "text": []
    },
    {
     "name": "stdout",
     "output_type": "stream",
     "text": []
    },
    {
     "name": "stdout",
     "output_type": "stream",
     "text": []
    },
    {
     "name": "stdout",
     "output_type": "stream",
     "text": []
    },
    {
     "name": "stdout",
     "output_type": "stream",
     "text": []
    },
    {
     "name": "stdout",
     "output_type": "stream",
     "text": []
    },
    {
     "name": "stdout",
     "output_type": "stream",
     "text": []
    },
    {
     "name": "stdout",
     "output_type": "stream",
     "text": []
    },
    {
     "name": "stdout",
     "output_type": "stream",
     "text": []
    },
    {
     "name": "stdout",
     "output_type": "stream",
     "text": []
    },
    {
     "name": "stdout",
     "output_type": "stream",
     "text": []
    },
    {
     "name": "stdout",
     "output_type": "stream",
     "text": []
    },
    {
     "name": "stdout",
     "output_type": "stream",
     "text": []
    },
    {
     "name": "stdout",
     "output_type": "stream",
     "text": []
    },
    {
     "name": "stdout",
     "output_type": "stream",
     "text": []
    },
    {
     "name": "stdout",
     "output_type": "stream",
     "text": []
    },
    {
     "name": "stdout",
     "output_type": "stream",
     "text": []
    },
    {
     "name": "stdout",
     "output_type": "stream",
     "text": []
    },
    {
     "name": "stdout",
     "output_type": "stream",
     "text": []
    },
    {
     "name": "stdout",
     "output_type": "stream",
     "text": []
    },
    {
     "name": "stdout",
     "output_type": "stream",
     "text": []
    },
    {
     "name": "stdout",
     "output_type": "stream",
     "text": []
    },
    {
     "name": "stdout",
     "output_type": "stream",
     "text": []
    },
    {
     "name": "stdout",
     "output_type": "stream",
     "text": []
    },
    {
     "name": "stdout",
     "output_type": "stream",
     "text": []
    },
    {
     "name": "stdout",
     "output_type": "stream",
     "text": []
    },
    {
     "name": "stdout",
     "output_type": "stream",
     "text": []
    },
    {
     "name": "stdout",
     "output_type": "stream",
     "text": []
    },
    {
     "name": "stdout",
     "output_type": "stream",
     "text": []
    },
    {
     "name": "stdout",
     "output_type": "stream",
     "text": []
    },
    {
     "name": "stdout",
     "output_type": "stream",
     "text": []
    },
    {
     "name": "stdout",
     "output_type": "stream",
     "text": []
    },
    {
     "name": "stdout",
     "output_type": "stream",
     "text": []
    },
    {
     "name": "stdout",
     "output_type": "stream",
     "text": []
    },
    {
     "name": "stdout",
     "output_type": "stream",
     "text": []
    },
    {
     "name": "stdout",
     "output_type": "stream",
     "text": []
    },
    {
     "name": "stdout",
     "output_type": "stream",
     "text": []
    },
    {
     "name": "stdout",
     "output_type": "stream",
     "text": []
    },
    {
     "name": "stdout",
     "output_type": "stream",
     "text": []
    },
    {
     "name": "stdout",
     "output_type": "stream",
     "text": []
    },
    {
     "name": "stdout",
     "output_type": "stream",
     "text": []
    },
    {
     "name": "stdout",
     "output_type": "stream",
     "text": []
    },
    {
     "name": "stdout",
     "output_type": "stream",
     "text": []
    },
    {
     "name": "stdout",
     "output_type": "stream",
     "text": []
    },
    {
     "name": "stdout",
     "output_type": "stream",
     "text": []
    },
    {
     "name": "stdout",
     "output_type": "stream",
     "text": []
    },
    {
     "name": "stdout",
     "output_type": "stream",
     "text": []
    },
    {
     "name": "stdout",
     "output_type": "stream",
     "text": []
    },
    {
     "name": "stdout",
     "output_type": "stream",
     "text": []
    },
    {
     "name": "stdout",
     "output_type": "stream",
     "text": []
    },
    {
     "name": "stdout",
     "output_type": "stream",
     "text": []
    },
    {
     "name": "stdout",
     "output_type": "stream",
     "text": []
    },
    {
     "name": "stdout",
     "output_type": "stream",
     "text": []
    },
    {
     "name": "stdout",
     "output_type": "stream",
     "text": []
    },
    {
     "name": "stdout",
     "output_type": "stream",
     "text": []
    },
    {
     "name": "stdout",
     "output_type": "stream",
     "text": []
    },
    {
     "name": "stdout",
     "output_type": "stream",
     "text": []
    },
    {
     "name": "stdout",
     "output_type": "stream",
     "text": []
    },
    {
     "name": "stdout",
     "output_type": "stream",
     "text": []
    },
    {
     "name": "stdout",
     "output_type": "stream",
     "text": []
    },
    {
     "name": "stdout",
     "output_type": "stream",
     "text": []
    },
    {
     "name": "stdout",
     "output_type": "stream",
     "text": []
    },
    {
     "name": "stdout",
     "output_type": "stream",
     "text": []
    },
    {
     "name": "stdout",
     "output_type": "stream",
     "text": []
    },
    {
     "name": "stdout",
     "output_type": "stream",
     "text": []
    },
    {
     "name": "stdout",
     "output_type": "stream",
     "text": []
    },
    {
     "name": "stdout",
     "output_type": "stream",
     "text": []
    },
    {
     "name": "stdout",
     "output_type": "stream",
     "text": []
    },
    {
     "name": "stdout",
     "output_type": "stream",
     "text": []
    },
    {
     "name": "stdout",
     "output_type": "stream",
     "text": []
    },
    {
     "name": "stdout",
     "output_type": "stream",
     "text": []
    },
    {
     "name": "stdout",
     "output_type": "stream",
     "text": []
    },
    {
     "name": "stdout",
     "output_type": "stream",
     "text": []
    },
    {
     "name": "stdout",
     "output_type": "stream",
     "text": []
    },
    {
     "name": "stdout",
     "output_type": "stream",
     "text": []
    },
    {
     "name": "stdout",
     "output_type": "stream",
     "text": []
    },
    {
     "name": "stdout",
     "output_type": "stream",
     "text": []
    },
    {
     "name": "stdout",
     "output_type": "stream",
     "text": []
    },
    {
     "name": "stdout",
     "output_type": "stream",
     "text": []
    },
    {
     "name": "stdout",
     "output_type": "stream",
     "text": []
    },
    {
     "name": "stdout",
     "output_type": "stream",
     "text": []
    },
    {
     "name": "stdout",
     "output_type": "stream",
     "text": []
    },
    {
     "name": "stdout",
     "output_type": "stream",
     "text": []
    },
    {
     "name": "stdout",
     "output_type": "stream",
     "text": []
    },
    {
     "name": "stdout",
     "output_type": "stream",
     "text": []
    },
    {
     "name": "stdout",
     "output_type": "stream",
     "text": []
    },
    {
     "name": "stdout",
     "output_type": "stream",
     "text": []
    },
    {
     "name": "stdout",
     "output_type": "stream",
     "text": []
    },
    {
     "name": "stdout",
     "output_type": "stream",
     "text": []
    },
    {
     "name": "stdout",
     "output_type": "stream",
     "text": []
    },
    {
     "name": "stdout",
     "output_type": "stream",
     "text": []
    },
    {
     "name": "stdout",
     "output_type": "stream",
     "text": []
    },
    {
     "name": "stdout",
     "output_type": "stream",
     "text": []
    },
    {
     "name": "stdout",
     "output_type": "stream",
     "text": []
    },
    {
     "name": "stdout",
     "output_type": "stream",
     "text": []
    },
    {
     "name": "stdout",
     "output_type": "stream",
     "text": []
    },
    {
     "name": "stdout",
     "output_type": "stream",
     "text": []
    },
    {
     "name": "stdout",
     "output_type": "stream",
     "text": []
    },
    {
     "name": "stdout",
     "output_type": "stream",
     "text": []
    },
    {
     "name": "stdout",
     "output_type": "stream",
     "text": []
    },
    {
     "name": "stdout",
     "output_type": "stream",
     "text": []
    },
    {
     "name": "stdout",
     "output_type": "stream",
     "text": []
    },
    {
     "name": "stdout",
     "output_type": "stream",
     "text": []
    },
    {
     "name": "stdout",
     "output_type": "stream",
     "text": []
    },
    {
     "name": "stdout",
     "output_type": "stream",
     "text": []
    },
    {
     "name": "stdout",
     "output_type": "stream",
     "text": []
    },
    {
     "name": "stdout",
     "output_type": "stream",
     "text": []
    },
    {
     "name": "stdout",
     "output_type": "stream",
     "text": []
    },
    {
     "name": "stdout",
     "output_type": "stream",
     "text": []
    },
    {
     "name": "stdout",
     "output_type": "stream",
     "text": []
    },
    {
     "name": "stdout",
     "output_type": "stream",
     "text": []
    },
    {
     "name": "stdout",
     "output_type": "stream",
     "text": []
    },
    {
     "name": "stdout",
     "output_type": "stream",
     "text": []
    },
    {
     "name": "stdout",
     "output_type": "stream",
     "text": []
    },
    {
     "name": "stdout",
     "output_type": "stream",
     "text": []
    },
    {
     "name": "stdout",
     "output_type": "stream",
     "text": []
    },
    {
     "name": "stdout",
     "output_type": "stream",
     "text": []
    },
    {
     "name": "stdout",
     "output_type": "stream",
     "text": []
    },
    {
     "name": "stdout",
     "output_type": "stream",
     "text": []
    },
    {
     "name": "stdout",
     "output_type": "stream",
     "text": []
    },
    {
     "name": "stdout",
     "output_type": "stream",
     "text": []
    },
    {
     "name": "stdout",
     "output_type": "stream",
     "text": []
    },
    {
     "name": "stdout",
     "output_type": "stream",
     "text": []
    },
    {
     "name": "stdout",
     "output_type": "stream",
     "text": []
    },
    {
     "name": "stdout",
     "output_type": "stream",
     "text": []
    },
    {
     "name": "stdout",
     "output_type": "stream",
     "text": []
    },
    {
     "name": "stdout",
     "output_type": "stream",
     "text": []
    },
    {
     "name": "stdout",
     "output_type": "stream",
     "text": []
    },
    {
     "name": "stdout",
     "output_type": "stream",
     "text": []
    },
    {
     "name": "stdout",
     "output_type": "stream",
     "text": []
    },
    {
     "name": "stdout",
     "output_type": "stream",
     "text": []
    },
    {
     "name": "stdout",
     "output_type": "stream",
     "text": []
    },
    {
     "name": "stdout",
     "output_type": "stream",
     "text": []
    },
    {
     "name": "stdout",
     "output_type": "stream",
     "text": []
    },
    {
     "name": "stdout",
     "output_type": "stream",
     "text": []
    },
    {
     "name": "stdout",
     "output_type": "stream",
     "text": []
    },
    {
     "name": "stdout",
     "output_type": "stream",
     "text": []
    },
    {
     "name": "stdout",
     "output_type": "stream",
     "text": []
    },
    {
     "name": "stdout",
     "output_type": "stream",
     "text": []
    },
    {
     "name": "stdout",
     "output_type": "stream",
     "text": []
    },
    {
     "name": "stdout",
     "output_type": "stream",
     "text": []
    },
    {
     "name": "stdout",
     "output_type": "stream",
     "text": []
    },
    {
     "name": "stdout",
     "output_type": "stream",
     "text": []
    },
    {
     "name": "stdout",
     "output_type": "stream",
     "text": []
    },
    {
     "name": "stdout",
     "output_type": "stream",
     "text": []
    },
    {
     "name": "stdout",
     "output_type": "stream",
     "text": []
    },
    {
     "name": "stdout",
     "output_type": "stream",
     "text": []
    },
    {
     "name": "stdout",
     "output_type": "stream",
     "text": []
    },
    {
     "name": "stdout",
     "output_type": "stream",
     "text": []
    },
    {
     "name": "stdout",
     "output_type": "stream",
     "text": []
    },
    {
     "name": "stdout",
     "output_type": "stream",
     "text": []
    },
    {
     "name": "stdout",
     "output_type": "stream",
     "text": []
    },
    {
     "name": "stdout",
     "output_type": "stream",
     "text": []
    },
    {
     "name": "stdout",
     "output_type": "stream",
     "text": []
    },
    {
     "name": "stdout",
     "output_type": "stream",
     "text": []
    },
    {
     "name": "stdout",
     "output_type": "stream",
     "text": []
    },
    {
     "name": "stdout",
     "output_type": "stream",
     "text": []
    },
    {
     "name": "stdout",
     "output_type": "stream",
     "text": []
    },
    {
     "name": "stdout",
     "output_type": "stream",
     "text": []
    },
    {
     "name": "stdout",
     "output_type": "stream",
     "text": []
    },
    {
     "name": "stdout",
     "output_type": "stream",
     "text": []
    },
    {
     "name": "stdout",
     "output_type": "stream",
     "text": []
    },
    {
     "name": "stdout",
     "output_type": "stream",
     "text": []
    },
    {
     "name": "stdout",
     "output_type": "stream",
     "text": []
    },
    {
     "name": "stdout",
     "output_type": "stream",
     "text": []
    },
    {
     "name": "stdout",
     "output_type": "stream",
     "text": []
    },
    {
     "name": "stdout",
     "output_type": "stream",
     "text": []
    },
    {
     "name": "stdout",
     "output_type": "stream",
     "text": []
    },
    {
     "name": "stdout",
     "output_type": "stream",
     "text": []
    },
    {
     "name": "stdout",
     "output_type": "stream",
     "text": []
    },
    {
     "name": "stdout",
     "output_type": "stream",
     "text": []
    },
    {
     "name": "stdout",
     "output_type": "stream",
     "text": []
    },
    {
     "name": "stdout",
     "output_type": "stream",
     "text": []
    },
    {
     "name": "stdout",
     "output_type": "stream",
     "text": []
    },
    {
     "name": "stdout",
     "output_type": "stream",
     "text": []
    },
    {
     "name": "stdout",
     "output_type": "stream",
     "text": []
    },
    {
     "name": "stdout",
     "output_type": "stream",
     "text": []
    },
    {
     "name": "stdout",
     "output_type": "stream",
     "text": []
    },
    {
     "name": "stdout",
     "output_type": "stream",
     "text": []
    },
    {
     "name": "stdout",
     "output_type": "stream",
     "text": []
    },
    {
     "name": "stdout",
     "output_type": "stream",
     "text": []
    },
    {
     "name": "stdout",
     "output_type": "stream",
     "text": []
    },
    {
     "name": "stdout",
     "output_type": "stream",
     "text": []
    },
    {
     "name": "stdout",
     "output_type": "stream",
     "text": []
    },
    {
     "name": "stdout",
     "output_type": "stream",
     "text": []
    },
    {
     "name": "stdout",
     "output_type": "stream",
     "text": []
    },
    {
     "name": "stdout",
     "output_type": "stream",
     "text": []
    },
    {
     "name": "stdout",
     "output_type": "stream",
     "text": []
    },
    {
     "name": "stdout",
     "output_type": "stream",
     "text": []
    },
    {
     "name": "stdout",
     "output_type": "stream",
     "text": []
    },
    {
     "name": "stdout",
     "output_type": "stream",
     "text": []
    },
    {
     "name": "stdout",
     "output_type": "stream",
     "text": []
    },
    {
     "name": "stdout",
     "output_type": "stream",
     "text": []
    },
    {
     "name": "stdout",
     "output_type": "stream",
     "text": []
    },
    {
     "name": "stdout",
     "output_type": "stream",
     "text": []
    },
    {
     "name": "stdout",
     "output_type": "stream",
     "text": []
    },
    {
     "name": "stdout",
     "output_type": "stream",
     "text": []
    },
    {
     "name": "stdout",
     "output_type": "stream",
     "text": []
    },
    {
     "name": "stdout",
     "output_type": "stream",
     "text": []
    },
    {
     "name": "stdout",
     "output_type": "stream",
     "text": []
    },
    {
     "name": "stdout",
     "output_type": "stream",
     "text": []
    },
    {
     "name": "stdout",
     "output_type": "stream",
     "text": []
    },
    {
     "name": "stdout",
     "output_type": "stream",
     "text": []
    },
    {
     "name": "stdout",
     "output_type": "stream",
     "text": []
    },
    {
     "name": "stdout",
     "output_type": "stream",
     "text": []
    },
    {
     "name": "stdout",
     "output_type": "stream",
     "text": []
    },
    {
     "name": "stdout",
     "output_type": "stream",
     "text": []
    },
    {
     "name": "stdout",
     "output_type": "stream",
     "text": []
    },
    {
     "name": "stdout",
     "output_type": "stream",
     "text": []
    },
    {
     "name": "stdout",
     "output_type": "stream",
     "text": []
    },
    {
     "name": "stdout",
     "output_type": "stream",
     "text": []
    },
    {
     "name": "stdout",
     "output_type": "stream",
     "text": []
    },
    {
     "name": "stdout",
     "output_type": "stream",
     "text": []
    },
    {
     "name": "stdout",
     "output_type": "stream",
     "text": []
    },
    {
     "name": "stdout",
     "output_type": "stream",
     "text": []
    },
    {
     "name": "stdout",
     "output_type": "stream",
     "text": []
    },
    {
     "name": "stdout",
     "output_type": "stream",
     "text": []
    },
    {
     "name": "stdout",
     "output_type": "stream",
     "text": []
    },
    {
     "name": "stdout",
     "output_type": "stream",
     "text": []
    },
    {
     "name": "stdout",
     "output_type": "stream",
     "text": []
    },
    {
     "name": "stdout",
     "output_type": "stream",
     "text": []
    },
    {
     "name": "stdout",
     "output_type": "stream",
     "text": []
    },
    {
     "name": "stdout",
     "output_type": "stream",
     "text": []
    },
    {
     "name": "stdout",
     "output_type": "stream",
     "text": []
    },
    {
     "name": "stdout",
     "output_type": "stream",
     "text": []
    },
    {
     "name": "stdout",
     "output_type": "stream",
     "text": []
    },
    {
     "name": "stdout",
     "output_type": "stream",
     "text": []
    },
    {
     "name": "stdout",
     "output_type": "stream",
     "text": []
    },
    {
     "name": "stdout",
     "output_type": "stream",
     "text": []
    },
    {
     "name": "stdout",
     "output_type": "stream",
     "text": []
    },
    {
     "name": "stdout",
     "output_type": "stream",
     "text": []
    },
    {
     "name": "stdout",
     "output_type": "stream",
     "text": []
    },
    {
     "name": "stdout",
     "output_type": "stream",
     "text": []
    },
    {
     "name": "stdout",
     "output_type": "stream",
     "text": []
    },
    {
     "name": "stdout",
     "output_type": "stream",
     "text": []
    },
    {
     "name": "stdout",
     "output_type": "stream",
     "text": []
    },
    {
     "name": "stdout",
     "output_type": "stream",
     "text": []
    },
    {
     "name": "stdout",
     "output_type": "stream",
     "text": []
    },
    {
     "name": "stdout",
     "output_type": "stream",
     "text": []
    },
    {
     "name": "stdout",
     "output_type": "stream",
     "text": []
    },
    {
     "name": "stdout",
     "output_type": "stream",
     "text": []
    },
    {
     "name": "stdout",
     "output_type": "stream",
     "text": []
    },
    {
     "name": "stdout",
     "output_type": "stream",
     "text": []
    },
    {
     "name": "stdout",
     "output_type": "stream",
     "text": []
    },
    {
     "name": "stdout",
     "output_type": "stream",
     "text": []
    },
    {
     "name": "stdout",
     "output_type": "stream",
     "text": []
    },
    {
     "name": "stdout",
     "output_type": "stream",
     "text": []
    },
    {
     "name": "stdout",
     "output_type": "stream",
     "text": []
    },
    {
     "name": "stdout",
     "output_type": "stream",
     "text": []
    },
    {
     "name": "stdout",
     "output_type": "stream",
     "text": []
    },
    {
     "name": "stdout",
     "output_type": "stream",
     "text": []
    },
    {
     "name": "stdout",
     "output_type": "stream",
     "text": []
    },
    {
     "name": "stdout",
     "output_type": "stream",
     "text": []
    },
    {
     "name": "stdout",
     "output_type": "stream",
     "text": []
    },
    {
     "name": "stdout",
     "output_type": "stream",
     "text": []
    },
    {
     "name": "stdout",
     "output_type": "stream",
     "text": []
    },
    {
     "name": "stdout",
     "output_type": "stream",
     "text": []
    },
    {
     "name": "stdout",
     "output_type": "stream",
     "text": []
    },
    {
     "name": "stdout",
     "output_type": "stream",
     "text": []
    },
    {
     "name": "stdout",
     "output_type": "stream",
     "text": []
    },
    {
     "name": "stdout",
     "output_type": "stream",
     "text": []
    },
    {
     "name": "stdout",
     "output_type": "stream",
     "text": []
    },
    {
     "name": "stdout",
     "output_type": "stream",
     "text": []
    },
    {
     "name": "stdout",
     "output_type": "stream",
     "text": []
    },
    {
     "name": "stdout",
     "output_type": "stream",
     "text": []
    },
    {
     "name": "stdout",
     "output_type": "stream",
     "text": []
    },
    {
     "name": "stdout",
     "output_type": "stream",
     "text": []
    },
    {
     "name": "stdout",
     "output_type": "stream",
     "text": []
    },
    {
     "name": "stdout",
     "output_type": "stream",
     "text": []
    },
    {
     "name": "stdout",
     "output_type": "stream",
     "text": []
    },
    {
     "name": "stdout",
     "output_type": "stream",
     "text": []
    },
    {
     "name": "stdout",
     "output_type": "stream",
     "text": []
    },
    {
     "name": "stdout",
     "output_type": "stream",
     "text": []
    },
    {
     "name": "stdout",
     "output_type": "stream",
     "text": []
    },
    {
     "name": "stdout",
     "output_type": "stream",
     "text": []
    },
    {
     "name": "stdout",
     "output_type": "stream",
     "text": []
    },
    {
     "name": "stdout",
     "output_type": "stream",
     "text": []
    },
    {
     "name": "stdout",
     "output_type": "stream",
     "text": []
    },
    {
     "name": "stdout",
     "output_type": "stream",
     "text": []
    },
    {
     "name": "stdout",
     "output_type": "stream",
     "text": []
    },
    {
     "name": "stdout",
     "output_type": "stream",
     "text": []
    },
    {
     "name": "stdout",
     "output_type": "stream",
     "text": []
    },
    {
     "name": "stdout",
     "output_type": "stream",
     "text": []
    },
    {
     "name": "stdout",
     "output_type": "stream",
     "text": []
    },
    {
     "name": "stdout",
     "output_type": "stream",
     "text": []
    },
    {
     "name": "stdout",
     "output_type": "stream",
     "text": []
    },
    {
     "name": "stdout",
     "output_type": "stream",
     "text": []
    },
    {
     "name": "stdout",
     "output_type": "stream",
     "text": []
    },
    {
     "name": "stdout",
     "output_type": "stream",
     "text": []
    },
    {
     "name": "stdout",
     "output_type": "stream",
     "text": []
    },
    {
     "name": "stdout",
     "output_type": "stream",
     "text": []
    },
    {
     "name": "stdout",
     "output_type": "stream",
     "text": []
    },
    {
     "name": "stdout",
     "output_type": "stream",
     "text": []
    },
    {
     "name": "stdout",
     "output_type": "stream",
     "text": []
    },
    {
     "name": "stdout",
     "output_type": "stream",
     "text": []
    },
    {
     "name": "stdout",
     "output_type": "stream",
     "text": []
    },
    {
     "name": "stdout",
     "output_type": "stream",
     "text": []
    },
    {
     "name": "stdout",
     "output_type": "stream",
     "text": []
    },
    {
     "name": "stdout",
     "output_type": "stream",
     "text": []
    },
    {
     "name": "stdout",
     "output_type": "stream",
     "text": []
    },
    {
     "name": "stdout",
     "output_type": "stream",
     "text": []
    },
    {
     "name": "stdout",
     "output_type": "stream",
     "text": []
    },
    {
     "name": "stdout",
     "output_type": "stream",
     "text": []
    },
    {
     "name": "stdout",
     "output_type": "stream",
     "text": []
    },
    {
     "name": "stdout",
     "output_type": "stream",
     "text": []
    },
    {
     "name": "stdout",
     "output_type": "stream",
     "text": []
    },
    {
     "name": "stdout",
     "output_type": "stream",
     "text": []
    },
    {
     "name": "stdout",
     "output_type": "stream",
     "text": []
    },
    {
     "name": "stdout",
     "output_type": "stream",
     "text": []
    },
    {
     "name": "stdout",
     "output_type": "stream",
     "text": []
    },
    {
     "name": "stdout",
     "output_type": "stream",
     "text": []
    },
    {
     "name": "stdout",
     "output_type": "stream",
     "text": []
    },
    {
     "name": "stdout",
     "output_type": "stream",
     "text": []
    },
    {
     "name": "stdout",
     "output_type": "stream",
     "text": []
    },
    {
     "name": "stdout",
     "output_type": "stream",
     "text": []
    },
    {
     "name": "stdout",
     "output_type": "stream",
     "text": []
    },
    {
     "name": "stdout",
     "output_type": "stream",
     "text": []
    },
    {
     "name": "stdout",
     "output_type": "stream",
     "text": []
    },
    {
     "name": "stdout",
     "output_type": "stream",
     "text": []
    },
    {
     "name": "stdout",
     "output_type": "stream",
     "text": []
    },
    {
     "name": "stdout",
     "output_type": "stream",
     "text": []
    },
    {
     "name": "stdout",
     "output_type": "stream",
     "text": []
    },
    {
     "name": "stdout",
     "output_type": "stream",
     "text": []
    },
    {
     "name": "stdout",
     "output_type": "stream",
     "text": []
    },
    {
     "name": "stdout",
     "output_type": "stream",
     "text": []
    },
    {
     "name": "stdout",
     "output_type": "stream",
     "text": []
    },
    {
     "name": "stdout",
     "output_type": "stream",
     "text": []
    },
    {
     "name": "stdout",
     "output_type": "stream",
     "text": []
    },
    {
     "name": "stdout",
     "output_type": "stream",
     "text": []
    },
    {
     "name": "stdout",
     "output_type": "stream",
     "text": []
    },
    {
     "name": "stdout",
     "output_type": "stream",
     "text": []
    },
    {
     "name": "stdout",
     "output_type": "stream",
     "text": []
    },
    {
     "name": "stdout",
     "output_type": "stream",
     "text": []
    },
    {
     "name": "stdout",
     "output_type": "stream",
     "text": []
    },
    {
     "name": "stdout",
     "output_type": "stream",
     "text": []
    },
    {
     "name": "stdout",
     "output_type": "stream",
     "text": []
    },
    {
     "name": "stdout",
     "output_type": "stream",
     "text": []
    },
    {
     "name": "stdout",
     "output_type": "stream",
     "text": []
    },
    {
     "name": "stdout",
     "output_type": "stream",
     "text": []
    },
    {
     "name": "stdout",
     "output_type": "stream",
     "text": []
    },
    {
     "name": "stdout",
     "output_type": "stream",
     "text": []
    },
    {
     "name": "stdout",
     "output_type": "stream",
     "text": []
    },
    {
     "name": "stdout",
     "output_type": "stream",
     "text": []
    },
    {
     "name": "stdout",
     "output_type": "stream",
     "text": []
    },
    {
     "name": "stdout",
     "output_type": "stream",
     "text": []
    },
    {
     "name": "stdout",
     "output_type": "stream",
     "text": []
    },
    {
     "name": "stdout",
     "output_type": "stream",
     "text": []
    },
    {
     "name": "stdout",
     "output_type": "stream",
     "text": []
    },
    {
     "name": "stdout",
     "output_type": "stream",
     "text": []
    },
    {
     "name": "stdout",
     "output_type": "stream",
     "text": []
    },
    {
     "name": "stdout",
     "output_type": "stream",
     "text": []
    },
    {
     "name": "stdout",
     "output_type": "stream",
     "text": []
    },
    {
     "name": "stdout",
     "output_type": "stream",
     "text": []
    },
    {
     "name": "stdout",
     "output_type": "stream",
     "text": []
    },
    {
     "name": "stdout",
     "output_type": "stream",
     "text": []
    },
    {
     "name": "stdout",
     "output_type": "stream",
     "text": []
    },
    {
     "name": "stdout",
     "output_type": "stream",
     "text": []
    },
    {
     "name": "stdout",
     "output_type": "stream",
     "text": []
    },
    {
     "name": "stdout",
     "output_type": "stream",
     "text": []
    },
    {
     "name": "stdout",
     "output_type": "stream",
     "text": []
    },
    {
     "name": "stdout",
     "output_type": "stream",
     "text": []
    },
    {
     "name": "stdout",
     "output_type": "stream",
     "text": []
    },
    {
     "name": "stdout",
     "output_type": "stream",
     "text": []
    },
    {
     "name": "stdout",
     "output_type": "stream",
     "text": []
    },
    {
     "name": "stdout",
     "output_type": "stream",
     "text": []
    },
    {
     "name": "stdout",
     "output_type": "stream",
     "text": []
    },
    {
     "name": "stdout",
     "output_type": "stream",
     "text": []
    },
    {
     "name": "stdout",
     "output_type": "stream",
     "text": []
    },
    {
     "name": "stdout",
     "output_type": "stream",
     "text": []
    },
    {
     "name": "stdout",
     "output_type": "stream",
     "text": []
    },
    {
     "name": "stdout",
     "output_type": "stream",
     "text": []
    },
    {
     "name": "stdout",
     "output_type": "stream",
     "text": []
    },
    {
     "name": "stdout",
     "output_type": "stream",
     "text": []
    },
    {
     "name": "stdout",
     "output_type": "stream",
     "text": []
    },
    {
     "name": "stdout",
     "output_type": "stream",
     "text": []
    },
    {
     "name": "stdout",
     "output_type": "stream",
     "text": []
    },
    {
     "name": "stdout",
     "output_type": "stream",
     "text": []
    },
    {
     "name": "stdout",
     "output_type": "stream",
     "text": []
    },
    {
     "name": "stdout",
     "output_type": "stream",
     "text": []
    },
    {
     "name": "stdout",
     "output_type": "stream",
     "text": []
    },
    {
     "name": "stdout",
     "output_type": "stream",
     "text": []
    },
    {
     "name": "stdout",
     "output_type": "stream",
     "text": []
    },
    {
     "name": "stdout",
     "output_type": "stream",
     "text": []
    },
    {
     "name": "stdout",
     "output_type": "stream",
     "text": []
    },
    {
     "name": "stdout",
     "output_type": "stream",
     "text": []
    },
    {
     "name": "stdout",
     "output_type": "stream",
     "text": []
    },
    {
     "name": "stdout",
     "output_type": "stream",
     "text": []
    },
    {
     "name": "stdout",
     "output_type": "stream",
     "text": []
    },
    {
     "name": "stdout",
     "output_type": "stream",
     "text": []
    },
    {
     "name": "stdout",
     "output_type": "stream",
     "text": []
    },
    {
     "name": "stdout",
     "output_type": "stream",
     "text": []
    },
    {
     "name": "stdout",
     "output_type": "stream",
     "text": []
    },
    {
     "name": "stdout",
     "output_type": "stream",
     "text": []
    },
    {
     "name": "stdout",
     "output_type": "stream",
     "text": []
    },
    {
     "name": "stdout",
     "output_type": "stream",
     "text": []
    },
    {
     "name": "stdout",
     "output_type": "stream",
     "text": []
    },
    {
     "name": "stdout",
     "output_type": "stream",
     "text": []
    },
    {
     "name": "stdout",
     "output_type": "stream",
     "text": []
    },
    {
     "name": "stdout",
     "output_type": "stream",
     "text": []
    },
    {
     "name": "stdout",
     "output_type": "stream",
     "text": []
    },
    {
     "name": "stdout",
     "output_type": "stream",
     "text": []
    },
    {
     "name": "stdout",
     "output_type": "stream",
     "text": []
    },
    {
     "name": "stdout",
     "output_type": "stream",
     "text": []
    },
    {
     "name": "stdout",
     "output_type": "stream",
     "text": []
    },
    {
     "name": "stdout",
     "output_type": "stream",
     "text": []
    },
    {
     "name": "stdout",
     "output_type": "stream",
     "text": []
    },
    {
     "name": "stdout",
     "output_type": "stream",
     "text": []
    },
    {
     "name": "stdout",
     "output_type": "stream",
     "text": []
    },
    {
     "name": "stdout",
     "output_type": "stream",
     "text": []
    },
    {
     "name": "stdout",
     "output_type": "stream",
     "text": []
    },
    {
     "name": "stdout",
     "output_type": "stream",
     "text": []
    },
    {
     "name": "stdout",
     "output_type": "stream",
     "text": []
    },
    {
     "name": "stdout",
     "output_type": "stream",
     "text": []
    },
    {
     "name": "stdout",
     "output_type": "stream",
     "text": []
    },
    {
     "name": "stdout",
     "output_type": "stream",
     "text": []
    },
    {
     "name": "stdout",
     "output_type": "stream",
     "text": []
    },
    {
     "name": "stdout",
     "output_type": "stream",
     "text": []
    },
    {
     "name": "stdout",
     "output_type": "stream",
     "text": []
    },
    {
     "name": "stdout",
     "output_type": "stream",
     "text": []
    },
    {
     "name": "stdout",
     "output_type": "stream",
     "text": []
    },
    {
     "name": "stdout",
     "output_type": "stream",
     "text": []
    },
    {
     "name": "stdout",
     "output_type": "stream",
     "text": []
    },
    {
     "name": "stdout",
     "output_type": "stream",
     "text": []
    },
    {
     "name": "stdout",
     "output_type": "stream",
     "text": []
    },
    {
     "name": "stdout",
     "output_type": "stream",
     "text": []
    },
    {
     "name": "stdout",
     "output_type": "stream",
     "text": []
    },
    {
     "name": "stdout",
     "output_type": "stream",
     "text": []
    },
    {
     "name": "stdout",
     "output_type": "stream",
     "text": []
    },
    {
     "name": "stdout",
     "output_type": "stream",
     "text": []
    },
    {
     "name": "stdout",
     "output_type": "stream",
     "text": []
    },
    {
     "name": "stdout",
     "output_type": "stream",
     "text": []
    },
    {
     "name": "stdout",
     "output_type": "stream",
     "text": []
    },
    {
     "name": "stdout",
     "output_type": "stream",
     "text": []
    },
    {
     "name": "stdout",
     "output_type": "stream",
     "text": []
    },
    {
     "name": "stdout",
     "output_type": "stream",
     "text": []
    },
    {
     "name": "stdout",
     "output_type": "stream",
     "text": []
    },
    {
     "name": "stdout",
     "output_type": "stream",
     "text": []
    },
    {
     "name": "stdout",
     "output_type": "stream",
     "text": []
    },
    {
     "name": "stdout",
     "output_type": "stream",
     "text": []
    },
    {
     "name": "stdout",
     "output_type": "stream",
     "text": []
    },
    {
     "name": "stdout",
     "output_type": "stream",
     "text": []
    },
    {
     "name": "stdout",
     "output_type": "stream",
     "text": []
    },
    {
     "name": "stdout",
     "output_type": "stream",
     "text": []
    },
    {
     "name": "stdout",
     "output_type": "stream",
     "text": []
    },
    {
     "name": "stdout",
     "output_type": "stream",
     "text": []
    },
    {
     "name": "stdout",
     "output_type": "stream",
     "text": []
    },
    {
     "name": "stdout",
     "output_type": "stream",
     "text": []
    },
    {
     "name": "stdout",
     "output_type": "stream",
     "text": []
    },
    {
     "name": "stdout",
     "output_type": "stream",
     "text": []
    },
    {
     "name": "stdout",
     "output_type": "stream",
     "text": []
    },
    {
     "name": "stdout",
     "output_type": "stream",
     "text": []
    },
    {
     "name": "stdout",
     "output_type": "stream",
     "text": []
    },
    {
     "name": "stdout",
     "output_type": "stream",
     "text": []
    },
    {
     "name": "stdout",
     "output_type": "stream",
     "text": []
    },
    {
     "name": "stdout",
     "output_type": "stream",
     "text": [
      "Epoch 0 | Iter 696 | Loss: 0.0052 | Acc: [0.449 0.386 0.373 0.316 0.    0.633 0.308 0.496] | Time 2e+02     \n",
      "Epoch 1 | Iter 696 | Loss: 0.006 | Acc: [0.45  0.393 0.375 0.317 0.    0.632 0.308 0.503] | Time 2e+02     \n",
      "Epoch 2 | Iter 696 | Loss: 0.006 | Acc: [0.447 0.393 0.372 0.316 0.    0.628 0.308 0.497] | Time 2e+02     \n",
      "Epoch 3 | Iter 696 | Loss: 0.0049 | Acc: [0.448 0.394 0.377 0.312 0.    0.628 0.308 0.496] | Time 2e+02     \n",
      "Epoch 4 | Iter 696 | Loss: 0.0055 | Acc: [0.452 0.394 0.377 0.313 0.    0.633 0.31  0.5  ] | Time 2e+02     \n",
      "Epoch 5 | Iter 696 | Loss: 0.0057 | Acc: [0.449 0.39  0.377 0.317 0.    0.63  0.309 0.508] | Time 2e+02     \n",
      "Epoch 6 | Iter 696 | Loss: 0.005 | Acc: [0.451 0.393 0.378 0.319 0.    0.631 0.31  0.491] | Time 2e+02     \n",
      "Epoch 7 | Iter 696 | Loss: 0.0053 | Acc: [0.45  0.391 0.378 0.319 0.    0.636 0.311 0.508] | Time 2e+02     \n",
      "Epoch 8 | Iter 696 | Loss: 0.0042 | Acc: [0.452 0.393 0.38  0.322 0.    0.638 0.314 0.512] | Time 2e+02     \n",
      "Epoch 9 | Iter 696 | Loss: 0.0046 | Acc: [0.452 0.398 0.381 0.321 0.    0.638 0.314 0.511] | Time 2e+02     \n",
      "Epoch 10 | Iter 696 | Loss: 0.0046 | Acc: [0.453 0.397 0.381 0.324 0.    0.637 0.316 0.513] | Time 2e+02     \n",
      "Epoch 11 | Iter 696 | Loss: 0.0042 | Acc: [0.451 0.381 0.376 0.324 0.    0.631 0.318 0.508] | Time 2e+02     \n",
      "Epoch 12 | Iter 696 | Loss: 0.0039 | Acc: [0.453 0.398 0.38  0.325 0.    0.639 0.316 0.51 ] | Time 2e+02     \n",
      "Epoch 13 | Iter 696 | Loss: 0.0044 | Acc: [0.45  0.398 0.378 0.326 0.    0.639 0.314 0.51 ] | Time 2e+02     \n",
      "Epoch 14 | Iter 696 | Loss: 0.0038 | Acc: [0.453 0.4   0.384 0.328 0.    0.641 0.318 0.515] | Time 2e+02     \n",
      "Epoch 15 | Iter 696 | Loss: 0.0034 | Acc: [0.455 0.397 0.381 0.329 0.    0.641 0.318 0.517] | Time 2e+02     \n",
      "Epoch 16 | Iter 696 | Loss: 0.004 | Acc: [0.453 0.4   0.379 0.331 0.    0.64  0.318 0.509] | Time 2e+02     \n",
      "Epoch 17 | Iter 696 | Loss: 0.0037 | Acc: [0.453 0.401 0.382 0.332 0.001 0.639 0.319 0.52 ] | Time 2e+02     \n",
      "Epoch 18 | Iter 696 | Loss: 0.0034 | Acc: [0.453 0.402 0.382 0.333 0.001 0.641 0.316 0.515] | Time 2e+02     \n",
      "Epoch 19 | Iter 696 | Loss: 0.0034 | Acc: [0.452 0.404 0.377 0.333 0.    0.642 0.322 0.518] | Time 2e+02     \n",
      "Epoch 20 | Iter 696 | Loss: 0.0032 | Acc: [0.455 0.404 0.384 0.333 0.    0.642 0.321 0.521] | Time 2e+02     \n",
      "Epoch 21 | Iter 696 | Loss: 0.0029 | Acc: [0.451 0.403 0.383 0.335 0.001 0.64  0.315 0.52 ] | Time 2e+02     \n",
      "Epoch 22 | Iter 696 | Loss: 0.0032 | Acc: [0.455 0.402 0.384 0.336 0.001 0.64  0.32  0.519] | Time 2e+02     \n",
      "Epoch 23 | Iter 696 | Loss: 0.0027 | Acc: [0.454 0.403 0.383 0.34  0.    0.639 0.319 0.521] | Time 2e+02     \n",
      "Epoch 24 | Iter 696 | Loss: 0.0032 | Acc: [0.457 0.405 0.382 0.341 0.002 0.643 0.322 0.521] | Time 2e+02     \n",
      "Epoch 25 | Iter 696 | Loss: 0.0027 | Acc: [0.456 0.406 0.382 0.339 0.004 0.643 0.325 0.522] | Time 2e+02     \n",
      "Epoch 26 | Iter 696 | Loss: 0.0026 | Acc: [0.455 0.407 0.383 0.33  0.    0.641 0.321 0.522] | Time 2e+02     \n",
      "Epoch 27 | Iter 696 | Loss: 0.0024 | Acc: [0.456 0.407 0.385 0.341 0.001 0.643 0.319 0.522] | Time 2e+02     \n",
      "Epoch 28 | Iter 696 | Loss: 0.0021 | Acc: [0.455 0.406 0.385 0.34  0.001 0.643 0.326 0.522] | Time 2e+02     \n",
      "Epoch 29 | Iter 696 | Loss: 0.0021 | Acc: [0.458 0.408 0.385 0.345 0.002 0.643 0.326 0.522] | Time 2e+02     \n",
      "Epoch 30 | Iter 696 | Loss: 0.002 | Acc: [0.459 0.406 0.387 0.342 0.    0.643 0.323 0.527] | Time 2e+02     \n",
      "Epoch 31 | Iter 696 | Loss: 0.0025 | Acc: [0.457 0.408 0.378 0.343 0.001 0.644 0.324 0.518] | Time 2e+02     \n",
      "Epoch 32 | Iter 696 | Loss: 0.0024 | Acc: [0.453 0.402 0.383 0.341 0.001 0.641 0.324 0.521] | Time 2e+02     \n",
      "Epoch 33 | Iter 696 | Loss: 0.0021 | Acc: [0.456 0.407 0.383 0.346 0.    0.643 0.321 0.521] | Time 2e+02     \n",
      "Epoch 34 | Iter 696 | Loss: 0.0018 | Acc: [0.456 0.405 0.385 0.344 0.001 0.64  0.326 0.526] | Time 2e+02     \n",
      "Epoch 35 | Iter 696 | Loss: 0.002 | Acc: [0.457 0.409 0.386 0.345 0.001 0.642 0.325 0.528] | Time 2e+02     \n",
      "Epoch 36 | Iter 696 | Loss: 0.0017 | Acc: [0.457 0.407 0.384 0.347 0.001 0.643 0.326 0.53 ] | Time 2e+02     \n",
      "Epoch 37 | Iter 696 | Loss: 0.0013 | Acc: [0.457 0.406 0.385 0.345 0.    0.644 0.326 0.528] | Time 2e+02     \n",
      "Epoch 38 | Iter 696 | Loss: 0.0018 | Acc: [0.456 0.399 0.383 0.343 0.002 0.643 0.323 0.529] | Time 2e+02     \n",
      "Epoch 39 | Iter 696 | Loss: 0.0016 | Acc: [0.457 0.407 0.386 0.346 0.    0.645 0.328 0.529] | Time 2e+02     \n",
      "Epoch 40 | Iter 696 | Loss: 0.0019 | Acc: [0.457 0.406 0.383 0.343 0.    0.642 0.324 0.527] | Time 2e+02     \n",
      "Epoch 41 | Iter 696 | Loss: 0.0018 | Acc: [0.458 0.408 0.386 0.346 0.    0.644 0.325 0.523] | Time 2e+02     \n",
      "Epoch 42 | Iter 696 | Loss: 0.0017 | Acc: [0.456 0.407 0.386 0.347 0.    0.642 0.326 0.529] | Time 2e+02     \n",
      "Epoch 43 | Iter 696 | Loss: 0.0013 | Acc: [0.459 0.408 0.386 0.344 0.    0.645 0.326 0.529] | Time 2e+02     \n",
      "Epoch 44 | Iter 696 | Loss: 0.0016 | Acc: [0.457 0.409 0.388 0.345 0.    0.644 0.328 0.531] | Time 2e+02     \n",
      "Epoch 45 | Iter 696 | Loss: 0.0013 | Acc: [0.459 0.408 0.387 0.345 0.001 0.644 0.327 0.529] | Time 2e+02     \n",
      "Epoch 46 | Iter 696 | Loss: 0.0012 | Acc: [0.457 0.41  0.387 0.344 0.    0.643 0.327 0.53 ] | Time 2e+02     \n",
      "Epoch 47 | Iter 696 | Loss: 0.0012 | Acc: [0.459 0.409 0.388 0.347 0.001 0.644 0.328 0.529] | Time 2e+02     \n",
      "Epoch 48 | Iter 696 | Loss: 0.0013 | Acc: [0.455 0.406 0.383 0.345 0.    0.643 0.324 0.525] | Time 2e+02     \n",
      "Epoch 49 | Iter 696 | Loss: 0.0012 | Acc: [0.458 0.409 0.388 0.346 0.001 0.644 0.328 0.53 ] | Time 2e+02     \n",
      "Epoch 50 | Iter 696 | Loss: 0.0011 | Acc: [0.457 0.408 0.387 0.346 0.    0.644 0.328 0.529] | Time 2e+02     \n",
      "Epoch 51 | Iter 696 | Loss: 0.0009 | Acc: [0.457 0.405 0.386 0.346 0.    0.644 0.327 0.529] | Time 2e+02     \n",
      "Epoch 52 | Iter 696 | Loss: 0.00097 | Acc: [0.457 0.408 0.388 0.346 0.    0.644 0.327 0.53 ] | Time 2e+02     \n",
      "Epoch 53 | Iter 696 | Loss: 0.001 | Acc: [0.458 0.408 0.388 0.346 0.001 0.643 0.328 0.531] | Time 2e+02     \n",
      "Epoch 54 | Iter 696 | Loss: 0.001 | Acc: [0.458 0.408 0.39  0.345 0.    0.643 0.325 0.531] | Time 2e+02     \n",
      "Epoch 55 | Iter 696 | Loss: 0.00089 | Acc: [0.459 0.41  0.389 0.345 0.    0.644 0.328 0.527] | Time 2e+02     \n",
      "Epoch 56 | Iter 696 | Loss: 0.00091 | Acc: [0.458 0.408 0.388 0.347 0.001 0.644 0.327 0.532] | Time 2e+02     \n",
      "Epoch 57 | Iter 696 | Loss: 0.001 | Acc: [0.46  0.407 0.388 0.346 0.    0.644 0.328 0.528] | Time 2e+02     \n",
      "Epoch 58 | Iter 696 | Loss: 0.00097 | Acc: [0.46  0.408 0.388 0.346 0.001 0.646 0.327 0.53 ] | Time 2e+02     \n",
      "Epoch 59 | Iter 696 | Loss: 0.00096 | Acc: [0.459 0.408 0.387 0.345 0.    0.644 0.328 0.531] | Time 2e+02     \n",
      "Epoch 60 | Iter 696 | Loss: 0.00075 | Acc: [0.457 0.409 0.389 0.347 0.001 0.645 0.328 0.53 ] | Time 2e+02     \n",
      "Epoch 61 | Iter 696 | Loss: 0.00082 | Acc: [0.46  0.407 0.389 0.348 0.    0.644 0.329 0.531] | Time 2e+02     \n",
      "Epoch 62 | Iter 696 | Loss: 0.00072 | Acc: [0.46  0.406 0.389 0.345 0.    0.644 0.326 0.527] | Time 2e+02     \n",
      "Epoch 63 | Iter 696 | Loss: 0.00092 | Acc: [0.458 0.407 0.39  0.346 0.    0.644 0.327 0.533] | Time 2e+02     \n",
      "Epoch 64 | Iter 696 | Loss: 0.00081 | Acc: [0.459 0.408 0.389 0.348 0.001 0.644 0.326 0.531] | Time 2e+02     \n",
      "Epoch 65 | Iter 696 | Loss: 0.0009 | Acc: [0.459 0.406 0.387 0.345 0.    0.644 0.326 0.525] | Time 2e+02     \n",
      "Epoch 66 | Iter 696 | Loss: 0.00067 | Acc: [0.457 0.408 0.388 0.345 0.    0.646 0.329 0.532] | Time 2e+02     \n",
      "Epoch 67 | Iter 696 | Loss: 0.00075 | Acc: [0.457 0.408 0.389 0.347 0.    0.645 0.326 0.531] | Time 2e+02     \n",
      "Epoch 68 | Iter 696 | Loss: 0.0051 | Acc: [0.45  0.398 0.379 0.324 0.    0.632 0.311 0.497] | Time 2e+02     \n",
      "Epoch 69 | Iter 696 | Loss: 0.00082 | Acc: [0.458 0.41  0.389 0.347 0.    0.646 0.329 0.534] | Time 2e+02     \n",
      "Epoch 70 | Iter 696 | Loss: 0.00047 | Acc: [0.46  0.41  0.39  0.348 0.    0.647 0.329 0.534] | Time 2e+02     \n",
      "Epoch 71 | Iter 696 | Loss: 0.00043 | Acc: [0.458 0.41  0.39  0.347 0.    0.645 0.328 0.534] | Time 2e+02     \n",
      "Epoch 72 | Iter 696 | Loss: 0.00055 | Acc: [0.46  0.409 0.388 0.346 0.001 0.645 0.328 0.533] | Time 2e+02     \n",
      "Epoch 73 | Iter 696 | Loss: 0.00083 | Acc: [0.459 0.409 0.387 0.345 0.    0.645 0.327 0.531] | Time 2e+02     \n",
      "Epoch 74 | Iter 696 | Loss: 0.00055 | Acc: [0.457 0.409 0.389 0.346 0.001 0.645 0.328 0.533] | Time 2e+02     \n",
      "Epoch 75 | Iter 696 | Loss: 0.00054 | Acc: [0.458 0.407 0.389 0.347 0.    0.644 0.328 0.534] | Time 2e+02     \n",
      "Epoch 76 | Iter 696 | Loss: 0.00063 | Acc: [0.457 0.409 0.391 0.347 0.    0.645 0.327 0.532] | Time 2e+02     \n",
      "Epoch 77 | Iter 696 | Loss: 0.00055 | Acc: [0.457 0.409 0.39  0.347 0.001 0.645 0.327 0.533] | Time 2e+02     \n",
      "Epoch 78 | Iter 696 | Loss: 0.00049 | Acc: [0.457 0.408 0.389 0.347 0.    0.644 0.325 0.532] | Time 2e+02     \n",
      "Epoch 79 | Iter 696 | Loss: 0.00049 | Acc: [0.457 0.409 0.39  0.348 0.001 0.644 0.327 0.533] | Time 2e+02     \n",
      "Epoch 80 | Iter 696 | Loss: 0.00049 | Acc: [0.457 0.408 0.388 0.348 0.    0.644 0.327 0.533] | Time 2e+02     \n",
      "Epoch 81 | Iter 696 | Loss: 0.00048 | Acc: [0.459 0.408 0.39  0.348 0.    0.645 0.327 0.532] | Time 2e+02     \n",
      "Epoch 82 | Iter 696 | Loss: 0.00051 | Acc: [0.459 0.408 0.388 0.347 0.    0.645 0.326 0.531] | Time 2e+02     \n",
      "Epoch 83 | Iter 696 | Loss: 0.00046 | Acc: [0.458 0.408 0.389 0.345 0.    0.645 0.328 0.533] | Time 2e+02     \n",
      "Epoch 84 | Iter 696 | Loss: 0.00045 | Acc: [0.457 0.408 0.39  0.346 0.001 0.644 0.327 0.532] | Time 2e+02     \n",
      "Epoch 85 | Iter 696 | Loss: 0.00047 | Acc: [0.459 0.408 0.389 0.347 0.    0.645 0.328 0.533] | Time 2e+02     \n",
      "Epoch 86 | Iter 696 | Loss: 0.00046 | Acc: [0.457 0.408 0.388 0.347 0.    0.644 0.327 0.532] | Time 2e+02     \n",
      "Epoch 87 | Iter 696 | Loss: 0.00046 | Acc: [0.46  0.408 0.389 0.345 0.    0.645 0.328 0.533] | Time 2e+02     \n",
      "Epoch 88 | Iter 696 | Loss: 0.00049 | Acc: [0.459 0.408 0.39  0.347 0.    0.645 0.326 0.533] | Time 2e+02     \n",
      "Epoch 89 | Iter 696 | Loss: 0.00036 | Acc: [0.46  0.409 0.389 0.348 0.    0.646 0.327 0.533] | Time 2e+02     \n",
      "Epoch 90 | Iter 696 | Loss: 0.00035 | Acc: [0.46  0.408 0.389 0.349 0.001 0.645 0.329 0.532] | Time 2e+02     \n",
      "Epoch 91 | Iter 696 | Loss: 0.00039 | Acc: [0.459 0.409 0.388 0.348 0.    0.645 0.328 0.533] | Time 2e+02     \n",
      "Epoch 92 | Iter 696 | Loss: 0.00037 | Acc: [0.458 0.408 0.389 0.347 0.    0.645 0.33  0.533] | Time 2e+02     \n",
      "Epoch 93 | Iter 696 | Loss: 0.00043 | Acc: [0.458 0.407 0.39  0.344 0.    0.644 0.327 0.532] | Time 2e+02     \n",
      "Epoch 94 | Iter 696 | Loss: 0.00046 | Acc: [0.459 0.408 0.388 0.347 0.    0.645 0.327 0.531] | Time 2e+02     \n",
      "Epoch 95 | Iter 696 | Loss: 0.00042 | Acc: [0.458 0.407 0.389 0.348 0.    0.644 0.328 0.531] | Time 2e+02     \n",
      "Epoch 96 | Iter 696 | Loss: 0.00036 | Acc: [0.457 0.407 0.387 0.347 0.    0.644 0.327 0.533] | Time 2e+02     \n",
      "Epoch 97 | Iter 696 | Loss: 0.00039 | Acc: [0.46  0.409 0.39  0.346 0.    0.644 0.328 0.532] | Time 2e+02     \n",
      "Epoch 98 | Iter 696 | Loss: 0.00039 | Acc: [0.458 0.408 0.389 0.348 0.    0.644 0.328 0.532] | Time 2e+02     \n",
      "Epoch 99 | Iter 696 | Loss: 0.00041 | Acc: [0.459 0.408 0.389 0.347 0.    0.644 0.328 0.533] | Time 2e+02     \n",
      "Epoch 100 | Iter 696 | Loss: 0.00037 | Acc: [0.457 0.407 0.389 0.347 0.    0.644 0.328 0.529] | Time 2e+02     \n",
      "Epoch 101 | Iter 696 | Loss: 0.00039 | Acc: [0.456 0.409 0.389 0.348 0.    0.645 0.327 0.533] | Time 2e+02     \n",
      "Epoch 102 | Iter 696 | Loss: 0.0003 | Acc: [0.458 0.407 0.389 0.347 0.    0.643 0.327 0.531] | Time 2e+02     \n",
      "Epoch 103 | Iter 696 | Loss: 0.00031 | Acc: [0.458 0.407 0.389 0.348 0.    0.645 0.327 0.532] | Time 2e+02     \n",
      "Epoch 104 | Iter 696 | Loss: 0.00022 | Acc: [0.459 0.409 0.389 0.348 0.    0.645 0.328 0.532] | Time 2e+02     \n",
      "Epoch 105 | Iter 696 | Loss: 0.00034 | Acc: [0.458 0.409 0.389 0.346 0.    0.645 0.328 0.531] | Time 2e+02     \n",
      "Epoch 106 | Iter 696 | Loss: 0.00033 | Acc: [0.458 0.409 0.388 0.347 0.    0.644 0.326 0.532] | Time 2e+02     \n",
      "Epoch 107 | Iter 696 | Loss: 0.00025 | Acc: [0.459 0.408 0.387 0.348 0.    0.645 0.326 0.533] | Time 2e+02     \n",
      "Epoch 108 | Iter 696 | Loss: 0.0003 | Acc: [0.457 0.408 0.389 0.347 0.    0.645 0.326 0.532] | Time 2e+02     \n",
      "Epoch 109 | Iter 696 | Loss: 0.00026 | Acc: [0.459 0.409 0.389 0.348 0.    0.644 0.33  0.533] | Time 2e+02     \n",
      "Epoch 110 | Iter 696 | Loss: 0.00027 | Acc: [0.46  0.409 0.389 0.347 0.    0.644 0.329 0.533] | Time 2e+02     \n",
      "Epoch 111 | Iter 696 | Loss: 0.00023 | Acc: [0.458 0.409 0.389 0.348 0.    0.645 0.327 0.533] | Time 2e+02     \n",
      "Epoch 112 | Iter 696 | Loss: 0.00032 | Acc: [0.458 0.409 0.389 0.348 0.    0.645 0.329 0.534] | Time 2e+02     \n",
      "Epoch 113 | Iter 696 | Loss: 0.00022 | Acc: [0.457 0.409 0.389 0.347 0.001 0.645 0.328 0.532] | Time 2e+02     \n",
      "Epoch 114 | Iter 696 | Loss: 0.00021 | Acc: [0.457 0.409 0.39  0.347 0.    0.644 0.328 0.533] | Time 2e+02     \n",
      "Epoch 115 | Iter 696 | Loss: 0.00017 | Acc: [0.458 0.408 0.39  0.349 0.    0.644 0.327 0.532] | Time 2e+02     \n",
      "Epoch 116 | Iter 696 | Loss: 0.00029 | Acc: [0.459 0.407 0.39  0.346 0.    0.645 0.328 0.533] | Time 2e+02     \n",
      "Epoch 117 | Iter 696 | Loss: 0.00016 | Acc: [0.459 0.408 0.39  0.348 0.    0.645 0.328 0.534] | Time 2e+02     \n",
      "Epoch 118 | Iter 696 | Loss: 0.00019 | Acc: [0.46  0.409 0.389 0.347 0.    0.645 0.329 0.531] | Time 2e+02     \n",
      "Epoch 119 | Iter 696 | Loss: 0.00027 | Acc: [0.459 0.409 0.39  0.347 0.    0.644 0.327 0.533] | Time 2e+02     \n",
      "Epoch 120 | Iter 696 | Loss: 0.0002 | Acc: [0.458 0.409 0.389 0.347 0.    0.645 0.328 0.533] | Time 2e+02     \n",
      "Epoch 121 | Iter 696 | Loss: 0.00026 | Acc: [0.458 0.408 0.389 0.347 0.    0.645 0.328 0.531] | Time 2e+02     \n",
      "Epoch 122 | Iter 696 | Loss: 0.00031 | Acc: [0.457 0.407 0.39  0.346 0.    0.644 0.329 0.531] | Time 2e+02     \n",
      "Epoch 123 | Iter 696 | Loss: 0.00021 | Acc: [0.457 0.408 0.388 0.347 0.001 0.645 0.328 0.535] | Time 2e+02     \n",
      "Epoch 124 | Iter 696 | Loss: 0.0002 | Acc: [0.458 0.409 0.389 0.347 0.    0.646 0.33  0.532] | Time 2e+02     \n",
      "Epoch 125 | Iter 696 | Loss: 0.0002 | Acc: [0.46  0.408 0.39  0.347 0.    0.645 0.327 0.533] | Time 2e+02     \n",
      "Epoch 126 | Iter 696 | Loss: 0.00031 | Acc: [0.458 0.408 0.388 0.347 0.001 0.646 0.327 0.531] | Time 2e+02     \n",
      "Epoch 127 | Iter 696 | Loss: 0.00021 | Acc: [0.46  0.409 0.39  0.348 0.    0.645 0.327 0.531] | Time 2e+02     \n",
      "Epoch 128 | Iter 696 | Loss: 0.00021 | Acc: [0.457 0.407 0.389 0.346 0.    0.644 0.328 0.533] | Time 2e+02     \n",
      "Epoch 129 | Iter 696 | Loss: 0.00021 | Acc: [0.458 0.409 0.389 0.347 0.001 0.645 0.327 0.534] | Time 2e+02     \n",
      "Epoch 130 | Iter 696 | Loss: 0.00019 | Acc: [0.458 0.408 0.39  0.346 0.    0.644 0.329 0.534] | Time 2e+02     \n",
      "Epoch 131 | Iter 696 | Loss: 0.0002 | Acc: [0.457 0.409 0.389 0.347 0.    0.644 0.329 0.532] | Time 2e+02     \n",
      "Epoch 132 | Iter 696 | Loss: 0.00019 | Acc: [0.458 0.408 0.388 0.346 0.001 0.644 0.328 0.534] | Time 2e+02     \n",
      "Epoch 133 | Iter 696 | Loss: 0.00016 | Acc: [0.458 0.409 0.389 0.348 0.    0.645 0.327 0.531] | Time 2e+02     \n",
      "Epoch 134 | Iter 696 | Loss: 0.00022 | Acc: [0.457 0.407 0.387 0.347 0.    0.644 0.328 0.531] | Time 2e+02     \n",
      "Epoch 135 | Iter 696 | Loss: 0.00018 | Acc: [0.457 0.408 0.39  0.346 0.    0.644 0.328 0.532] | Time 2e+02     \n",
      "Epoch 136 | Iter 696 | Loss: 0.0002 | Acc: [0.459 0.408 0.388 0.347 0.    0.645 0.328 0.533] | Time 2e+02     \n",
      "Epoch 137 | Iter 696 | Loss: 0.00016 | Acc: [0.459 0.409 0.389 0.348 0.    0.645 0.33  0.534] | Time 2e+02     \n",
      "Epoch 138 | Iter 696 | Loss: 0.0002 | Acc: [0.459 0.408 0.389 0.346 0.    0.645 0.329 0.532] | Time 2e+02     \n",
      "Epoch 139 | Iter 696 | Loss: 0.00019 | Acc: [0.459 0.409 0.388 0.347 0.    0.645 0.329 0.534] | Time 2e+02     \n",
      "Epoch 140 | Iter 696 | Loss: 0.00016 | Acc: [0.459 0.409 0.39  0.347 0.    0.645 0.329 0.534] | Time 2e+02     \n",
      "Epoch 141 | Iter 696 | Loss: 0.00019 | Acc: [0.458 0.408 0.389 0.348 0.    0.644 0.328 0.532] | Time 2e+02     \n",
      "Epoch 142 | Iter 696 | Loss: 0.00013 | Acc: [0.457 0.408 0.389 0.347 0.    0.645 0.328 0.535] | Time 2e+02     \n",
      "Epoch 143 | Iter 696 | Loss: 0.00017 | Acc: [0.457 0.407 0.389 0.347 0.    0.645 0.329 0.532] | Time 2e+02     \n",
      "Epoch 144 | Iter 696 | Loss: 0.00014 | Acc: [0.46  0.409 0.391 0.345 0.    0.646 0.329 0.534] | Time 2e+02     \n",
      "Epoch 145 | Iter 696 | Loss: 0.00015 | Acc: [0.458 0.409 0.389 0.348 0.    0.645 0.33  0.535] | Time 2e+02     \n",
      "Epoch 146 | Iter 696 | Loss: 0.00013 | Acc: [0.458 0.409 0.389 0.347 0.001 0.645 0.329 0.533] | Time 2e+02     \n",
      "Epoch 147 | Iter 696 | Loss: 0.00017 | Acc: [0.458 0.409 0.389 0.342 0.    0.644 0.328 0.534] | Time 2e+02     \n",
      "Epoch 148 | Iter 696 | Loss: 0.0002 | Acc: [0.458 0.409 0.388 0.347 0.    0.644 0.328 0.533] | Time 2e+02     \n",
      "Epoch 149 | Iter 696 | Loss: 0.00017 | Acc: [0.458 0.41  0.389 0.347 0.    0.645 0.328 0.533] | Time 2e+02     \n",
      "Epoch 150 | Iter 696 | Loss: 0.0002 | Acc: [0.457 0.408 0.389 0.346 0.    0.645 0.329 0.532] | Time 2e+02     \n",
      "Epoch 151 | Iter 696 | Loss: 0.00018 | Acc: [0.458 0.409 0.39  0.347 0.    0.645 0.328 0.531] | Time 2e+02     \n",
      "Epoch 152 | Iter 696 | Loss: 0.00011 | Acc: [0.458 0.409 0.389 0.346 0.    0.645 0.329 0.532] | Time 2e+02     \n",
      "Epoch 153 | Iter 696 | Loss: 0.00016 | Acc: [0.457 0.409 0.389 0.345 0.    0.645 0.329 0.53 ] | Time 2e+02     \n",
      "Epoch 154 | Iter 696 | Loss: 0.00029 | Acc: [0.457 0.409 0.389 0.346 0.    0.645 0.327 0.535] | Time 2e+02     \n",
      "Epoch 155 | Iter 696 | Loss: 0.00015 | Acc: [0.46  0.408 0.388 0.348 0.    0.645 0.329 0.534] | Time 2e+02     \n",
      "Epoch 156 | Iter 696 | Loss: 0.00015 | Acc: [0.46  0.408 0.39  0.347 0.    0.645 0.328 0.531] | Time 2e+02     \n",
      "Epoch 157 | Iter 696 | Loss: 0.00018 | Acc: [0.458 0.408 0.389 0.346 0.    0.645 0.329 0.532] | Time 2e+02     \n",
      "Epoch 158 | Iter 696 | Loss: 0.00018 | Acc: [0.457 0.409 0.389 0.347 0.    0.645 0.327 0.532] | Time 2e+02     \n",
      "Epoch 159 | Iter 696 | Loss: 0.00015 | Acc: [0.458 0.408 0.388 0.347 0.    0.645 0.328 0.532] | Time 2e+02     \n",
      "Epoch 160 | Iter 696 | Loss: 0.00014 | Acc: [0.458 0.409 0.389 0.348 0.    0.646 0.327 0.534] | Time 2e+02     \n",
      "Epoch 161 | Iter 696 | Loss: 0.00017 | Acc: [0.459 0.409 0.388 0.346 0.    0.645 0.328 0.533] | Time 2e+02     \n",
      "Epoch 162 | Iter 696 | Loss: 0.00018 | Acc: [0.457 0.409 0.389 0.347 0.    0.644 0.329 0.535] | Time 2e+02     \n",
      "Epoch 163 | Iter 696 | Loss: 0.00012 | Acc: [0.458 0.409 0.389 0.345 0.    0.645 0.328 0.532] | Time 2e+02     \n",
      "Epoch 164 | Iter 696 | Loss: 0.00015 | Acc: [0.458 0.409 0.39  0.347 0.    0.645 0.327 0.531] | Time 2e+02     \n",
      "Epoch 165 | Iter 696 | Loss: 0.00016 | Acc: [0.458 0.409 0.389 0.347 0.    0.644 0.327 0.534] | Time 2e+02     \n",
      "Epoch 166 | Iter 696 | Loss: 0.00015 | Acc: [0.458 0.409 0.39  0.348 0.    0.645 0.326 0.533] | Time 2e+02     \n",
      "Epoch 167 | Iter 696 | Loss: 0.00014 | Acc: [0.458 0.408 0.39  0.347 0.    0.645 0.328 0.533] | Time 2e+02     \n",
      "Epoch 168 | Iter 696 | Loss: 0.00015 | Acc: [0.458 0.41  0.39  0.348 0.    0.645 0.33  0.532] | Time 2e+02     \n",
      "Epoch 169 | Iter 696 | Loss: 0.00019 | Acc: [0.457 0.408 0.389 0.348 0.    0.644 0.329 0.534] | Time 2e+02     \n",
      "Epoch 170 | Iter 696 | Loss: 0.00016 | Acc: [0.458 0.409 0.389 0.348 0.    0.645 0.329 0.533] | Time 2e+02     \n",
      "Epoch 171 | Iter 696 | Loss: 0.00016 | Acc: [0.457 0.408 0.389 0.345 0.    0.646 0.328 0.532] | Time 2e+02     \n",
      "Epoch 172 | Iter 696 | Loss: 0.00017 | Acc: [0.46  0.409 0.389 0.347 0.    0.645 0.329 0.535] | Time 2e+02     \n",
      "Epoch 173 | Iter 696 | Loss: 0.00016 | Acc: [0.457 0.409 0.389 0.348 0.    0.645 0.329 0.533] | Time 2e+02     \n",
      "Epoch 174 | Iter 696 | Loss: 0.00011 | Acc: [0.456 0.408 0.39  0.348 0.    0.646 0.328 0.533] | Time 2e+02     \n",
      "Epoch 175 | Iter 696 | Loss: 0.00014 | Acc: [0.457 0.408 0.388 0.347 0.    0.645 0.328 0.534] | Time 2e+02     \n",
      "Epoch 176 | Iter 696 | Loss: 0.00012 | Acc: [0.458 0.409 0.39  0.347 0.    0.646 0.329 0.534] | Time 2e+02     \n",
      "Epoch 177 | Iter 696 | Loss: 0.00011 | Acc: [0.458 0.409 0.39  0.347 0.    0.645 0.329 0.532] | Time 2e+02     \n",
      "Epoch 178 | Iter 696 | Loss: 0.00017 | Acc: [0.46  0.409 0.388 0.346 0.    0.645 0.33  0.532] | Time 2e+02     \n",
      "Epoch 179 | Iter 696 | Loss: 0.00016 | Acc: [0.458 0.41  0.389 0.347 0.    0.645 0.328 0.534] | Time 2e+02     \n",
      "Epoch 180 | Iter 696 | Loss: 0.00012 | Acc: [0.458 0.41  0.39  0.347 0.    0.645 0.329 0.533] | Time 2e+02     \n",
      "Epoch 181 | Iter 696 | Loss: 0.00012 | Acc: [0.458 0.409 0.39  0.347 0.    0.645 0.328 0.534] | Time 2e+02     \n",
      "Epoch 182 | Iter 696 | Loss: 0.00012 | Acc: [0.461 0.409 0.389 0.347 0.    0.645 0.329 0.535] | Time 2e+02     \n",
      "Epoch 183 | Iter 696 | Loss: 0.00016 | Acc: [0.458 0.409 0.388 0.345 0.    0.645 0.328 0.534] | Time 2e+02     \n",
      "Epoch 184 | Iter 696 | Loss: 0.00014 | Acc: [0.461 0.41  0.39  0.347 0.    0.646 0.33  0.534] | Time 2e+02     \n",
      "Epoch 185 | Iter 696 | Loss: 0.00013 | Acc: [0.457 0.409 0.389 0.346 0.    0.644 0.327 0.531] | Time 2e+02     \n",
      "Epoch 186 | Iter 696 | Loss: 0.00013 | Acc: [0.459 0.41  0.389 0.348 0.    0.646 0.328 0.534] | Time 2e+02     \n",
      "Epoch 187 | Iter 696 | Loss: 0.00019 | Acc: [0.457 0.408 0.389 0.347 0.    0.644 0.326 0.53 ] | Time 2e+02     \n",
      "Epoch 188 | Iter 696 | Loss: 0.0001 | Acc: [0.46  0.408 0.389 0.349 0.    0.645 0.33  0.533] | Time 2e+02     \n",
      "Epoch 189 | Iter 696 | Loss: 0.00012 | Acc: [0.46  0.408 0.389 0.347 0.    0.645 0.328 0.532] | Time 2e+02     \n",
      "Epoch 190 | Iter 696 | Loss: 0.00015 | Acc: [0.459 0.409 0.389 0.347 0.    0.644 0.328 0.531] | Time 2e+02     \n",
      "Epoch 191 | Iter 696 | Loss: 0.00014 | Acc: [0.459 0.409 0.388 0.347 0.    0.644 0.325 0.533] | Time 2e+02     \n",
      "Epoch 192 | Iter 696 | Loss: 9e-05 | Acc: [0.46  0.41  0.39  0.347 0.    0.645 0.327 0.534] | Time 1.9e+02     \n",
      "Epoch 193 | Iter 696 | Loss: 0.00017 | Acc: [0.458 0.408 0.388 0.348 0.    0.645 0.328 0.534] | Time 1.9e+02     \n",
      "Epoch 194 | Iter 696 | Loss: 0.00015 | Acc: [0.459 0.409 0.39  0.347 0.001 0.645 0.328 0.532] | Time 2e+02     \n",
      "Epoch 195 | Iter 696 | Loss: 0.00013 | Acc: [0.459 0.408 0.39  0.347 0.    0.645 0.328 0.533] | Time 2e+02     \n",
      "Epoch 196 | Iter 696 | Loss: 0.00013 | Acc: [0.46  0.409 0.39  0.347 0.    0.645 0.327 0.533] | Time 1.9e+02     \n",
      "Epoch 197 | Iter 696 | Loss: 9.4e-05 | Acc: [0.458 0.409 0.391 0.347 0.    0.645 0.329 0.531] | Time 2e+02     \n",
      "Epoch 198 | Iter 696 | Loss: 9.3e-05 | Acc: [0.46  0.409 0.39  0.347 0.    0.644 0.328 0.531] | Time 2e+02     \n",
      "Epoch 199 | Iter 696 | Loss: 0.00012 | Acc: [0.46  0.409 0.391 0.347 0.    0.646 0.329 0.532] | Time 2e+02     \n",
      "Epoch 200 | Iter 696 | Loss: 0.00016 | Acc: [0.457 0.409 0.389 0.347 0.    0.645 0.329 0.533] | Time 2e+02     \n",
      "Epoch 201 | Iter 696 | Loss: 0.0001 | Acc: [0.459 0.409 0.389 0.347 0.    0.645 0.328 0.534] | Time 2e+02     \n",
      "Epoch 202 | Iter 696 | Loss: 0.00016 | Acc: [0.457 0.408 0.388 0.346 0.    0.645 0.328 0.532] | Time 2e+02     \n",
      "Epoch 203 | Iter 696 | Loss: 0.00016 | Acc: [0.458 0.409 0.39  0.347 0.    0.645 0.328 0.534] | Time 2e+02     \n",
      "Epoch 204 | Iter 696 | Loss: 8.8e-05 | Acc: [0.458 0.409 0.39  0.346 0.001 0.645 0.328 0.534] | Time 2e+02     \n",
      "Epoch 205 | Iter 696 | Loss: 7.2e-05 | Acc: [0.46  0.41  0.389 0.346 0.    0.645 0.328 0.533] | Time 2e+02     \n",
      "Epoch 206 | Iter 696 | Loss: 0.00012 | Acc: [0.458 0.409 0.389 0.348 0.    0.645 0.329 0.532] | Time 2e+02     \n",
      "Epoch 207 | Iter 696 | Loss: 9.4e-05 | Acc: [0.459 0.409 0.39  0.347 0.    0.646 0.328 0.534] | Time 2e+02     \n",
      "Epoch 208 | Iter 696 | Loss: 7.8e-05 | Acc: [0.46  0.41  0.39  0.348 0.    0.646 0.329 0.533] | Time 2e+02     \n",
      "Epoch 209 | Iter 696 | Loss: 9.5e-05 | Acc: [0.457 0.409 0.391 0.348 0.    0.646 0.328 0.532] | Time 2e+02     \n",
      "Epoch 210 | Iter 696 | Loss: 0.00013 | Acc: [0.46  0.409 0.39  0.348 0.    0.645 0.329 0.533] | Time 2e+02     \n",
      "Epoch 211 | Iter 696 | Loss: 0.00013 | Acc: [0.458 0.409 0.389 0.347 0.    0.644 0.324 0.531] | Time 2e+02     \n",
      "Epoch 212 | Iter 696 | Loss: 9.1e-05 | Acc: [0.458 0.41  0.39  0.348 0.    0.646 0.329 0.534] | Time 2e+02     \n",
      "Epoch 213 | Iter 696 | Loss: 7.3e-05 | Acc: [0.457 0.409 0.39  0.347 0.    0.645 0.329 0.533] | Time 2e+02     \n",
      "Epoch 214 | Iter 696 | Loss: 0.00011 | Acc: [0.457 0.41  0.389 0.348 0.    0.646 0.329 0.534] | Time 2e+02     \n",
      "Epoch 215 | Iter 696 | Loss: 0.00011 | Acc: [0.46  0.409 0.39  0.347 0.    0.644 0.326 0.533] | Time 2e+02     \n",
      "Epoch 216 | Iter 696 | Loss: 8.7e-05 | Acc: [0.458 0.41  0.39  0.348 0.    0.645 0.329 0.532] | Time 2e+02     \n",
      "Epoch 217 | Iter 696 | Loss: 8.4e-05 | Acc: [0.458 0.409 0.391 0.346 0.    0.645 0.328 0.533] | Time 2e+02     \n",
      "Epoch 218 | Iter 696 | Loss: 6.4e-05 | Acc: [0.461 0.409 0.391 0.347 0.    0.645 0.328 0.532] | Time 2e+02     \n",
      "Epoch 219 | Iter 696 | Loss: 9e-05 | Acc: [0.458 0.409 0.39  0.349 0.    0.644 0.329 0.535] | Time 2e+02     \n",
      "Epoch 220 | Iter 696 | Loss: 0.00068 | Acc: [0.459 0.407 0.384 0.344 0.    0.644 0.327 0.521] | Time 2e+02     \n",
      "Epoch 221 | Iter 696 | Loss: 7.6e-05 | Acc: [0.459 0.409 0.391 0.348 0.    0.646 0.33  0.534] | Time 2e+02     \n",
      "Epoch 222 | Iter 696 | Loss: 3.4e-05 | Acc: [0.458 0.41  0.39  0.346 0.    0.646 0.33  0.535] | Time 2e+02     \n",
      "Epoch 223 | Iter 696 | Loss: 7.2e-05 | Acc: [0.458 0.409 0.39  0.347 0.    0.645 0.33  0.534] | Time 2e+02     \n",
      "Epoch 224 | Iter 696 | Loss: 6.9e-05 | Acc: [0.458 0.409 0.391 0.348 0.    0.646 0.328 0.534] | Time 2e+02     \n",
      "Epoch 225 | Iter 696 | Loss: 0.00011 | Acc: [0.458 0.408 0.39  0.347 0.001 0.645 0.328 0.532] | Time 2e+02     \n",
      "Epoch 226 | Iter 696 | Loss: 0.00013 | Acc: [0.458 0.409 0.39  0.347 0.    0.645 0.327 0.534] | Time 2e+02     \n",
      "Epoch 227 | Iter 696 | Loss: 8.4e-05 | Acc: [0.458 0.409 0.391 0.347 0.001 0.645 0.33  0.535] | Time 2e+02     \n",
      "Epoch 228 | Iter 696 | Loss: 9.8e-05 | Acc: [0.458 0.409 0.389 0.348 0.    0.645 0.328 0.533] | Time 2e+02     \n",
      "Epoch 229 | Iter 696 | Loss: 0.00011 | Acc: [0.457 0.41  0.389 0.347 0.    0.645 0.328 0.532] | Time 2e+02     \n",
      "Epoch 230 | Iter 696 | Loss: 9.4e-05 | Acc: [0.458 0.41  0.389 0.347 0.    0.645 0.328 0.532] | Time 2e+02     \n",
      "Epoch 231 | Iter 696 | Loss: 0.00019 | Acc: [0.457 0.409 0.388 0.347 0.    0.645 0.328 0.532] | Time 2e+02     \n",
      "Epoch 232 | Iter 696 | Loss: 0.00012 | Acc: [0.457 0.408 0.389 0.348 0.    0.645 0.328 0.532] | Time 2e+02     \n",
      "Epoch 233 | Iter 696 | Loss: 7.4e-05 | Acc: [0.457 0.409 0.391 0.347 0.    0.645 0.329 0.532] | Time 2e+02     \n",
      "Epoch 234 | Iter 696 | Loss: 8.3e-05 | Acc: [0.457 0.408 0.389 0.347 0.    0.645 0.328 0.532] | Time 2e+02     \n",
      "Epoch 235 | Iter 696 | Loss: 0.00013 | Acc: [0.458 0.409 0.389 0.347 0.    0.645 0.328 0.534] | Time 2e+02     \n",
      "Epoch 236 | Iter 696 | Loss: 6.5e-05 | Acc: [0.458 0.409 0.389 0.348 0.    0.645 0.328 0.534] | Time 2e+02     \n",
      "Epoch 237 | Iter 696 | Loss: 0.00011 | Acc: [0.458 0.409 0.39  0.346 0.    0.645 0.33  0.535] | Time 2e+02     \n",
      "Epoch 238 | Iter 696 | Loss: 0.00012 | Acc: [0.457 0.409 0.389 0.348 0.    0.644 0.329 0.534] | Time 2e+02     \n",
      "Epoch 239 | Iter 696 | Loss: 7.4e-05 | Acc: [0.457 0.409 0.39  0.348 0.    0.644 0.329 0.532] | Time 2e+02     \n",
      "Epoch 240 | Iter 696 | Loss: 9.9e-05 | Acc: [0.458 0.409 0.389 0.347 0.    0.645 0.328 0.534] | Time 2e+02     \n",
      "Epoch 241 | Iter 696 | Loss: 0.00011 | Acc: [0.457 0.409 0.39  0.346 0.    0.645 0.328 0.533] | Time 2e+02     \n",
      "Epoch 242 | Iter 696 | Loss: 0.00011 | Acc: [0.457 0.408 0.39  0.344 0.    0.644 0.327 0.532] | Time 2e+02     \n",
      "Epoch 243 | Iter 696 | Loss: 5.1e-05 | Acc: [0.457 0.409 0.39  0.346 0.    0.645 0.329 0.535] | Time 2e+02     \n",
      "Epoch 244 | Iter 696 | Loss: 8.8e-05 | Acc: [0.46  0.408 0.39  0.347 0.    0.645 0.328 0.533] | Time 2e+02     \n",
      "Epoch 245 | Iter 696 | Loss: 9.9e-05 | Acc: [0.458 0.407 0.389 0.347 0.    0.645 0.328 0.534] | Time 2e+02     \n",
      "Epoch 246 | Iter 696 | Loss: 7.1e-05 | Acc: [0.457 0.409 0.39  0.348 0.    0.644 0.328 0.533] | Time 2e+02     \n",
      "Epoch 247 | Iter 696 | Loss: 8.2e-05 | Acc: [0.457 0.409 0.389 0.347 0.    0.646 0.328 0.533] | Time 2e+02     \n",
      "Epoch 248 | Iter 696 | Loss: 6.5e-05 | Acc: [0.457 0.409 0.39  0.347 0.    0.645 0.329 0.534] | Time 2e+02     \n",
      "Epoch 249 | Iter 696 | Loss: 6.6e-05 | Acc: [0.458 0.409 0.39  0.348 0.    0.646 0.328 0.534] | Time 2e+02     \n",
      "Epoch 250 | Iter 696 | Loss: 0.00011 | Acc: [0.457 0.409 0.39  0.348 0.    0.645 0.329 0.534] | Time 2e+02     \n",
      "Epoch 251 | Iter 696 | Loss: 7.3e-05 | Acc: [0.457 0.408 0.387 0.348 0.    0.645 0.328 0.534] | Time 2e+02     \n",
      "Epoch 252 | Iter 696 | Loss: 0.00013 | Acc: [0.458 0.409 0.39  0.347 0.    0.644 0.329 0.533] | Time 2e+02     \n",
      "Epoch 253 | Iter 696 | Loss: 8.7e-05 | Acc: [0.457 0.41  0.39  0.348 0.    0.646 0.329 0.535] | Time 2e+02     \n",
      "Epoch 254 | Iter 696 | Loss: 9.3e-05 | Acc: [0.458 0.409 0.391 0.346 0.    0.646 0.329 0.532] | Time 2e+02     \n",
      "Epoch 255 | Iter 696 | Loss: 5.9e-05 | Acc: [0.46  0.409 0.39  0.348 0.    0.645 0.329 0.534] | Time 2e+02     \n",
      "Epoch 256 | Iter 696 | Loss: 8.3e-05 | Acc: [0.457 0.408 0.39  0.348 0.    0.646 0.33  0.533] | Time 2e+02     \n",
      "Epoch 257 | Iter 696 | Loss: 9.4e-05 | Acc: [0.457 0.409 0.39  0.347 0.    0.646 0.329 0.535] | Time 2e+02     \n",
      "Epoch 258 | Iter 696 | Loss: 8.9e-05 | Acc: [0.457 0.408 0.39  0.347 0.    0.645 0.331 0.535] | Time 2e+02     \n",
      "Epoch 259 | Iter 696 | Loss: 7.6e-05 | Acc: [0.458 0.41  0.39  0.346 0.    0.645 0.33  0.533] | Time 2e+02     \n",
      "Epoch 260 | Iter 696 | Loss: 8e-05 | Acc: [0.458 0.409 0.39  0.348 0.    0.645 0.329 0.531] | Time 2e+02     \n",
      "Epoch 261 | Iter 696 | Loss: 6.2e-05 | Acc: [0.458 0.409 0.39  0.347 0.    0.646 0.329 0.535] | Time 2e+02     \n",
      "Epoch 262 | Iter 696 | Loss: 4.6e-05 | Acc: [0.459 0.408 0.39  0.349 0.    0.646 0.331 0.534] | Time 2e+02     \n",
      "Epoch 263 | Iter 696 | Loss: 0.00012 | Acc: [0.457 0.408 0.389 0.348 0.    0.645 0.33  0.534] | Time 2e+02     \n",
      "Epoch 264 | Iter 696 | Loss: 6.4e-05 | Acc: [0.458 0.407 0.39  0.347 0.    0.646 0.33  0.534] | Time 2e+02     \n",
      "Epoch 265 | Iter 696 | Loss: 7.5e-05 | Acc: [0.46  0.405 0.389 0.347 0.    0.646 0.328 0.532] | Time 2e+02     \n",
      "Epoch 266 | Iter 696 | Loss: 8.3e-05 | Acc: [0.457 0.408 0.388 0.348 0.    0.645 0.329 0.533] | Time 2e+02     \n",
      "Epoch 267 | Iter 696 | Loss: 0.00014 | Acc: [0.459 0.408 0.39  0.347 0.    0.646 0.328 0.534] | Time 2e+02     \n",
      "Epoch 268 | Iter 696 | Loss: 9e-05 | Acc: [0.458 0.409 0.39  0.348 0.    0.645 0.329 0.533] | Time 2e+02     \n",
      "Epoch 269 | Iter 696 | Loss: 9.1e-05 | Acc: [0.458 0.409 0.389 0.348 0.    0.645 0.328 0.532] | Time 2e+02     \n",
      "Epoch 270 | Iter 696 | Loss: 8.9e-05 | Acc: [0.458 0.409 0.387 0.347 0.    0.646 0.328 0.533] | Time 2e+02     \n",
      "Epoch 271 | Iter 696 | Loss: 0.0002 | Acc: [0.458 0.408 0.386 0.344 0.    0.645 0.328 0.533] | Time 2e+02     \n",
      "Epoch 272 | Iter 696 | Loss: 0.0001 | Acc: [0.458 0.409 0.39  0.345 0.    0.645 0.328 0.533] | Time 2e+02     \n",
      "Epoch 273 | Iter 696 | Loss: 8.4e-05 | Acc: [0.458 0.41  0.39  0.348 0.    0.646 0.329 0.532] | Time 2e+02     \n",
      "Epoch 274 | Iter 696 | Loss: 0.00011 | Acc: [0.458 0.409 0.389 0.347 0.    0.645 0.329 0.534] | Time 2e+02     \n",
      "Epoch 275 | Iter 696 | Loss: 8.9e-05 | Acc: [0.457 0.408 0.389 0.348 0.    0.645 0.328 0.533] | Time 2e+02     \n",
      "Epoch 276 | Iter 696 | Loss: 7.1e-05 | Acc: [0.46  0.408 0.39  0.348 0.    0.645 0.329 0.532] | Time 2e+02     \n",
      "Epoch 277 | Iter 696 | Loss: 6.3e-05 | Acc: [0.46  0.409 0.39  0.349 0.    0.646 0.329 0.534] | Time 2e+02     \n",
      "Epoch 278 | Iter 696 | Loss: 8e-05 | Acc: [0.461 0.409 0.391 0.348 0.    0.645 0.33  0.535] | Time 2e+02     \n",
      "Epoch 279 | Iter 696 | Loss: 6.7e-05 | Acc: [0.458 0.409 0.39  0.348 0.    0.645 0.329 0.534] | Time 2e+02     \n",
      "Epoch 280 | Iter 696 | Loss: 0.00016 | Acc: [0.458 0.409 0.388 0.346 0.    0.643 0.327 0.531] | Time 2e+02     \n",
      "Epoch 281 | Iter 696 | Loss: 0.00013 | Acc: [0.458 0.408 0.389 0.346 0.    0.645 0.329 0.532] | Time 2e+02     \n",
      "Epoch 282 | Iter 696 | Loss: 5.6e-05 | Acc: [0.458 0.409 0.389 0.345 0.001 0.646 0.328 0.532] | Time 2e+02     \n",
      "Epoch 283 | Iter 696 | Loss: 5.4e-05 | Acc: [0.458 0.409 0.389 0.347 0.001 0.645 0.328 0.535] | Time 2e+02     \n",
      "Epoch 284 | Iter 696 | Loss: 5.9e-05 | Acc: [0.458 0.41  0.389 0.346 0.    0.645 0.33  0.532] | Time 2e+02     \n",
      "Epoch 285 | Iter 696 | Loss: 4e-05 | Acc: [0.458 0.409 0.388 0.348 0.    0.646 0.329 0.534] | Time 2e+02     \n",
      "Epoch 286 | Iter 696 | Loss: 7.5e-05 | Acc: [0.458 0.408 0.387 0.347 0.    0.646 0.33  0.533] | Time 2e+02     \n",
      "Epoch 287 | Iter 696 | Loss: 6.3e-05 | Acc: [0.458 0.408 0.389 0.348 0.    0.644 0.328 0.532] | Time 2e+02     \n",
      "Epoch 288 | Iter 696 | Loss: 7.9e-05 | Acc: [0.458 0.41  0.389 0.346 0.    0.645 0.329 0.534] | Time 2e+02     \n",
      "Epoch 289 | Iter 696 | Loss: 9.3e-05 | Acc: [0.458 0.409 0.39  0.347 0.    0.645 0.328 0.532] | Time 2e+02     \n",
      "Epoch 290 | Iter 696 | Loss: 6.2e-05 | Acc: [0.458 0.409 0.389 0.347 0.    0.645 0.329 0.531] | Time 2e+02     \n",
      "Epoch 291 | Iter 696 | Loss: 0.00011 | Acc: [0.46  0.409 0.389 0.347 0.    0.646 0.329 0.531] | Time 2e+02     \n",
      "Epoch 292 | Iter 696 | Loss: 5.9e-05 | Acc: [0.458 0.41  0.39  0.346 0.    0.644 0.329 0.533] | Time 2e+02     \n",
      "Epoch 293 | Iter 696 | Loss: 7.5e-05 | Acc: [0.458 0.409 0.39  0.347 0.    0.645 0.329 0.532] | Time 2e+02     \n",
      "Epoch 294 | Iter 696 | Loss: 5.9e-05 | Acc: [0.458 0.409 0.389 0.347 0.    0.645 0.328 0.533] | Time 2e+02     \n",
      "Epoch 295 | Iter 696 | Loss: 7.6e-05 | Acc: [0.458 0.408 0.39  0.347 0.    0.645 0.329 0.533] | Time 2e+02     \n",
      "Epoch 296 | Iter 696 | Loss: 0.00028 | Acc: [0.458 0.409 0.389 0.342 0.    0.644 0.328 0.532] | Time 2e+02     \n",
      "Epoch 297 | Iter 696 | Loss: 0.00012 | Acc: [0.458 0.409 0.39  0.346 0.    0.645 0.329 0.53 ] | Time 2e+02     \n",
      "Epoch 298 | Iter 696 | Loss: 6.9e-05 | Acc: [0.457 0.408 0.39  0.346 0.    0.645 0.33  0.533] | Time 2e+02     \n",
      "Epoch 299 | Iter 696 | Loss: 5.4e-05 | Acc: [0.458 0.409 0.39  0.345 0.    0.645 0.329 0.533] | Time 2e+02     \n",
      "Epoch 300 | Iter 696 | Loss: 4.3e-05 | Acc: [0.458 0.409 0.389 0.348 0.    0.645 0.33  0.532] | Time 2e+02     \n",
      "Epoch 301 | Iter 696 | Loss: 6.7e-05 | Acc: [0.458 0.409 0.389 0.348 0.    0.646 0.33  0.531] | Time 2e+02     \n",
      "Epoch 302 | Iter 696 | Loss: 6.7e-05 | Acc: [0.458 0.408 0.389 0.347 0.    0.644 0.329 0.533] | Time 2e+02     \n",
      "Epoch 303 | Iter 696 | Loss: 0.0001 | Acc: [0.458 0.408 0.389 0.348 0.    0.644 0.328 0.531] | Time 2e+02     \n",
      "Epoch 304 | Iter 696 | Loss: 7.1e-05 | Acc: [0.458 0.408 0.39  0.348 0.    0.644 0.33  0.534] | Time 2e+02     \n",
      "Epoch 305 | Iter 696 | Loss: 9.6e-05 | Acc: [0.459 0.409 0.389 0.347 0.    0.645 0.327 0.531] | Time 2e+02     \n",
      "Epoch 306 | Iter 696 | Loss: 6e-05 | Acc: [0.458 0.409 0.39  0.346 0.    0.645 0.329 0.536] | Time 2e+02     \n",
      "Epoch 307 | Iter 696 | Loss: 4.9e-05 | Acc: [0.458 0.408 0.389 0.346 0.    0.646 0.328 0.532] | Time 2e+02     \n",
      "Epoch 308 | Iter 696 | Loss: 9.7e-05 | Acc: [0.458 0.409 0.39  0.347 0.    0.645 0.329 0.533] | Time 2e+02     \n",
      "Epoch 309 | Iter 696 | Loss: 4.7e-05 | Acc: [0.461 0.409 0.389 0.348 0.    0.646 0.329 0.533] | Time 2e+02     \n",
      "Epoch 310 | Iter 696 | Loss: 6.4e-05 | Acc: [0.462 0.409 0.39  0.347 0.    0.645 0.329 0.532] | Time 2e+02     \n",
      "Epoch 311 | Iter 696 | Loss: 9e-05 | Acc: [0.461 0.409 0.389 0.346 0.001 0.645 0.329 0.531] | Time 2e+02     \n",
      "Epoch 312 | Iter 696 | Loss: 5e-05 | Acc: [0.462 0.409 0.389 0.347 0.    0.645 0.328 0.533] | Time 2e+02     \n",
      "Epoch 313 | Iter 696 | Loss: 6.5e-05 | Acc: [0.458 0.41  0.389 0.347 0.    0.646 0.328 0.532] | Time 2e+02     \n",
      "Epoch 314 | Iter 696 | Loss: 8.2e-05 | Acc: [0.462 0.41  0.388 0.348 0.    0.645 0.327 0.532] | Time 2e+02     \n",
      "Epoch 315 | Iter 696 | Loss: 8e-05 | Acc: [0.46  0.409 0.389 0.348 0.    0.645 0.328 0.534] | Time 2e+02     \n",
      "Epoch 316 | Iter 696 | Loss: 5.5e-05 | Acc: [0.46  0.409 0.389 0.349 0.001 0.644 0.328 0.531] | Time 2e+02     \n",
      "Epoch 317 | Iter 696 | Loss: 7.3e-05 | Acc: [0.46  0.409 0.389 0.348 0.    0.646 0.329 0.533] | Time 2e+02     \n",
      "Epoch 318 | Iter 696 | Loss: 5.4e-05 | Acc: [0.459 0.409 0.391 0.348 0.    0.645 0.329 0.531] | Time 2e+02     \n",
      "Epoch 319 | Iter 696 | Loss: 7.9e-05 | Acc: [0.458 0.409 0.389 0.347 0.    0.646 0.329 0.532] | Time 2e+02     \n",
      "Epoch 320 | Iter 696 | Loss: 8.5e-05 | Acc: [0.459 0.409 0.39  0.349 0.    0.645 0.329 0.534] | Time 2e+02     \n",
      "Epoch 321 | Iter 696 | Loss: 5.8e-05 | Acc: [0.458 0.408 0.391 0.349 0.    0.643 0.326 0.531] | Time 2e+02     \n",
      "Epoch 322 | Iter 696 | Loss: 9.3e-05 | Acc: [0.459 0.409 0.39  0.348 0.    0.645 0.328 0.532] | Time 2e+02     \n",
      "Epoch 323 | Iter 696 | Loss: 4.9e-05 | Acc: [0.458 0.409 0.391 0.348 0.    0.645 0.328 0.534] | Time 2e+02     \n",
      "Epoch 324 | Iter 696 | Loss: 7.5e-05 | Acc: [0.46  0.408 0.39  0.347 0.    0.645 0.329 0.53 ] | Time 2e+02     \n",
      "Epoch 325 | Iter 696 | Loss: 0.00012 | Acc: [0.458 0.409 0.39  0.348 0.    0.645 0.329 0.532] | Time 2e+02     \n",
      "Epoch 326 | Iter 696 | Loss: 0.00052 | Acc: [0.459 0.407 0.386 0.346 0.    0.644 0.329 0.529] | Time 2e+02     \n",
      "Epoch 327 | Iter 696 | Loss: 9e-05 | Acc: [0.458 0.408 0.39  0.347 0.    0.645 0.327 0.531] | Time 2e+02     \n",
      "Epoch 328 | Iter 696 | Loss: 5e-05 | Acc: [0.458 0.409 0.391 0.348 0.    0.644 0.329 0.534] | Time 2e+02     \n",
      "Epoch 329 | Iter 696 | Loss: 3.9e-05 | Acc: [0.458 0.41  0.391 0.348 0.    0.645 0.327 0.531] | Time 2e+02     \n",
      "Epoch 330 | Iter 696 | Loss: 4.4e-05 | Acc: [0.458 0.408 0.39  0.348 0.    0.645 0.328 0.531] | Time 2e+02     \n",
      "Epoch 331 | Iter 696 | Loss: 7.5e-05 | Acc: [0.458 0.409 0.39  0.348 0.001 0.645 0.329 0.531] | Time 2e+02     \n",
      "Epoch 332 | Iter 696 | Loss: 6e-05 | Acc: [0.461 0.41  0.39  0.348 0.    0.646 0.327 0.531] | Time 2e+02     \n",
      "Epoch 333 | Iter 696 | Loss: 6.6e-05 | Acc: [0.459 0.409 0.39  0.349 0.    0.645 0.329 0.532] | Time 2e+02     \n",
      "Epoch 334 | Iter 696 | Loss: 5.4e-05 | Acc: [0.46  0.409 0.39  0.347 0.001 0.646 0.328 0.532] | Time 2e+02     \n",
      "Epoch 335 | Iter 696 | Loss: 4.2e-05 | Acc: [0.46  0.409 0.391 0.347 0.    0.645 0.327 0.534] | Time 2e+02     \n",
      "Epoch 336 | Iter 696 | Loss: 7.5e-05 | Acc: [0.458 0.409 0.39  0.346 0.001 0.646 0.328 0.532] | Time 2e+02     \n",
      "Epoch 337 | Iter 696 | Loss: 3.2e-05 | Acc: [0.458 0.409 0.39  0.349 0.001 0.645 0.327 0.534] | Time 2e+02     \n",
      "Epoch 338 | Iter 696 | Loss: 5.2e-05 | Acc: [0.458 0.409 0.39  0.348 0.    0.645 0.328 0.53 ] | Time 2e+02     \n",
      "Epoch 339 | Iter 696 | Loss: 8.8e-05 | Acc: [0.46  0.409 0.39  0.348 0.    0.644 0.328 0.532] | Time 2e+02     \n",
      "Epoch 340 | Iter 696 | Loss: 4.9e-05 | Acc: [0.458 0.409 0.39  0.349 0.    0.646 0.328 0.533] | Time 2e+02     \n",
      "Epoch 341 | Iter 696 | Loss: 6.1e-05 | Acc: [0.46  0.409 0.39  0.347 0.001 0.646 0.328 0.534] | Time 2e+02     \n",
      "Epoch 342 | Iter 696 | Loss: 9.4e-05 | Acc: [0.458 0.408 0.391 0.348 0.001 0.645 0.328 0.529] | Time 2e+02     \n",
      "Epoch 343 | Iter 696 | Loss: 4.4e-05 | Acc: [0.461 0.409 0.39  0.348 0.    0.645 0.328 0.532] | Time 2e+02     \n",
      "Epoch 344 | Iter 696 | Loss: 5.7e-05 | Acc: [0.459 0.408 0.39  0.348 0.    0.645 0.328 0.532] | Time 2e+02     \n",
      "Epoch 345 | Iter 696 | Loss: 7.2e-05 | Acc: [0.458 0.408 0.391 0.348 0.    0.645 0.328 0.531] | Time 2e+02     \n",
      "Epoch 346 | Iter 696 | Loss: 5.3e-05 | Acc: [0.459 0.409 0.391 0.348 0.001 0.645 0.329 0.531] | Time 2e+02     \n",
      "Epoch 347 | Iter 696 | Loss: 9.7e-05 | Acc: [0.459 0.408 0.39  0.347 0.    0.645 0.329 0.531] | Time 2e+02     \n",
      "Epoch 348 | Iter 696 | Loss: 5.3e-05 | Acc: [0.458 0.408 0.391 0.348 0.001 0.645 0.328 0.532] | Time 2e+02     \n",
      "Epoch 349 | Iter 696 | Loss: 4.7e-05 | Acc: [0.458 0.408 0.391 0.348 0.    0.645 0.329 0.533] | Time 2e+02     \n",
      "Epoch 350 | Iter 696 | Loss: 0.00011 | Acc: [0.458 0.408 0.391 0.347 0.    0.645 0.329 0.531] | Time 2e+02     \n",
      "Epoch 351 | Iter 696 | Loss: 0.00011 | Acc: [0.458 0.409 0.389 0.348 0.    0.645 0.329 0.533] | Time 2e+02     \n",
      "Epoch 352 | Iter 696 | Loss: 9.1e-05 | Acc: [0.459 0.408 0.389 0.347 0.001 0.645 0.327 0.532] | Time 2e+02     \n",
      "Epoch 353 | Iter 696 | Loss: 0.0001 | Acc: [0.46  0.408 0.39  0.346 0.    0.644 0.33  0.531] | Time 2e+02     \n",
      "Epoch 354 | Iter 696 | Loss: 4.1e-05 | Acc: [0.458 0.409 0.389 0.347 0.    0.645 0.328 0.533] | Time 2e+02     \n",
      "Epoch 355 | Iter 696 | Loss: 5.3e-05 | Acc: [0.458 0.409 0.391 0.349 0.    0.645 0.328 0.533] | Time 2e+02     \n",
      "Epoch 356 | Iter 696 | Loss: 4.9e-05 | Acc: [0.458 0.408 0.389 0.348 0.    0.645 0.327 0.533] | Time 2e+02     \n",
      "Epoch 357 | Iter 696 | Loss: 5e-05 | Acc: [0.458 0.408 0.39  0.348 0.001 0.645 0.328 0.534] | Time 2e+02     \n",
      "Epoch 358 | Iter 696 | Loss: 4.4e-05 | Acc: [0.457 0.409 0.389 0.347 0.    0.645 0.327 0.531] | Time 2e+02     \n",
      "Epoch 359 | Iter 696 | Loss: 6.7e-05 | Acc: [0.458 0.408 0.389 0.349 0.001 0.644 0.329 0.531] | Time 2e+02     \n",
      "Epoch 360 | Iter 696 | Loss: 6.8e-05 | Acc: [0.46  0.407 0.39  0.348 0.001 0.645 0.328 0.532] | Time 2e+02     \n",
      "Epoch 361 | Iter 696 | Loss: 6e-05 | Acc: [0.46  0.408 0.391 0.348 0.    0.645 0.329 0.533] | Time 2e+02     \n",
      "Epoch 362 | Iter 696 | Loss: 3.7e-05 | Acc: [0.458 0.408 0.389 0.348 0.    0.645 0.327 0.532] | Time 2e+02     \n",
      "Epoch 363 | Iter 696 | Loss: 3.8e-05 | Acc: [0.457 0.408 0.39  0.348 0.    0.644 0.329 0.533] | Time 2e+02     \n",
      "Epoch 364 | Iter 696 | Loss: 5.1e-05 | Acc: [0.458 0.409 0.39  0.348 0.    0.645 0.329 0.533] | Time 2e+02     \n",
      "Epoch 365 | Iter 696 | Loss: 6.4e-05 | Acc: [0.459 0.408 0.39  0.346 0.    0.645 0.33  0.532] | Time 2e+02     \n",
      "Epoch 366 | Iter 696 | Loss: 8.9e-05 | Acc: [0.461 0.408 0.39  0.348 0.    0.645 0.329 0.532] | Time 2e+02     \n",
      "Epoch 367 | Iter 696 | Loss: 5.4e-05 | Acc: [0.458 0.408 0.391 0.348 0.    0.645 0.33  0.535] | Time 2e+02     \n",
      "Epoch 368 | Iter 696 | Loss: 8e-05 | Acc: [0.461 0.408 0.39  0.349 0.    0.645 0.33  0.532] | Time 2e+02     \n",
      "Epoch 369 | Iter 696 | Loss: 5.1e-05 | Acc: [0.458 0.409 0.39  0.347 0.    0.645 0.329 0.533] | Time 2e+02     \n",
      "Epoch 370 | Iter 696 | Loss: 5e-05 | Acc: [0.458 0.408 0.39  0.348 0.    0.645 0.329 0.532] | Time 2e+02     \n",
      "Epoch 371 | Iter 696 | Loss: 4.4e-05 | Acc: [0.459 0.409 0.39  0.348 0.    0.645 0.33  0.531] | Time 2e+02     \n",
      "Epoch 372 | Iter 696 | Loss: 8.3e-05 | Acc: [0.458 0.409 0.391 0.348 0.    0.645 0.33  0.531] | Time 2e+02     \n",
      "Epoch 373 | Iter 696 | Loss: 4.8e-05 | Acc: [0.458 0.409 0.391 0.349 0.    0.645 0.33  0.533] | Time 2e+02     \n",
      "Epoch 374 | Iter 696 | Loss: 5.8e-05 | Acc: [0.458 0.409 0.391 0.348 0.    0.646 0.332 0.531] | Time 2e+02     \n",
      "Epoch 375 | Iter 696 | Loss: 1.8e-05 | Acc: [0.458 0.409 0.392 0.348 0.    0.645 0.331 0.533] | Time 2e+02     \n",
      "Epoch 376 | Iter 696 | Loss: 5.5e-05 | Acc: [0.458 0.408 0.391 0.348 0.    0.645 0.33  0.533] | Time 2e+02     \n",
      "Epoch 377 | Iter 696 | Loss: 7.9e-05 | Acc: [0.458 0.409 0.391 0.347 0.001 0.645 0.329 0.529] | Time 2e+02     \n",
      "Epoch 378 | Iter 696 | Loss: 5.5e-05 | Acc: [0.458 0.408 0.391 0.348 0.001 0.645 0.33  0.532] | Time 2e+02     \n",
      "Epoch 379 | Iter 696 | Loss: 2.8e-05 | Acc: [0.458 0.408 0.391 0.348 0.001 0.645 0.33  0.533] | Time 2e+02     \n",
      "Epoch 380 | Iter 696 | Loss: 6.4e-05 | Acc: [0.458 0.409 0.391 0.346 0.    0.646 0.33  0.532] | Time 2e+02     \n",
      "Epoch 381 | Iter 696 | Loss: 5.3e-05 | Acc: [0.457 0.407 0.391 0.348 0.    0.644 0.329 0.532] | Time 2e+02     \n",
      "Epoch 382 | Iter 696 | Loss: 4.3e-05 | Acc: [0.458 0.408 0.391 0.348 0.001 0.645 0.328 0.532] | Time 2e+02     \n",
      "Epoch 383 | Iter 696 | Loss: 0.00014 | Acc: [0.458 0.407 0.39  0.345 0.001 0.645 0.33  0.531] | Time 2e+02     \n",
      "Epoch 384 | Iter 696 | Loss: 8.1e-05 | Acc: [0.458 0.409 0.389 0.348 0.    0.645 0.33  0.53 ] | Time 2e+02     \n",
      "Epoch 385 | Iter 696 | Loss: 8.1e-05 | Acc: [0.457 0.408 0.391 0.348 0.    0.645 0.329 0.533] | Time 2e+02     \n",
      "Epoch 386 | Iter 696 | Loss: 3.3e-05 | Acc: [0.458 0.409 0.39  0.348 0.    0.645 0.33  0.532] | Time 2e+02     \n",
      "Epoch 387 | Iter 696 | Loss: 4.5e-05 | Acc: [0.46  0.409 0.39  0.349 0.    0.645 0.329 0.531] | Time 2e+02     \n",
      "Epoch 388 | Iter 696 | Loss: 3.2e-05 | Acc: [0.458 0.408 0.39  0.348 0.    0.644 0.329 0.532] | Time 2e+02     \n",
      "Epoch 389 | Iter 696 | Loss: 5.8e-05 | Acc: [0.458 0.409 0.391 0.348 0.    0.645 0.328 0.533] | Time 2e+02     \n",
      "Epoch 390 | Iter 696 | Loss: 3.6e-05 | Acc: [0.46  0.409 0.391 0.347 0.    0.644 0.33  0.532] | Time 2e+02     \n",
      "Epoch 391 | Iter 696 | Loss: 3.8e-05 | Acc: [0.458 0.409 0.39  0.347 0.    0.645 0.329 0.531] | Time 2e+02     \n",
      "Epoch 392 | Iter 696 | Loss: 6.5e-05 | Acc: [0.46  0.408 0.39  0.347 0.    0.645 0.33  0.53 ] | Time 2e+02     \n",
      "Epoch 393 | Iter 696 | Loss: 6.2e-05 | Acc: [0.458 0.409 0.389 0.348 0.    0.645 0.329 0.532] | Time 2e+02     \n",
      "Epoch 394 | Iter 696 | Loss: 5.3e-05 | Acc: [0.458 0.408 0.391 0.348 0.    0.644 0.329 0.532] | Time 2e+02     \n",
      "Epoch 395 | Iter 696 | Loss: 5.7e-05 | Acc: [0.458 0.408 0.39  0.348 0.    0.645 0.33  0.531] | Time 2e+02     \n",
      "Epoch 396 | Iter 696 | Loss: 3.6e-05 | Acc: [0.457 0.408 0.391 0.347 0.    0.645 0.329 0.533] | Time 2e+02     \n",
      "Epoch 397 | Iter 696 | Loss: 7e-05 | Acc: [0.459 0.409 0.39  0.348 0.    0.645 0.33  0.532] | Time 2e+02     \n",
      "Epoch 398 | Iter 696 | Loss: 4e-05 | Acc: [0.458 0.408 0.39  0.348 0.    0.644 0.329 0.532] | Time 2e+02     \n",
      "Epoch 399 | Iter 696 | Loss: 0.00011 | Acc: [0.458 0.409 0.39  0.347 0.    0.644 0.329 0.53 ] | Time 2e+02     \n",
      "Epoch 400 | Iter 696 | Loss: 4.3e-05 | Acc: [0.461 0.409 0.39  0.349 0.    0.645 0.329 0.531] | Time 2e+02     \n",
      "Epoch 401 | Iter 696 | Loss: 6.4e-05 | Acc: [0.458 0.409 0.389 0.348 0.    0.644 0.329 0.531] | Time 2e+02     \n",
      "Epoch 402 | Iter 696 | Loss: 5.4e-05 | Acc: [0.458 0.409 0.39  0.349 0.    0.645 0.33  0.532] | Time 2e+02     \n",
      "Epoch 403 | Iter 696 | Loss: 5.3e-05 | Acc: [0.457 0.409 0.39  0.348 0.    0.645 0.329 0.532] | Time 2e+02     \n",
      "Epoch 404 | Iter 696 | Loss: 3.5e-05 | Acc: [0.458 0.409 0.389 0.348 0.001 0.646 0.329 0.532] | Time 2e+02     \n",
      "Epoch 405 | Iter 696 | Loss: 2.8e-05 | Acc: [0.457 0.409 0.389 0.349 0.    0.645 0.328 0.532] | Time 2e+02     \n",
      "Epoch 406 | Iter 696 | Loss: 5.7e-05 | Acc: [0.46  0.409 0.391 0.348 0.    0.645 0.329 0.531] | Time 2e+02     \n",
      "Epoch 407 | Iter 696 | Loss: 4.7e-05 | Acc: [0.458 0.408 0.39  0.348 0.    0.645 0.329 0.53 ] | Time 2e+02     \n",
      "Epoch 408 | Iter 696 | Loss: 3.7e-05 | Acc: [0.457 0.409 0.391 0.348 0.    0.645 0.328 0.532] | Time 2e+02     \n",
      "Epoch 409 | Iter 696 | Loss: 8.5e-05 | Acc: [0.459 0.408 0.39  0.347 0.    0.645 0.328 0.532] | Time 2e+02     \n",
      "Epoch 410 | Iter 696 | Loss: 5.7e-05 | Acc: [0.457 0.409 0.391 0.348 0.    0.645 0.329 0.531] | Time 2e+02     \n",
      "Epoch 411 | Iter 696 | Loss: 2.7e-05 | Acc: [0.458 0.409 0.39  0.348 0.    0.645 0.329 0.53 ] | Time 2e+02     \n",
      "Epoch 412 | Iter 696 | Loss: 5.9e-05 | Acc: [0.46  0.408 0.389 0.349 0.    0.645 0.329 0.53 ] | Time 2e+02     \n",
      "Epoch 413 | Iter 696 | Loss: 3.8e-05 | Acc: [0.46  0.408 0.389 0.349 0.    0.645 0.328 0.532] | Time 2e+02     \n",
      "Epoch 414 | Iter 696 | Loss: 6.8e-05 | Acc: [0.46  0.409 0.389 0.348 0.    0.645 0.328 0.53 ] | Time 2e+02     \n",
      "Epoch 415 | Iter 696 | Loss: 3.5e-05 | Acc: [0.458 0.409 0.391 0.348 0.    0.645 0.331 0.532] | Time 2e+02     \n",
      "Epoch 416 | Iter 696 | Loss: 6.1e-05 | Acc: [0.46  0.409 0.389 0.348 0.    0.645 0.329 0.53 ] | Time 2e+02     \n",
      "Epoch 417 | Iter 696 | Loss: 5.1e-05 | Acc: [0.46  0.408 0.39  0.349 0.001 0.645 0.33  0.531] | Time 2e+02     \n",
      "Epoch 418 | Iter 696 | Loss: 0.00012 | Acc: [0.457 0.408 0.391 0.347 0.001 0.644 0.33  0.529] | Time 2e+02     \n",
      "Epoch 419 | Iter 696 | Loss: 5.7e-05 | Acc: [0.46  0.409 0.391 0.348 0.    0.645 0.33  0.531] | Time 2e+02     \n",
      "Epoch 420 | Iter 696 | Loss: 6.2e-05 | Acc: [0.46  0.409 0.391 0.348 0.    0.645 0.329 0.53 ] | Time 2e+02     \n",
      "Epoch 421 | Iter 696 | Loss: 3.8e-05 | Acc: [0.46  0.409 0.391 0.349 0.001 0.646 0.33  0.532] | Time 2e+02     \n",
      "Epoch 422 | Iter 696 | Loss: 7.3e-05 | Acc: [0.46  0.409 0.39  0.349 0.    0.645 0.329 0.531] | Time 2e+02     \n",
      "Epoch 423 | Iter 696 | Loss: 3.9e-05 | Acc: [0.46  0.41  0.39  0.349 0.    0.646 0.329 0.531] | Time 2e+02     \n",
      "Epoch 424 | Iter 696 | Loss: 5.1e-05 | Acc: [0.46  0.409 0.39  0.348 0.001 0.646 0.329 0.531] | Time 2e+02     \n",
      "Epoch 425 | Iter 696 | Loss: 4.8e-05 | Acc: [0.458 0.408 0.39  0.348 0.    0.646 0.328 0.532] | Time 2e+02     \n",
      "Epoch 426 | Iter 696 | Loss: 2.1e-05 | Acc: [0.46  0.409 0.39  0.349 0.    0.646 0.33  0.531] | Time 2e+02     \n",
      "Epoch 427 | Iter 696 | Loss: 3.2e-05 | Acc: [0.46  0.409 0.389 0.348 0.    0.646 0.328 0.529] | Time 2e+02     \n",
      "Epoch 428 | Iter 696 | Loss: 5e-05 | Acc: [0.46  0.409 0.389 0.349 0.    0.646 0.329 0.53 ] | Time 2e+02     \n",
      "Epoch 429 | Iter 696 | Loss: 7.4e-05 | Acc: [0.458 0.409 0.39  0.347 0.    0.645 0.329 0.529] | Time 2e+02     \n",
      "Epoch 430 | Iter 696 | Loss: 3.7e-05 | Acc: [0.458 0.41  0.39  0.347 0.    0.645 0.328 0.53 ] | Time 2e+02     \n",
      "Epoch 431 | Iter 696 | Loss: 3.5e-05 | Acc: [0.458 0.41  0.39  0.348 0.    0.646 0.329 0.532] | Time 2e+02     \n",
      "Epoch 432 | Iter 696 | Loss: 4.6e-05 | Acc: [0.458 0.41  0.389 0.348 0.    0.645 0.329 0.531] | Time 2e+02     \n",
      "Epoch 433 | Iter 696 | Loss: 5e-05 | Acc: [0.458 0.41  0.39  0.348 0.    0.645 0.329 0.531] | Time 2e+02     \n",
      "Epoch 434 | Iter 696 | Loss: 2.4e-05 | Acc: [0.458 0.409 0.39  0.349 0.    0.645 0.329 0.531] | Time 2e+02     \n",
      "Epoch 435 | Iter 696 | Loss: 0.00013 | Acc: [0.458 0.409 0.389 0.347 0.    0.644 0.328 0.529] | Time 2e+02     \n",
      "Epoch 436 | Iter 696 | Loss: 6.2e-05 | Acc: [0.46  0.409 0.39  0.348 0.    0.645 0.329 0.532] | Time 2e+02     \n",
      "Epoch 437 | Iter 696 | Loss: 2.3e-05 | Acc: [0.459 0.411 0.39  0.348 0.    0.646 0.33  0.533] | Time 2e+02     \n",
      "Epoch 438 | Iter 696 | Loss: 3.7e-05 | Acc: [0.461 0.41  0.39  0.348 0.001 0.646 0.329 0.532] | Time 2e+02     \n",
      "Epoch 439 | Iter 696 | Loss: 3.7e-05 | Acc: [0.463 0.41  0.391 0.348 0.    0.645 0.329 0.534] | Time 2e+02     \n",
      "Epoch 440 | Iter 696 | Loss: 4e-05 | Acc: [0.461 0.409 0.391 0.348 0.    0.645 0.329 0.532] | Time 2e+02     \n",
      "Epoch 441 | Iter 696 | Loss: 5e-05 | Acc: [0.462 0.409 0.389 0.348 0.    0.645 0.33  0.531] | Time 2e+02     \n",
      "Epoch 442 | Iter 696 | Loss: 3.6e-05 | Acc: [0.459 0.41  0.39  0.347 0.    0.644 0.328 0.53 ] | Time 2e+02     \n",
      "Epoch 443 | Iter 696 | Loss: 6.2e-05 | Acc: [0.461 0.409 0.389 0.347 0.    0.646 0.33  0.53 ] | Time 2e+02     \n",
      "Epoch 444 | Iter 696 | Loss: 5e-05 | Acc: [0.462 0.41  0.39  0.348 0.    0.645 0.329 0.531] | Time 2e+02     \n",
      "Epoch 445 | Iter 696 | Loss: 2.8e-05 | Acc: [0.462 0.409 0.39  0.348 0.    0.645 0.33  0.533] | Time 2e+02     \n",
      "Epoch 446 | Iter 696 | Loss: 3.4e-05 | Acc: [0.46  0.41  0.389 0.346 0.    0.645 0.33  0.531] | Time 2e+02     \n",
      "Epoch 447 | Iter 696 | Loss: 5.3e-05 | Acc: [0.458 0.409 0.389 0.348 0.    0.643 0.329 0.532] | Time 2e+02     \n",
      "Epoch 448 | Iter 696 | Loss: 5.1e-05 | Acc: [0.458 0.41  0.39  0.347 0.    0.645 0.33  0.532] | Time 2e+02     \n",
      "Epoch 449 | Iter 696 | Loss: 2.9e-05 | Acc: [0.458 0.409 0.389 0.348 0.    0.646 0.33  0.531] | Time 2e+02     \n",
      "Epoch 450 | Iter 696 | Loss: 5e-05 | Acc: [0.458 0.41  0.391 0.348 0.    0.645 0.33  0.532] | Time 2e+02     \n",
      "Epoch 451 | Iter 696 | Loss: 5.3e-05 | Acc: [0.46  0.41  0.39  0.348 0.    0.645 0.33  0.531] | Time 2e+02     \n",
      "Epoch 452 | Iter 696 | Loss: 4.7e-05 | Acc: [0.457 0.409 0.39  0.348 0.001 0.645 0.328 0.53 ] | Time 2e+02     \n",
      "Epoch 453 | Iter 696 | Loss: 4.3e-05 | Acc: [0.458 0.409 0.39  0.348 0.001 0.645 0.33  0.53 ] | Time 2e+02     \n",
      "Epoch 454 | Iter 696 | Loss: 6.5e-05 | Acc: [0.458 0.409 0.39  0.347 0.    0.645 0.33  0.531] | Time 2e+02     \n",
      "Epoch 455 | Iter 696 | Loss: 4e-05 | Acc: [0.457 0.409 0.39  0.348 0.001 0.646 0.328 0.531] | Time 2e+02     \n",
      "Epoch 456 | Iter 696 | Loss: 2.9e-05 | Acc: [0.458 0.409 0.39  0.348 0.    0.644 0.33  0.531] | Time 2e+02     \n",
      "Epoch 457 | Iter 696 | Loss: 7.4e-05 | Acc: [0.46  0.41  0.391 0.347 0.001 0.646 0.33  0.53 ] | Time 2e+02     \n",
      "Epoch 458 | Iter 696 | Loss: 2.7e-05 | Acc: [0.458 0.41  0.39  0.347 0.    0.645 0.33  0.531] | Time 2e+02     \n",
      "Epoch 459 | Iter 696 | Loss: 7.3e-05 | Acc: [0.459 0.41  0.39  0.346 0.001 0.645 0.328 0.531] | Time 2e+02     \n",
      "Epoch 460 | Iter 696 | Loss: 4.2e-05 | Acc: [0.457 0.41  0.39  0.347 0.    0.645 0.328 0.53 ] | Time 2e+02     \n",
      "Epoch 461 | Iter 696 | Loss: 0.00016 | Acc: [0.462 0.409 0.389 0.348 0.    0.645 0.33  0.531] | Time 2e+02     \n",
      "Epoch 462 | Iter 696 | Loss: 4.2e-05 | Acc: [0.458 0.409 0.39  0.348 0.    0.644 0.33  0.531] | Time 2e+02     \n",
      "Epoch 463 | Iter 696 | Loss: 3.9e-05 | Acc: [0.459 0.41  0.39  0.347 0.    0.645 0.329 0.53 ] | Time 2e+02     \n",
      "Epoch 464 | Iter 696 | Loss: 7.1e-05 | Acc: [0.46  0.409 0.39  0.348 0.    0.645 0.329 0.532] | Time 2e+02     \n",
      "Epoch 465 | Iter 696 | Loss: 0.0001 | Acc: [0.458 0.408 0.39  0.346 0.    0.645 0.327 0.529] | Time 2e+02     \n",
      "Epoch 466 | Iter 696 | Loss: 2.5e-05 | Acc: [0.458 0.409 0.39  0.346 0.    0.645 0.328 0.527] | Time 2e+02     \n",
      "Epoch 467 | Iter 696 | Loss: 3.2e-05 | Acc: [0.462 0.409 0.391 0.347 0.    0.646 0.329 0.531] | Time 2e+02     \n",
      "Epoch 468 | Iter 696 | Loss: 4.4e-05 | Acc: [0.458 0.409 0.389 0.347 0.    0.645 0.329 0.53 ] | Time 2e+02     \n",
      "Epoch 469 | Iter 696 | Loss: 6.6e-05 | Acc: [0.458 0.409 0.389 0.347 0.    0.645 0.328 0.529] | Time 2e+02     \n",
      "Epoch 470 | Iter 696 | Loss: 5.7e-05 | Acc: [0.46  0.409 0.39  0.347 0.001 0.646 0.33  0.53 ] | Time 2e+02     \n",
      "Epoch 471 | Iter 696 | Loss: 5.2e-05 | Acc: [0.458 0.409 0.39  0.346 0.    0.645 0.33  0.53 ] | Time 2e+02     \n",
      "Epoch 472 | Iter 696 | Loss: 5.3e-05 | Acc: [0.458 0.409 0.389 0.345 0.001 0.645 0.329 0.531] | Time 2e+02     \n",
      "Epoch 473 | Iter 696 | Loss: 6e-05 | Acc: [0.458 0.409 0.389 0.346 0.001 0.645 0.328 0.532] | Time 2e+02     \n",
      "Epoch 474 | Iter 696 | Loss: 6.9e-05 | Acc: [0.459 0.409 0.389 0.346 0.    0.645 0.329 0.532] | Time 2e+02     \n",
      "Epoch 475 | Iter 696 | Loss: 5.9e-05 | Acc: [0.459 0.409 0.39  0.347 0.    0.645 0.329 0.53 ] | Time 2e+02     \n",
      "Epoch 476 | Iter 696 | Loss: 4.8e-05 | Acc: [0.459 0.409 0.39  0.347 0.    0.646 0.33  0.531] | Time 2e+02     \n",
      "Epoch 477 | Iter 696 | Loss: 8.6e-05 | Acc: [0.457 0.409 0.389 0.348 0.    0.644 0.326 0.53 ] | Time 2e+02     \n",
      "Epoch 478 | Iter 696 | Loss: 3.7e-05 | Acc: [0.458 0.41  0.39  0.348 0.    0.645 0.329 0.531] | Time 2e+02     \n",
      "Epoch 479 | Iter 696 | Loss: 4.4e-05 | Acc: [0.458 0.409 0.39  0.347 0.    0.644 0.329 0.53 ] | Time 2e+02     \n",
      "Epoch 480 | Iter 696 | Loss: 6.6e-05 | Acc: [0.458 0.408 0.389 0.347 0.    0.644 0.328 0.531] | Time 2e+02     \n",
      "Epoch 481 | Iter 696 | Loss: 4.7e-05 | Acc: [0.458 0.409 0.389 0.347 0.    0.644 0.329 0.53 ] | Time 2e+02     \n",
      "Epoch 482 | Iter 696 | Loss: 4e-05 | Acc: [0.458 0.41  0.389 0.348 0.    0.646 0.329 0.533] | Time 2e+02     \n",
      "Epoch 483 | Iter 696 | Loss: 3.7e-05 | Acc: [0.458 0.409 0.389 0.346 0.    0.645 0.329 0.531] | Time 2e+02     \n",
      "Epoch 484 | Iter 696 | Loss: 3.9e-05 | Acc: [0.457 0.409 0.389 0.347 0.    0.645 0.329 0.532] | Time 2e+02     \n",
      "Epoch 485 | Iter 696 | Loss: 3.4e-05 | Acc: [0.458 0.409 0.39  0.347 0.    0.645 0.329 0.53 ] | Time 2e+02     \n",
      "Epoch 486 | Iter 696 | Loss: 3.9e-05 | Acc: [0.458 0.409 0.39  0.347 0.    0.645 0.328 0.532] | Time 2e+02     \n",
      "Epoch 487 | Iter 696 | Loss: 6e-05 | Acc: [0.458 0.41  0.39  0.346 0.    0.644 0.329 0.53 ] | Time 2e+02     \n",
      "Epoch 488 | Iter 696 | Loss: 4.1e-05 | Acc: [0.46  0.409 0.39  0.347 0.    0.645 0.329 0.532] | Time 2e+02     \n",
      "Epoch 489 | Iter 696 | Loss: 3.9e-05 | Acc: [0.457 0.408 0.39  0.345 0.    0.645 0.329 0.531] | Time 2e+02     \n",
      "Epoch 490 | Iter 696 | Loss: 6.6e-05 | Acc: [0.458 0.408 0.389 0.344 0.    0.645 0.328 0.53 ] | Time 2e+02     \n",
      "Epoch 491 | Iter 696 | Loss: 4.9e-05 | Acc: [0.458 0.41  0.39  0.346 0.    0.645 0.329 0.531] | Time 2e+02     \n",
      "Epoch 492 | Iter 696 | Loss: 3.5e-05 | Acc: [0.458 0.409 0.389 0.346 0.    0.644 0.328 0.532] | Time 2e+02     \n",
      "Epoch 493 | Iter 696 | Loss: 6.6e-05 | Acc: [0.458 0.409 0.39  0.345 0.    0.644 0.328 0.53 ] | Time 2e+02     \n",
      "Epoch 494 | Iter 696 | Loss: 4.2e-05 | Acc: [0.458 0.409 0.39  0.346 0.    0.645 0.329 0.531] | Time 2e+02     \n",
      "Epoch 495 | Iter 696 | Loss: 4.2e-05 | Acc: [0.458 0.41  0.39  0.346 0.    0.644 0.329 0.532] | Time 2e+02     \n",
      "Epoch 496 | Iter 696 | Loss: 3e-05 | Acc: [0.458 0.409 0.391 0.347 0.    0.645 0.33  0.532] | Time 2e+02     \n",
      "Epoch 497 | Iter 696 | Loss: 6e-05 | Acc: [0.458 0.409 0.39  0.345 0.    0.645 0.329 0.53 ] | Time 2e+02     \n",
      "Epoch 498 | Iter 696 | Loss: 4.7e-05 | Acc: [0.458 0.41  0.39  0.345 0.    0.646 0.33  0.531] | Time 2e+02     \n",
      "Epoch 499 | Iter 696 | Loss: 6.8e-05 | Acc: [0.458 0.41  0.39  0.344 0.    0.646 0.33  0.531] | Time 2e+02     \n",
      "Epoch 500 | Iter 696 | Loss: 3.3e-05 | Acc: [0.458 0.409 0.39  0.345 0.    0.645 0.329 0.532] | Time 2e+02     \n",
      "Epoch 501 | Iter 696 | Loss: 5.5e-05 | Acc: [0.457 0.409 0.389 0.346 0.    0.645 0.328 0.532] | Time 2e+02     \n",
      "Epoch 502 | Iter 696 | Loss: 2.7e-05 | Acc: [0.458 0.41  0.39  0.345 0.    0.645 0.33  0.531] | Time 2e+02     \n",
      "Epoch 503 | Iter 696 | Loss: 3.9e-05 | Acc: [0.458 0.409 0.389 0.348 0.    0.645 0.329 0.533] | Time 2e+02     \n",
      "Epoch 504 | Iter 696 | Loss: 6.2e-05 | Acc: [0.458 0.409 0.39  0.347 0.    0.645 0.329 0.531] | Time 2e+02     \n",
      "Epoch 505 | Iter 696 | Loss: 3e-05 | Acc: [0.458 0.409 0.391 0.346 0.    0.645 0.328 0.531] | Time 2e+02     \n",
      "Epoch 506 | Iter 696 | Loss: 3.3e-05 | Acc: [0.46  0.41  0.389 0.346 0.    0.645 0.329 0.532] | Time 2e+02     \n",
      "Epoch 507 | Iter 696 | Loss: 3.9e-05 | Acc: [0.458 0.409 0.39  0.347 0.    0.646 0.328 0.531] | Time 2e+02     \n",
      "Epoch 508 | Iter 696 | Loss: 0.00013 | Acc: [0.457 0.41  0.39  0.347 0.    0.645 0.327 0.529] | Time 2e+02     \n",
      "Epoch 509 | Iter 696 | Loss: 6.8e-05 | Acc: [0.458 0.409 0.391 0.347 0.    0.644 0.328 0.531] | Time 2e+02     \n",
      "Epoch 510 | Iter 696 | Loss: 4.2e-05 | Acc: [0.461 0.41  0.391 0.347 0.    0.644 0.327 0.53 ] | Time 2e+02     \n",
      "Epoch 511 | Iter 696 | Loss: 0.00014 | Acc: [0.456 0.408 0.39  0.346 0.    0.644 0.327 0.529] | Time 2e+02     \n",
      "Epoch 512 | Iter 696 | Loss: 5e-05 | Acc: [0.458 0.409 0.39  0.347 0.    0.645 0.329 0.534] | Time 2e+02     \n",
      "Epoch 513 | Iter 696 | Loss: 1.9e-05 | Acc: [0.461 0.409 0.391 0.347 0.    0.645 0.326 0.533] | Time 2e+02     \n",
      "Epoch 514 | Iter 696 | Loss: 3.1e-05 | Acc: [0.459 0.409 0.39  0.344 0.    0.645 0.326 0.533] | Time 2e+02     \n",
      "Epoch 515 | Iter 696 | Loss: 3.1e-05 | Acc: [0.46  0.409 0.39  0.347 0.    0.645 0.329 0.531] | Time 2e+02     \n",
      "Epoch 516 | Iter 696 | Loss: 4.8e-05 | Acc: [0.46  0.408 0.391 0.347 0.    0.645 0.329 0.533] | Time 2e+02     \n",
      "Epoch 517 | Iter 696 | Loss: 2.6e-05 | Acc: [0.459 0.409 0.391 0.347 0.    0.645 0.33  0.532] | Time 2e+02     \n",
      "Epoch 518 | Iter 696 | Loss: 7.2e-05 | Acc: [0.459 0.408 0.39  0.346 0.    0.645 0.33  0.532] | Time 2e+02     \n",
      "Epoch 519 | Iter 696 | Loss: 2.6e-05 | Acc: [0.459 0.409 0.39  0.346 0.    0.645 0.33  0.531] | Time 2e+02     \n",
      "Epoch 520 | Iter 696 | Loss: 2.8e-05 | Acc: [0.458 0.409 0.39  0.347 0.    0.645 0.33  0.531] | Time 2e+02     \n",
      "Epoch 521 | Iter 696 | Loss: 2.7e-05 | Acc: [0.458 0.408 0.39  0.346 0.    0.645 0.33  0.531] | Time 2e+02     \n",
      "Epoch 522 | Iter 696 | Loss: 6.1e-05 | Acc: [0.461 0.409 0.39  0.346 0.    0.645 0.33  0.531] | Time 2e+02     \n",
      "Epoch 523 | Iter 696 | Loss: 3.8e-05 | Acc: [0.458 0.409 0.391 0.346 0.    0.645 0.329 0.529] | Time 2e+02     \n",
      "Epoch 524 | Iter 696 | Loss: 3.7e-05 | Acc: [0.459 0.409 0.391 0.346 0.    0.644 0.33  0.529] | Time 2e+02     \n",
      "Epoch 525 | Iter 696 | Loss: 2.9e-05 | Acc: [0.458 0.409 0.39  0.347 0.    0.645 0.33  0.532] | Time 2e+02     \n",
      "Epoch 526 | Iter 696 | Loss: 4.9e-05 | Acc: [0.457 0.409 0.389 0.347 0.    0.645 0.33  0.531] | Time 2e+02     \n",
      "Epoch 527 | Iter 696 | Loss: 2.4e-05 | Acc: [0.459 0.409 0.39  0.347 0.    0.644 0.33  0.531] | Time 2e+02     \n",
      "Epoch 528 | Iter 696 | Loss: 2.6e-05 | Acc: [0.458 0.409 0.39  0.347 0.    0.645 0.33  0.531] | Time 2e+02     \n",
      "Epoch 529 | Iter 696 | Loss: 3.4e-05 | Acc: [0.458 0.409 0.391 0.346 0.    0.644 0.329 0.531] | Time 2e+02     \n",
      "Epoch 530 | Iter 696 | Loss: 6.2e-05 | Acc: [0.458 0.409 0.39  0.347 0.    0.644 0.329 0.531] | Time 2e+02     \n",
      "Epoch 531 | Iter 696 | Loss: 3.1e-05 | Acc: [0.457 0.409 0.39  0.346 0.    0.644 0.329 0.529] | Time 2e+02     \n",
      "Epoch 532 | Iter 696 | Loss: 0.0001 | Acc: [0.458 0.408 0.39  0.346 0.    0.644 0.328 0.529] | Time 2e+02     \n",
      "Epoch 533 | Iter 696 | Loss: 4.8e-05 | Acc: [0.461 0.409 0.39  0.346 0.    0.644 0.33  0.531] | Time 2e+02     \n",
      "Epoch 534 | Iter 696 | Loss: 4.8e-05 | Acc: [0.461 0.41  0.39  0.346 0.    0.645 0.329 0.531] | Time 2e+02     \n",
      "Epoch 535 | Iter 696 | Loss: 3.3e-05 | Acc: [0.458 0.409 0.39  0.347 0.    0.645 0.329 0.532] | Time 2e+02     \n",
      "Epoch 536 | Iter 696 | Loss: 2.4e-05 | Acc: [0.458 0.41  0.39  0.347 0.    0.645 0.33  0.532] | Time 2e+02     \n",
      "Epoch 537 | Iter 696 | Loss: 3.1e-05 | Acc: [0.458 0.41  0.391 0.346 0.    0.645 0.33  0.531] | Time 2e+02     \n",
      "Epoch 538 | Iter 696 | Loss: 5.2e-05 | Acc: [0.458 0.409 0.39  0.348 0.    0.645 0.329 0.53 ] | Time 2e+02     \n",
      "Epoch 539 | Iter 696 | Loss: 5.3e-05 | Acc: [0.458 0.409 0.387 0.346 0.    0.644 0.328 0.529] | Time 2e+02     \n",
      "Epoch 540 | Iter 696 | Loss: 2.9e-05 | Acc: [0.46  0.409 0.39  0.347 0.    0.645 0.331 0.531] | Time 2e+02     \n",
      "Epoch 541 | Iter 696 | Loss: 8.6e-05 | Acc: [0.46  0.409 0.389 0.347 0.    0.645 0.33  0.532] | Time 2e+02     \n",
      "Epoch 542 | Iter 696 | Loss: 3.5e-05 | Acc: [0.46  0.409 0.39  0.347 0.001 0.645 0.329 0.531] | Time 2e+02     \n",
      "Epoch 543 | Iter 696 | Loss: 3e-05 | Acc: [0.46  0.41  0.39  0.348 0.    0.645 0.33  0.532] | Time 2e+02     \n",
      "Epoch 544 | Iter 696 | Loss: 3.2e-05 | Acc: [0.459 0.41  0.391 0.346 0.    0.645 0.331 0.53 ] | Time 2e+02     \n",
      "Epoch 545 | Iter 696 | Loss: 2.3e-05 | Acc: [0.458 0.409 0.39  0.347 0.    0.645 0.33  0.531] | Time 2e+02     \n",
      "Epoch 546 | Iter 696 | Loss: 5.6e-05 | Acc: [0.46  0.409 0.389 0.348 0.    0.646 0.329 0.53 ] | Time 2e+02     \n",
      "Epoch 547 | Iter 696 | Loss: 4.5e-05 | Acc: [0.458 0.409 0.39  0.347 0.    0.645 0.329 0.531] | Time 2e+02     \n",
      "Epoch 548 | Iter 696 | Loss: 5.8e-05 | Acc: [0.457 0.409 0.39  0.348 0.    0.645 0.328 0.53 ] | Time 2e+02     \n",
      "Epoch 549 | Iter 696 | Loss: 3.7e-05 | Acc: [0.458 0.408 0.39  0.347 0.    0.645 0.326 0.53 ] | Time 2e+02     \n",
      "Epoch 550 | Iter 696 | Loss: 3.5e-05 | Acc: [0.461 0.409 0.391 0.348 0.    0.645 0.328 0.53 ] | Time 2e+02     \n",
      "Epoch 551 | Iter 696 | Loss: 3.9e-05 | Acc: [0.458 0.408 0.391 0.347 0.    0.645 0.329 0.531] | Time 2e+02     \n",
      "Epoch 552 | Iter 696 | Loss: 5.3e-05 | Acc: [0.459 0.409 0.391 0.346 0.001 0.645 0.329 0.531] | Time 2e+02     \n",
      "Epoch 553 | Iter 696 | Loss: 4.7e-05 | Acc: [0.458 0.409 0.391 0.347 0.    0.645 0.328 0.531] | Time 2e+02     \n",
      "Epoch 554 | Iter 696 | Loss: 6.4e-05 | Acc: [0.46  0.408 0.39  0.346 0.    0.645 0.329 0.53 ] | Time 2e+02     \n",
      "Epoch 555 | Iter 696 | Loss: 3.3e-05 | Acc: [0.458 0.41  0.39  0.346 0.    0.645 0.329 0.531] | Time 2e+02     \n",
      "Epoch 556 | Iter 696 | Loss: 4.3e-05 | Acc: [0.458 0.409 0.389 0.347 0.    0.645 0.329 0.53 ] | Time 2e+02     \n",
      "Epoch 557 | Iter 696 | Loss: 4.5e-05 | Acc: [0.46  0.41  0.391 0.347 0.001 0.645 0.33  0.532] | Time 2e+02     \n",
      "Epoch 558 | Iter 696 | Loss: 2.9e-05 | Acc: [0.459 0.409 0.391 0.347 0.001 0.645 0.33  0.531] | Time 2e+02     \n",
      "Epoch 559 | Iter 696 | Loss: 1.3e-05 | Acc: [0.459 0.41  0.392 0.347 0.    0.646 0.329 0.531] | Time 2e+02     \n",
      "Epoch 560 | Iter 696 | Loss: 1.7e-05 | Acc: [0.459 0.41  0.391 0.347 0.001 0.646 0.33  0.531] | Time 2e+02     \n",
      "Epoch 561 | Iter 696 | Loss: 5.3e-05 | Acc: [0.461 0.41  0.391 0.345 0.    0.645 0.328 0.532] | Time 2e+02     \n",
      "Epoch 562 | Iter 696 | Loss: 5.3e-05 | Acc: [0.459 0.409 0.391 0.346 0.    0.645 0.329 0.53 ] | Time 2e+02     \n",
      "Epoch 563 | Iter 696 | Loss: 3e-05 | Acc: [0.459 0.41  0.39  0.347 0.    0.645 0.33  0.531] | Time 2e+02     \n",
      "Epoch 564 | Iter 696 | Loss: 3.2e-05 | Acc: [0.461 0.41  0.391 0.347 0.    0.645 0.329 0.529] | Time 2e+02     \n",
      "Epoch 565 | Iter 696 | Loss: 5e-05 | Acc: [0.458 0.41  0.391 0.346 0.    0.645 0.329 0.53 ] | Time 2e+02     \n",
      "Epoch 566 | Iter 696 | Loss: 2.9e-05 | Acc: [0.458 0.409 0.391 0.347 0.    0.645 0.329 0.533] | Time 2e+02     \n",
      "Epoch 567 | Iter 696 | Loss: 2.2e-05 | Acc: [0.459 0.409 0.39  0.347 0.    0.646 0.329 0.533] | Time 2e+02     \n",
      "Epoch 568 | Iter 696 | Loss: 3.1e-05 | Acc: [0.461 0.409 0.39  0.346 0.    0.645 0.329 0.532] | Time 2e+02     \n",
      "Epoch 569 | Iter 696 | Loss: 3.3e-05 | Acc: [0.458 0.408 0.39  0.346 0.    0.645 0.328 0.531] | Time 2e+02     \n",
      "Epoch 570 | Iter 696 | Loss: 4.5e-05 | Acc: [0.46  0.408 0.39  0.346 0.    0.645 0.329 0.531] | Time 2e+02     \n",
      "Epoch 571 | Iter 696 | Loss: 3.3e-05 | Acc: [0.458 0.409 0.39  0.348 0.    0.645 0.33  0.53 ] | Time 2e+02     \n",
      "Epoch 572 | Iter 696 | Loss: 2.3e-05 | Acc: [0.459 0.409 0.39  0.348 0.    0.645 0.329 0.533] | Time 2e+02     \n",
      "Epoch 573 | Iter 696 | Loss: 3.4e-05 | Acc: [0.46  0.408 0.39  0.348 0.    0.645 0.328 0.532] | Time 2e+02     \n",
      "Epoch 574 | Iter 696 | Loss: 2.5e-05 | Acc: [0.459 0.409 0.391 0.349 0.    0.645 0.329 0.533] | Time 2e+02     \n",
      "Epoch 575 | Iter 696 | Loss: 5.5e-05 | Acc: [0.46  0.408 0.39  0.347 0.001 0.644 0.33  0.531] | Time 2e+02     \n",
      "Epoch 576 | Iter 696 | Loss: 3.8e-05 | Acc: [0.459 0.408 0.391 0.348 0.    0.644 0.328 0.531] | Time 2e+02     \n",
      "Epoch 577 | Iter 696 | Loss: 3.1e-05 | Acc: [0.46  0.409 0.39  0.347 0.001 0.644 0.33  0.531] | Time 2e+02     \n",
      "Epoch 578 | Iter 696 | Loss: 0.00013 | Acc: [0.458 0.407 0.39  0.348 0.    0.643 0.331 0.53 ] | Time 2e+02     \n",
      "Epoch 579 | Iter 696 | Loss: 3.1e-05 | Acc: [0.458 0.409 0.39  0.348 0.    0.645 0.326 0.53 ] | Time 2e+02     \n",
      "Epoch 580 | Iter 696 | Loss: 4.1e-05 | Acc: [0.46  0.409 0.39  0.348 0.    0.644 0.328 0.53 ] | Time 2e+02     \n",
      "Epoch 581 | Iter 696 | Loss: 4.1e-05 | Acc: [0.46  0.409 0.39  0.348 0.    0.644 0.329 0.53 ] | Time 2e+02     \n",
      "Epoch 582 | Iter 696 | Loss: 4.1e-05 | Acc: [0.459 0.409 0.39  0.347 0.    0.645 0.329 0.531] | Time 2e+02     \n",
      "Epoch 583 | Iter 696 | Loss: 4.5e-05 | Acc: [0.458 0.409 0.39  0.347 0.    0.645 0.33  0.532] | Time 2e+02     \n",
      "Epoch 584 | Iter 696 | Loss: 2.9e-05 | Acc: [0.46  0.409 0.39  0.347 0.    0.645 0.329 0.53 ] | Time 2e+02     \n",
      "Epoch 585 | Iter 696 | Loss: 3.4e-05 | Acc: [0.46  0.409 0.39  0.349 0.    0.644 0.328 0.531] | Time 2e+02     \n",
      "Epoch 586 | Iter 696 | Loss: 4.4e-05 | Acc: [0.46  0.409 0.391 0.348 0.    0.644 0.328 0.531] | Time 2e+02     \n",
      "Epoch 587 | Iter 696 | Loss: 3.7e-05 | Acc: [0.46  0.409 0.389 0.349 0.    0.645 0.329 0.53 ] | Time 2e+02     \n",
      "Epoch 588 | Iter 696 | Loss: 2.6e-05 | Acc: [0.463 0.409 0.391 0.348 0.    0.645 0.33  0.531] | Time 2e+02     \n",
      "Epoch 589 | Iter 696 | Loss: 3.4e-05 | Acc: [0.458 0.41  0.39  0.347 0.    0.645 0.328 0.531] | Time 2e+02     \n",
      "Epoch 590 | Iter 696 | Loss: 3.5e-05 | Acc: [0.46  0.409 0.39  0.348 0.    0.645 0.329 0.531] | Time 2e+02     \n",
      "Epoch 591 | Iter 696 | Loss: 5.2e-05 | Acc: [0.459 0.409 0.391 0.348 0.    0.645 0.328 0.531] | Time 2e+02     \n",
      "Epoch 592 | Iter 696 | Loss: 3.4e-05 | Acc: [0.458 0.409 0.389 0.349 0.    0.645 0.329 0.532] | Time 2e+02     \n",
      "Epoch 593 | Iter 696 | Loss: 3.7e-05 | Acc: [0.458 0.408 0.391 0.349 0.    0.645 0.329 0.531] | Time 2e+02     \n",
      "Epoch 594 | Iter 696 | Loss: 4.1e-05 | Acc: [0.457 0.409 0.39  0.349 0.    0.645 0.329 0.53 ] | Time 2e+02     \n",
      "Epoch 595 | Iter 696 | Loss: 4.3e-05 | Acc: [0.458 0.408 0.39  0.348 0.    0.645 0.328 0.528] | Time 2e+02     \n",
      "Epoch 596 | Iter 696 | Loss: 4e-05 | Acc: [0.459 0.409 0.391 0.349 0.    0.645 0.328 0.53 ] | Time 2e+02     \n",
      "Epoch 597 | Iter 696 | Loss: 3.1e-05 | Acc: [0.458 0.409 0.39  0.348 0.    0.645 0.328 0.529] | Time 2e+02     \n",
      "Epoch 598 | Iter 696 | Loss: 3.5e-05 | Acc: [0.46  0.409 0.39  0.349 0.    0.645 0.329 0.531] | Time 2e+02     \n",
      "Epoch 599 | Iter 696 | Loss: 3e-05 | Acc: [0.458 0.409 0.39  0.348 0.    0.645 0.329 0.532] | Time 2e+02     \n",
      "Epoch 600 | Iter 696 | Loss: 2.5e-05 | Acc: [0.458 0.408 0.39  0.349 0.    0.645 0.329 0.529] | Time 2e+02     \n",
      "Epoch 601 | Iter 696 | Loss: 1.8e-05 | Acc: [0.459 0.408 0.391 0.348 0.    0.645 0.329 0.531] | Time 2e+02     \n",
      "Epoch 602 | Iter 696 | Loss: 3.5e-05 | Acc: [0.458 0.409 0.391 0.349 0.    0.644 0.329 0.531] | Time 2e+02     \n",
      "Epoch 603 | Iter 696 | Loss: 8.3e-05 | Acc: [0.458 0.409 0.39  0.349 0.001 0.644 0.33  0.53 ] | Time 2e+02     \n",
      "Epoch 604 | Iter 696 | Loss: 2.9e-05 | Acc: [0.458 0.409 0.391 0.349 0.    0.645 0.329 0.531] | Time 2e+02     \n",
      "Epoch 605 | Iter 696 | Loss: 1.7e-05 | Acc: [0.461 0.409 0.39  0.348 0.001 0.645 0.33  0.53 ] | Time 2e+02     \n",
      "Epoch 606 | Iter 696 | Loss: 1.8e-05 | Acc: [0.459 0.409 0.39  0.346 0.    0.645 0.328 0.532] | Time 2e+02     \n",
      "Epoch 607 | Iter 696 | Loss: 2.3e-05 | Acc: [0.458 0.409 0.391 0.349 0.    0.645 0.33  0.53 ] | Time 2e+02     \n",
      "Epoch 608 | Iter 696 | Loss: 2e-05 | Acc: [0.457 0.408 0.39  0.347 0.    0.644 0.33  0.53 ] | Time 2e+02     \n",
      "Epoch 609 | Iter 696 | Loss: 3.4e-05 | Acc: [0.459 0.408 0.391 0.346 0.    0.644 0.33  0.531] | Time 2e+02     \n",
      "Epoch 610 | Iter 696 | Loss: 4e-05 | Acc: [0.462 0.408 0.39  0.346 0.    0.644 0.329 0.532] | Time 2e+02     \n",
      "Epoch 611 | Iter 696 | Loss: 3.2e-05 | Acc: [0.458 0.408 0.39  0.348 0.    0.645 0.329 0.532] | Time 2e+02     \n",
      "Epoch 612 | Iter 696 | Loss: 2.6e-05 | Acc: [0.461 0.409 0.39  0.347 0.    0.645 0.328 0.53 ] | Time 2e+02     \n",
      "Epoch 613 | Iter 696 | Loss: 3.2e-05 | Acc: [0.461 0.409 0.39  0.347 0.    0.644 0.33  0.531] | Time 2e+02     \n",
      "Epoch 614 | Iter 696 | Loss: 1.7e-05 | Acc: [0.458 0.409 0.39  0.347 0.    0.644 0.329 0.53 ] | Time 2e+02     \n",
      "Epoch 615 | Iter 696 | Loss: 9.7e-05 | Acc: [0.461 0.408 0.389 0.346 0.    0.645 0.328 0.531] | Time 2e+02     \n",
      "Epoch 616 | Iter 696 | Loss: 4.7e-05 | Acc: [0.458 0.409 0.39  0.348 0.    0.645 0.329 0.531] | Time 2e+02     \n",
      "Epoch 617 | Iter 696 | Loss: 5.1e-05 | Acc: [0.458 0.409 0.39  0.348 0.    0.645 0.33  0.531] | Time 2e+02     \n",
      "Epoch 618 | Iter 696 | Loss: 6.4e-06 | Acc: [0.459 0.409 0.39  0.349 0.    0.645 0.33  0.532] | Time 2e+02     \n",
      "Epoch 619 | Iter 696 | Loss: 1.3e-05 | Acc: [0.459 0.409 0.39  0.349 0.    0.645 0.33  0.533] | Time 2e+02     \n",
      "Epoch 620 | Iter 696 | Loss: 2.8e-05 | Acc: [0.458 0.408 0.391 0.348 0.    0.644 0.329 0.53 ] | Time 2e+02     \n",
      "Epoch 621 | Iter 696 | Loss: 3.2e-05 | Acc: [0.462 0.408 0.39  0.349 0.    0.645 0.33  0.532] | Time 2e+02     \n",
      "Epoch 622 | Iter 696 | Loss: 4e-05 | Acc: [0.458 0.408 0.391 0.348 0.    0.644 0.33  0.53 ] | Time 2e+02     \n",
      "Epoch 623 | Iter 696 | Loss: 4.2e-05 | Acc: [0.458 0.408 0.39  0.348 0.    0.644 0.33  0.533] | Time 2e+02     \n",
      "Epoch 624 | Iter 696 | Loss: 2.5e-05 | Acc: [0.458 0.408 0.391 0.349 0.    0.644 0.329 0.534] | Time 2e+02     \n",
      "Epoch 625 | Iter 696 | Loss: 3.6e-05 | Acc: [0.458 0.409 0.391 0.348 0.001 0.644 0.33  0.533] | Time 2e+02     \n",
      "Epoch 626 | Iter 696 | Loss: 4.9e-05 | Acc: [0.458 0.408 0.39  0.347 0.    0.644 0.329 0.532] | Time 2e+02     \n",
      "Epoch 627 | Iter 696 | Loss: 0.00012 | Acc: [0.457 0.408 0.389 0.347 0.    0.643 0.329 0.529] | Time 2e+02     \n",
      "Epoch 628 | Iter 696 | Loss: 4.8e-05 | Acc: [0.458 0.409 0.39  0.348 0.    0.645 0.329 0.532] | Time 2e+02     \n",
      "Epoch 629 | Iter 696 | Loss: 1.4e-05 | Acc: [0.458 0.409 0.39  0.348 0.001 0.645 0.33  0.53 ] | Time 2e+02     \n",
      "Epoch 630 | Iter 696 | Loss: 2e-05 | Acc: [0.458 0.409 0.39  0.348 0.    0.645 0.331 0.53 ] | Time 2e+02     \n",
      "Epoch 631 | Iter 696 | Loss: 2.1e-05 | Acc: [0.463 0.409 0.39  0.348 0.    0.645 0.33  0.531] | Time 2e+02     \n",
      "Epoch 632 | Iter 696 | Loss: 2.6e-05 | Acc: [0.462 0.409 0.39  0.347 0.    0.644 0.329 0.53 ] | Time 2e+02     \n",
      "Epoch 633 | Iter 696 | Loss: 4e-05 | Acc: [0.459 0.409 0.39  0.348 0.    0.644 0.33  0.53 ] | Time 2e+02     \n",
      "Epoch 634 | Iter 696 | Loss: 3.9e-05 | Acc: [0.458 0.409 0.391 0.347 0.    0.644 0.33  0.531] | Time 2e+02     \n",
      "Epoch 635 | Iter 696 | Loss: 3.7e-05 | Acc: [0.458 0.409 0.39  0.347 0.    0.644 0.328 0.53 ] | Time 2e+02     \n",
      "Epoch 636 | Iter 696 | Loss: 2.3e-05 | Acc: [0.459 0.409 0.391 0.346 0.    0.644 0.329 0.532] | Time 2e+02     \n",
      "Epoch 637 | Iter 696 | Loss: 4.3e-05 | Acc: [0.458 0.409 0.391 0.347 0.    0.644 0.329 0.53 ] | Time 2e+02     \n",
      "Epoch 638 | Iter 696 | Loss: 2.9e-05 | Acc: [0.46  0.409 0.39  0.347 0.    0.644 0.328 0.531] | Time 2e+02     \n",
      "Epoch 639 | Iter 696 | Loss: 2.7e-05 | Acc: [0.458 0.409 0.391 0.348 0.    0.644 0.328 0.529] | Time 2e+02     \n",
      "Epoch 640 | Iter 696 | Loss: 3.6e-05 | Acc: [0.458 0.408 0.391 0.347 0.    0.644 0.328 0.531] | Time 2e+02     \n",
      "Epoch 641 | Iter 696 | Loss: 2.4e-05 | Acc: [0.459 0.409 0.391 0.348 0.    0.644 0.329 0.531] | Time 2e+02     \n",
      "Epoch 642 | Iter 696 | Loss: 2.8e-05 | Acc: [0.461 0.408 0.39  0.347 0.    0.645 0.329 0.531] | Time 2e+02     \n",
      "Epoch 643 | Iter 696 | Loss: 4.4e-05 | Acc: [0.459 0.408 0.39  0.347 0.    0.645 0.329 0.531] | Time 2e+02     \n",
      "Epoch 644 | Iter 696 | Loss: 5e-05 | Acc: [0.459 0.408 0.391 0.346 0.    0.644 0.329 0.529] | Time 2e+02     \n",
      "Epoch 645 | Iter 696 | Loss: 3.4e-05 | Acc: [0.459 0.408 0.391 0.348 0.    0.644 0.328 0.531] | Time 2e+02     \n",
      "Epoch 646 | Iter 696 | Loss: 3.1e-05 | Acc: [0.458 0.408 0.39  0.348 0.    0.644 0.329 0.531] | Time 2e+02     \n",
      "Epoch 647 | Iter 696 | Loss: 5.6e-05 | Acc: [0.458 0.408 0.39  0.345 0.    0.645 0.328 0.531] | Time 2e+02     \n",
      "Epoch 648 | Iter 696 | Loss: 4.6e-05 | Acc: [0.457 0.407 0.391 0.347 0.    0.644 0.33  0.53 ] | Time 2e+02     \n",
      "Epoch 649 | Iter 696 | Loss: 5.5e-05 | Acc: [0.46  0.407 0.391 0.347 0.    0.644 0.329 0.531] | Time 2e+02     \n",
      "Epoch 650 | Iter 696 | Loss: 3.3e-05 | Acc: [0.458 0.408 0.39  0.348 0.    0.645 0.327 0.528] | Time 2e+02     \n",
      "Epoch 651 | Iter 696 | Loss: 3.2e-05 | Acc: [0.458 0.408 0.39  0.347 0.001 0.644 0.328 0.531] | Time 2e+02     \n",
      "Epoch 652 | Iter 696 | Loss: 2.5e-05 | Acc: [0.458 0.408 0.391 0.347 0.001 0.645 0.328 0.53 ] | Time 2e+02     \n",
      "Epoch 653 | Iter 696 | Loss: 2.4e-05 | Acc: [0.458 0.409 0.391 0.347 0.    0.645 0.33  0.529] | Time 2e+02     \n",
      "Epoch 654 | Iter 696 | Loss: 3.1e-05 | Acc: [0.459 0.408 0.391 0.347 0.    0.644 0.329 0.53 ] | Time 2e+02     \n",
      "Epoch 655 | Iter 696 | Loss: 4.6e-05 | Acc: [0.458 0.409 0.391 0.346 0.    0.644 0.329 0.529] | Time 2e+02     \n",
      "Epoch 656 | Iter 696 | Loss: 2.9e-05 | Acc: [0.46  0.409 0.391 0.347 0.    0.645 0.328 0.531] | Time 2e+02     \n",
      "Epoch 657 | Iter 696 | Loss: 4.8e-05 | Acc: [0.462 0.408 0.39  0.347 0.001 0.644 0.328 0.53 ] | Time 2e+02     \n",
      "Epoch 658 | Iter 696 | Loss: 2.3e-05 | Acc: [0.458 0.409 0.39  0.348 0.    0.644 0.328 0.531] | Time 2e+02     \n",
      "Epoch 659 | Iter 696 | Loss: 4.4e-05 | Acc: [0.458 0.409 0.39  0.346 0.    0.645 0.329 0.53 ] | Time 2e+02     \n",
      "Epoch 660 | Iter 696 | Loss: 3.3e-05 | Acc: [0.458 0.409 0.391 0.347 0.    0.644 0.329 0.529] | Time 2e+02     \n",
      "Epoch 661 | Iter 696 | Loss: 5e-05 | Acc: [0.46  0.409 0.39  0.346 0.    0.644 0.33  0.53 ] | Time 2e+02     \n",
      "Epoch 662 | Iter 696 | Loss: 2.8e-05 | Acc: [0.458 0.409 0.391 0.347 0.001 0.644 0.327 0.529] | Time 2e+02     \n",
      "Epoch 663 | Iter 696 | Loss: 4.3e-05 | Acc: [0.458 0.409 0.39  0.347 0.001 0.645 0.329 0.529] | Time 2e+02     \n",
      "Epoch 664 | Iter 696 | Loss: 2.9e-05 | Acc: [0.46  0.409 0.391 0.348 0.001 0.645 0.329 0.529] | Time 2e+02     \n",
      "Epoch 665 | Iter 696 | Loss: 3.8e-05 | Acc: [0.46  0.409 0.391 0.347 0.    0.644 0.329 0.53 ] | Time 2e+02     \n",
      "Epoch 666 | Iter 696 | Loss: 2.9e-05 | Acc: [0.46  0.408 0.391 0.348 0.    0.644 0.329 0.531] | Time 2e+02     \n",
      "Epoch 667 | Iter 696 | Loss: 5.5e-05 | Acc: [0.46  0.409 0.391 0.347 0.    0.644 0.329 0.529] | Time 2e+02     \n",
      "Epoch 668 | Iter 696 | Loss: 7.8e-05 | Acc: [0.458 0.407 0.391 0.346 0.001 0.644 0.33  0.531] | Time 2e+02     \n",
      "Epoch 669 | Iter 696 | Loss: 2.2e-05 | Acc: [0.46  0.409 0.391 0.347 0.    0.644 0.327 0.531] | Time 2e+02     \n",
      "Epoch 670 | Iter 696 | Loss: 5.8e-05 | Acc: [0.46  0.407 0.391 0.348 0.001 0.644 0.328 0.531] | Time 2e+02     \n",
      "Epoch 671 | Iter 696 | Loss: 2.1e-05 | Acc: [0.461 0.409 0.391 0.346 0.    0.644 0.329 0.531] | Time 2e+02     \n",
      "Epoch 672 | Iter 696 | Loss: 2e-05 | Acc: [0.46  0.409 0.391 0.346 0.    0.644 0.327 0.532] | Time 2e+02     \n",
      "Epoch 673 | Iter 696 | Loss: 4.6e-05 | Acc: [0.459 0.408 0.391 0.347 0.001 0.643 0.326 0.532] | Time 2e+02     \n",
      "Epoch 674 | Iter 696 | Loss: 5.9e-05 | Acc: [0.458 0.408 0.39  0.346 0.    0.644 0.327 0.531] | Time 2e+02     \n",
      "Epoch 675 | Iter 696 | Loss: 4.3e-05 | Acc: [0.46  0.409 0.39  0.348 0.    0.644 0.328 0.529] | Time 2e+02     \n",
      "Epoch 676 | Iter 696 | Loss: 4.7e-05 | Acc: [0.461 0.409 0.39  0.346 0.    0.644 0.328 0.532] | Time 2e+02     \n",
      "Epoch 677 | Iter 696 | Loss: 4e-05 | Acc: [0.458 0.408 0.39  0.347 0.    0.645 0.328 0.532] | Time 2e+02     \n",
      "Epoch 678 | Iter 696 | Loss: 1.5e-05 | Acc: [0.46  0.408 0.39  0.344 0.    0.645 0.328 0.53 ] | Time 2e+02     \n",
      "Epoch 679 | Iter 696 | Loss: 3.5e-05 | Acc: [0.46  0.408 0.39  0.347 0.    0.645 0.328 0.531] | Time 2e+02     \n",
      "Epoch 680 | Iter 696 | Loss: 2e-05 | Acc: [0.457 0.408 0.391 0.347 0.    0.644 0.328 0.531] | Time 2e+02     \n",
      "Epoch 681 | Iter 696 | Loss: 2e-05 | Acc: [0.457 0.408 0.391 0.348 0.    0.645 0.328 0.531] | Time 2e+02     \n",
      "Epoch 682 | Iter 696 | Loss: 4e-05 | Acc: [0.458 0.409 0.39  0.347 0.    0.644 0.328 0.53 ] | Time 2e+02     \n",
      "Epoch 683 | Iter 696 | Loss: 4.3e-05 | Acc: [0.458 0.409 0.391 0.346 0.    0.644 0.328 0.53 ] | Time 2e+02     \n",
      "Epoch 684 | Iter 696 | Loss: 3.9e-05 | Acc: [0.458 0.408 0.391 0.347 0.001 0.644 0.328 0.53 ] | Time 2e+02     \n",
      "Epoch 685 | Iter 696 | Loss: 1.8e-05 | Acc: [0.46  0.408 0.39  0.347 0.    0.645 0.328 0.529] | Time 2e+02     \n",
      "Epoch 686 | Iter 696 | Loss: 2.7e-05 | Acc: [0.458 0.408 0.391 0.347 0.    0.644 0.328 0.528] | Time 2e+02     \n",
      "Epoch 687 | Iter 696 | Loss: 2.4e-05 | Acc: [0.46  0.409 0.391 0.346 0.001 0.644 0.328 0.53 ] | Time 2e+02     \n",
      "Epoch 688 | Iter 696 | Loss: 6e-05 | Acc: [0.458 0.409 0.391 0.347 0.001 0.644 0.328 0.531] | Time 2e+02     \n",
      "Epoch 689 | Iter 696 | Loss: 3.1e-05 | Acc: [0.46  0.409 0.391 0.347 0.    0.644 0.328 0.53 ] | Time 2e+02     \n",
      "Epoch 690 | Iter 696 | Loss: 1.6e-05 | Acc: [0.458 0.409 0.391 0.347 0.001 0.645 0.328 0.53 ] | Time 2e+02     \n",
      "Epoch 691 | Iter 696 | Loss: 3.2e-05 | Acc: [0.457 0.408 0.39  0.347 0.    0.644 0.327 0.529] | Time 2e+02     \n",
      "Epoch 692 | Iter 696 | Loss: 2e-05 | Acc: [0.457 0.409 0.391 0.347 0.    0.644 0.329 0.528] | Time 2e+02     \n",
      "Epoch 693 | Iter 696 | Loss: 2.6e-05 | Acc: [0.458 0.409 0.39  0.347 0.    0.645 0.328 0.527] | Time 2e+02     \n",
      "Epoch 694 | Iter 696 | Loss: 3.4e-05 | Acc: [0.458 0.409 0.391 0.348 0.    0.644 0.329 0.529] | Time 2e+02     \n",
      "Epoch 695 | Iter 696 | Loss: 2.5e-05 | Acc: [0.46  0.409 0.391 0.346 0.    0.644 0.329 0.529] | Time 2e+02     \n",
      "Epoch 696 | Iter 696 | Loss: 2.7e-05 | Acc: [0.46  0.408 0.391 0.347 0.    0.644 0.33  0.528] | Time 2e+02     \n",
      "Epoch 697 | Iter 696 | Loss: 2.8e-05 | Acc: [0.459 0.408 0.391 0.348 0.    0.644 0.328 0.53 ] | Time 2e+02     \n",
      "Epoch 698 | Iter 696 | Loss: 1.5e-05 | Acc: [0.46  0.409 0.391 0.348 0.    0.644 0.329 0.529] | Time 2e+02     \n",
      "Epoch 699 | Iter 696 | Loss: 3.2e-05 | Acc: [0.458 0.409 0.39  0.348 0.    0.644 0.329 0.529] | Time 2e+02     \n",
      "Epoch 700 | Iter 696 | Loss: 5.4e-05 | Acc: [0.458 0.409 0.39  0.348 0.    0.644 0.329 0.528] | Time 2e+02     \n",
      "Epoch 701 | Iter 696 | Loss: 2.7e-05 | Acc: [0.458 0.409 0.391 0.347 0.    0.644 0.328 0.529] | Time 2e+02     \n",
      "Epoch 702 | Iter 696 | Loss: 1.9e-05 | Acc: [0.457 0.408 0.391 0.348 0.    0.644 0.328 0.529] | Time 2e+02     \n",
      "Epoch 703 | Iter 696 | Loss: 2.9e-05 | Acc: [0.46  0.409 0.39  0.348 0.    0.644 0.329 0.53 ] | Time 2e+02     \n",
      "Epoch 704 | Iter 696 | Loss: 4.3e-05 | Acc: [0.458 0.409 0.39  0.347 0.    0.644 0.329 0.531] | Time 2e+02     \n",
      "Epoch 705 | Iter 696 | Loss: 7.4e-05 | Acc: [0.46  0.409 0.389 0.348 0.001 0.644 0.328 0.529] | Time 2e+02     \n",
      "Epoch 706 | Iter 696 | Loss: 3.1e-05 | Acc: [0.461 0.409 0.39  0.348 0.001 0.645 0.329 0.529] | Time 2e+02     \n",
      "Epoch 707 | Iter 696 | Loss: 2.5e-05 | Acc: [0.458 0.409 0.391 0.348 0.    0.645 0.33  0.529] | Time 2e+02     \n",
      "Epoch 708 | Iter 696 | Loss: 2.1e-05 | Acc: [0.461 0.409 0.39  0.347 0.001 0.644 0.33  0.53 ] | Time 2e+02     \n",
      "Epoch 709 | Iter 696 | Loss: 4.5e-05 | Acc: [0.46  0.409 0.39  0.348 0.001 0.644 0.329 0.526] | Time 2e+02     \n",
      "Epoch 710 | Iter 696 | Loss: 3.9e-05 | Acc: [0.461 0.409 0.39  0.348 0.001 0.644 0.329 0.531] | Time 2e+02     \n",
      "Epoch 711 | Iter 696 | Loss: 2.2e-05 | Acc: [0.458 0.409 0.391 0.349 0.001 0.644 0.329 0.531] | Time 2e+02     \n",
      "Epoch 712 | Iter 696 | Loss: 2.8e-05 | Acc: [0.459 0.408 0.391 0.348 0.    0.644 0.329 0.53 ] | Time 2e+02     \n",
      "Epoch 713 | Iter 696 | Loss: 2.3e-05 | Acc: [0.459 0.409 0.39  0.348 0.001 0.646 0.329 0.53 ] | Time 2e+02     \n",
      "Epoch 714 | Iter 696 | Loss: 3.9e-05 | Acc: [0.46  0.409 0.39  0.347 0.001 0.644 0.329 0.529] | Time 2e+02     \n",
      "Epoch 715 | Iter 696 | Loss: 3.5e-05 | Acc: [0.461 0.409 0.391 0.348 0.    0.644 0.329 0.528] | Time 2e+02     \n",
      "Epoch 716 | Iter 696 | Loss: 3.7e-05 | Acc: [0.46  0.409 0.39  0.348 0.    0.644 0.33  0.53 ] | Time 2e+02     \n",
      "Epoch 717 | Iter 696 | Loss: 3.6e-05 | Acc: [0.46  0.408 0.39  0.347 0.    0.644 0.329 0.527] | Time 2e+02     \n",
      "Epoch 718 | Iter 696 | Loss: 4.8e-05 | Acc: [0.46  0.409 0.392 0.347 0.    0.644 0.33  0.53 ] | Time 2e+02     \n",
      "Epoch 719 | Iter 696 | Loss: 2.7e-05 | Acc: [0.46  0.409 0.391 0.348 0.    0.644 0.33  0.528] | Time 2e+02     \n",
      "Epoch 720 | Iter 696 | Loss: 5.3e-05 | Acc: [0.46  0.409 0.39  0.347 0.    0.644 0.329 0.528] | Time 2e+02     \n",
      "Epoch 721 | Iter 696 | Loss: 2.4e-05 | Acc: [0.46  0.409 0.39  0.348 0.    0.644 0.329 0.528] | Time 2e+02     \n",
      "Epoch 722 | Iter 696 | Loss: 2.6e-05 | Acc: [0.458 0.409 0.39  0.347 0.    0.644 0.33  0.53 ] | Time 2e+02     \n",
      "Epoch 723 | Iter 696 | Loss: 2.5e-05 | Acc: [0.461 0.409 0.39  0.347 0.    0.644 0.329 0.53 ] | Time 2e+02     \n",
      "Epoch 724 | Iter 696 | Loss: 5.5e-05 | Acc: [0.46  0.409 0.39  0.347 0.    0.644 0.328 0.529] | Time 2e+02     \n",
      "Epoch 725 | Iter 696 | Loss: 1.8e-05 | Acc: [0.461 0.409 0.391 0.348 0.    0.645 0.329 0.53 ] | Time 2e+02     \n",
      "Epoch 726 | Iter 696 | Loss: 3.4e-05 | Acc: [0.461 0.409 0.39  0.347 0.001 0.644 0.33  0.53 ] | Time 2e+02     \n",
      "Epoch 727 | Iter 696 | Loss: 3.6e-05 | Acc: [0.462 0.409 0.39  0.347 0.    0.644 0.329 0.529] | Time 2e+02     \n",
      "Epoch 728 | Iter 696 | Loss: 3.4e-05 | Acc: [0.46  0.409 0.391 0.347 0.001 0.645 0.33  0.53 ] | Time 2e+02     \n",
      "Epoch 729 | Iter 696 | Loss: 2.4e-05 | Acc: [0.46  0.408 0.391 0.347 0.    0.645 0.328 0.529] | Time 2e+02     \n",
      "Epoch 730 | Iter 696 | Loss: 1.3e-05 | Acc: [0.461 0.409 0.39  0.347 0.    0.645 0.329 0.529] | Time 2e+02     \n",
      "Epoch 731 | Iter 696 | Loss: 3.1e-05 | Acc: [0.458 0.409 0.391 0.348 0.    0.644 0.33  0.527] | Time 2e+02     \n",
      "Epoch 732 | Iter 696 | Loss: 6.9e-05 | Acc: [0.458 0.408 0.39  0.347 0.    0.644 0.329 0.53 ] | Time 2e+02     \n",
      "Epoch 733 | Iter 696 | Loss: 3.7e-05 | Acc: [0.461 0.409 0.391 0.347 0.    0.645 0.33  0.529] | Time 2e+02     \n",
      "Epoch 734 | Iter 696 | Loss: 4.3e-05 | Acc: [0.458 0.407 0.391 0.347 0.    0.644 0.329 0.529] | Time 2e+02     \n",
      "Epoch 735 | Iter 696 | Loss: 6.7e-05 | Acc: [0.459 0.409 0.391 0.346 0.    0.643 0.327 0.529] | Time 2e+02     \n",
      "Epoch 736 | Iter 696 | Loss: 2e-05 | Acc: [0.461 0.408 0.391 0.345 0.    0.645 0.331 0.532] | Time 2e+02     \n",
      "Epoch 737 | Iter 696 | Loss: 2.7e-05 | Acc: [0.459 0.409 0.391 0.346 0.    0.645 0.329 0.529] | Time 2e+02     \n",
      "Epoch 738 | Iter 696 | Loss: 2.6e-05 | Acc: [0.461 0.409 0.391 0.346 0.    0.645 0.329 0.529] | Time 2e+02     \n",
      "Epoch 739 | Iter 696 | Loss: 6e-05 | Acc: [0.459 0.409 0.39  0.346 0.    0.644 0.33  0.53 ] | Time 2e+02     \n",
      "Epoch 740 | Iter 696 | Loss: 2.2e-05 | Acc: [0.46  0.409 0.391 0.345 0.001 0.645 0.33  0.53 ] | Time 2e+02     \n",
      "Epoch 741 | Iter 696 | Loss: 2.1e-05 | Acc: [0.461 0.408 0.392 0.347 0.    0.645 0.328 0.531] | Time 2e+02     \n",
      "Epoch 742 | Iter 696 | Loss: 2.4e-05 | Acc: [0.46  0.408 0.391 0.347 0.    0.645 0.329 0.529] | Time 2e+02     \n",
      "Epoch 743 | Iter 696 | Loss: 2.4e-05 | Acc: [0.461 0.409 0.39  0.347 0.    0.645 0.33  0.53 ] | Time 2e+02     \n",
      "Epoch 744 | Iter 696 | Loss: 2.3e-05 | Acc: [0.462 0.408 0.391 0.345 0.    0.645 0.329 0.531] | Time 2e+02     \n",
      "Epoch 745 | Iter 696 | Loss: 2.6e-05 | Acc: [0.463 0.408 0.391 0.346 0.    0.645 0.33  0.531] | Time 2e+02     \n",
      "Epoch 746 | Iter 696 | Loss: 3e-05 | Acc: [0.461 0.408 0.391 0.346 0.    0.645 0.328 0.529] | Time 2e+02     \n",
      "Epoch 747 | Iter 696 | Loss: 4e-05 | Acc: [0.46  0.408 0.391 0.347 0.    0.645 0.329 0.531] | Time 2e+02     \n",
      "Epoch 748 | Iter 696 | Loss: 3e-05 | Acc: [0.461 0.408 0.391 0.347 0.    0.645 0.33  0.53 ] | Time 2e+02     \n",
      "Epoch 749 | Iter 696 | Loss: 2.3e-05 | Acc: [0.461 0.409 0.391 0.348 0.    0.644 0.329 0.531] | Time 2e+02     \n",
      "Epoch 750 | Iter 696 | Loss: 2.4e-05 | Acc: [0.46  0.408 0.391 0.347 0.    0.645 0.33  0.53 ] | Time 2e+02     \n",
      "Epoch 751 | Iter 696 | Loss: 1.8e-05 | Acc: [0.461 0.409 0.391 0.348 0.    0.645 0.328 0.53 ] | Time 2e+02     \n",
      "Epoch 752 | Iter 696 | Loss: 6.4e-05 | Acc: [0.461 0.409 0.39  0.348 0.    0.645 0.329 0.53 ] | Time 2e+02     \n",
      "Epoch 753 | Iter 696 | Loss: 2.6e-05 | Acc: [0.463 0.409 0.391 0.347 0.    0.644 0.331 0.531] | Time 2e+02     \n",
      "Epoch 754 | Iter 696 | Loss: 2.9e-05 | Acc: [0.459 0.409 0.391 0.348 0.    0.644 0.33  0.531] | Time 2e+02     \n",
      "Epoch 755 | Iter 696 | Loss: 2e-05 | Acc: [0.458 0.409 0.39  0.348 0.    0.644 0.33  0.53 ] | Time 2e+02     \n",
      "Epoch 756 | Iter 696 | Loss: 1.9e-05 | Acc: [0.461 0.409 0.39  0.348 0.    0.644 0.329 0.529] | Time 2e+02     \n",
      "Epoch 757 | Iter 696 | Loss: 3.9e-05 | Acc: [0.461 0.408 0.39  0.347 0.    0.645 0.33  0.531] | Time 2e+02     \n",
      "Epoch 758 | Iter 696 | Loss: 3.3e-05 | Acc: [0.459 0.408 0.39  0.346 0.    0.645 0.33  0.53 ] | Time 2e+02     \n",
      "Epoch 759 | Iter 696 | Loss: 2.8e-05 | Acc: [0.458 0.409 0.389 0.347 0.    0.645 0.33  0.529] | Time 2e+02     \n",
      "Epoch 760 | Iter 696 | Loss: 2.6e-05 | Acc: [0.461 0.41  0.391 0.347 0.    0.644 0.329 0.531] | Time 2e+02     \n",
      "Epoch 761 | Iter 696 | Loss: 1.6e-05 | Acc: [0.461 0.409 0.39  0.347 0.    0.645 0.329 0.531] | Time 2e+02     \n",
      "Epoch 762 | Iter 696 | Loss: 1.3e-05 | Acc: [0.459 0.409 0.39  0.348 0.    0.645 0.328 0.532] | Time 2e+02     \n",
      "Epoch 763 | Iter 696 | Loss: 0.00012 | Acc: [0.457 0.408 0.39  0.346 0.    0.644 0.328 0.528] | Time 2e+02     \n",
      "Epoch 764 | Iter 696 | Loss: 1.3e-05 | Acc: [0.459 0.409 0.39  0.347 0.    0.645 0.328 0.531] | Time 2e+02     \n",
      "Epoch 765 | Iter 696 | Loss: 2.6e-05 | Acc: [0.461 0.409 0.39  0.347 0.    0.645 0.329 0.531] | Time 2e+02     \n",
      "Epoch 766 | Iter 696 | Loss: 3e-05 | Acc: [0.461 0.409 0.39  0.347 0.    0.645 0.329 0.531] | Time 2e+02     \n",
      "Epoch 767 | Iter 696 | Loss: 3.4e-05 | Acc: [0.459 0.41  0.391 0.347 0.    0.645 0.329 0.528] | Time 2e+02     \n",
      "Epoch 768 | Iter 696 | Loss: 3.3e-05 | Acc: [0.459 0.41  0.39  0.347 0.    0.645 0.329 0.532] | Time 2e+02     \n",
      "Epoch 769 | Iter 696 | Loss: 4.9e-05 | Acc: [0.459 0.408 0.391 0.347 0.    0.645 0.328 0.532] | Time 2e+02     \n",
      "Epoch 770 | Iter 696 | Loss: 3.8e-05 | Acc: [0.461 0.409 0.391 0.346 0.    0.646 0.328 0.531] | Time 2e+02     \n",
      "Epoch 771 | Iter 696 | Loss: 2.8e-05 | Acc: [0.459 0.41  0.391 0.347 0.    0.645 0.329 0.531] | Time 2e+02     \n",
      "Epoch 772 | Iter 696 | Loss: 2.5e-05 | Acc: [0.461 0.409 0.391 0.346 0.    0.645 0.33  0.531] | Time 2e+02     \n",
      "Epoch 773 | Iter 696 | Loss: 2.3e-05 | Acc: [0.461 0.409 0.391 0.348 0.    0.645 0.33  0.531] | Time 2e+02     \n",
      "Epoch 774 | Iter 696 | Loss: 2.8e-05 | Acc: [0.459 0.409 0.391 0.345 0.    0.646 0.329 0.532] | Time 2e+02     \n",
      "Epoch 775 | Iter 696 | Loss: 5.5e-05 | Acc: [0.461 0.409 0.391 0.347 0.    0.645 0.329 0.528] | Time 2e+02     \n",
      "Epoch 776 | Iter 696 | Loss: 1.8e-05 | Acc: [0.459 0.409 0.39  0.346 0.    0.645 0.329 0.53 ] | Time 2e+02     \n",
      "Epoch 777 | Iter 696 | Loss: 2.6e-05 | Acc: [0.459 0.409 0.391 0.347 0.    0.645 0.329 0.53 ] | Time 2e+02     \n",
      "Epoch 778 | Iter 696 | Loss: 2.3e-05 | Acc: [0.461 0.408 0.391 0.346 0.    0.645 0.331 0.531] | Time 2e+02     \n",
      "Epoch 779 | Iter 696 | Loss: 4.8e-05 | Acc: [0.458 0.409 0.39  0.344 0.001 0.645 0.33  0.531] | Time 2e+02     \n",
      "Epoch 780 | Iter 696 | Loss: 2.6e-05 | Acc: [0.459 0.409 0.392 0.346 0.    0.645 0.329 0.531] | Time 2e+02     \n",
      "Epoch 781 | Iter 696 | Loss: 0.00025 | Acc: [0.459 0.408 0.39  0.345 0.    0.644 0.329 0.528] | Time 2e+02     \n",
      "Epoch 782 | Iter 696 | Loss: 2.1e-05 | Acc: [0.459 0.409 0.391 0.348 0.    0.645 0.33  0.531] | Time 2e+02     \n",
      "Epoch 783 | Iter 696 | Loss: 1.5e-05 | Acc: [0.459 0.408 0.391 0.346 0.    0.645 0.328 0.531] | Time 2e+02     \n",
      "Epoch 784 | Iter 696 | Loss: 1.5e-05 | Acc: [0.459 0.409 0.39  0.347 0.    0.645 0.33  0.531] | Time 2e+02     \n",
      "Epoch 785 | Iter 696 | Loss: 2.2e-05 | Acc: [0.458 0.408 0.39  0.345 0.    0.646 0.328 0.531] | Time 2e+02     \n",
      "Epoch 786 | Iter 696 | Loss: 3.4e-05 | Acc: [0.459 0.407 0.389 0.346 0.    0.645 0.329 0.531] | Time 2e+02     \n",
      "Epoch 787 | Iter 696 | Loss: 3.8e-05 | Acc: [0.459 0.409 0.389 0.347 0.    0.646 0.328 0.531] | Time 2e+02     \n",
      "Epoch 788 | Iter 696 | Loss: 4.3e-05 | Acc: [0.459 0.409 0.39  0.348 0.    0.645 0.33  0.531] | Time 2e+02     \n",
      "Epoch 789 | Iter 696 | Loss: 1.6e-05 | Acc: [0.459 0.408 0.39  0.347 0.    0.646 0.33  0.532] | Time 2e+02     \n",
      "Epoch 790 | Iter 696 | Loss: 2.2e-05 | Acc: [0.459 0.409 0.39  0.348 0.    0.645 0.329 0.53 ] | Time 2e+02     \n",
      "Epoch 791 | Iter 696 | Loss: 2.5e-05 | Acc: [0.459 0.409 0.39  0.347 0.    0.645 0.33  0.532] | Time 2e+02     \n",
      "Epoch 792 | Iter 696 | Loss: 5.2e-05 | Acc: [0.459 0.408 0.39  0.347 0.    0.645 0.329 0.533] | Time 2e+02     \n",
      "Epoch 793 | Iter 696 | Loss: 2.6e-05 | Acc: [0.459 0.41  0.39  0.347 0.    0.644 0.33  0.532] | Time 2e+02     \n",
      "Epoch 794 | Iter 696 | Loss: 2.2e-05 | Acc: [0.458 0.409 0.39  0.347 0.    0.645 0.329 0.531] | Time 2e+02     \n",
      "Epoch 795 | Iter 696 | Loss: 3.5e-05 | Acc: [0.458 0.408 0.39  0.348 0.    0.645 0.329 0.531] | Time 2e+02     \n",
      "Epoch 796 | Iter 696 | Loss: 2e-05 | Acc: [0.459 0.41  0.39  0.346 0.    0.646 0.33  0.531] | Time 2e+02     \n",
      "Epoch 797 | Iter 696 | Loss: 2.1e-05 | Acc: [0.459 0.409 0.39  0.346 0.    0.644 0.329 0.532] | Time 2e+02     \n",
      "Epoch 798 | Iter 696 | Loss: 9.9e-05 | Acc: [0.457 0.409 0.389 0.34  0.    0.645 0.325 0.529] | Time 2e+02     \n",
      "Epoch 799 | Iter 696 | Loss: 2.5e-05 | Acc: [0.458 0.41  0.391 0.347 0.    0.644 0.33  0.531] | Time 2e+02     \n",
      "Epoch 800 | Iter 696 | Loss: 1.7e-05 | Acc: [0.459 0.409 0.391 0.347 0.    0.645 0.329 0.532] | Time 2e+02     \n",
      "Epoch 801 | Iter 696 | Loss: 1.8e-05 | Acc: [0.458 0.409 0.39  0.347 0.    0.645 0.329 0.531] | Time 2e+02     \n",
      "Epoch 802 | Iter 696 | Loss: 1.4e-05 | Acc: [0.459 0.409 0.39  0.346 0.    0.646 0.329 0.532] | Time 2e+02     \n",
      "Epoch 803 | Iter 696 | Loss: 4.4e-05 | Acc: [0.459 0.409 0.39  0.346 0.    0.645 0.328 0.531] | Time 2e+02     \n",
      "Epoch 804 | Iter 696 | Loss: 1.9e-05 | Acc: [0.461 0.409 0.39  0.348 0.    0.645 0.329 0.531] | Time 2e+02     \n",
      "Epoch 805 | Iter 696 | Loss: 3.2e-05 | Acc: [0.461 0.409 0.39  0.346 0.    0.646 0.329 0.53 ] | Time 2e+02     \n",
      "Epoch 806 | Iter 696 | Loss: 2.2e-05 | Acc: [0.46  0.409 0.391 0.347 0.    0.645 0.328 0.533] | Time 2e+02     \n",
      "Epoch 807 | Iter 696 | Loss: 4.1e-05 | Acc: [0.458 0.409 0.39  0.346 0.    0.645 0.328 0.531] | Time 2e+02     \n",
      "Epoch 808 | Iter 696 | Loss: 3.6e-05 | Acc: [0.459 0.409 0.39  0.346 0.    0.645 0.328 0.529] | Time 2e+02     \n",
      "Epoch 809 | Iter 696 | Loss: 2e-05 | Acc: [0.458 0.409 0.39  0.346 0.    0.645 0.328 0.532] | Time 2e+02     \n",
      "Epoch 810 | Iter 696 | Loss: 2.5e-05 | Acc: [0.458 0.409 0.391 0.346 0.    0.645 0.328 0.532] | Time 2e+02     \n",
      "Epoch 811 | Iter 696 | Loss: 1.6e-05 | Acc: [0.458 0.41  0.39  0.347 0.    0.645 0.329 0.531] | Time 2e+02     \n",
      "Epoch 812 | Iter 696 | Loss: 2.4e-05 | Acc: [0.461 0.409 0.39  0.348 0.    0.645 0.328 0.533] | Time 2e+02     \n",
      "Epoch 813 | Iter 696 | Loss: 2.6e-05 | Acc: [0.459 0.409 0.39  0.347 0.    0.645 0.328 0.53 ] | Time 2e+02     \n",
      "Epoch 814 | Iter 696 | Loss: 1.7e-05 | Acc: [0.458 0.409 0.39  0.348 0.    0.645 0.327 0.532] | Time 2e+02     \n",
      "Epoch 815 | Iter 696 | Loss: 3.1e-05 | Acc: [0.458 0.408 0.39  0.348 0.    0.645 0.33  0.531] | Time 2e+02     \n",
      "Epoch 816 | Iter 696 | Loss: 3e-05 | Acc: [0.458 0.408 0.391 0.349 0.    0.645 0.329 0.534] | Time 2e+02     \n",
      "Epoch 817 | Iter 696 | Loss: 3.5e-05 | Acc: [0.461 0.409 0.39  0.348 0.    0.645 0.328 0.532] | Time 2e+02     \n",
      "Epoch 818 | Iter 696 | Loss: 1.9e-05 | Acc: [0.461 0.408 0.39  0.348 0.    0.644 0.328 0.532] | Time 2e+02     \n",
      "Epoch 819 | Iter 696 | Loss: 3.2e-05 | Acc: [0.458 0.409 0.39  0.349 0.    0.645 0.327 0.53 ] | Time 2e+02     \n",
      "Epoch 820 | Iter 696 | Loss: 4.4e-05 | Acc: [0.458 0.408 0.39  0.349 0.    0.645 0.328 0.531] | Time 2e+02     \n",
      "Epoch 821 | Iter 696 | Loss: 3.9e-05 | Acc: [0.458 0.409 0.39  0.349 0.    0.645 0.329 0.531] | Time 2e+02     \n",
      "Epoch 822 | Iter 696 | Loss: 4e-05 | Acc: [0.458 0.409 0.389 0.348 0.    0.646 0.328 0.529] | Time 2e+02     \n",
      "Epoch 823 | Iter 696 | Loss: 1.8e-05 | Acc: [0.458 0.408 0.391 0.349 0.    0.645 0.328 0.53 ] | Time 2e+02     \n",
      "Epoch 824 | Iter 696 | Loss: 5e-05 | Acc: [0.458 0.407 0.39  0.348 0.    0.644 0.329 0.528] | Time 2e+02     \n",
      "Epoch 825 | Iter 696 | Loss: 2.5e-05 | Acc: [0.459 0.408 0.391 0.349 0.    0.645 0.329 0.531] | Time 2e+02     \n",
      "Epoch 826 | Iter 696 | Loss: 9.6e-05 | Acc: [0.457 0.407 0.389 0.341 0.    0.644 0.326 0.526] | Time 2e+02     \n",
      "Epoch 827 | Iter 696 | Loss: 2.1e-05 | Acc: [0.457 0.409 0.391 0.347 0.    0.645 0.329 0.53 ] | Time 2e+02     \n",
      "Epoch 828 | Iter 696 | Loss: 3.1e-05 | Acc: [0.46  0.408 0.391 0.348 0.001 0.646 0.328 0.532] | Time 2e+02     \n",
      "Epoch 829 | Iter 696 | Loss: 2.6e-05 | Acc: [0.46  0.409 0.391 0.347 0.    0.645 0.328 0.53 ] | Time 2e+02     \n",
      "Epoch 830 | Iter 696 | Loss: 2.2e-05 | Acc: [0.46  0.408 0.391 0.348 0.    0.645 0.327 0.531] | Time 2e+02     \n",
      "Epoch 831 | Iter 696 | Loss: 2.3e-05 | Acc: [0.458 0.409 0.389 0.347 0.    0.645 0.327 0.531] | Time 2e+02     \n",
      "Epoch 832 | Iter 696 | Loss: 3.2e-05 | Acc: [0.458 0.405 0.389 0.347 0.    0.645 0.327 0.531] | Time 2e+02     \n",
      "Epoch 833 | Iter 696 | Loss: 2.4e-05 | Acc: [0.459 0.408 0.39  0.348 0.001 0.645 0.328 0.532] | Time 2e+02     \n",
      "Epoch 834 | Iter 696 | Loss: 2.4e-05 | Acc: [0.458 0.409 0.39  0.348 0.    0.645 0.329 0.531] | Time 2e+02     \n",
      "Epoch 835 | Iter 696 | Loss: 3.8e-05 | Acc: [0.46  0.408 0.389 0.348 0.    0.646 0.328 0.531] | Time 2e+02     \n",
      "Epoch 836 | Iter 696 | Loss: 4.3e-05 | Acc: [0.459 0.409 0.39  0.348 0.    0.645 0.329 0.531] | Time 2e+02     \n",
      "Epoch 837 | Iter 696 | Loss: 2.4e-05 | Acc: [0.458 0.409 0.389 0.347 0.001 0.645 0.329 0.532] | Time 2e+02     \n",
      "Epoch 838 | Iter 696 | Loss: 3.4e-05 | Acc: [0.458 0.409 0.39  0.347 0.    0.644 0.33  0.529] | Time 2e+02     \n",
      "Epoch 839 | Iter 696 | Loss: 2.1e-05 | Acc: [0.46  0.408 0.389 0.349 0.001 0.645 0.329 0.531] | Time 2e+02     \n",
      "Epoch 840 | Iter 696 | Loss: 2.6e-05 | Acc: [0.46  0.409 0.389 0.348 0.    0.646 0.329 0.53 ] | Time 2e+02     \n",
      "Epoch 841 | Iter 696 | Loss: 2.7e-05 | Acc: [0.458 0.409 0.39  0.348 0.    0.645 0.329 0.531] | Time 2e+02     \n",
      "Epoch 842 | Iter 696 | Loss: 2.4e-05 | Acc: [0.46  0.409 0.389 0.347 0.    0.645 0.328 0.53 ] | Time 2e+02     \n",
      "Epoch 843 | Iter 696 | Loss: 3.3e-05 | Acc: [0.46  0.408 0.389 0.345 0.    0.645 0.328 0.532] | Time 2e+02     \n",
      "Epoch 844 | Iter 696 | Loss: 2.8e-05 | Acc: [0.459 0.409 0.389 0.347 0.    0.646 0.328 0.53 ] | Time 2e+02     \n",
      "Epoch 845 | Iter 696 | Loss: 1.6e-05 | Acc: [0.461 0.409 0.39  0.348 0.    0.646 0.328 0.533] | Time 2e+02     \n",
      "Epoch 846 | Iter 696 | Loss: 2.7e-05 | Acc: [0.46  0.409 0.39  0.348 0.    0.646 0.328 0.532] | Time 2e+02     \n",
      "Epoch 847 | Iter 696 | Loss: 2.6e-05 | Acc: [0.461 0.409 0.39  0.348 0.    0.645 0.328 0.531] | Time 2e+02     \n",
      "Epoch 848 | Iter 696 | Loss: 2.2e-05 | Acc: [0.458 0.409 0.389 0.347 0.    0.646 0.328 0.532] | Time 2e+02     \n",
      "Epoch 849 | Iter 696 | Loss: 2.4e-05 | Acc: [0.459 0.408 0.39  0.348 0.    0.645 0.33  0.533] | Time 2e+02     \n",
      "Epoch 850 | Iter 696 | Loss: 3.4e-05 | Acc: [0.458 0.407 0.389 0.347 0.    0.644 0.328 0.531] | Time 2e+02     \n",
      "Epoch 851 | Iter 696 | Loss: 2.5e-05 | Acc: [0.46  0.408 0.39  0.347 0.    0.645 0.329 0.531] | Time 2e+02     \n",
      "Epoch 852 | Iter 696 | Loss: 3.4e-05 | Acc: [0.459 0.408 0.39  0.348 0.    0.645 0.329 0.531] | Time 2e+02     \n",
      "Epoch 853 | Iter 696 | Loss: 2e-05 | Acc: [0.46  0.408 0.39  0.347 0.    0.645 0.327 0.532] | Time 2e+02     \n",
      "Epoch 854 | Iter 696 | Loss: 2.2e-05 | Acc: [0.458 0.409 0.39  0.347 0.    0.645 0.33  0.533] | Time 2e+02     \n",
      "Epoch 855 | Iter 696 | Loss: 2.9e-05 | Acc: [0.458 0.407 0.39  0.348 0.    0.643 0.329 0.531] | Time 2e+02     \n",
      "Epoch 856 | Iter 696 | Loss: 2e-05 | Acc: [0.458 0.408 0.389 0.347 0.    0.644 0.329 0.532] | Time 2e+02     \n",
      "Epoch 857 | Iter 696 | Loss: 2.7e-05 | Acc: [0.459 0.408 0.39  0.347 0.    0.645 0.33  0.533] | Time 2e+02     \n",
      "Epoch 858 | Iter 696 | Loss: 2.2e-05 | Acc: [0.458 0.408 0.391 0.348 0.    0.644 0.328 0.53 ] | Time 2e+02     \n",
      "Epoch 859 | Iter 696 | Loss: 2.7e-05 | Acc: [0.458 0.409 0.39  0.347 0.    0.645 0.328 0.531] | Time 2e+02     \n",
      "Epoch 860 | Iter 696 | Loss: 5e-05 | Acc: [0.458 0.409 0.391 0.347 0.    0.644 0.328 0.528] | Time 2e+02     \n",
      "Epoch 861 | Iter 696 | Loss: 3.4e-05 | Acc: [0.461 0.409 0.39  0.346 0.    0.645 0.329 0.529] | Time 2e+02     \n",
      "Epoch 862 | Iter 696 | Loss: 2e-05 | Acc: [0.458 0.409 0.389 0.347 0.    0.645 0.328 0.53 ] | Time 2e+02     \n",
      "Epoch 863 | Iter 696 | Loss: 3.1e-05 | Acc: [0.459 0.409 0.389 0.348 0.    0.645 0.329 0.531] | Time 2e+02     \n",
      "Epoch 864 | Iter 696 | Loss: 1.2e-05 | Acc: [0.459 0.409 0.39  0.348 0.    0.645 0.329 0.532] | Time 2e+02     \n",
      "Epoch 865 | Iter 696 | Loss: 6.1e-06 | Acc: [0.461 0.409 0.39  0.347 0.    0.645 0.328 0.532] | Time 2e+02     \n",
      "Epoch 866 | Iter 696 | Loss: 6.6e-06 | Acc: [0.459 0.409 0.39  0.347 0.    0.646 0.329 0.532] | Time 2e+02     \n",
      "Epoch 867 | Iter 696 | Loss: 3.5e-05 | Acc: [0.461 0.408 0.39  0.347 0.    0.646 0.329 0.53 ] | Time 2e+02     \n",
      "Epoch 868 | Iter 696 | Loss: 3.3e-05 | Acc: [0.459 0.409 0.39  0.347 0.    0.644 0.33  0.532] | Time 2e+02     \n",
      "Epoch 869 | Iter 696 | Loss: 2.6e-05 | Acc: [0.458 0.409 0.39  0.348 0.    0.646 0.329 0.532] | Time 1.9e+02     \n",
      "Epoch 870 | Iter 696 | Loss: 4.8e-05 | Acc: [0.461 0.409 0.39  0.347 0.001 0.644 0.328 0.532] | Time 2e+02     \n",
      "Epoch 871 | Iter 696 | Loss: 1.6e-05 | Acc: [0.46  0.409 0.391 0.347 0.    0.645 0.33  0.532] | Time 1.9e+02     \n",
      "Epoch 872 | Iter 696 | Loss: 1.4e-05 | Acc: [0.462 0.409 0.39  0.347 0.    0.645 0.328 0.532] | Time 1.9e+02     \n",
      "Epoch 873 | Iter 696 | Loss: 4.3e-05 | Acc: [0.46  0.408 0.389 0.347 0.    0.645 0.329 0.53 ] | Time 1.9e+02     \n",
      "Epoch 874 | Iter 696 | Loss: 4.6e-05 | Acc: [0.461 0.409 0.39  0.348 0.    0.644 0.329 0.532] | Time 1.9e+02     \n",
      "Epoch 875 | Iter 696 | Loss: 2.4e-05 | Acc: [0.461 0.409 0.39  0.348 0.    0.644 0.328 0.531] | Time 1.9e+02     \n",
      "Epoch 876 | Iter 696 | Loss: 2.5e-05 | Acc: [0.463 0.407 0.39  0.347 0.001 0.644 0.33  0.531] | Time 2e+02     \n",
      "Epoch 877 | Iter 696 | Loss: 3.5e-05 | Acc: [0.461 0.409 0.392 0.347 0.    0.644 0.329 0.53 ] | Time 2e+02     \n",
      "Epoch 878 | Iter 696 | Loss: 2.1e-05 | Acc: [0.46  0.409 0.391 0.347 0.001 0.644 0.329 0.53 ] | Time 2e+02     \n",
      "Epoch 879 | Iter 696 | Loss: 3.4e-05 | Acc: [0.463 0.408 0.39  0.348 0.001 0.645 0.33  0.531] | Time 2e+02     \n",
      "Epoch 880 | Iter 696 | Loss: 3.1e-05 | Acc: [0.462 0.409 0.39  0.346 0.    0.645 0.329 0.531] | Time 2e+02     \n",
      "Epoch 881 | Iter 696 | Loss: 1.2e-05 | Acc: [0.461 0.409 0.39  0.347 0.    0.644 0.33  0.531] | Time 2e+02     \n",
      "Epoch 882 | Iter 696 | Loss: 1.8e-05 | Acc: [0.46  0.409 0.39  0.348 0.    0.645 0.329 0.531] | Time 2e+02     \n",
      "Epoch 883 | Iter 696 | Loss: 2.5e-05 | Acc: [0.458 0.409 0.39  0.347 0.    0.644 0.329 0.532] | Time 2e+02     \n",
      "Epoch 884 | Iter 696 | Loss: 5.6e-05 | Acc: [0.458 0.409 0.389 0.346 0.001 0.644 0.327 0.53 ] | Time 2e+02     \n",
      "Epoch 885 | Iter 696 | Loss: 4.6e-05 | Acc: [0.46  0.408 0.39  0.347 0.001 0.644 0.33  0.53 ] | Time 2e+02     \n",
      "Epoch 886 | Iter 696 | Loss: 2.4e-05 | Acc: [0.46  0.409 0.39  0.347 0.    0.644 0.329 0.527] | Time 2e+02     \n",
      "Epoch 887 | Iter 696 | Loss: 2.7e-05 | Acc: [0.459 0.408 0.391 0.346 0.    0.645 0.329 0.531] | Time 2e+02     \n",
      "Epoch 888 | Iter 696 | Loss: 1.3e-05 | Acc: [0.458 0.409 0.39  0.346 0.    0.645 0.33  0.53 ] | Time 2e+02     \n",
      "Epoch 889 | Iter 696 | Loss: 2e-05 | Acc: [0.458 0.409 0.39  0.346 0.    0.644 0.329 0.53 ] | Time 2e+02     \n",
      "Epoch 890 | Iter 696 | Loss: 5.6e-05 | Acc: [0.458 0.409 0.391 0.346 0.    0.645 0.33  0.529] | Time 2e+02     \n",
      "Epoch 891 | Iter 696 | Loss: 1.4e-05 | Acc: [0.458 0.409 0.391 0.347 0.    0.645 0.33  0.529] | Time 2e+02     \n"
     ]
    },
    {
     "ename": "KeyboardInterrupt",
     "evalue": "",
     "output_type": "error",
     "traceback": [
      "\u001b[0;31m-----------------------------------------------------------------\u001b[0m",
      "\u001b[0;31mKeyboardInterrupt\u001b[0m               Traceback (most recent call last)",
      "\u001b[0;32m<ipython-input-14-f50a399cf757>\u001b[0m in \u001b[0;36m<module>\u001b[0;34m()\u001b[0m\n\u001b[1;32m      1\u001b[0m \u001b[0;31m# Train Model\u001b[0m\u001b[0;34m\u001b[0m\u001b[0;34m\u001b[0m\u001b[0m\n\u001b[0;32m----> 2\u001b[0;31m \u001b[0mnn\u001b[0m\u001b[0;34m.\u001b[0m\u001b[0mtrain\u001b[0m\u001b[0;34m(\u001b[0m\u001b[0msess\u001b[0m\u001b[0;34m,\u001b[0m \u001b[0mmodel\u001b[0m\u001b[0;34m,\u001b[0m \u001b[0mx_train\u001b[0m\u001b[0;34m,\u001b[0m \u001b[0my_train\u001b[0m\u001b[0;34m,\u001b[0m \u001b[0mx_test\u001b[0m\u001b[0;34m,\u001b[0m \u001b[0my_test\u001b[0m\u001b[0;34m,\u001b[0m \u001b[0mepochs\u001b[0m \u001b[0;34m=\u001b[0m \u001b[0;36m1500\u001b[0m\u001b[0;34m,\u001b[0m \u001b[0mbatch_size\u001b[0m \u001b[0;34m=\u001b[0m \u001b[0;36m1\u001b[0m\u001b[0;34m)\u001b[0m\u001b[0;34m\u001b[0m\u001b[0m\n\u001b[0m",
      "\u001b[0;32m~/Documents/hart-seg-ml/src/nn.py\u001b[0m in \u001b[0;36mtrain\u001b[0;34m(sess, model, x_train, y_train, x_test, y_test, epochs, batch_size, summary_writer, train_validation, start_step)\u001b[0m\n\u001b[1;32m    210\u001b[0m             \u001b[0mstep\u001b[0m \u001b[0;34m=\u001b[0m \u001b[0mstep\u001b[0m \u001b[0;34m+\u001b[0m \u001b[0;36m1\u001b[0m\u001b[0;34m\u001b[0m\u001b[0m\n\u001b[1;32m    211\u001b[0m         \u001b[0mstop\u001b[0m \u001b[0;34m=\u001b[0m \u001b[0mtimeit\u001b[0m\u001b[0;34m.\u001b[0m\u001b[0mdefault_timer\u001b[0m\u001b[0;34m(\u001b[0m\u001b[0;34m)\u001b[0m\u001b[0;34m\u001b[0m\u001b[0m\n\u001b[0;32m--> 212\u001b[0;31m         \u001b[0macc\u001b[0m \u001b[0;34m=\u001b[0m \u001b[0mvalidate\u001b[0m\u001b[0;34m(\u001b[0m\u001b[0msess\u001b[0m\u001b[0;34m,\u001b[0m \u001b[0mmodel\u001b[0m\u001b[0;34m,\u001b[0m \u001b[0mx_test\u001b[0m\u001b[0;34m,\u001b[0m \u001b[0my_test\u001b[0m\u001b[0;34m)\u001b[0m\u001b[0;34m\u001b[0m\u001b[0m\n\u001b[0m\u001b[1;32m    213\u001b[0m         \u001b[0msummary\u001b[0m \u001b[0;34m=\u001b[0m \u001b[0mtf\u001b[0m\u001b[0;34m.\u001b[0m\u001b[0mSummary\u001b[0m\u001b[0;34m(\u001b[0m\u001b[0;34m)\u001b[0m\u001b[0;34m\u001b[0m\u001b[0m\n\u001b[1;32m    214\u001b[0m         \u001b[0;32mfor\u001b[0m \u001b[0mk\u001b[0m \u001b[0;32min\u001b[0m \u001b[0mrange\u001b[0m\u001b[0;34m(\u001b[0m\u001b[0mlen\u001b[0m\u001b[0;34m(\u001b[0m\u001b[0macc\u001b[0m\u001b[0;34m)\u001b[0m\u001b[0;34m)\u001b[0m\u001b[0;34m:\u001b[0m\u001b[0;34m\u001b[0m\u001b[0m\n",
      "\u001b[0;32m~/Documents/hart-seg-ml/src/nn.py\u001b[0m in \u001b[0;36mvalidate\u001b[0;34m(sess, model, x_test, y_test)\u001b[0m\n\u001b[1;32m    126\u001b[0m             \u001b[0mgt\u001b[0m \u001b[0;34m=\u001b[0m \u001b[0mnp\u001b[0m\u001b[0;34m.\u001b[0m\u001b[0margmax\u001b[0m\u001b[0;34m(\u001b[0m\u001b[0my_test\u001b[0m\u001b[0;34m[\u001b[0m\u001b[0mi\u001b[0m\u001b[0;34m,\u001b[0m\u001b[0;34m:\u001b[0m\u001b[0;34m,\u001b[0m\u001b[0;34m:\u001b[0m\u001b[0;34m,\u001b[0m\u001b[0;34m:\u001b[0m\u001b[0;34m]\u001b[0m\u001b[0;34m,\u001b[0m \u001b[0;36m2\u001b[0m\u001b[0;34m)\u001b[0m\u001b[0;34m\u001b[0m\u001b[0m\n\u001b[1;32m    127\u001b[0m             \u001b[0mgt\u001b[0m \u001b[0;34m=\u001b[0m \u001b[0mcreate_seg\u001b[0m\u001b[0;34m(\u001b[0m\u001b[0mgt\u001b[0m\u001b[0;34m,\u001b[0m \u001b[0mj\u001b[0m\u001b[0;34m+\u001b[0m\u001b[0;36m1\u001b[0m\u001b[0;34m)\u001b[0m\u001b[0;34m\u001b[0m\u001b[0m\n\u001b[0;32m--> 128\u001b[0;31m             \u001b[0mpred\u001b[0m \u001b[0;34m=\u001b[0m \u001b[0mnp\u001b[0m\u001b[0;34m.\u001b[0m\u001b[0margmax\u001b[0m\u001b[0;34m(\u001b[0m\u001b[0mmodel\u001b[0m\u001b[0;34m.\u001b[0m\u001b[0mpredict\u001b[0m\u001b[0;34m(\u001b[0m\u001b[0msess\u001b[0m\u001b[0;34m,\u001b[0m \u001b[0mx_test\u001b[0m\u001b[0;34m[\u001b[0m\u001b[0mi\u001b[0m\u001b[0;34m:\u001b[0m\u001b[0mi\u001b[0m\u001b[0;34m+\u001b[0m\u001b[0;36m1\u001b[0m\u001b[0;34m]\u001b[0m\u001b[0;34m)\u001b[0m\u001b[0;34m[\u001b[0m\u001b[0;36m0\u001b[0m\u001b[0;34m,\u001b[0m\u001b[0;34m:\u001b[0m\u001b[0;34m,\u001b[0m\u001b[0;34m:\u001b[0m\u001b[0;34m,\u001b[0m\u001b[0;34m:\u001b[0m\u001b[0;34m]\u001b[0m\u001b[0;34m,\u001b[0m \u001b[0;36m2\u001b[0m\u001b[0;34m)\u001b[0m\u001b[0;34m\u001b[0m\u001b[0m\n\u001b[0m\u001b[1;32m    129\u001b[0m             \u001b[0mpred\u001b[0m \u001b[0;34m=\u001b[0m \u001b[0mcreate_seg\u001b[0m\u001b[0;34m(\u001b[0m\u001b[0mpred\u001b[0m\u001b[0;34m,\u001b[0m\u001b[0mj\u001b[0m\u001b[0;34m+\u001b[0m\u001b[0;36m1\u001b[0m\u001b[0;34m)\u001b[0m\u001b[0;34m\u001b[0m\u001b[0m\n\u001b[1;32m    130\u001b[0m             \u001b[0moverlap\u001b[0m \u001b[0;34m=\u001b[0m \u001b[0mnp\u001b[0m\u001b[0;34m.\u001b[0m\u001b[0mminimum\u001b[0m\u001b[0;34m(\u001b[0m\u001b[0mgt\u001b[0m\u001b[0;34m,\u001b[0m \u001b[0mpred\u001b[0m\u001b[0;34m)\u001b[0m\u001b[0;34m\u001b[0m\u001b[0m\n",
      "\u001b[0;32m~/anaconda3/lib/python3.6/site-packages/numpy/core/fromnumeric.py\u001b[0m in \u001b[0;36margmax\u001b[0;34m(a, axis, out)\u001b[0m\n\u001b[1;32m   1002\u001b[0m \u001b[0;34m\u001b[0m\u001b[0m\n\u001b[1;32m   1003\u001b[0m     \"\"\"\n\u001b[0;32m-> 1004\u001b[0;31m     \u001b[0;32mreturn\u001b[0m \u001b[0m_wrapfunc\u001b[0m\u001b[0;34m(\u001b[0m\u001b[0ma\u001b[0m\u001b[0;34m,\u001b[0m \u001b[0;34m'argmax'\u001b[0m\u001b[0;34m,\u001b[0m \u001b[0maxis\u001b[0m\u001b[0;34m=\u001b[0m\u001b[0maxis\u001b[0m\u001b[0;34m,\u001b[0m \u001b[0mout\u001b[0m\u001b[0;34m=\u001b[0m\u001b[0mout\u001b[0m\u001b[0;34m)\u001b[0m\u001b[0;34m\u001b[0m\u001b[0m\n\u001b[0m\u001b[1;32m   1005\u001b[0m \u001b[0;34m\u001b[0m\u001b[0m\n\u001b[1;32m   1006\u001b[0m \u001b[0;34m\u001b[0m\u001b[0m\n",
      "\u001b[0;32m~/anaconda3/lib/python3.6/site-packages/numpy/core/fromnumeric.py\u001b[0m in \u001b[0;36m_wrapfunc\u001b[0;34m(obj, method, *args, **kwds)\u001b[0m\n\u001b[1;32m     50\u001b[0m \u001b[0;32mdef\u001b[0m \u001b[0m_wrapfunc\u001b[0m\u001b[0;34m(\u001b[0m\u001b[0mobj\u001b[0m\u001b[0;34m,\u001b[0m \u001b[0mmethod\u001b[0m\u001b[0;34m,\u001b[0m \u001b[0;34m*\u001b[0m\u001b[0margs\u001b[0m\u001b[0;34m,\u001b[0m \u001b[0;34m**\u001b[0m\u001b[0mkwds\u001b[0m\u001b[0;34m)\u001b[0m\u001b[0;34m:\u001b[0m\u001b[0;34m\u001b[0m\u001b[0m\n\u001b[1;32m     51\u001b[0m     \u001b[0;32mtry\u001b[0m\u001b[0;34m:\u001b[0m\u001b[0;34m\u001b[0m\u001b[0m\n\u001b[0;32m---> 52\u001b[0;31m         \u001b[0;32mreturn\u001b[0m \u001b[0mgetattr\u001b[0m\u001b[0;34m(\u001b[0m\u001b[0mobj\u001b[0m\u001b[0;34m,\u001b[0m \u001b[0mmethod\u001b[0m\u001b[0;34m)\u001b[0m\u001b[0;34m(\u001b[0m\u001b[0;34m*\u001b[0m\u001b[0margs\u001b[0m\u001b[0;34m,\u001b[0m \u001b[0;34m**\u001b[0m\u001b[0mkwds\u001b[0m\u001b[0;34m)\u001b[0m\u001b[0;34m\u001b[0m\u001b[0m\n\u001b[0m\u001b[1;32m     53\u001b[0m \u001b[0;34m\u001b[0m\u001b[0m\n\u001b[1;32m     54\u001b[0m     \u001b[0;31m# An AttributeError occurs if the object does not have\u001b[0m\u001b[0;34m\u001b[0m\u001b[0;34m\u001b[0m\u001b[0m\n",
      "\u001b[0;31mKeyboardInterrupt\u001b[0m: "
     ]
    }
   ],
   "source": [
    "# Train Model\n",
    "nn.train(sess, model, x_train, y_train, x_test, y_test, epochs = 1500, batch_size = 1)"
   ]
  },
  {
   "cell_type": "code",
   "execution_count": 15,
   "metadata": {},
   "outputs": [
    {
     "data": {
      "text/plain": [
       "[0.45767510773988007,\n",
       " 0.40961342796952677,\n",
       " 0.38978632868604635,\n",
       " 0.3472888391430638,\n",
       " 0.00042709446853944584,\n",
       " 0.6453268071187512,\n",
       " 0.32879205137810524,\n",
       " 0.5306124158695751]"
      ]
     },
     "execution_count": 15,
     "metadata": {},
     "output_type": "execute_result"
    }
   ],
   "source": [
    "# IOU Accuracies for each label\n",
    "nn.validate(sess, model, x_test, y_test)"
   ]
  },
  {
   "cell_type": "code",
   "execution_count": 16,
   "metadata": {
    "collapsed": true
   },
   "outputs": [
    {
     "data": {
      "text/plain": [
       "'/home/jessica/Documents/hart-seg-ml/models/secondrun'"
      ]
     },
     "execution_count": 16,
     "metadata": {},
     "output_type": "execute_result"
    }
   ],
   "source": [
    "# Save model\n",
    "saver = tf.train.Saver()\n",
    "saver.save(sess, '/home/jessica/Documents/hart-seg-ml/models/secondrun')"
   ]
  },
  {
   "cell_type": "code",
   "execution_count": 22,
   "metadata": {},
   "outputs": [
    {
     "name": "stdout",
     "output_type": "stream",
     "text": [
      "(299, 512, 512, 1)\n",
      "(299, 512, 512, 9)\n"
     ]
    }
   ],
   "source": [
    "print(x_test.shape)\n",
    "print(y_test.shape)"
   ]
  },
  {
   "cell_type": "code",
   "execution_count": 146,
   "metadata": {},
   "outputs": [
    {
     "name": "stdout",
     "output_type": "stream",
     "text": [
      "(1, 512, 512, 1)\n",
      "(11173,)\n",
      "[ 36.086708  -10.721292  -19.514847  -17.278486   -4.452541  -30.116741\n",
      "   5.0739784 -14.627988  -27.309132 ]\n",
      "(512, 512)\n"
     ]
    }
   ],
   "source": [
    "print(x_test[0:1].shape)\n",
    "print(np.unique(x_test[0:1]).shape)\n",
    "prediction = model.predict(sess, x_test[0:1])\n",
    "print(prediction[0][233][255])\n",
    "\n",
    "pred_classes = np.argmax(prediction[0], 2)\n",
    "print(pred_classes.shape)\n",
    "\n",
    "#np.nonzero(pred_classes)"
   ]
  },
  {
   "cell_type": "code",
   "execution_count": 159,
   "metadata": {},
   "outputs": [
    {
     "name": "stdout",
     "output_type": "stream",
     "text": [
      "(996, 512, 512, 1)\n"
     ]
    }
   ],
   "source": [
    "raw_imgs_arr = np.array(raw_images)\n",
    "raw_imgs_arr = np.expand_dims(raw_imgs_arr, axis=3)\n",
    "print(raw_imgs_arr.shape)\n"
   ]
  },
  {
   "cell_type": "code",
   "execution_count": 173,
   "metadata": {},
   "outputs": [],
   "source": [
    "def predict_cross_sec(x, model, sess):\n",
    "    prediction = model.predict(sess, x)\n",
    "    pred_classes = np.argmax(prediction[0], axis=2)\n",
    "    return pred_classes\n",
    "\n",
    "    \n",
    "def predict_whole_seg(X, model, sess):\n",
    "    segmented = np.empty(X.shape[:3])\n",
    "    num_sections = X.shape[0]\n",
    "    for i in range(num_sections):\n",
    "        pred = predict_cross_sec(X[i:i+1], model, sess)\n",
    "        segmented[i] = pred\n",
    "        print(i, end=', ')\n",
    "    return segmented\n",
    "\n",
    "\n",
    "def crop_cross_sec(cross_sec):\n",
    "    '''\n",
    "    512, 512 -> 482, 395\n",
    "    npad = ((15, 15), (58, 59))  # Pads to size 512, 512\n",
    "    img = np.pad(img, pad_width=npad, mode='constant', constant_values=0)\n",
    "    '''\n",
    "    return cross_sec\n",
    "    \n",
    "    \n",
    "\n",
    "\n",
    "def convert_seg_to_nifti(seg):\n",
    "    base_data_dir = \"/home/jessica/Documents/hart-seg-ml/allrawnifti\"\n",
    "    original_vol = nib.load(os.path.join(base_data_dir, 'trial8_30_fs_volume_TRANS.nii'))\n",
    "    new_header = original_vol.header.copy()\n",
    "    new_nifti = nib.nifti1.Nifti1Image(seg, None, header=new_header)\n",
    "    nib.save(new_nifti, '/home/jessica/Documents/hart-seg-ml/predictedsegs/firsttest/predicted_segmentation.nii')\n"
   ]
  },
  {
   "cell_type": "code",
   "execution_count": 174,
   "metadata": {},
   "outputs": [
    {
     "name": "stdout",
     "output_type": "stream",
     "text": [
      "0, 1, 2, 3, 4, 5, 6, 7, 8, 9, 10, 11, 12, 13, 14, 15, 16, 17, 18, 19, 20, 21, 22, 23, 24, 25, 26, 27, 28, 29, 30, 31, 32, 33, 34, 35, 36, 37, 38, 39, 40, 41, 42, 43, 44, 45, 46, 47, 48, 49, 50, 51, 52, 53, 54, 55, 56, 57, 58, 59, 60, 61, 62, 63, 64, 65, 66, 67, 68, 69, 70, 71, 72, 73, 74, 75, 76, 77, 78, 79, 80, 81, 82, 83, 84, 85, 86, 87, 88, 89, 90, 91, 92, 93, 94, 95, 96, 97, 98, 99, 100, 101, 102, 103, 104, 105, 106, 107, 108, 109, 110, 111, 112, 113, 114, 115, 116, 117, 118, 119, 120, 121, 122, 123, 124, 125, 126, 127, 128, 129, 130, 131, 132, 133, 134, 135, 136, 137, 138, 139, 140, 141, 142, 143, 144, 145, 146, 147, 148, 149, 150, 151, 152, 153, 154, 155, 156, 157, 158, 159, 160, 161, 162, 163, 164, 165, 166, 167, 168, 169, 170, 171, 172, 173, 174, 175, 176, 177, 178, 179, 180, 181, 182, 183, 184, 185, 186, 187, 188, 189, 190, 191, 192, 193, 194, 195, 196, 197, 198, 199, 200, 201, 202, 203, 204, 205, 206, 207, 208, 209, 210, 211, 212, 213, 214, 215, 216, 217, 218, 219, 220, 221, 222, 223, 224, 225, 226, 227, 228, 229, 230, 231, 232, 233, 234, 235, 236, 237, 238, 239, 240, 241, 242, 243, 244, 245, 246, 247, 248, 249, 250, 251, 252, 253, 254, 255, 256, 257, 258, 259, 260, 261, 262, 263, 264, 265, 266, 267, 268, 269, 270, 271, 272, 273, 274, 275, 276, 277, 278, 279, 280, 281, 282, 283, 284, 285, 286, 287, 288, 289, 290, 291, 292, 293, 294, 295, 296, 297, 298, 299, 300, 301, 302, 303, 304, 305, 306, 307, 308, 309, 310, 311, 312, 313, 314, 315, 316, 317, 318, 319, 320, 321, 322, 323, 324, 325, 326, 327, 328, 329, 330, 331, 332, 333, 334, 335, 336, 337, 338, 339, 340, 341, 342, 343, 344, 345, 346, 347, 348, 349, 350, 351, 352, 353, 354, 355, 356, 357, 358, 359, 360, 361, 362, 363, 364, 365, 366, 367, 368, 369, 370, 371, 372, 373, 374, 375, 376, 377, 378, 379, 380, 381, 382, 383, 384, 385, 386, 387, 388, 389, 390, 391, 392, 393, 394, 395, 396, 397, 398, 399, 400, 401, 402, 403, 404, 405, 406, 407, 408, 409, 410, 411, 412, 413, 414, 415, 416, 417, 418, 419, 420, 421, 422, 423, 424, 425, 426, 427, 428, 429, 430, 431, 432, 433, 434, 435, 436, 437, 438, 439, 440, 441, 442, 443, 444, 445, 446, 447, 448, 449, 450, 451, 452, 453, 454, 455, 456, 457, 458, 459, 460, 461, 462, 463, 464, 465, 466, 467, 468, 469, 470, 471, 472, 473, 474, 475, 476, 477, 478, 479, 480, 481, 482, 483, 484, 485, 486, 487, 488, 489, 490, 491, 492, 493, 494, 495, 496, 497, 498, 499, 500, 501, 502, 503, 504, 505, 506, 507, 508, 509, 510, 511, 512, 513, 514, 515, 516, 517, 518, 519, 520, 521, 522, 523, 524, 525, 526, 527, 528, 529, 530, 531, 532, 533, 534, 535, 536, 537, 538, 539, 540, 541, 542, 543, 544, 545, 546, 547, 548, 549, 550, 551, 552, 553, 554, 555, 556, 557, 558, 559, 560, 561, 562, 563, 564, 565, 566, 567, 568, 569, 570, 571, 572, 573, 574, 575, 576, 577, 578, 579, 580, 581, 582, 583, 584, 585, 586, 587, 588, 589, 590, 591, 592, 593, 594, 595, 596, 597, 598, 599, 600, 601, 602, 603, 604, 605, 606, 607, 608, 609, 610, 611, 612, 613, 614, 615, 616, 617, 618, 619, 620, 621, 622, 623, 624, 625, 626, 627, 628, 629, 630, 631, 632, 633, 634, 635, 636, 637, 638, 639, 640, 641, 642, 643, 644, 645, 646, 647, 648, 649, 650, 651, 652, 653, 654, 655, 656, 657, 658, 659, 660, 661, 662, 663, 664, 665, 666, 667, 668, 669, 670, 671, 672, 673, 674, 675, 676, 677, 678, 679, 680, 681, 682, 683, 684, 685, 686, 687, 688, 689, 690, 691, 692, 693, 694, 695, 696, 697, 698, 699, 700, 701, 702, 703, 704, 705, 706, 707, 708, 709, 710, 711, 712, 713, 714, 715, 716, 717, 718, 719, 720, 721, 722, 723, 724, 725, 726, 727, 728, 729, 730, 731, 732, 733, 734, 735, 736, 737, 738, 739, 740, 741, 742, 743, 744, 745, 746, 747, 748, 749, 750, 751, 752, 753, 754, 755, 756, 757, 758, 759, 760, 761, 762, 763, 764, 765, 766, 767, 768, 769, 770, 771, 772, 773, 774, 775, 776, 777, 778, 779, 780, 781, 782, 783, 784, 785, 786, 787, 788, 789, 790, 791, 792, 793, 794, 795, 796, 797, 798, 799, 800, 801, 802, 803, 804, 805, 806, 807, 808, 809, 810, 811, 812, 813, 814, 815, 816, 817, 818, 819, 820, 821, 822, 823, 824, 825, 826, 827, 828, 829, 830, 831, 832, 833, 834, 835, 836, 837, 838, 839, 840, 841, 842, 843, 844, 845, 846, 847, 848, 849, 850, 851, 852, 853, 854, 855, 856, 857, 858, 859, 860, 861, 862, 863, 864, 865, 866, 867, 868, 869, 870, 871, 872, 873, 874, 875, 876, 877, 878, 879, 880, 881, 882, 883, 884, 885, 886, 887, 888, 889, 890, 891, 892, 893, 894, 895, 896, 897, 898, 899, 900, 901, 902, 903, 904, 905, 906, 907, 908, 909, 910, 911, 912, 913, 914, 915, 916, 917, 918, 919, 920, 921, 922, 923, 924, 925, 926, 927, 928, 929, 930, 931, 932, 933, 934, 935, 936, 937, 938, 939, 940, 941, 942, 943, 944, 945, 946, 947, 948, 949, 950, 951, 952, 953, 954, 955, 956, 957, 958, 959, 960, 961, 962, 963, 964, 965, 966, 967, 968, 969, 970, 971, 972, 973, 974, 975, 976, 977, 978, 979, 980, 981, 982, 983, 984, 985, 986, 987, 988, 989, 990, 991, 992, 993, 994, 995, "
     ]
    }
   ],
   "source": [
    "all_segs = predict_whole_seg(raw_imgs_arr, model, sess)\n"
   ]
  },
  {
   "cell_type": "code",
   "execution_count": 176,
   "metadata": {},
   "outputs": [
    {
     "name": "stdout",
     "output_type": "stream",
     "text": [
      "(996, 512, 512)\n"
     ]
    }
   ],
   "source": [
    "print(all_segs.shape)\n"
   ]
  },
  {
   "cell_type": "code",
   "execution_count": 175,
   "metadata": {},
   "outputs": [],
   "source": [
    "convert_seg_to_nifti(all_segs)"
   ]
  },
  {
   "cell_type": "code",
   "execution_count": 170,
   "metadata": {},
   "outputs": [
    {
     "data": {
      "text/plain": [
       "[]"
      ]
     },
     "execution_count": 170,
     "metadata": {},
     "output_type": "execute_result"
    },
    {
     "data": {
      "image/png": "[encoded data removed]",
      "text/plain": [
       "<matplotlib.figure.Figure at 0x7f60815bcda0>"
      ]
     },
     "metadata": {},
     "output_type": "display_data"
    }
   ],
   "source": [
    "#flat_prediction = prediction.flatten()\n",
    "plt.imshow(all_segs[520])\n",
    "plt.plot()\n"
   ]
  },
  {
   "cell_type": "code",
   "execution_count": null,
   "metadata": {},
   "outputs": [],
   "source": []
  }
 ],
 "metadata": {
  "kernelspec": {
   "display_name": "Python [conda env:anaconda3]",
   "language": "python",
   "name": "conda-env-anaconda3-py"
  },
  "language_info": {
   "codemirror_mode": {
    "name": "ipython",
    "version": 3
   },
   "file_extension": ".py",
   "mimetype": "text/x-python",
   "name": "python",
   "nbconvert_exporter": "python",
   "pygments_lexer": "ipython3",
   "version": "3.6.4"
  }
 },
 "nbformat": 4,
 "nbformat_minor": 2
}
