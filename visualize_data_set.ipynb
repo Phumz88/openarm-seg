{
 "cells": [
  {
   "cell_type": "code",
   "execution_count": 35,
   "metadata": {},
   "outputs": [],
   "source": [
    "import numpy as np\n",
    "import os\n",
    "import nibabel as nib\n",
    "from nilearn import plotting\n",
    "import matplotlib.pyplot as plt\n",
    "from PIL import Image"
   ]
  },
  {
   "cell_type": "code",
   "execution_count": 3,
   "metadata": {},
   "outputs": [
    {
     "data": {
      "text/plain": [
       "['.DS_Store',\n",
       " 'trial10_30_w1_seg_TRANS.nii',\n",
       " 'trial10_30_w1_volume_TRANS.nii',\n",
       " 'trial18_90_fs_seg_TRANS.nii',\n",
       " 'trial18_90_fs_volume_TRANS.nii',\n",
       " 'trial20_90_w1_seg_TRANS.nii',\n",
       " 'trial20_90_w1_volume_TRANS.nii',\n",
       " 'trial22_90_w3_seg_TRANS.nii',\n",
       " 'trial22_90_w3_volume_TRANS.nii']"
      ]
     },
     "execution_count": 3,
     "metadata": {},
     "output_type": "execute_result"
    }
   ],
   "source": [
    "base_data_dir = \"/Users/kireet/ucb/HART Research/Muscle Segmentation/raw_nifti_scan\"\n",
    "os.listdir(base_data_dir)"
   ]
  },
  {
   "cell_type": "code",
   "execution_count": 103,
   "metadata": {},
   "outputs": [
    {
     "name": "stdout",
     "output_type": "stream",
     "text": [
      "(1188, 482, 395)\n",
      "(482, 395)\n"
     ]
    },
    {
     "data": {
      "image/png": "[encoded data removed]",
      "text/plain": [
       "<matplotlib.figure.Figure at 0x1c1f85e150>"
      ]
     },
     "metadata": {},
     "output_type": "display_data"
    }
   ],
   "source": [
    "example_filename = os.path.join(base_data_dir, 'trial10_30_w1_seg_TRANS.nii')\n",
    "# example_filename = os.path.join(base_data_dir, 'trial10_30_w1_volume_TRANS.nii')\n",
    "\n",
    "voxel = nib.load(example_filename)\n",
    "print(voxel.shape)\n",
    "\n",
    "# plotting.plot_stat_map(img)\n",
    "# plotting.show()\n",
    "\n",
    "data1 = voxel.get_data()\n",
    "x = 400\n",
    "for i in data1[x-1:x]:\n",
    "    print(i.shape)\n",
    "#     print(i[200,:])\n",
    "    plt.imshow(i)\n",
    "    plt.show()\n",
    "#     print(i.shape)\n",
    "#     plotting.plot_stat_map(i)\n",
    "#     plotting.show()"
   ]
  },
  {
   "cell_type": "code",
   "execution_count": 104,
   "metadata": {},
   "outputs": [
    {
     "data": {
      "image/png": "[encoded data removed]",
      "text/plain": [
       "<matplotlib.figure.Figure at 0x1c1dae5bd0>"
      ]
     },
     "metadata": {},
     "output_type": "display_data"
    },
    {
     "name": "stdout",
     "output_type": "stream",
     "text": [
      "(482, 395)\n",
      "(122, 110)\n"
     ]
    },
    {
     "data": {
      "image/png": "[encoded data removed]",
      "text/plain": [
       "<matplotlib.figure.Figure at 0x1c1f76ef90>"
      ]
     },
     "metadata": {},
     "output_type": "display_data"
    }
   ],
   "source": [
    "im = data1[x-1:x][0]\n",
    "plt.imshow(im)\n",
    "plt.show()\n",
    "print(im.shape)\n",
    "\n",
    "def bounding_box(img):\n",
    "    rows = np.any(img, axis=1)\n",
    "    cols = np.any(img, axis=0)\n",
    "    rmin, rmax = np.where(rows)[0][[0, -1]]\n",
    "    cmin, cmax = np.where(cols)[0][[0, -1]]\n",
    "    box = im[rmin : rmax, cmin : cmax]\n",
    "    return box\n",
    "#     return rmin, rmax, cmin, cmax\n",
    "box = bounding_box(im)\n",
    "print(box.shape)\n",
    "plt.imshow(box)\n",
    "plt.show()"
   ]
  },
  {
   "cell_type": "code",
   "execution_count": 105,
   "metadata": {},
   "outputs": [
    {
     "data": {
      "image/png": "[encoded data removed]",
      "text/plain": [
       "<matplotlib.figure.Figure at 0x1c1db7ac10>"
      ]
     },
     "metadata": {},
     "output_type": "display_data"
    }
   ],
   "source": [
    "box = bounding_box(im)\n",
    "def fill(image, threshold_dist=30):\n",
    "    rows, cols = len(image), len(image[0])\n",
    "    for u in range(rows):  # Iterate through rows\n",
    "        for v in range(cols):  # Iterate through cols\n",
    "            ltr_color, gtr_color, ltc_color, gtc_color = False, False, False, False\n",
    "            for ltr in range(u, max(0, u-threshold_dist), -1):\n",
    "                if image[ltr, v] != 0: \n",
    "                    ltr_color = image[ltr, v]\n",
    "                    break\n",
    "            for gtr in range(u, min(rows, u+threshold_dist)):\n",
    "                if image[gtr, v] != 0: \n",
    "                    gtr_color = image[gtr, v]\n",
    "                    break\n",
    "            for ltc in range(v, max(0, v-threshold_dist), -1):\n",
    "                if image[u, ltc] != 0: \n",
    "                    ltc_color = image[u, ltc]\n",
    "                    break\n",
    "            for gtc in range(v, min(cols, v+threshold_dist)):\n",
    "                if image[u, gtc] != 0: \n",
    "                    gtc_color = image[u, gtc]\n",
    "                    break\n",
    "#             print([ltr_color, gtr_color, ltc_color, gtc_color])\n",
    "            if np.all([ltr_color, gtr_color, ltc_color, gtc_color]):\n",
    "                if len(set([ltr_color, gtr_color, ltc_color, gtc_color])) == 1:\n",
    "                    image[u, v] = ltr_color\n",
    "#               np.mean([ltr_color, gtr_color, ltc_color, gtc_color])\n",
    "            \n",
    "    return image\n",
    "\n",
    "plt.imshow(fill(box))\n",
    "plt.show()"
   ]
  },
  {
   "cell_type": "code",
   "execution_count": 75,
   "metadata": {},
   "outputs": [
    {
     "data": {
      "text/plain": [
       "(121, 109)"
      ]
     },
     "execution_count": 75,
     "metadata": {},
     "output_type": "execute_result"
    }
   ],
   "source": [
    "x, y"
   ]
  },
  {
   "cell_type": "code",
   "execution_count": null,
   "metadata": {
    "collapsed": true
   },
   "outputs": [],
   "source": []
  }
 ],
 "metadata": {
  "kernelspec": {
   "display_name": "Python 2",
   "language": "python",
   "name": "python2"
  }
 },
 "nbformat": 4,
 "nbformat_minor": 2
}
